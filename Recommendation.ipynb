{
 "cells": [
  {
   "cell_type": "code",
   "execution_count": null,
   "id": "initial_id",
   "metadata": {
    "collapsed": true
   },
   "outputs": [],
   "source": [
    "import numpy as np\n",
    "import pandas as pd \n",
    "from sklearn.model_selection import train_test_split\n",
    "import tensorflow as tf\n",
    "import  pandas as pd \n",
    "\n",
    "from tensorflow import  keras\n",
    "from keras.layers import Input, Embedding, Dot, Flatten\n",
    "from keras.models import Model, Sequential"
   ]
  },
  {
   "cell_type": "code",
   "execution_count": null,
   "outputs": [],
   "source": [
    "# Sample movie ratings data (user_id, movie_id, rating)\n",
    "#Using embeddings to capture user and movie interactions and predicts ratings based on these embeddings\n",
    "data = np.array([\n",
    "    [1, 1, 5],\n",
    "    [1, 2, 4],\n",
    "    [2, 1, 3],\n",
    "    [2, 2, 2],\n",
    "    [3, 2, 5],\n",
    "    [3, 3, 4],\n",
    "    [4, 3, 5],\n",
    "    [4, 4, 4],\n",
    "])\n",
    "model = Sequential(\n",
    "    Embedding(\n",
    "        \n",
    "    )\n",
    "\n",
    ")\n",
    "dataFrame = pd.DataFrame(data)\n",
    "\n",
    "unique_users, unique_movies = len(np.unique(data[:, 0])), len(np.unique(data[:, 1]))\n",
    "\n",
    "EMBEDDING_SIZE = 50\n",
    "\n",
    "user_input = Input(shape=(1,))\n",
    "movie_input = Input(shape=(1,))\n",
    "\n",
    "\n",
    "user_embedding = Embedding(unique_users, EMBEDDING_SIZE )(user_input)\n",
    "movie_embedding = Embedding(unique_movies, EMBEDDING_SIZE)(movie_input)\n",
    "\n",
    "user_embedding_flattened = Flatten()(user_embedding)\n",
    "movie_embedding_flattened = Flatten()(movie_embedding)\n",
    "\n",
    "dot_product_layer = Dot(axes=1)([user_embedding_flattened, movie_embedding_flattened])\n",
    "\n",
    "#creating  and compiling hte  model .\n",
    "\n",
    "model = Model(inputs=[user_input, movie_input], outputs=dot_product_layer)\n",
    "\n",
    "model.compile(loss='mean_squared_error', optimizer='adam')\n",
    "\n",
    "user_ids = data[:, 0]\n",
    "movie_ids = data[:, 1]\n",
    "ratings = data[:, 2]\n",
    "\n",
    "\n",
    "user_ids = user_ids.astype(int)\n",
    "movie_ids = movie_ids.astype(int)\n",
    "\n",
    "model.fit([user_ids, movie_ids], ratings, epochs=100, verbose=1)\n",
    "\n",
    "\n",
    "user_id_to_predict = 1\n",
    "movies_to_predict = np.array([3, 4]) \n",
    "\n",
    "\n",
    "#note that while training the model , we are passing a 2D aray/table like data above .\n",
    "\n",
    "user_id_duplicated = np.array([user_id_to_predict] * len(movies_to_predict))\n",
    "\n",
    "predicted_ratings = model.predict([user_id_duplicated, movies_to_predict])\n",
    "\n",
    "# Print the predicted ratings\n",
    "for i, movie_id in enumerate(movies_to_predict):\n",
    "    print(f\"Predicted rating for movie {movie_id}: {predicted_ratings[i][0]}\")\n",
    "    \n",
    "\n",
    "\n"
   ],
   "metadata": {
    "collapsed": false
   },
   "id": "f1070cbd156db978"
  }
 ],
 "metadata": {
  "kernelspec": {
   "display_name": "Python 3",
   "language": "python",
   "name": "python3"
  },
  "language_info": {
   "codemirror_mode": {
    "name": "ipython",
    "version": 2
   },
   "file_extension": ".py",
   "mimetype": "text/x-python",
   "name": "python",
   "nbconvert_exporter": "python",
   "pygments_lexer": "ipython2",
   "version": "2.7.6"
  }
 },
 "nbformat": 4,
 "nbformat_minor": 5
}
