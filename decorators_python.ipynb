{
 "cells": [
  {
   "cell_type": "code",
   "execution_count": null,
   "outputs": [],
   "source": [
    "#WRAPPERS IN PYTHON. EXAMPLE 2\n",
    "\n",
    "#ideally , we are calling the function function_one() and passing start as the parameter to the called function .By this way , we are ensuring  that anytime start() is called , then we execute function_one(). used to perform logs when a function is called in python , used in web application to determine whether uses will be allowed to access a particular web resource , timing of a funtion, caching etc, API rate limiting .\n",
    "\n",
    "import  functools, time\n",
    "def is_authenticated():\n",
    "    return True\n",
    "\n",
    "def check_authentication(func):\n",
    "    def wrapper(request, *args, **kwargs):\n",
    "        if is_authenticated(request):\n",
    "            return func(request, *args, **kwargs)\n",
    "        else:\n",
    "            return \"Unauthorized\"\n",
    "    return wrapper\n",
    "\n",
    "@check_authentication\n",
    "def secure_resource(request):\n",
    "    return \"This is a protected resource.\"\n",
    "\n",
    "# When a request is made to secure_resource, the check_authentication decorator checks if the user is authenticated.\n",
    "\n",
    "    "
   ],
   "metadata": {
    "collapsed": false
   },
   "id": "f8e448599a8588d"
  },
  {
   "cell_type": "code",
   "execution_count": null,
   "id": "initial_id",
   "metadata": {
    "collapsed": true
   },
   "outputs": [],
   "source": [
    "\n",
    "def get_current_time():\n",
    "    return time.time()\n",
    "       \n",
    "# @functools.wraps(decorated_func) # preserves the original function properties , such as n name and the description .\n",
    "\n",
    "def _check_if_authenticated(auth_api):\n",
    "    def decorator_factory(decorated_func):\n",
    "        @functools.wraps(decorated_func)\n",
    "        def wrapper(*args, **kwargs):\n",
    "            start_time = get_current_time()\n",
    "            result = decorated_func(*args, **kwargs)\n",
    "            end_time= get_current_time()\n",
    "            \n",
    "            print(f\"the funtion took {end_time - start_time}\")\n",
    "            \n",
    "            partial_fit_and_fitted =( \n",
    "                    not  decorated_func.__name__ == \"greet\" and not decorated_func.__desc__ == \"good\"\n",
    "            )             \n",
    "            print(\"these are the items ... \",*kwargs)\n",
    "            return auth_api + result\n",
    "        return wrapper\n",
    "    return decorator_factory()\n",
    "\n",
    "#in this  behaves like the lambda functon  in kotlin.where the last parameter is the lambda function , here , we are passing  the parameters to the funtion called/wrapper and the funtion to be called from the wrapper.\n",
    "\n",
    "AUTH_API= \"https://chat.openai.com/c/8aaf4b8b-cb27-4cc9-85ab-755dd3b681c8\"\n",
    "@_check_if_authenticated(AUTH_API)\n",
    "def place_order(name, email_address= \"kkirwa230@gmail.com\"):  \n",
    "    \"\"\"allows a user to place  an order \"\"\"    \n",
    "    name = \"Sammy\"\n",
    "    return name\n",
    "\n",
    "print(place_order(\"kkirwa230@gmail.com\"))  \n",
    "\n",
    "    \n"
   ]
  },
  {
   "cell_type": "code",
   "execution_count": null,
   "outputs": [],
   "source": [
    "#MIXINS IN PYTHON \n",
    "class Animal():\n",
    "    def __init__(self, name , email):\n",
    "        self.name= name\n",
    "        self.email = email\n",
    "        \n",
    "    def serialize(self):\n",
    "        student_variables = self.__dict__.items()\n",
    "        for attribute, value in student_variables:\n",
    "            print(f\"{attribute}: {value}\")\n",
    "        \n",
    "animal = Animal(name=\"student\", email=\"sudent@gmail.com\")\n",
    "animal.serialize()\n",
    "\n",
    "names = {\n",
    "    \"name\":\"kelvinkering\",\n",
    "    \"email_address\": \"kkirwa3@gmail.com\"\n",
    "}\n",
    "print(type(names.items()))\n",
    "\n"
   ],
   "metadata": {
    "collapsed": false
   },
   "id": "79f90f0024d2fd9b"
  },
  {
   "cell_type": "code",
   "execution_count": null,
   "outputs": [],
   "source": [
    "gen = (x * 2 for x in range(5))\n",
    "def my_gen():\n",
    "    for number in range(0,11):\n",
    "        yield number\n",
    "        \n",
    "        \n",
    "gen = my_gen()\n",
    "#python for loops do consume generators .\n",
    "for i in range(11):\n",
    "    print(gen.__next__())"
   ],
   "metadata": {
    "collapsed": false
   },
   "id": "774fc74e082d3377"
  }
 ],
 "metadata": {
  "kernelspec": {
   "display_name": "Python 3",
   "language": "python",
   "name": "python3"
  },
  "language_info": {
   "codemirror_mode": {
    "name": "ipython",
    "version": 2
   },
   "file_extension": ".py",
   "mimetype": "text/x-python",
   "name": "python",
   "nbconvert_exporter": "python",
   "pygments_lexer": "ipython2",
   "version": "2.7.6"
  }
 },
 "nbformat": 4,
 "nbformat_minor": 5
}
