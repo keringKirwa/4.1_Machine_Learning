{
 "cells": [
  {
   "cell_type": "code",
   "execution_count": 1,
   "id": "initial_id",
   "metadata": {
    "collapsed": true,
    "ExecuteTime": {
     "end_time": "2023-10-06T07:49:12.890845497Z",
     "start_time": "2023-10-06T07:49:12.282633165Z"
    }
   },
   "outputs": [
    {
     "ename": "ModuleNotFoundError",
     "evalue": "No module named 'pandas'",
     "output_type": "error",
     "traceback": [
      "\u001B[0;31m---------------------------------------------------------------------------\u001B[0m",
      "\u001B[0;31mModuleNotFoundError\u001B[0m                       Traceback (most recent call last)",
      "Cell \u001B[0;32mIn[1], line 1\u001B[0m\n\u001B[0;32m----> 1\u001B[0m \u001B[38;5;28;01mimport\u001B[39;00m  \u001B[38;5;21;01mpandas\u001B[39;00m \u001B[38;5;28;01mas\u001B[39;00m \u001B[38;5;21;01mpd\u001B[39;00m\n",
      "\u001B[0;31mModuleNotFoundError\u001B[0m: No module named 'pandas'"
     ]
    }
   ],
   "source": [
    "import  pandas as pd"
   ]
  },
  {
   "cell_type": "code",
   "execution_count": null,
   "outputs": [],
   "source": [
    "\n",
    "student_list = [[\"Mark\",80,951,75,171,\"Good\"],[\"John\",82,1120,68,175,\"Good\"],[\"James\",70,1240,76,168,\"Good\"],[\"Matthew\",69,1400,72,170,\"Good\"],[\"Jane\",70,1000,50,160,\"Bad\"],[\"Joyce\",65,1400,72,150,\"Bad\"],[\"Mary\",80,1220,68,140,\"Good\"],[\"David\",62,1121,71,139,\"Bad\"]]\n",
    "columns = [\"Name\",\"Exam\",\"expenditure\",\"weight\",\"height\",\"class\"]\n",
    "\n",
    "\n",
    "df = pd.DataFrame(student_list,columns=columns)\n",
    "\n",
    "df[\"class\"] = df[\"class\"].replace({\"Good\": 1, \"Bad\": 0})\n",
    "student_details = df.values\n",
    "\n",
    "jonte_details= student_list[len(columns)]\n",
    "\n",
    "\n",
    "for index in range(len(student_list)):\n",
    "  curr_student= student_list[index]\n",
    "\n",
    "df"
   ],
   "metadata": {
    "collapsed": false
   },
   "id": "c3ee60fb5b94a98d"
  }
 ],
 "metadata": {
  "kernelspec": {
   "display_name": "Python 3",
   "language": "python",
   "name": "python3"
  },
  "language_info": {
   "codemirror_mode": {
    "name": "ipython",
    "version": 2
   },
   "file_extension": ".py",
   "mimetype": "text/x-python",
   "name": "python",
   "nbconvert_exporter": "python",
   "pygments_lexer": "ipython2",
   "version": "2.7.6"
  }
 },
 "nbformat": 4,
 "nbformat_minor": 5
}
