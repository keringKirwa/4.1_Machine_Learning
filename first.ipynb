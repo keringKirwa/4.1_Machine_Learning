{
 "cells": [
  {
   "cell_type": "code",
   "execution_count": 1,
   "id": "initial_id",
   "metadata": {
    "collapsed": true,
    "ExecuteTime": {
     "end_time": "2023-10-06T07:55:32.528793912Z",
     "start_time": "2023-10-06T07:55:26.041662747Z"
    }
   },
   "outputs": [
    {
     "name": "stderr",
     "output_type": "stream",
     "text": [
      "2023-10-06 10:55:28.494812: I tensorflow/tsl/cuda/cudart_stub.cc:28] Could not find cuda drivers on your machine, GPU will not be used.\n",
      "2023-10-06 10:55:28.884387: E tensorflow/compiler/xla/stream_executor/cuda/cuda_dnn.cc:9342] Unable to register cuDNN factory: Attempting to register factory for plugin cuDNN when one has already been registered\n",
      "2023-10-06 10:55:28.884446: E tensorflow/compiler/xla/stream_executor/cuda/cuda_fft.cc:609] Unable to register cuFFT factory: Attempting to register factory for plugin cuFFT when one has already been registered\n",
      "2023-10-06 10:55:28.886305: E tensorflow/compiler/xla/stream_executor/cuda/cuda_blas.cc:1518] Unable to register cuBLAS factory: Attempting to register factory for plugin cuBLAS when one has already been registered\n",
      "2023-10-06 10:55:29.067690: I tensorflow/tsl/cuda/cudart_stub.cc:28] Could not find cuda drivers on your machine, GPU will not be used.\n",
      "2023-10-06 10:55:29.069760: I tensorflow/core/platform/cpu_feature_guard.cc:182] This TensorFlow binary is optimized to use available CPU instructions in performance-critical operations.\n",
      "To enable the following instructions: AVX2 FMA, in other operations, rebuild TensorFlow with the appropriate compiler flags.\n",
      "2023-10-06 10:55:31.116761: W tensorflow/compiler/tf2tensorrt/utils/py_utils.cc:38] TF-TRT Warning: Could not find TensorRT\n"
     ]
    }
   ],
   "source": [
    "import numpy as np\n",
    "import pandas as pd \n",
    "from sklearn.model_selection import train_test_split\n",
    "import tensorflow as tf\n",
    "import  pandas as pd \n",
    "\n",
    "from tensorflow import  keras\n",
    "from keras.layers import Input, Embedding, Dot, Flatten\n",
    "from keras.models import Model\n"
   ]
  },
  {
   "cell_type": "code",
   "execution_count": 9,
   "outputs": [
    {
     "name": "stdout",
     "output_type": "stream",
     "text": [
      "[[1 1 5]\n",
      " [1 2 4]\n",
      " [2 1 3]\n",
      " [2 2 2]\n",
      " [3 2 5]\n",
      " [3 3 4]\n",
      " [4 3 5]\n",
      " [4 4 4]]\n",
      "Epoch 1/100\n"
     ]
    },
    {
     "ename": "InvalidArgumentError",
     "evalue": "Graph execution error:\n\nDetected at node model_1/embedding_2/embedding_lookup defined at (most recent call last):\n  File \"/usr/lib/python3.10/runpy.py\", line 196, in _run_module_as_main\n\n  File \"/usr/lib/python3.10/runpy.py\", line 86, in _run_code\n\n  File \"/home/kering/Desktop/MachineLearningProjects/KnowledgeBasedSystemsML/KnowledgeBasedSystemsVenv/lib/python3.10/site-packages/ipykernel_launcher.py\", line 17, in <module>\n\n  File \"/home/kering/Desktop/MachineLearningProjects/KnowledgeBasedSystemsML/KnowledgeBasedSystemsVenv/lib/python3.10/site-packages/traitlets/config/application.py\", line 1053, in launch_instance\n\n  File \"/home/kering/Desktop/MachineLearningProjects/KnowledgeBasedSystemsML/KnowledgeBasedSystemsVenv/lib/python3.10/site-packages/ipykernel/kernelapp.py\", line 736, in start\n\n  File \"/home/kering/Desktop/MachineLearningProjects/KnowledgeBasedSystemsML/KnowledgeBasedSystemsVenv/lib/python3.10/site-packages/tornado/platform/asyncio.py\", line 195, in start\n\n  File \"/usr/lib/python3.10/asyncio/base_events.py\", line 603, in run_forever\n\n  File \"/usr/lib/python3.10/asyncio/base_events.py\", line 1909, in _run_once\n\n  File \"/usr/lib/python3.10/asyncio/events.py\", line 80, in _run\n\n  File \"/home/kering/Desktop/MachineLearningProjects/KnowledgeBasedSystemsML/KnowledgeBasedSystemsVenv/lib/python3.10/site-packages/ipykernel/kernelbase.py\", line 516, in dispatch_queue\n\n  File \"/home/kering/Desktop/MachineLearningProjects/KnowledgeBasedSystemsML/KnowledgeBasedSystemsVenv/lib/python3.10/site-packages/ipykernel/kernelbase.py\", line 505, in process_one\n\n  File \"/home/kering/Desktop/MachineLearningProjects/KnowledgeBasedSystemsML/KnowledgeBasedSystemsVenv/lib/python3.10/site-packages/ipykernel/kernelbase.py\", line 412, in dispatch_shell\n\n  File \"/home/kering/Desktop/MachineLearningProjects/KnowledgeBasedSystemsML/KnowledgeBasedSystemsVenv/lib/python3.10/site-packages/ipykernel/kernelbase.py\", line 740, in execute_request\n\n  File \"/home/kering/Desktop/MachineLearningProjects/KnowledgeBasedSystemsML/KnowledgeBasedSystemsVenv/lib/python3.10/site-packages/ipykernel/ipkernel.py\", line 422, in do_execute\n\n  File \"/home/kering/Desktop/MachineLearningProjects/KnowledgeBasedSystemsML/KnowledgeBasedSystemsVenv/lib/python3.10/site-packages/ipykernel/zmqshell.py\", line 546, in run_cell\n\n  File \"/home/kering/Desktop/MachineLearningProjects/KnowledgeBasedSystemsML/KnowledgeBasedSystemsVenv/lib/python3.10/site-packages/IPython/core/interactiveshell.py\", line 3024, in run_cell\n\n  File \"/home/kering/Desktop/MachineLearningProjects/KnowledgeBasedSystemsML/KnowledgeBasedSystemsVenv/lib/python3.10/site-packages/IPython/core/interactiveshell.py\", line 3079, in _run_cell\n\n  File \"/home/kering/Desktop/MachineLearningProjects/KnowledgeBasedSystemsML/KnowledgeBasedSystemsVenv/lib/python3.10/site-packages/IPython/core/async_helpers.py\", line 129, in _pseudo_sync_runner\n\n  File \"/home/kering/Desktop/MachineLearningProjects/KnowledgeBasedSystemsML/KnowledgeBasedSystemsVenv/lib/python3.10/site-packages/IPython/core/interactiveshell.py\", line 3284, in run_cell_async\n\n  File \"/home/kering/Desktop/MachineLearningProjects/KnowledgeBasedSystemsML/KnowledgeBasedSystemsVenv/lib/python3.10/site-packages/IPython/core/interactiveshell.py\", line 3466, in run_ast_nodes\n\n  File \"/home/kering/Desktop/MachineLearningProjects/KnowledgeBasedSystemsML/KnowledgeBasedSystemsVenv/lib/python3.10/site-packages/IPython/core/interactiveshell.py\", line 3526, in run_code\n\n  File \"/tmp/ipykernel_7223/572398293.py\", line 40, in <module>\n\n  File \"/home/kering/Desktop/MachineLearningProjects/KnowledgeBasedSystemsML/KnowledgeBasedSystemsVenv/lib/python3.10/site-packages/keras/src/utils/traceback_utils.py\", line 65, in error_handler\n\n  File \"/home/kering/Desktop/MachineLearningProjects/KnowledgeBasedSystemsML/KnowledgeBasedSystemsVenv/lib/python3.10/site-packages/keras/src/engine/training.py\", line 1783, in fit\n\n  File \"/home/kering/Desktop/MachineLearningProjects/KnowledgeBasedSystemsML/KnowledgeBasedSystemsVenv/lib/python3.10/site-packages/keras/src/engine/training.py\", line 1377, in train_function\n\n  File \"/home/kering/Desktop/MachineLearningProjects/KnowledgeBasedSystemsML/KnowledgeBasedSystemsVenv/lib/python3.10/site-packages/keras/src/engine/training.py\", line 1360, in step_function\n\n  File \"/home/kering/Desktop/MachineLearningProjects/KnowledgeBasedSystemsML/KnowledgeBasedSystemsVenv/lib/python3.10/site-packages/keras/src/engine/training.py\", line 1349, in run_step\n\n  File \"/home/kering/Desktop/MachineLearningProjects/KnowledgeBasedSystemsML/KnowledgeBasedSystemsVenv/lib/python3.10/site-packages/keras/src/engine/training.py\", line 1126, in train_step\n\n  File \"/home/kering/Desktop/MachineLearningProjects/KnowledgeBasedSystemsML/KnowledgeBasedSystemsVenv/lib/python3.10/site-packages/keras/src/utils/traceback_utils.py\", line 65, in error_handler\n\n  File \"/home/kering/Desktop/MachineLearningProjects/KnowledgeBasedSystemsML/KnowledgeBasedSystemsVenv/lib/python3.10/site-packages/keras/src/engine/training.py\", line 589, in __call__\n\n  File \"/home/kering/Desktop/MachineLearningProjects/KnowledgeBasedSystemsML/KnowledgeBasedSystemsVenv/lib/python3.10/site-packages/keras/src/utils/traceback_utils.py\", line 65, in error_handler\n\n  File \"/home/kering/Desktop/MachineLearningProjects/KnowledgeBasedSystemsML/KnowledgeBasedSystemsVenv/lib/python3.10/site-packages/keras/src/engine/base_layer.py\", line 1149, in __call__\n\n  File \"/home/kering/Desktop/MachineLearningProjects/KnowledgeBasedSystemsML/KnowledgeBasedSystemsVenv/lib/python3.10/site-packages/keras/src/utils/traceback_utils.py\", line 96, in error_handler\n\n  File \"/home/kering/Desktop/MachineLearningProjects/KnowledgeBasedSystemsML/KnowledgeBasedSystemsVenv/lib/python3.10/site-packages/keras/src/engine/functional.py\", line 515, in call\n\n  File \"/home/kering/Desktop/MachineLearningProjects/KnowledgeBasedSystemsML/KnowledgeBasedSystemsVenv/lib/python3.10/site-packages/keras/src/engine/functional.py\", line 672, in _run_internal_graph\n\n  File \"/home/kering/Desktop/MachineLearningProjects/KnowledgeBasedSystemsML/KnowledgeBasedSystemsVenv/lib/python3.10/site-packages/keras/src/utils/traceback_utils.py\", line 65, in error_handler\n\n  File \"/home/kering/Desktop/MachineLearningProjects/KnowledgeBasedSystemsML/KnowledgeBasedSystemsVenv/lib/python3.10/site-packages/keras/src/engine/base_layer.py\", line 1149, in __call__\n\n  File \"/home/kering/Desktop/MachineLearningProjects/KnowledgeBasedSystemsML/KnowledgeBasedSystemsVenv/lib/python3.10/site-packages/keras/src/utils/traceback_utils.py\", line 96, in error_handler\n\n  File \"/home/kering/Desktop/MachineLearningProjects/KnowledgeBasedSystemsML/KnowledgeBasedSystemsVenv/lib/python3.10/site-packages/keras/src/layers/core/embedding.py\", line 272, in call\n\nindices[0,0] = 4 is not in [0, 4)\n\t [[{{node model_1/embedding_2/embedding_lookup}}]] [Op:__inference_train_function_1501]",
     "output_type": "error",
     "traceback": [
      "\u001B[0;31m---------------------------------------------------------------------------\u001B[0m",
      "\u001B[0;31mInvalidArgumentError\u001B[0m                      Traceback (most recent call last)",
      "Cell \u001B[0;32mIn[9], line 40\u001B[0m\n\u001B[1;32m     37\u001B[0m movie_ids \u001B[38;5;241m=\u001B[39m data[:, \u001B[38;5;241m1\u001B[39m]\n\u001B[1;32m     38\u001B[0m ratings \u001B[38;5;241m=\u001B[39m data[:, \u001B[38;5;241m2\u001B[39m]\n\u001B[0;32m---> 40\u001B[0m \u001B[43mmodel\u001B[49m\u001B[38;5;241;43m.\u001B[39;49m\u001B[43mfit\u001B[49m\u001B[43m(\u001B[49m\u001B[43m[\u001B[49m\u001B[43muser_ids\u001B[49m\u001B[43m,\u001B[49m\u001B[43m \u001B[49m\u001B[43mmovie_ids\u001B[49m\u001B[43m]\u001B[49m\u001B[43m,\u001B[49m\u001B[43m \u001B[49m\u001B[43mratings\u001B[49m\u001B[43m,\u001B[49m\u001B[43m \u001B[49m\u001B[43mepochs\u001B[49m\u001B[38;5;241;43m=\u001B[39;49m\u001B[38;5;241;43m100\u001B[39;49m\u001B[43m,\u001B[49m\u001B[43m \u001B[49m\u001B[43mverbose\u001B[49m\u001B[38;5;241;43m=\u001B[39;49m\u001B[38;5;241;43m1\u001B[39;49m\u001B[43m)\u001B[49m\n\u001B[1;32m     43\u001B[0m user_id_to_predict \u001B[38;5;241m=\u001B[39m \u001B[38;5;241m1\u001B[39m\n\u001B[1;32m     44\u001B[0m movies_to_predict \u001B[38;5;241m=\u001B[39m np\u001B[38;5;241m.\u001B[39marray([\u001B[38;5;241m3\u001B[39m, \u001B[38;5;241m4\u001B[39m]) \n",
      "File \u001B[0;32m~/Desktop/MachineLearningProjects/KnowledgeBasedSystemsML/KnowledgeBasedSystemsVenv/lib/python3.10/site-packages/keras/src/utils/traceback_utils.py:70\u001B[0m, in \u001B[0;36mfilter_traceback.<locals>.error_handler\u001B[0;34m(*args, **kwargs)\u001B[0m\n\u001B[1;32m     67\u001B[0m     filtered_tb \u001B[38;5;241m=\u001B[39m _process_traceback_frames(e\u001B[38;5;241m.\u001B[39m__traceback__)\n\u001B[1;32m     68\u001B[0m     \u001B[38;5;66;03m# To get the full stack trace, call:\u001B[39;00m\n\u001B[1;32m     69\u001B[0m     \u001B[38;5;66;03m# `tf.debugging.disable_traceback_filtering()`\u001B[39;00m\n\u001B[0;32m---> 70\u001B[0m     \u001B[38;5;28;01mraise\u001B[39;00m e\u001B[38;5;241m.\u001B[39mwith_traceback(filtered_tb) \u001B[38;5;28;01mfrom\u001B[39;00m \u001B[38;5;28;01mNone\u001B[39;00m\n\u001B[1;32m     71\u001B[0m \u001B[38;5;28;01mfinally\u001B[39;00m:\n\u001B[1;32m     72\u001B[0m     \u001B[38;5;28;01mdel\u001B[39;00m filtered_tb\n",
      "File \u001B[0;32m~/Desktop/MachineLearningProjects/KnowledgeBasedSystemsML/KnowledgeBasedSystemsVenv/lib/python3.10/site-packages/tensorflow/python/eager/execute.py:60\u001B[0m, in \u001B[0;36mquick_execute\u001B[0;34m(op_name, num_outputs, inputs, attrs, ctx, name)\u001B[0m\n\u001B[1;32m     53\u001B[0m   \u001B[38;5;66;03m# Convert any objects of type core_types.Tensor to Tensor.\u001B[39;00m\n\u001B[1;32m     54\u001B[0m   inputs \u001B[38;5;241m=\u001B[39m [\n\u001B[1;32m     55\u001B[0m       tensor_conversion_registry\u001B[38;5;241m.\u001B[39mconvert(t)\n\u001B[1;32m     56\u001B[0m       \u001B[38;5;28;01mif\u001B[39;00m \u001B[38;5;28misinstance\u001B[39m(t, core_types\u001B[38;5;241m.\u001B[39mTensor)\n\u001B[1;32m     57\u001B[0m       \u001B[38;5;28;01melse\u001B[39;00m t\n\u001B[1;32m     58\u001B[0m       \u001B[38;5;28;01mfor\u001B[39;00m t \u001B[38;5;129;01min\u001B[39;00m inputs\n\u001B[1;32m     59\u001B[0m   ]\n\u001B[0;32m---> 60\u001B[0m   tensors \u001B[38;5;241m=\u001B[39m pywrap_tfe\u001B[38;5;241m.\u001B[39mTFE_Py_Execute(ctx\u001B[38;5;241m.\u001B[39m_handle, device_name, op_name,\n\u001B[1;32m     61\u001B[0m                                       inputs, attrs, num_outputs)\n\u001B[1;32m     62\u001B[0m \u001B[38;5;28;01mexcept\u001B[39;00m core\u001B[38;5;241m.\u001B[39m_NotOkStatusException \u001B[38;5;28;01mas\u001B[39;00m e:\n\u001B[1;32m     63\u001B[0m   \u001B[38;5;28;01mif\u001B[39;00m name \u001B[38;5;129;01mis\u001B[39;00m \u001B[38;5;129;01mnot\u001B[39;00m \u001B[38;5;28;01mNone\u001B[39;00m:\n",
      "\u001B[0;31mInvalidArgumentError\u001B[0m: Graph execution error:\n\nDetected at node model_1/embedding_2/embedding_lookup defined at (most recent call last):\n  File \"/usr/lib/python3.10/runpy.py\", line 196, in _run_module_as_main\n\n  File \"/usr/lib/python3.10/runpy.py\", line 86, in _run_code\n\n  File \"/home/kering/Desktop/MachineLearningProjects/KnowledgeBasedSystemsML/KnowledgeBasedSystemsVenv/lib/python3.10/site-packages/ipykernel_launcher.py\", line 17, in <module>\n\n  File \"/home/kering/Desktop/MachineLearningProjects/KnowledgeBasedSystemsML/KnowledgeBasedSystemsVenv/lib/python3.10/site-packages/traitlets/config/application.py\", line 1053, in launch_instance\n\n  File \"/home/kering/Desktop/MachineLearningProjects/KnowledgeBasedSystemsML/KnowledgeBasedSystemsVenv/lib/python3.10/site-packages/ipykernel/kernelapp.py\", line 736, in start\n\n  File \"/home/kering/Desktop/MachineLearningProjects/KnowledgeBasedSystemsML/KnowledgeBasedSystemsVenv/lib/python3.10/site-packages/tornado/platform/asyncio.py\", line 195, in start\n\n  File \"/usr/lib/python3.10/asyncio/base_events.py\", line 603, in run_forever\n\n  File \"/usr/lib/python3.10/asyncio/base_events.py\", line 1909, in _run_once\n\n  File \"/usr/lib/python3.10/asyncio/events.py\", line 80, in _run\n\n  File \"/home/kering/Desktop/MachineLearningProjects/KnowledgeBasedSystemsML/KnowledgeBasedSystemsVenv/lib/python3.10/site-packages/ipykernel/kernelbase.py\", line 516, in dispatch_queue\n\n  File \"/home/kering/Desktop/MachineLearningProjects/KnowledgeBasedSystemsML/KnowledgeBasedSystemsVenv/lib/python3.10/site-packages/ipykernel/kernelbase.py\", line 505, in process_one\n\n  File \"/home/kering/Desktop/MachineLearningProjects/KnowledgeBasedSystemsML/KnowledgeBasedSystemsVenv/lib/python3.10/site-packages/ipykernel/kernelbase.py\", line 412, in dispatch_shell\n\n  File \"/home/kering/Desktop/MachineLearningProjects/KnowledgeBasedSystemsML/KnowledgeBasedSystemsVenv/lib/python3.10/site-packages/ipykernel/kernelbase.py\", line 740, in execute_request\n\n  File \"/home/kering/Desktop/MachineLearningProjects/KnowledgeBasedSystemsML/KnowledgeBasedSystemsVenv/lib/python3.10/site-packages/ipykernel/ipkernel.py\", line 422, in do_execute\n\n  File \"/home/kering/Desktop/MachineLearningProjects/KnowledgeBasedSystemsML/KnowledgeBasedSystemsVenv/lib/python3.10/site-packages/ipykernel/zmqshell.py\", line 546, in run_cell\n\n  File \"/home/kering/Desktop/MachineLearningProjects/KnowledgeBasedSystemsML/KnowledgeBasedSystemsVenv/lib/python3.10/site-packages/IPython/core/interactiveshell.py\", line 3024, in run_cell\n\n  File \"/home/kering/Desktop/MachineLearningProjects/KnowledgeBasedSystemsML/KnowledgeBasedSystemsVenv/lib/python3.10/site-packages/IPython/core/interactiveshell.py\", line 3079, in _run_cell\n\n  File \"/home/kering/Desktop/MachineLearningProjects/KnowledgeBasedSystemsML/KnowledgeBasedSystemsVenv/lib/python3.10/site-packages/IPython/core/async_helpers.py\", line 129, in _pseudo_sync_runner\n\n  File \"/home/kering/Desktop/MachineLearningProjects/KnowledgeBasedSystemsML/KnowledgeBasedSystemsVenv/lib/python3.10/site-packages/IPython/core/interactiveshell.py\", line 3284, in run_cell_async\n\n  File \"/home/kering/Desktop/MachineLearningProjects/KnowledgeBasedSystemsML/KnowledgeBasedSystemsVenv/lib/python3.10/site-packages/IPython/core/interactiveshell.py\", line 3466, in run_ast_nodes\n\n  File \"/home/kering/Desktop/MachineLearningProjects/KnowledgeBasedSystemsML/KnowledgeBasedSystemsVenv/lib/python3.10/site-packages/IPython/core/interactiveshell.py\", line 3526, in run_code\n\n  File \"/tmp/ipykernel_7223/572398293.py\", line 40, in <module>\n\n  File \"/home/kering/Desktop/MachineLearningProjects/KnowledgeBasedSystemsML/KnowledgeBasedSystemsVenv/lib/python3.10/site-packages/keras/src/utils/traceback_utils.py\", line 65, in error_handler\n\n  File \"/home/kering/Desktop/MachineLearningProjects/KnowledgeBasedSystemsML/KnowledgeBasedSystemsVenv/lib/python3.10/site-packages/keras/src/engine/training.py\", line 1783, in fit\n\n  File \"/home/kering/Desktop/MachineLearningProjects/KnowledgeBasedSystemsML/KnowledgeBasedSystemsVenv/lib/python3.10/site-packages/keras/src/engine/training.py\", line 1377, in train_function\n\n  File \"/home/kering/Desktop/MachineLearningProjects/KnowledgeBasedSystemsML/KnowledgeBasedSystemsVenv/lib/python3.10/site-packages/keras/src/engine/training.py\", line 1360, in step_function\n\n  File \"/home/kering/Desktop/MachineLearningProjects/KnowledgeBasedSystemsML/KnowledgeBasedSystemsVenv/lib/python3.10/site-packages/keras/src/engine/training.py\", line 1349, in run_step\n\n  File \"/home/kering/Desktop/MachineLearningProjects/KnowledgeBasedSystemsML/KnowledgeBasedSystemsVenv/lib/python3.10/site-packages/keras/src/engine/training.py\", line 1126, in train_step\n\n  File \"/home/kering/Desktop/MachineLearningProjects/KnowledgeBasedSystemsML/KnowledgeBasedSystemsVenv/lib/python3.10/site-packages/keras/src/utils/traceback_utils.py\", line 65, in error_handler\n\n  File \"/home/kering/Desktop/MachineLearningProjects/KnowledgeBasedSystemsML/KnowledgeBasedSystemsVenv/lib/python3.10/site-packages/keras/src/engine/training.py\", line 589, in __call__\n\n  File \"/home/kering/Desktop/MachineLearningProjects/KnowledgeBasedSystemsML/KnowledgeBasedSystemsVenv/lib/python3.10/site-packages/keras/src/utils/traceback_utils.py\", line 65, in error_handler\n\n  File \"/home/kering/Desktop/MachineLearningProjects/KnowledgeBasedSystemsML/KnowledgeBasedSystemsVenv/lib/python3.10/site-packages/keras/src/engine/base_layer.py\", line 1149, in __call__\n\n  File \"/home/kering/Desktop/MachineLearningProjects/KnowledgeBasedSystemsML/KnowledgeBasedSystemsVenv/lib/python3.10/site-packages/keras/src/utils/traceback_utils.py\", line 96, in error_handler\n\n  File \"/home/kering/Desktop/MachineLearningProjects/KnowledgeBasedSystemsML/KnowledgeBasedSystemsVenv/lib/python3.10/site-packages/keras/src/engine/functional.py\", line 515, in call\n\n  File \"/home/kering/Desktop/MachineLearningProjects/KnowledgeBasedSystemsML/KnowledgeBasedSystemsVenv/lib/python3.10/site-packages/keras/src/engine/functional.py\", line 672, in _run_internal_graph\n\n  File \"/home/kering/Desktop/MachineLearningProjects/KnowledgeBasedSystemsML/KnowledgeBasedSystemsVenv/lib/python3.10/site-packages/keras/src/utils/traceback_utils.py\", line 65, in error_handler\n\n  File \"/home/kering/Desktop/MachineLearningProjects/KnowledgeBasedSystemsML/KnowledgeBasedSystemsVenv/lib/python3.10/site-packages/keras/src/engine/base_layer.py\", line 1149, in __call__\n\n  File \"/home/kering/Desktop/MachineLearningProjects/KnowledgeBasedSystemsML/KnowledgeBasedSystemsVenv/lib/python3.10/site-packages/keras/src/utils/traceback_utils.py\", line 96, in error_handler\n\n  File \"/home/kering/Desktop/MachineLearningProjects/KnowledgeBasedSystemsML/KnowledgeBasedSystemsVenv/lib/python3.10/site-packages/keras/src/layers/core/embedding.py\", line 272, in call\n\nindices[0,0] = 4 is not in [0, 4)\n\t [[{{node model_1/embedding_2/embedding_lookup}}]] [Op:__inference_train_function_1501]"
     ]
    }
   ],
   "source": [
    "# Sample movie ratings data (user_id, movie_id, rating)\n",
    "#Using embeddings to capture user and movie interactions and predicts ratings based on these embeddings\n",
    "data = np.array([\n",
    "    [1, 1, 5],\n",
    "    [1, 2, 4],\n",
    "    [2, 1, 3],\n",
    "    [2, 2, 2],\n",
    "    [3, 2, 5],\n",
    "    [3, 3, 4],\n",
    "    [4, 3, 5],\n",
    "    [4, 4, 4],\n",
    "])\n",
    "dataFrame = pd.DataFrame(data)\n",
    "\n",
    "print(data)\n",
    "\n",
    "unique_users, unique_movies = len(np.unique(data[:, 0])), len(np.unique(data[:, 1]))\n",
    "\n",
    "EMBEDDING_SIZE = 50\n",
    "\n",
    "user_input = Input(shape=(1,))\n",
    "user_embedding = Embedding(unique_users, EMBEDDING_SIZE)(user_input)\n",
    "user_embedding_flattened = Flatten()(user_embedding)\n",
    "\n",
    "movie_input = Input(shape=(1,))\n",
    "movie_embedding = Embedding(unique_movies, EMBEDDING_SIZE)(movie_input)\n",
    "movie_embedding_flattened = Flatten()(movie_embedding)\n",
    "\n",
    "dot_product_layer = Dot(axes=1)([user_embedding_flattened, movie_embedding_flattened])\n",
    "\n",
    "#creating  and compiling hte  model .\n",
    "\n",
    "model = Model(inputs=[user_input, movie_input], outputs=dot_product_layer)\n",
    "model.compile(loss='mean_squared_error', optimizer='adam')\n",
    "\n",
    "user_ids = data[:, 0]\n",
    "movie_ids = data[:, 1]\n",
    "ratings = data[:, 2]\n",
    "\n",
    "model.fit([user_ids, movie_ids], ratings, epochs=100, verbose=1)\n",
    "\n",
    "\n",
    "user_id_to_predict = 1\n",
    "movies_to_predict = np.array([3, 4]) \n",
    "\n",
    "\n",
    "#note that while training the model , we are passing a 2D aray/table like data above .\n",
    "\n",
    "user_id_duplicated = np.array([user_id_to_predict] * len(movies_to_predict))\n",
    "\n",
    "predicted_ratings = model.predict([user_id_duplicated, movies_to_predict])\n",
    "\n",
    "# Print the predicted ratings\n",
    "for i, movie_id in enumerate(movies_to_predict):\n",
    "    print(f\"Predicted rating for movie {movie_id}: {predicted_ratings[i][0]}\")\n",
    "    \n",
    "    \n",
    "    dataFrame\n",
    "\n",
    "\n"
   ],
   "metadata": {
    "collapsed": false,
    "ExecuteTime": {
     "end_time": "2023-10-06T08:13:17.866560601Z",
     "start_time": "2023-10-06T08:13:16.827046739Z"
    }
   },
   "id": "7cc8d3e514a111a2"
  },
  {
   "cell_type": "code",
   "execution_count": 7,
   "outputs": [
    {
     "name": "stdout",
     "output_type": "stream",
     "text": [
      "[0.0, 0.0, 0.25, 0.0, 0.25, 0.0, 0.0, 0.0]\n",
      "[90801, 90801, 90801, 90801, 90801, 90801, 90801, 90801]\n",
      "90801\n",
      "good\n"
     ]
    }
   ],
   "source": [
    "from sklearn import  metrics\n",
    "\n",
    "data = [[80, 951, 75, 171],\n",
    "        [82, 1110, 68, 175], \n",
    "        [70, 1200, 76, 168],\n",
    "        [69, 1400, 72, 170],\n",
    "        [70, 1000, 80, 160], \n",
    "        [65, 1800, 72, 150],\n",
    "        [80, 1220, 68, 140], \n",
    "        [62, 1121, 71, 139]\n",
    "        ]\n",
    "comments = ['good','good','good','good','bad', 'bad', 'good','bad']\n",
    "jacinta = [70, 820, 65, 149]\n",
    "accuracies = []\n",
    "for d in data:\n",
    "    a = metrics.accuracy_score(np.array(d),np.array(jacinta))\n",
    "    accuracies.append(a)\n",
    "\n",
    "print(accuracies)\n",
    "\n",
    "d_dif = []\n",
    "for d in data:\n",
    "    total = 0\n",
    "    for i in range(len(d)):\n",
    "        sq = jacinta[i] - d[i]\n",
    "        total = total + (sq*sq)\n",
    "    d_dif.append(sum)\n",
    "    \n",
    "def min_f(arr):\n",
    "    m = arr[0]\n",
    "    for i in arr:\n",
    "        if i < m:\n",
    "            m = i\n",
    "    return m\n",
    "\n",
    "print(d_dif)\n",
    "min = min_f(d_dif)\n",
    "print(min)\n",
    "print(comments[d_dif.index(min)])"
   ],
   "metadata": {
    "collapsed": false,
    "ExecuteTime": {
     "end_time": "2023-10-06T08:04:59.385909161Z",
     "start_time": "2023-10-06T08:04:59.336298735Z"
    }
   },
   "id": "84dcd260f1befc54"
  },
  {
   "cell_type": "code",
   "execution_count": 12,
   "outputs": [
    {
     "name": "stdout",
     "output_type": "stream",
     "text": [
      "Accuracy: 0.625\n",
      "Precision: 0.6\n",
      "Recall: 0.75\n",
      "F1-Score: 0.6666666666666665\n",
      "Confusion Matrix:\n"
     ]
    },
    {
     "data": {
      "text/plain": "array([[2, 2],\n       [1, 3]])"
     },
     "execution_count": 12,
     "metadata": {},
     "output_type": "execute_result"
    }
   ],
   "source": [
    "\n",
    "# True labels and predicted labels from your model\n",
    "true_labels = [0, 1, 1, 0, 1, 0, 0, 1]\n",
    "predicted_labels = [0, 1, 0, 1, 1, 0, 1, 1]\n",
    "\n",
    "\n",
    "\n",
    "# Calculate the performance metrics precision, recall, and F1-score\n",
    "accuracy = metrics.accuracy_score(true_labels, predicted_labels)\n",
    "precision = metrics.precision_score(true_labels, predicted_labels)\n",
    "recall = metrics.recall_score(true_labels, predicted_labels)\n",
    "f1_score = metrics.f1_score(true_labels, predicted_labels)\n",
    "\n",
    "print(f\"Accuracy: {accuracy}\")\n",
    "\n",
    "print(f\"Precision: {precision}\")\n",
    "print(f\"Recall: {recall}\")\n",
    "print(f\"F1-Score: {f1_score}\")\n",
    "\n",
    "# Compute the confusion matrix\n",
    "confusion_matrix = metrics.confusion_matrix(true_labels, predicted_labels)\n",
    "print(\"Confusion Matrix:\")\n",
    "confusion_matrix\n"
   ],
   "metadata": {
    "collapsed": false,
    "ExecuteTime": {
     "end_time": "2023-10-06T08:27:30.736551597Z",
     "start_time": "2023-10-06T08:27:30.685226852Z"
    }
   },
   "id": "deb542691ed2bb18"
  },
  {
   "cell_type": "code",
   "execution_count": 22,
   "outputs": [
    {
     "name": "stdout",
     "output_type": "stream",
     "text": [
      "NB accuracy: 1.0\n"
     ]
    }
   ],
   "source": [
    "from sklearn.naive_bayes import GaussianNB\n",
    "from sklearn import metrics, datasets\n",
    "\n",
    "nb= GaussianNB()\n",
    "iris = datasets.load_iris()\n",
    "\n",
    "(iris_train_ftrs, iris_test_ftrs,\n",
    "iris_train_tgt, iris_test_tgt) = train_test_split(iris.data,\n",
    "iris.target,\n",
    "test_size=.25)\n",
    "\n",
    "fit= nb.fit(iris_train_ftrs, iris_train_tgt)\n",
    "preds = fit.predict(iris_test_ftrs)\n",
    "print(\"NB accuracy:\",\n",
    "metrics.accuracy_score(iris_test_tgt, preds))\n",
    "\n"
   ],
   "metadata": {
    "collapsed": false,
    "ExecuteTime": {
     "end_time": "2023-10-06T08:42:47.790710964Z",
     "start_time": "2023-10-06T08:42:47.779836170Z"
    }
   },
   "id": "ad3d23018f75aa2c"
  },
  {
   "cell_type": "code",
   "execution_count": 56,
   "outputs": [
    {
     "name": "stdout",
     "output_type": "stream",
     "text": [
      "This is the  meaning of programming  man \n"
     ]
    }
   ],
   "source": [
    "\n",
    "\n",
    "\n",
    "    "
   ],
   "metadata": {
    "collapsed": false,
    "ExecuteTime": {
     "end_time": "2023-10-06T10:15:38.106318628Z",
     "start_time": "2023-10-06T10:15:37.965045948Z"
    }
   },
   "id": "f62280bfd605ffb5"
  },
  {
   "cell_type": "code",
   "execution_count": 60,
   "outputs": [
    {
     "name": "stdout",
     "output_type": "stream",
     "text": [
      "{0: 'Alternate', 1: 'Bar', 2: 'Friday', 3: 'Hungry', 4: 'Patron', 5: 'Price', 6: 'Raining', 7: 'Reservation', 8: 'Type', 9: 'Estimated_Time'}\n"
     ]
    },
    {
     "data": {
      "text/plain": "   Alternate  Bar Friday Hungry Patron Price Raining Reservation     Type  \\\n0        Yes   No     No    Yes   Some   $$$      No         Yes   French   \n1        Yes   No     No    Yes   Full     $      No          No     Thai   \n2         No  Yes     No     No   Some     $      No          No   Burger   \n3        Yes   No    Yes    Yes   Full     $     Yes          No     Thai   \n4        Yes   No    Yes     No   Full   $$$      No         Yes   French   \n5         No  Yes     No    Yes   Some    $$     Yes         Yes  Italian   \n6         No  Yes     No     No   None     $     Yes          No   Burger   \n7         No   No     No    Yes   Some    $$     Yes         Yes     Thai   \n8         No  Yes    Yes     No   Full     $     Yes          No   Burger   \n9        Yes  Yes    Yes    Yes   Full   $$$      No         Yes  Italian   \n10        No   No     No     No   None     $      No          No     Thai   \n11       Yes  Yes    Yes    Yes   Full   $$$      No          No   Burger   \n\n   Estimated_Time  \n0            0–10  \n1           30–60  \n2            0–10  \n3           10–30  \n4             >60  \n5            0–10  \n6            0–10  \n7            0–10  \n8             >60  \n9           10–30  \n10           0–10  \n11          30–60  ",
      "text/html": "<div>\n<style scoped>\n    .dataframe tbody tr th:only-of-type {\n        vertical-align: middle;\n    }\n\n    .dataframe tbody tr th {\n        vertical-align: top;\n    }\n\n    .dataframe thead th {\n        text-align: right;\n    }\n</style>\n<table border=\"1\" class=\"dataframe\">\n  <thead>\n    <tr style=\"text-align: right;\">\n      <th></th>\n      <th>Alternate</th>\n      <th>Bar</th>\n      <th>Friday</th>\n      <th>Hungry</th>\n      <th>Patron</th>\n      <th>Price</th>\n      <th>Raining</th>\n      <th>Reservation</th>\n      <th>Type</th>\n      <th>Estimated_Time</th>\n    </tr>\n  </thead>\n  <tbody>\n    <tr>\n      <th>0</th>\n      <td>Yes</td>\n      <td>No</td>\n      <td>No</td>\n      <td>Yes</td>\n      <td>Some</td>\n      <td>$$$</td>\n      <td>No</td>\n      <td>Yes</td>\n      <td>French</td>\n      <td>0–10</td>\n    </tr>\n    <tr>\n      <th>1</th>\n      <td>Yes</td>\n      <td>No</td>\n      <td>No</td>\n      <td>Yes</td>\n      <td>Full</td>\n      <td>$</td>\n      <td>No</td>\n      <td>No</td>\n      <td>Thai</td>\n      <td>30–60</td>\n    </tr>\n    <tr>\n      <th>2</th>\n      <td>No</td>\n      <td>Yes</td>\n      <td>No</td>\n      <td>No</td>\n      <td>Some</td>\n      <td>$</td>\n      <td>No</td>\n      <td>No</td>\n      <td>Burger</td>\n      <td>0–10</td>\n    </tr>\n    <tr>\n      <th>3</th>\n      <td>Yes</td>\n      <td>No</td>\n      <td>Yes</td>\n      <td>Yes</td>\n      <td>Full</td>\n      <td>$</td>\n      <td>Yes</td>\n      <td>No</td>\n      <td>Thai</td>\n      <td>10–30</td>\n    </tr>\n    <tr>\n      <th>4</th>\n      <td>Yes</td>\n      <td>No</td>\n      <td>Yes</td>\n      <td>No</td>\n      <td>Full</td>\n      <td>$$$</td>\n      <td>No</td>\n      <td>Yes</td>\n      <td>French</td>\n      <td>&gt;60</td>\n    </tr>\n    <tr>\n      <th>5</th>\n      <td>No</td>\n      <td>Yes</td>\n      <td>No</td>\n      <td>Yes</td>\n      <td>Some</td>\n      <td>$$</td>\n      <td>Yes</td>\n      <td>Yes</td>\n      <td>Italian</td>\n      <td>0–10</td>\n    </tr>\n    <tr>\n      <th>6</th>\n      <td>No</td>\n      <td>Yes</td>\n      <td>No</td>\n      <td>No</td>\n      <td>None</td>\n      <td>$</td>\n      <td>Yes</td>\n      <td>No</td>\n      <td>Burger</td>\n      <td>0–10</td>\n    </tr>\n    <tr>\n      <th>7</th>\n      <td>No</td>\n      <td>No</td>\n      <td>No</td>\n      <td>Yes</td>\n      <td>Some</td>\n      <td>$$</td>\n      <td>Yes</td>\n      <td>Yes</td>\n      <td>Thai</td>\n      <td>0–10</td>\n    </tr>\n    <tr>\n      <th>8</th>\n      <td>No</td>\n      <td>Yes</td>\n      <td>Yes</td>\n      <td>No</td>\n      <td>Full</td>\n      <td>$</td>\n      <td>Yes</td>\n      <td>No</td>\n      <td>Burger</td>\n      <td>&gt;60</td>\n    </tr>\n    <tr>\n      <th>9</th>\n      <td>Yes</td>\n      <td>Yes</td>\n      <td>Yes</td>\n      <td>Yes</td>\n      <td>Full</td>\n      <td>$$$</td>\n      <td>No</td>\n      <td>Yes</td>\n      <td>Italian</td>\n      <td>10–30</td>\n    </tr>\n    <tr>\n      <th>10</th>\n      <td>No</td>\n      <td>No</td>\n      <td>No</td>\n      <td>No</td>\n      <td>None</td>\n      <td>$</td>\n      <td>No</td>\n      <td>No</td>\n      <td>Thai</td>\n      <td>0–10</td>\n    </tr>\n    <tr>\n      <th>11</th>\n      <td>Yes</td>\n      <td>Yes</td>\n      <td>Yes</td>\n      <td>Yes</td>\n      <td>Full</td>\n      <td>$$$</td>\n      <td>No</td>\n      <td>No</td>\n      <td>Burger</td>\n      <td>30–60</td>\n    </tr>\n  </tbody>\n</table>\n</div>"
     },
     "execution_count": 60,
     "metadata": {},
     "output_type": "execute_result"
    }
   ],
   "source": [
    " \n",
    "data =[\n",
    "    \n",
    "    [\"Yes\", \"Yes\", \"No\", \"Yes\", \"Yes\", \"No\", \"No\", \"No\", \"No\", \"Yes\", \"No\", \"Yes\"],\n",
    "    [\"No\", \"No\", \"Yes\", \"No\", \"No\", \"Yes\", \"Yes\", \"No\", \"Yes\", \"Yes\", \"No\", \"Yes\"],\n",
    "    [\"No\", \"No\", \"No\", \"Yes\", \"Yes\", \"No\", \"No\", \"No\", \"Yes\", \"Yes\", \"No\", \"Yes\"],\n",
    "    [\"Yes\", \"Yes\", \"No\", \"Yes\", \"No\", \"Yes\", \"No\", \"Yes\", \"No\", \"Yes\", \"No\", \"Yes\"],\n",
    "    [ \"Some\", \"Full\", \"Some\", \"Full\", \"Full\", \"Some\",\"None\", \"Some\", \"Full\", \"Full\", \"None\", \"Full\"],\n",
    "    [\"$$$\",\"$\", \"$\",\"$\", \"$$$\",\"$$\", \"$\",\"$$\",\"$\",\"$$$\",\"$\",\"$$$\"],\n",
    "    [ \"No\", \"No\", \"No\", \"Yes\", \"No\", \"Yes\",\"Yes\", \"Yes\", \"Yes\", \"No\", \"No\", \"No\"],\n",
    "    [ \"Yes\", \"No\", \"No\", \"No\", \"Yes\", \"Yes\",\"No\", \"Yes\", \"No\", \"Yes\", \"No\", \"No\"],\n",
    "    [ \"French\", \"Thai\", \"Burger\", \"Thai\", \"French\", \"Italian\", \"Burger\", \"Thai\", \"Burger\", \"Italian\", \"Thai\", \"Burger\"],\n",
    "    [\"0–10\", \"30–60\", \"0–10\", \"10–30\", \">60\", \"0–10\",\"0–10\", \"0–10\", \">60\", \"10–30\", \"0–10\", \"30–60\"]\n",
    "]\n",
    "\n",
    "\n",
    "classes = ['Yes', 'No', 'Yes', 'Yes', 'No', 'Yes', 'No', 'Yes', 'No', 'No', 'No', 'Yes']\n",
    "col_labels= ['Alternate', 'Bar', 'Friday', 'Hungry', 'Patron', 'Price', 'Raining', 'Reservation', 'Type', 'Estimated_Time']\n",
    "\n",
    "col_dict = {i: label for i, label in enumerate(col_labels)}\n",
    "\n",
    "dataFrame = pd.DataFrame(data).transpose()\n",
    "df=dataFrame.copy()\n",
    "print(col_dict)\n",
    "\n",
    "df.columns=col_labels\n",
    "df"
   ],
   "metadata": {
    "collapsed": false,
    "ExecuteTime": {
     "end_time": "2023-10-06T10:47:27.610161611Z",
     "start_time": "2023-10-06T10:47:27.555797685Z"
    }
   },
   "id": "7df29af12c18964d"
  },
  {
   "cell_type": "code",
   "execution_count": 61,
   "outputs": [
    {
     "name": "stdout",
     "output_type": "stream",
     "text": [
      "This is the  meaning of programming  man \n"
     ]
    },
    {
     "data": {
      "text/plain": "    Alternate  Bar  Friday  Hungry Patron  Price  Raining  Reservation  \\\n0           1    0       0       1   Some    300        0            1   \n1           1    0       0       1   Full    100        0            0   \n2           0    1       0       0   Some    100        0            0   \n3           1    0       1       1   Full    100        1            0   \n4           1    0       1       0   Full    300        0            1   \n5           0    1       0       1   Some    200        1            1   \n6           0    1       0       0   None    100        1            0   \n7           0    0       0       1   Some    200        1            1   \n8           0    1       1       0   Full    100        1            0   \n9           1    1       1       1   Full    300        0            1   \n10          0    0       0       0   None    100        0            0   \n11          1    1       1       1   Full    300        0            0   \n\n       Type Estimated_Time  \n0    French           0–10  \n1      Thai          30–60  \n2    Burger           0–10  \n3      Thai          10–30  \n4    French           Long  \n5   Italian           0–10  \n6    Burger           0–10  \n7      Thai           0–10  \n8    Burger           Long  \n9   Italian          10–30  \n10     Thai           0–10  \n11   Burger          30–60  ",
      "text/html": "<div>\n<style scoped>\n    .dataframe tbody tr th:only-of-type {\n        vertical-align: middle;\n    }\n\n    .dataframe tbody tr th {\n        vertical-align: top;\n    }\n\n    .dataframe thead th {\n        text-align: right;\n    }\n</style>\n<table border=\"1\" class=\"dataframe\">\n  <thead>\n    <tr style=\"text-align: right;\">\n      <th></th>\n      <th>Alternate</th>\n      <th>Bar</th>\n      <th>Friday</th>\n      <th>Hungry</th>\n      <th>Patron</th>\n      <th>Price</th>\n      <th>Raining</th>\n      <th>Reservation</th>\n      <th>Type</th>\n      <th>Estimated_Time</th>\n    </tr>\n  </thead>\n  <tbody>\n    <tr>\n      <th>0</th>\n      <td>1</td>\n      <td>0</td>\n      <td>0</td>\n      <td>1</td>\n      <td>Some</td>\n      <td>300</td>\n      <td>0</td>\n      <td>1</td>\n      <td>French</td>\n      <td>0–10</td>\n    </tr>\n    <tr>\n      <th>1</th>\n      <td>1</td>\n      <td>0</td>\n      <td>0</td>\n      <td>1</td>\n      <td>Full</td>\n      <td>100</td>\n      <td>0</td>\n      <td>0</td>\n      <td>Thai</td>\n      <td>30–60</td>\n    </tr>\n    <tr>\n      <th>2</th>\n      <td>0</td>\n      <td>1</td>\n      <td>0</td>\n      <td>0</td>\n      <td>Some</td>\n      <td>100</td>\n      <td>0</td>\n      <td>0</td>\n      <td>Burger</td>\n      <td>0–10</td>\n    </tr>\n    <tr>\n      <th>3</th>\n      <td>1</td>\n      <td>0</td>\n      <td>1</td>\n      <td>1</td>\n      <td>Full</td>\n      <td>100</td>\n      <td>1</td>\n      <td>0</td>\n      <td>Thai</td>\n      <td>10–30</td>\n    </tr>\n    <tr>\n      <th>4</th>\n      <td>1</td>\n      <td>0</td>\n      <td>1</td>\n      <td>0</td>\n      <td>Full</td>\n      <td>300</td>\n      <td>0</td>\n      <td>1</td>\n      <td>French</td>\n      <td>Long</td>\n    </tr>\n    <tr>\n      <th>5</th>\n      <td>0</td>\n      <td>1</td>\n      <td>0</td>\n      <td>1</td>\n      <td>Some</td>\n      <td>200</td>\n      <td>1</td>\n      <td>1</td>\n      <td>Italian</td>\n      <td>0–10</td>\n    </tr>\n    <tr>\n      <th>6</th>\n      <td>0</td>\n      <td>1</td>\n      <td>0</td>\n      <td>0</td>\n      <td>None</td>\n      <td>100</td>\n      <td>1</td>\n      <td>0</td>\n      <td>Burger</td>\n      <td>0–10</td>\n    </tr>\n    <tr>\n      <th>7</th>\n      <td>0</td>\n      <td>0</td>\n      <td>0</td>\n      <td>1</td>\n      <td>Some</td>\n      <td>200</td>\n      <td>1</td>\n      <td>1</td>\n      <td>Thai</td>\n      <td>0–10</td>\n    </tr>\n    <tr>\n      <th>8</th>\n      <td>0</td>\n      <td>1</td>\n      <td>1</td>\n      <td>0</td>\n      <td>Full</td>\n      <td>100</td>\n      <td>1</td>\n      <td>0</td>\n      <td>Burger</td>\n      <td>Long</td>\n    </tr>\n    <tr>\n      <th>9</th>\n      <td>1</td>\n      <td>1</td>\n      <td>1</td>\n      <td>1</td>\n      <td>Full</td>\n      <td>300</td>\n      <td>0</td>\n      <td>1</td>\n      <td>Italian</td>\n      <td>10–30</td>\n    </tr>\n    <tr>\n      <th>10</th>\n      <td>0</td>\n      <td>0</td>\n      <td>0</td>\n      <td>0</td>\n      <td>None</td>\n      <td>100</td>\n      <td>0</td>\n      <td>0</td>\n      <td>Thai</td>\n      <td>0–10</td>\n    </tr>\n    <tr>\n      <th>11</th>\n      <td>1</td>\n      <td>1</td>\n      <td>1</td>\n      <td>1</td>\n      <td>Full</td>\n      <td>300</td>\n      <td>0</td>\n      <td>0</td>\n      <td>Burger</td>\n      <td>30–60</td>\n    </tr>\n  </tbody>\n</table>\n</div>"
     },
     "execution_count": 61,
     "metadata": {},
     "output_type": "execute_result"
    }
   ],
   "source": [
    "from sklearn.preprocessing import OneHotEncoder\n",
    "from sklearn.impute import SimpleImputer\n",
    "import numpy as np\n",
    "import pandas as pd\n",
    "from sklearn.base import BaseEstimator, TransformerMixin\n",
    "print(\"This is the  meaning of programming  man \")\n",
    "\n",
    "\n",
    "class FeatureEncoder(BaseEstimator, TransformerMixin):\n",
    "    def __init__(self, dict_values):\n",
    "        self.dict_values= dict_values\n",
    "        \n",
    "    def fit(self, x, y=None):\n",
    "        return self\n",
    "\n",
    "    def transform(self, data_frame):  \n",
    "        dictionary_values = self.dict_values\n",
    "        for key in dictionary_values:\n",
    "            data_frame[key] = data_frame[key].replace(\n",
    "                dictionary_values[key]\n",
    "            )\n",
    "            \n",
    "        return data_frame\n",
    "    \n",
    "    \n",
    "Yes_No_Dict={\n",
    "    \"Yes\":1,\n",
    "    \"No\":0\n",
    "}\n",
    "def generate_column_dict():\n",
    "    return {\"Yes\": 1, \"No\": 0}\n",
    "\n",
    "val_dict = {\n",
    "    \"Alternate\": generate_column_dict(),\n",
    "    \"Bar\": generate_column_dict(),\n",
    "    \"Friday\": generate_column_dict(),\n",
    "    \"Hungry\": generate_column_dict(),\n",
    "    \"Price\": {\n",
    "        \"$\":100,\n",
    "        \"$$\":200,\n",
    "        \"$$$\":300,\n",
    "        \n",
    "    },\n",
    "    \"Raining\": generate_column_dict(),\n",
    "    \"Reservation\": generate_column_dict(),\n",
    "    \"Type\": generate_column_dict(),\n",
    "    \n",
    "    \"Estimated_Time\": {\n",
    "        \"0-10\":\"Short\",\n",
    "        \"10-30\":\"Medium\",\n",
    "        \">60\":\"Long\"\n",
    "    }\n",
    "}\n",
    "featureEncoder = FeatureEncoder(dict_values=val_dict);\n",
    "featureEncoder.fit_transform(df)\n",
    "\n"
   ],
   "metadata": {
    "collapsed": false,
    "ExecuteTime": {
     "end_time": "2023-10-06T10:47:36.180852790Z",
     "start_time": "2023-10-06T10:47:36.141224817Z"
    }
   },
   "id": "3ad6909afc095d6b"
  },
  {
   "cell_type": "code",
   "execution_count": 59,
   "outputs": [
    {
     "name": "stdout",
     "output_type": "stream",
     "text": [
      "name\n",
      "age\n",
      "city\n"
     ]
    }
   ],
   "source": [
    "my_dict = {\n",
    "    \"name\": \"John\",\n",
    "    \"age\": 30,\n",
    "    \"city\": \"New York\"\n",
    "}\n",
    "\n",
    "for key in my_dict:\n",
    "    print(key)"
   ],
   "metadata": {
    "collapsed": false,
    "ExecuteTime": {
     "end_time": "2023-10-06T10:43:56.138475026Z",
     "start_time": "2023-10-06T10:43:56.077556949Z"
    }
   },
   "id": "74aefe70a5114042"
  }
 ],
 "metadata": {
  "kernelspec": {
   "display_name": "Python 3",
   "language": "python",
   "name": "python3"
  },
  "language_info": {
   "codemirror_mode": {
    "name": "ipython",
    "version": 2
   },
   "file_extension": ".py",
   "mimetype": "text/x-python",
   "name": "python",
   "nbconvert_exporter": "python",
   "pygments_lexer": "ipython2",
   "version": "2.7.6"
  }
 },
 "nbformat": 4,
 "nbformat_minor": 5
}
