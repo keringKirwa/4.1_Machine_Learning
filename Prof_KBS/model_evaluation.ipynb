{
 "cells": [
  {
   "cell_type": "code",
   "execution_count": 8,
   "outputs": [],
   "source": [
    "import pandas as pd\n",
    "\n",
    "# setup\n",
    "from mlwpy import *\n",
    "%matplotlib inline\n",
    "from sklearn import datasets\n",
    "import  sklearn.model_selection  as skms\n",
    "from sklearn.neighbors import KNeighborsClassifier\n",
    "from sklearn.metrics import accuracy_score\n"
   ],
   "metadata": {
    "collapsed": false,
    "ExecuteTime": {
     "end_time": "2023-11-10T08:42:20.967947549Z",
     "start_time": "2023-11-10T08:42:20.951606125Z"
    }
   },
   "id": "75eb3303013247ff"
  },
  {
   "cell_type": "code",
   "execution_count": 20,
   "outputs": [
    {
     "data": {
      "text/plain": "array([1, 0, 0, 0, 1, 1, 0, 2, 0, 0, 1, 1, 2, 2, 0, 1, 2, 1, 0, 2, 2, 1,\n       1, 1, 0, 1, 0, 0, 1, 2, 0, 2, 1, 0, 2, 1, 1, 2, 0, 2, 2, 2, 2, 1,\n       2, 0, 0, 0, 1, 0])"
     },
     "execution_count": 20,
     "metadata": {},
     "output_type": "execute_result"
    }
   ],
   "source": [
    "iris = datasets.load_iris()\n",
    "tts = skms.train_test_split(iris.data, iris.target,test_size=.33, random_state=21)\n",
    "(iris_train_ftrs, iris_test_ftrs,iris_train_tgt,iris_test_tgt) = tts\n",
    "\n",
    "iris_test_tgt\n"
   ],
   "metadata": {
    "collapsed": false,
    "ExecuteTime": {
     "end_time": "2023-11-10T09:11:06.135340020Z",
     "start_time": "2023-11-10T09:11:06.086588323Z"
    }
   },
   "id": "6256aef2f5f63f92"
  },
  {
   "cell_type": "code",
   "execution_count": 11,
   "outputs": [
    {
     "name": "stdout",
     "output_type": "stream",
     "text": [
      "0.3\n"
     ]
    }
   ],
   "source": [
    "#THE MSE(mean squared error works in this way : it finds the diff between the predicted and the actual value , squares them and then finds their mean)\n",
    "baseline = dummy.DummyClassifier(strategy=\"most_frequent\")\n",
    "baseline.fit(iris_train_ftrs, iris_train_tgt)\n",
    "base_preds = baseline.predict(iris_test_ftrs)\n",
    "\n",
    "base_acc = metrics.accuracy_score(base_preds, iris_test_tgt)\n",
    "print(base_acc)"
   ],
   "metadata": {
    "collapsed": false,
    "ExecuteTime": {
     "end_time": "2023-11-10T08:44:22.674588710Z",
     "start_time": "2023-11-10T08:44:22.661281520Z"
    }
   },
   "id": "8db8dabea2e62f9b"
  },
  {
   "cell_type": "code",
   "execution_count": 14,
   "outputs": [
    {
     "data": {
      "text/plain": "                          accuracy\nconstant                    0.3600\nuniform                     0.4000\nstratified                  0.3600\nprior                       0.3000\nmost_frequent               0.3000",
      "text/html": "<div>\n<style scoped>\n    .dataframe tbody tr th:only-of-type {\n        vertical-align: middle;\n    }\n\n    .dataframe tbody tr th {\n        vertical-align: top;\n    }\n\n    .dataframe thead th {\n        text-align: right;\n    }\n</style>\n<table border=\"1\" class=\"dataframe\">\n  <thead>\n    <tr style=\"text-align: right;\">\n      <th></th>\n      <th>accuracy</th>\n    </tr>\n  </thead>\n  <tbody>\n    <tr>\n      <th>constant</th>\n      <td>0.3600</td>\n    </tr>\n    <tr>\n      <th>uniform</th>\n      <td>0.4000</td>\n    </tr>\n    <tr>\n      <th>stratified</th>\n      <td>0.3600</td>\n    </tr>\n    <tr>\n      <th>prior</th>\n      <td>0.3000</td>\n    </tr>\n    <tr>\n      <th>most_frequent</th>\n      <td>0.3000</td>\n    </tr>\n  </tbody>\n</table>\n</div>"
     },
     "metadata": {},
     "output_type": "display_data"
    }
   ],
   "source": [
    "strategies = ['constant', 'uniform', 'stratified',\n",
    "'prior', 'most_frequent']\n",
    "\n",
    "# set up args to create different DummyClassifier strategies\n",
    "baseline_args = [{'strategy':s} for s in strategies]\n",
    "baseline_args[0]['constant'] = 0 # class 0 is setosa\n",
    "accuracies = []\n",
    "for bla in baseline_args:\n",
    "    baseline = dummy.DummyClassifier(**bla)\n",
    "    baseline.fit(iris_train_ftrs, iris_train_tgt)\n",
    "    base_preds = baseline.predict(iris_test_ftrs)\n",
    "    accuracies.append(metrics.accuracy_score(base_preds, iris_test_tgt))\n",
    "\n",
    "display(pd.DataFrame({'accuracy':accuracies}, index=strategies))\n"
   ],
   "metadata": {
    "collapsed": false,
    "ExecuteTime": {
     "end_time": "2023-11-10T08:46:44.559603812Z",
     "start_time": "2023-11-10T08:46:44.513771428Z"
    }
   },
   "id": "998069d6e106db13"
  },
  {
   "cell_type": "code",
   "execution_count": 16,
   "outputs": [],
   "source": [
    "knn = neighbors.KNeighborsClassifier()"
   ],
   "metadata": {
    "collapsed": false,
    "ExecuteTime": {
     "end_time": "2023-11-10T08:52:49.083052752Z",
     "start_time": "2023-11-10T08:52:49.033925668Z"
    }
   },
   "id": "fbb47c33ac74fadd"
  },
  {
   "cell_type": "code",
   "execution_count": 28,
   "outputs": [
    {
     "name": "stdout",
     "output_type": "stream",
     "text": [
      "accuracy: 0.94\n",
      "[1 0 0 0 1 1 0 1 0 0 1 1 2 2 0 1 1 1 0 2 2 1 2 1 0 1 0 0 1 2 0 2 1 0 2 1 1\n",
      " 2 0 2 2 2 2 1 2 0 0 0 1 0]\n"
     ]
    },
    {
     "data": {
      "text/plain": "    0   1   2\n0  18   0   0\n1   0  16   1\n2   0   2  13",
      "text/html": "<div>\n<style scoped>\n    .dataframe tbody tr th:only-of-type {\n        vertical-align: middle;\n    }\n\n    .dataframe tbody tr th {\n        vertical-align: top;\n    }\n\n    .dataframe thead th {\n        text-align: right;\n    }\n</style>\n<table border=\"1\" class=\"dataframe\">\n  <thead>\n    <tr style=\"text-align: right;\">\n      <th></th>\n      <th>0</th>\n      <th>1</th>\n      <th>2</th>\n    </tr>\n  </thead>\n  <tbody>\n    <tr>\n      <th>0</th>\n      <td>18</td>\n      <td>0</td>\n      <td>0</td>\n    </tr>\n    <tr>\n      <th>1</th>\n      <td>0</td>\n      <td>16</td>\n      <td>1</td>\n    </tr>\n    <tr>\n      <th>2</th>\n      <td>0</td>\n      <td>2</td>\n      <td>13</td>\n    </tr>\n  </tbody>\n</table>\n</div>"
     },
     "execution_count": 28,
     "metadata": {},
     "output_type": "execute_result"
    },
    {
     "data": {
      "text/plain": "<Figure size 400x400 with 2 Axes>",
      "image/png": "[encoded data removed]"
     },
     "metadata": {},
     "output_type": "display_data"
    }
   ],
   "source": [
    "tgt_preds = (neighbors.KNeighborsClassifier()\n",
    "             .fit(iris_train_ftrs, iris_train_tgt)\n",
    "             .predict(iris_test_ftrs))\n",
    "\n",
    "print(\"accuracy:\", metrics.accuracy_score(iris_test_tgt,tgt_preds))\n",
    "cm = metrics.confusion_matrix(iris_test_tgt,tgt_preds)\n",
    "\n",
    "fig, ax = plt.subplots(1, 1, figsize=(4, 4))\n",
    "cm = metrics.confusion_matrix(iris_test_tgt, tgt_preds)\n",
    "ax = sns.heatmap(cm, annot=True, square=True,\n",
    "xticklabels=iris.target_names,\n",
    "yticklabels=iris.target_names)\n",
    "ax.set_xlabel('Predicted')\n",
    "ax.set_ylabel('Actual');\n",
    "\n",
    "print(tgt_preds)\n",
    "confusion_matrix_df = pd.DataFrame(cm)\n",
    "\n",
    "confusion_matrix_df\n"
   ],
   "metadata": {
    "collapsed": false,
    "ExecuteTime": {
     "end_time": "2023-11-10T09:20:21.868060552Z",
     "start_time": "2023-11-10T09:20:21.554975Z"
    }
   },
   "id": "2fd74a2db4314d31"
  },
  {
   "cell_type": "code",
   "execution_count": 29,
   "outputs": [
    {
     "name": "stdout",
     "output_type": "stream",
     "text": [
      "should equal 'macro avg': 0.9391534391534391\n"
     ]
    }
   ],
   "source": [
    "n_labels = len(iris.target_names)\n",
    "print(\"should equal 'macro avg':\",\n",
    "# correct    columnb      columns\n",
    "(np.diag(cm) / cm.sum(axis=0)).sum() / n_labels)"
   ],
   "metadata": {
    "collapsed": false,
    "ExecuteTime": {
     "end_time": "2023-11-10T09:29:25.666878097Z",
     "start_time": "2023-11-10T09:29:25.659400951Z"
    }
   },
   "id": "d676b6657598fabb"
  },
  {
   "cell_type": "code",
   "execution_count": null,
   "outputs": [],
   "source": [],
   "metadata": {
    "collapsed": false
   },
   "id": "ff7be0173c95dc14"
  }
 ],
 "metadata": {
  "kernelspec": {
   "display_name": "Python 3",
   "language": "python",
   "name": "python3"
  },
  "language_info": {
   "codemirror_mode": {
    "name": "ipython",
    "version": 2
   },
   "file_extension": ".py",
   "mimetype": "text/x-python",
   "name": "python",
   "nbconvert_exporter": "python",
   "pygments_lexer": "ipython2",
   "version": "2.7.6"
  }
 },
 "nbformat": 4,
 "nbformat_minor": 5
}
