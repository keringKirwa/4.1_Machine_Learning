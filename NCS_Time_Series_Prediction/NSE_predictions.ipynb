{
 "cells": [
  {
   "cell_type": "code",
   "execution_count": 169,
   "id": "initial_id",
   "metadata": {
    "ExecuteTime": {
     "end_time": "2023-11-01T15:45:28.584075322Z",
     "start_time": "2023-11-01T15:45:28.507381776Z"
    }
   },
   "outputs": [],
   "source": [
    "from sklearn.model_selection import train_test_split\n",
    "import tensorflow as tf\n",
    "from keras.models import Sequential\n",
    "from keras.layers import LSTM, Dense, Input, InputLayer, Dropout\n",
    "\n",
    "import pandas as pd\n",
    "import numpy as np\n",
    "import os\n",
    "import tensorflow as tf\n",
    "\n",
    "#DATA NORMALIZATION(STANDARDISATION)\n",
    "from sklearn.preprocessing import MinMaxScaler\n",
    "\n",
    "#DATA PLOTTING\n",
    "import matplotlib.pyplot as plt\n",
    "\n",
    "#FOR PERFORMANCE METRICS ANALYSIS.\n",
    "from keras.optimizers import Adam\n",
    "from keras.losses import  MeanSquaredError\n",
    "from keras.metrics import  RootMeanSquaredError\n",
    "\n",
    "#SAVING AND LOADING MODEL\n",
    "from keras.callbacks import ModelCheckpoint\n",
    "from keras.models import load_model\n"
   ]
  },
  {
   "cell_type": "code",
   "execution_count": 170,
   "outputs": [
    {
     "data": {
      "text/plain": "           Date  Code                        Name   12m Low  12m High  \\\n0      3-Jan-22  EGAD                 Eaagads Ltd        10        15   \n1      3-Jan-22  KUKZ                  Kakuzi Plc       355       427   \n2      3-Jan-22  KAPC     Kapchorua Tea Kenya Plc        80       101   \n3      3-Jan-22  LIMT              Limuru Tea Plc       260       360   \n4      3-Jan-22  SASN                  Sasini Plc     16.75      22.6   \n...         ...   ...                         ...       ...       ...   \n6727  31-May-22   MSC    Mumias Sugar Company Ltd      0.27      0.27   \n6728  31-May-22  UNGA              Unga Group Ltd      26.1      36.4   \n6729  31-May-22  SCOM               Safaricom Plc      25.5     45.25   \n6730  31-May-22  FAHR  Stanlib Fahari Income-REIT         5      7.48   \n6731  31-May-22   GLD            ABSA NewGold ETF  1,780.00  2,135.00   \n\n       Day Low  Day High Day Price  Previous Change Change%      Volume  \\\n0         13.5      13.8      13.5      13.5      -       -       4,000   \n1          385       385       385       385      -       -           -   \n2         99.5      99.5      99.5      95.5      4   4.19%         100   \n3          320       320       320       320      -       -           -   \n4         18.7      18.7      18.7      18.7      -       -           -   \n...        ...       ...       ...       ...    ...     ...         ...   \n6727      0.27      0.27      0.27      0.27      -       -           -   \n6728        29        29        29        30     -1   3.33%       2,100   \n6729     25.95     26.45        26     26.25  -0.25   0.95%  20,079,900   \n6730       5.5       5.6      5.56      5.58  -0.02   0.36%      11,700   \n6731  2,135.00  2,135.00  2,135.00  2,135.00      -       -           -   \n\n     Adjusted Price  \n0                 -  \n1                 -  \n2                 -  \n3                 -  \n4                 -  \n...             ...  \n6727              -  \n6728              -  \n6729              -  \n6730              -  \n6731              -  \n\n[6732 rows x 13 columns]",
      "text/html": "<div>\n<style scoped>\n    .dataframe tbody tr th:only-of-type {\n        vertical-align: middle;\n    }\n\n    .dataframe tbody tr th {\n        vertical-align: top;\n    }\n\n    .dataframe thead th {\n        text-align: right;\n    }\n</style>\n<table border=\"1\" class=\"dataframe\">\n  <thead>\n    <tr style=\"text-align: right;\">\n      <th></th>\n      <th>Date</th>\n      <th>Code</th>\n      <th>Name</th>\n      <th>12m Low</th>\n      <th>12m High</th>\n      <th>Day Low</th>\n      <th>Day High</th>\n      <th>Day Price</th>\n      <th>Previous</th>\n      <th>Change</th>\n      <th>Change%</th>\n      <th>Volume</th>\n      <th>Adjusted Price</th>\n    </tr>\n  </thead>\n  <tbody>\n    <tr>\n      <th>0</th>\n      <td>3-Jan-22</td>\n      <td>EGAD</td>\n      <td>Eaagads Ltd</td>\n      <td>10</td>\n      <td>15</td>\n      <td>13.5</td>\n      <td>13.8</td>\n      <td>13.5</td>\n      <td>13.5</td>\n      <td>-</td>\n      <td>-</td>\n      <td>4,000</td>\n      <td>-</td>\n    </tr>\n    <tr>\n      <th>1</th>\n      <td>3-Jan-22</td>\n      <td>KUKZ</td>\n      <td>Kakuzi Plc</td>\n      <td>355</td>\n      <td>427</td>\n      <td>385</td>\n      <td>385</td>\n      <td>385</td>\n      <td>385</td>\n      <td>-</td>\n      <td>-</td>\n      <td>-</td>\n      <td>-</td>\n    </tr>\n    <tr>\n      <th>2</th>\n      <td>3-Jan-22</td>\n      <td>KAPC</td>\n      <td>Kapchorua Tea Kenya Plc</td>\n      <td>80</td>\n      <td>101</td>\n      <td>99.5</td>\n      <td>99.5</td>\n      <td>99.5</td>\n      <td>95.5</td>\n      <td>4</td>\n      <td>4.19%</td>\n      <td>100</td>\n      <td>-</td>\n    </tr>\n    <tr>\n      <th>3</th>\n      <td>3-Jan-22</td>\n      <td>LIMT</td>\n      <td>Limuru Tea Plc</td>\n      <td>260</td>\n      <td>360</td>\n      <td>320</td>\n      <td>320</td>\n      <td>320</td>\n      <td>320</td>\n      <td>-</td>\n      <td>-</td>\n      <td>-</td>\n      <td>-</td>\n    </tr>\n    <tr>\n      <th>4</th>\n      <td>3-Jan-22</td>\n      <td>SASN</td>\n      <td>Sasini Plc</td>\n      <td>16.75</td>\n      <td>22.6</td>\n      <td>18.7</td>\n      <td>18.7</td>\n      <td>18.7</td>\n      <td>18.7</td>\n      <td>-</td>\n      <td>-</td>\n      <td>-</td>\n      <td>-</td>\n    </tr>\n    <tr>\n      <th>...</th>\n      <td>...</td>\n      <td>...</td>\n      <td>...</td>\n      <td>...</td>\n      <td>...</td>\n      <td>...</td>\n      <td>...</td>\n      <td>...</td>\n      <td>...</td>\n      <td>...</td>\n      <td>...</td>\n      <td>...</td>\n      <td>...</td>\n    </tr>\n    <tr>\n      <th>6727</th>\n      <td>31-May-22</td>\n      <td>MSC</td>\n      <td>Mumias Sugar Company Ltd</td>\n      <td>0.27</td>\n      <td>0.27</td>\n      <td>0.27</td>\n      <td>0.27</td>\n      <td>0.27</td>\n      <td>0.27</td>\n      <td>-</td>\n      <td>-</td>\n      <td>-</td>\n      <td>-</td>\n    </tr>\n    <tr>\n      <th>6728</th>\n      <td>31-May-22</td>\n      <td>UNGA</td>\n      <td>Unga Group Ltd</td>\n      <td>26.1</td>\n      <td>36.4</td>\n      <td>29</td>\n      <td>29</td>\n      <td>29</td>\n      <td>30</td>\n      <td>-1</td>\n      <td>3.33%</td>\n      <td>2,100</td>\n      <td>-</td>\n    </tr>\n    <tr>\n      <th>6729</th>\n      <td>31-May-22</td>\n      <td>SCOM</td>\n      <td>Safaricom Plc</td>\n      <td>25.5</td>\n      <td>45.25</td>\n      <td>25.95</td>\n      <td>26.45</td>\n      <td>26</td>\n      <td>26.25</td>\n      <td>-0.25</td>\n      <td>0.95%</td>\n      <td>20,079,900</td>\n      <td>-</td>\n    </tr>\n    <tr>\n      <th>6730</th>\n      <td>31-May-22</td>\n      <td>FAHR</td>\n      <td>Stanlib Fahari Income-REIT</td>\n      <td>5</td>\n      <td>7.48</td>\n      <td>5.5</td>\n      <td>5.6</td>\n      <td>5.56</td>\n      <td>5.58</td>\n      <td>-0.02</td>\n      <td>0.36%</td>\n      <td>11,700</td>\n      <td>-</td>\n    </tr>\n    <tr>\n      <th>6731</th>\n      <td>31-May-22</td>\n      <td>GLD</td>\n      <td>ABSA NewGold ETF</td>\n      <td>1,780.00</td>\n      <td>2,135.00</td>\n      <td>2,135.00</td>\n      <td>2,135.00</td>\n      <td>2,135.00</td>\n      <td>2,135.00</td>\n      <td>-</td>\n      <td>-</td>\n      <td>-</td>\n      <td>-</td>\n    </tr>\n  </tbody>\n</table>\n<p>6732 rows × 13 columns</p>\n</div>"
     },
     "execution_count": 170,
     "metadata": {},
     "output_type": "execute_result"
    }
   ],
   "source": [
    "nsc_data_frame = pd.read_csv(\"NSE_data_all_stocks_2022_jan_to_may (1).csv\")\n",
    "nsc_data_frame"
   ],
   "metadata": {
    "collapsed": false,
    "ExecuteTime": {
     "end_time": "2023-11-01T15:45:28.602514640Z",
     "start_time": "2023-11-01T15:45:28.547738165Z"
    }
   },
   "id": "643a221fdd673586"
  },
  {
   "cell_type": "code",
   "execution_count": 171,
   "id": "1065491407967dc4",
   "metadata": {
    "collapsed": false,
    "ExecuteTime": {
     "end_time": "2023-11-01T15:45:28.660703720Z",
     "start_time": "2023-11-01T15:45:28.570019425Z"
    }
   },
   "outputs": [
    {
     "data": {
      "text/plain": "           Date  Code                                      Name 12m Low  \\\n6409 2022-05-25  ABSA                       ABSA Bank Kenya Plc    8.94   \n6370 2022-05-24  CRWN                    Crown Paints Kenya Plc   19.05   \n3491 2022-03-16  FTGH             Flame Tree Group Holdings Ltd     1.1   \n4294 2022-04-04  SASN                                Sasini Plc   16.75   \n99   2022-01-04  BAMB                        Bamburi Cement Ltd      33   \n2951 2022-03-04  LBTY                Liberty Kenya Holdings Ltd    5.24   \n5041 2022-04-21   NBV             Nairobi Business Ventures Ltd    2.68   \n4393 2022-04-05  KEGN  Kenya Electricity Generating Company Plc    3.49   \n790  2022-01-18  FAHR                Stanlib Fahari Income-REIT     5.5   \n1087 2022-01-25  SCAN                         WPP ScanGroup Plc     3.5   \n\n     12m High Day Low Day High Day Price Previous  Day_Of_The_Week   Day_Name  \\\n6409    12.95    9.82    10.05      9.96      9.9                2  Wednesday   \n6370     42.8    37.5     38.2      37.9     38.2                1    Tuesday   \n3491     1.45    1.26     1.26      1.26     1.26                2  Wednesday   \n4294     22.6    18.6     18.6      18.6     18.6                0     Monday   \n99         42    37.5       38     37.75     38.2                1    Tuesday   \n2951     10.3    6.62     6.62      6.62     6.98                4     Friday   \n5041     13.8     4.4     4.48      4.41     4.24                3   Thursday   \n4393      5.1    3.55      3.6      3.59     3.57                1    Tuesday   \n790      7.48     6.5      6.5       6.5     6.46                1    Tuesday   \n1087     6.36    4.19      4.3      4.19     4.19                1    Tuesday   \n\n           Day_Sin       Day_Cos  \n6409  1.224647e-16 -1.000000e+00  \n6370  1.000000e+00  6.123234e-17  \n3491  1.224647e-16 -1.000000e+00  \n4294  0.000000e+00  1.000000e+00  \n99    1.000000e+00  6.123234e-17  \n2951 -2.449294e-16  1.000000e+00  \n5041 -1.000000e+00 -1.836970e-16  \n4393  1.000000e+00  6.123234e-17  \n790   1.000000e+00  6.123234e-17  \n1087  1.000000e+00  6.123234e-17  ",
      "text/html": "<div>\n<style scoped>\n    .dataframe tbody tr th:only-of-type {\n        vertical-align: middle;\n    }\n\n    .dataframe tbody tr th {\n        vertical-align: top;\n    }\n\n    .dataframe thead th {\n        text-align: right;\n    }\n</style>\n<table border=\"1\" class=\"dataframe\">\n  <thead>\n    <tr style=\"text-align: right;\">\n      <th></th>\n      <th>Date</th>\n      <th>Code</th>\n      <th>Name</th>\n      <th>12m Low</th>\n      <th>12m High</th>\n      <th>Day Low</th>\n      <th>Day High</th>\n      <th>Day Price</th>\n      <th>Previous</th>\n      <th>Day_Of_The_Week</th>\n      <th>Day_Name</th>\n      <th>Day_Sin</th>\n      <th>Day_Cos</th>\n    </tr>\n  </thead>\n  <tbody>\n    <tr>\n      <th>6409</th>\n      <td>2022-05-25</td>\n      <td>ABSA</td>\n      <td>ABSA Bank Kenya Plc</td>\n      <td>8.94</td>\n      <td>12.95</td>\n      <td>9.82</td>\n      <td>10.05</td>\n      <td>9.96</td>\n      <td>9.9</td>\n      <td>2</td>\n      <td>Wednesday</td>\n      <td>1.224647e-16</td>\n      <td>-1.000000e+00</td>\n    </tr>\n    <tr>\n      <th>6370</th>\n      <td>2022-05-24</td>\n      <td>CRWN</td>\n      <td>Crown Paints Kenya Plc</td>\n      <td>19.05</td>\n      <td>42.8</td>\n      <td>37.5</td>\n      <td>38.2</td>\n      <td>37.9</td>\n      <td>38.2</td>\n      <td>1</td>\n      <td>Tuesday</td>\n      <td>1.000000e+00</td>\n      <td>6.123234e-17</td>\n    </tr>\n    <tr>\n      <th>3491</th>\n      <td>2022-03-16</td>\n      <td>FTGH</td>\n      <td>Flame Tree Group Holdings Ltd</td>\n      <td>1.1</td>\n      <td>1.45</td>\n      <td>1.26</td>\n      <td>1.26</td>\n      <td>1.26</td>\n      <td>1.26</td>\n      <td>2</td>\n      <td>Wednesday</td>\n      <td>1.224647e-16</td>\n      <td>-1.000000e+00</td>\n    </tr>\n    <tr>\n      <th>4294</th>\n      <td>2022-04-04</td>\n      <td>SASN</td>\n      <td>Sasini Plc</td>\n      <td>16.75</td>\n      <td>22.6</td>\n      <td>18.6</td>\n      <td>18.6</td>\n      <td>18.6</td>\n      <td>18.6</td>\n      <td>0</td>\n      <td>Monday</td>\n      <td>0.000000e+00</td>\n      <td>1.000000e+00</td>\n    </tr>\n    <tr>\n      <th>99</th>\n      <td>2022-01-04</td>\n      <td>BAMB</td>\n      <td>Bamburi Cement Ltd</td>\n      <td>33</td>\n      <td>42</td>\n      <td>37.5</td>\n      <td>38</td>\n      <td>37.75</td>\n      <td>38.2</td>\n      <td>1</td>\n      <td>Tuesday</td>\n      <td>1.000000e+00</td>\n      <td>6.123234e-17</td>\n    </tr>\n    <tr>\n      <th>2951</th>\n      <td>2022-03-04</td>\n      <td>LBTY</td>\n      <td>Liberty Kenya Holdings Ltd</td>\n      <td>5.24</td>\n      <td>10.3</td>\n      <td>6.62</td>\n      <td>6.62</td>\n      <td>6.62</td>\n      <td>6.98</td>\n      <td>4</td>\n      <td>Friday</td>\n      <td>-2.449294e-16</td>\n      <td>1.000000e+00</td>\n    </tr>\n    <tr>\n      <th>5041</th>\n      <td>2022-04-21</td>\n      <td>NBV</td>\n      <td>Nairobi Business Ventures Ltd</td>\n      <td>2.68</td>\n      <td>13.8</td>\n      <td>4.4</td>\n      <td>4.48</td>\n      <td>4.41</td>\n      <td>4.24</td>\n      <td>3</td>\n      <td>Thursday</td>\n      <td>-1.000000e+00</td>\n      <td>-1.836970e-16</td>\n    </tr>\n    <tr>\n      <th>4393</th>\n      <td>2022-04-05</td>\n      <td>KEGN</td>\n      <td>Kenya Electricity Generating Company Plc</td>\n      <td>3.49</td>\n      <td>5.1</td>\n      <td>3.55</td>\n      <td>3.6</td>\n      <td>3.59</td>\n      <td>3.57</td>\n      <td>1</td>\n      <td>Tuesday</td>\n      <td>1.000000e+00</td>\n      <td>6.123234e-17</td>\n    </tr>\n    <tr>\n      <th>790</th>\n      <td>2022-01-18</td>\n      <td>FAHR</td>\n      <td>Stanlib Fahari Income-REIT</td>\n      <td>5.5</td>\n      <td>7.48</td>\n      <td>6.5</td>\n      <td>6.5</td>\n      <td>6.5</td>\n      <td>6.46</td>\n      <td>1</td>\n      <td>Tuesday</td>\n      <td>1.000000e+00</td>\n      <td>6.123234e-17</td>\n    </tr>\n    <tr>\n      <th>1087</th>\n      <td>2022-01-25</td>\n      <td>SCAN</td>\n      <td>WPP ScanGroup Plc</td>\n      <td>3.5</td>\n      <td>6.36</td>\n      <td>4.19</td>\n      <td>4.3</td>\n      <td>4.19</td>\n      <td>4.19</td>\n      <td>1</td>\n      <td>Tuesday</td>\n      <td>1.000000e+00</td>\n      <td>6.123234e-17</td>\n    </tr>\n  </tbody>\n</table>\n</div>"
     },
     "execution_count": 171,
     "metadata": {},
     "output_type": "execute_result"
    }
   ],
   "source": [
    "#DATA  CLEANING  # nsc_data_frame.set_index(nsc_data_frame.Date, inplace=True) to update the index  of the dataframe.\n",
    "\n",
    "date_format = '%d-%b-%y'\n",
    "nsc_data_frame.Date = pd.to_datetime(nsc_data_frame['Date'], format=date_format)\n",
    "nsc_data_frame['Day_Of_The_Week'] = nsc_data_frame['Date'].dt.dayofweek\n",
    "\n",
    "nsc_data_frame['Day_Name'] = nsc_data_frame['Date'].dt.day_name()\n",
    "\n",
    "nsc_data_frame = nsc_data_frame.drop(columns=['Change', 'Change%', 'Volume', 'Adjusted Price'])\n",
    "\n",
    "\n",
    "nsc_data_frame['Day_Sin'] = np.sin(2 * np.pi * nsc_data_frame['Day_Of_The_Week']/4.0)\n",
    "nsc_data_frame['Day_Cos'] = np.cos(2 * np.pi * nsc_data_frame['Day_Of_The_Week']/4.0)\n",
    "\n",
    "nsc_data_frame.sample(10)\n",
    "\n"
   ]
  },
  {
   "cell_type": "code",
   "execution_count": 172,
   "outputs": [
    {
     "data": {
      "text/plain": "        Date  Code         Name 12m Low 12m High Day Low Day High  Day Price  \\\n0 2022-01-03  EGAD  Eaagads Ltd      10       15    13.5     13.8      13.50   \n1 2022-01-04  EGAD  Eaagads Ltd      10       15   12.85    12.85      12.85   \n2 2022-01-05  EGAD  Eaagads Ltd      10       15   12.85    12.85      12.85   \n3 2022-01-06  EGAD  Eaagads Ltd      10       15    13.8     13.8      13.80   \n4 2022-01-07  EGAD  Eaagads Ltd      10       15    13.8     13.8      13.80   \n5 2022-01-10  EGAD  Eaagads Ltd      10       15    13.8     13.8      13.80   \n6 2022-01-11  EGAD  Eaagads Ltd      10       15    13.8     13.8      13.80   \n7 2022-01-12  EGAD  Eaagads Ltd      10       15    12.9     12.9      12.90   \n8 2022-01-13  EGAD  Eaagads Ltd      10       15    12.9     12.9      12.90   \n9 2022-01-14  EGAD  Eaagads Ltd      10       15    13.8     13.8      13.80   \n\n  Previous  Day_Of_The_Week   Day_Name       Day_Sin       Day_Cos  \n0     13.5                0     Monday  0.000000e+00  1.000000e+00  \n1     13.5                1    Tuesday  1.000000e+00  6.123234e-17  \n2    12.85                2  Wednesday  1.224647e-16 -1.000000e+00  \n3    12.85                3   Thursday -1.000000e+00 -1.836970e-16  \n4     13.8                4     Friday -2.449294e-16  1.000000e+00  \n5     13.8                0     Monday  0.000000e+00  1.000000e+00  \n6     13.8                1    Tuesday  1.000000e+00  6.123234e-17  \n7     13.8                2  Wednesday  1.224647e-16 -1.000000e+00  \n8     12.9                3   Thursday -1.000000e+00 -1.836970e-16  \n9     12.9                4     Friday -2.449294e-16  1.000000e+00  ",
      "text/html": "<div>\n<style scoped>\n    .dataframe tbody tr th:only-of-type {\n        vertical-align: middle;\n    }\n\n    .dataframe tbody tr th {\n        vertical-align: top;\n    }\n\n    .dataframe thead th {\n        text-align: right;\n    }\n</style>\n<table border=\"1\" class=\"dataframe\">\n  <thead>\n    <tr style=\"text-align: right;\">\n      <th></th>\n      <th>Date</th>\n      <th>Code</th>\n      <th>Name</th>\n      <th>12m Low</th>\n      <th>12m High</th>\n      <th>Day Low</th>\n      <th>Day High</th>\n      <th>Day Price</th>\n      <th>Previous</th>\n      <th>Day_Of_The_Week</th>\n      <th>Day_Name</th>\n      <th>Day_Sin</th>\n      <th>Day_Cos</th>\n    </tr>\n  </thead>\n  <tbody>\n    <tr>\n      <th>0</th>\n      <td>2022-01-03</td>\n      <td>EGAD</td>\n      <td>Eaagads Ltd</td>\n      <td>10</td>\n      <td>15</td>\n      <td>13.5</td>\n      <td>13.8</td>\n      <td>13.50</td>\n      <td>13.5</td>\n      <td>0</td>\n      <td>Monday</td>\n      <td>0.000000e+00</td>\n      <td>1.000000e+00</td>\n    </tr>\n    <tr>\n      <th>1</th>\n      <td>2022-01-04</td>\n      <td>EGAD</td>\n      <td>Eaagads Ltd</td>\n      <td>10</td>\n      <td>15</td>\n      <td>12.85</td>\n      <td>12.85</td>\n      <td>12.85</td>\n      <td>13.5</td>\n      <td>1</td>\n      <td>Tuesday</td>\n      <td>1.000000e+00</td>\n      <td>6.123234e-17</td>\n    </tr>\n    <tr>\n      <th>2</th>\n      <td>2022-01-05</td>\n      <td>EGAD</td>\n      <td>Eaagads Ltd</td>\n      <td>10</td>\n      <td>15</td>\n      <td>12.85</td>\n      <td>12.85</td>\n      <td>12.85</td>\n      <td>12.85</td>\n      <td>2</td>\n      <td>Wednesday</td>\n      <td>1.224647e-16</td>\n      <td>-1.000000e+00</td>\n    </tr>\n    <tr>\n      <th>3</th>\n      <td>2022-01-06</td>\n      <td>EGAD</td>\n      <td>Eaagads Ltd</td>\n      <td>10</td>\n      <td>15</td>\n      <td>13.8</td>\n      <td>13.8</td>\n      <td>13.80</td>\n      <td>12.85</td>\n      <td>3</td>\n      <td>Thursday</td>\n      <td>-1.000000e+00</td>\n      <td>-1.836970e-16</td>\n    </tr>\n    <tr>\n      <th>4</th>\n      <td>2022-01-07</td>\n      <td>EGAD</td>\n      <td>Eaagads Ltd</td>\n      <td>10</td>\n      <td>15</td>\n      <td>13.8</td>\n      <td>13.8</td>\n      <td>13.80</td>\n      <td>13.8</td>\n      <td>4</td>\n      <td>Friday</td>\n      <td>-2.449294e-16</td>\n      <td>1.000000e+00</td>\n    </tr>\n    <tr>\n      <th>5</th>\n      <td>2022-01-10</td>\n      <td>EGAD</td>\n      <td>Eaagads Ltd</td>\n      <td>10</td>\n      <td>15</td>\n      <td>13.8</td>\n      <td>13.8</td>\n      <td>13.80</td>\n      <td>13.8</td>\n      <td>0</td>\n      <td>Monday</td>\n      <td>0.000000e+00</td>\n      <td>1.000000e+00</td>\n    </tr>\n    <tr>\n      <th>6</th>\n      <td>2022-01-11</td>\n      <td>EGAD</td>\n      <td>Eaagads Ltd</td>\n      <td>10</td>\n      <td>15</td>\n      <td>13.8</td>\n      <td>13.8</td>\n      <td>13.80</td>\n      <td>13.8</td>\n      <td>1</td>\n      <td>Tuesday</td>\n      <td>1.000000e+00</td>\n      <td>6.123234e-17</td>\n    </tr>\n    <tr>\n      <th>7</th>\n      <td>2022-01-12</td>\n      <td>EGAD</td>\n      <td>Eaagads Ltd</td>\n      <td>10</td>\n      <td>15</td>\n      <td>12.9</td>\n      <td>12.9</td>\n      <td>12.90</td>\n      <td>13.8</td>\n      <td>2</td>\n      <td>Wednesday</td>\n      <td>1.224647e-16</td>\n      <td>-1.000000e+00</td>\n    </tr>\n    <tr>\n      <th>8</th>\n      <td>2022-01-13</td>\n      <td>EGAD</td>\n      <td>Eaagads Ltd</td>\n      <td>10</td>\n      <td>15</td>\n      <td>12.9</td>\n      <td>12.9</td>\n      <td>12.90</td>\n      <td>12.9</td>\n      <td>3</td>\n      <td>Thursday</td>\n      <td>-1.000000e+00</td>\n      <td>-1.836970e-16</td>\n    </tr>\n    <tr>\n      <th>9</th>\n      <td>2022-01-14</td>\n      <td>EGAD</td>\n      <td>Eaagads Ltd</td>\n      <td>10</td>\n      <td>15</td>\n      <td>13.8</td>\n      <td>13.8</td>\n      <td>13.80</td>\n      <td>12.9</td>\n      <td>4</td>\n      <td>Friday</td>\n      <td>-2.449294e-16</td>\n      <td>1.000000e+00</td>\n    </tr>\n  </tbody>\n</table>\n</div>"
     },
     "metadata": {},
     "output_type": "display_data"
    }
   ],
   "source": [
    "#EGAD LTD.  DATA\n",
    "\n",
    "egad_data_frame = nsc_data_frame[nsc_data_frame['Code'] == 'EGAD'].reset_index(drop=True)\n",
    "egad_data_frame['Day Price'] = pd.to_numeric(egad_data_frame['Day Price'], errors='coerce')\n",
    "\n",
    "\n",
    "# min_value = egad_data_frame['Day_Of_The_Week'].min()  ------ >> display(egad_data_frame.info())\n",
    "\n",
    "display(egad_data_frame.head(10))\n",
    "\n",
    "#SELECT THE 1ST COLUMN AND PLOT THE DAY_SINE AGAINST TIME\n",
    "\n",
    "# plt.figure(figsize=(12, 6))  \n",
    "# plt.subplot(1, 2, 1)  # Selects the first subplot\n",
    "# egad_data_frame['Day_Sin'].plot()\n",
    "# plt.title('Day_Sin Over Time')\n",
    "\n",
    "#SELECT THE 2ND COLUMN AND PLOT THE DAY PRICE AGAINST TIME\n",
    "\n",
    "# plt.subplot(1, 2, 2)  \n",
    "# egad_data_frame['Day Price'].plot()\n",
    "# plt.title('Day Price Over Time')\n",
    "# \n",
    "# plt.tight_layout()  # To improve subplot spacing\n",
    "# plt.show()\n",
    "\n",
    "\n"
   ],
   "metadata": {
    "collapsed": false,
    "ExecuteTime": {
     "end_time": "2023-11-01T15:45:28.785325518Z",
     "start_time": "2023-11-01T15:45:28.614735324Z"
    }
   },
   "id": "5960eac770fa6973"
  },
  {
   "cell_type": "code",
   "execution_count": 173,
   "outputs": [
    {
     "data": {
      "text/plain": "     Day Price       Day_Sin\n0        13.50  0.000000e+00\n1        12.85  1.000000e+00\n2        12.85  1.224647e-16\n3        13.80 -1.000000e+00\n4        13.80 -2.449294e-16\n..         ...           ...\n97       13.45  1.224647e-16\n98       13.45 -1.000000e+00\n99       13.45 -2.449294e-16\n100      13.45  0.000000e+00\n101      13.45  1.000000e+00\n\n[102 rows x 2 columns]",
      "text/html": "<div>\n<style scoped>\n    .dataframe tbody tr th:only-of-type {\n        vertical-align: middle;\n    }\n\n    .dataframe tbody tr th {\n        vertical-align: top;\n    }\n\n    .dataframe thead th {\n        text-align: right;\n    }\n</style>\n<table border=\"1\" class=\"dataframe\">\n  <thead>\n    <tr style=\"text-align: right;\">\n      <th></th>\n      <th>Day Price</th>\n      <th>Day_Sin</th>\n    </tr>\n  </thead>\n  <tbody>\n    <tr>\n      <th>0</th>\n      <td>13.50</td>\n      <td>0.000000e+00</td>\n    </tr>\n    <tr>\n      <th>1</th>\n      <td>12.85</td>\n      <td>1.000000e+00</td>\n    </tr>\n    <tr>\n      <th>2</th>\n      <td>12.85</td>\n      <td>1.224647e-16</td>\n    </tr>\n    <tr>\n      <th>3</th>\n      <td>13.80</td>\n      <td>-1.000000e+00</td>\n    </tr>\n    <tr>\n      <th>4</th>\n      <td>13.80</td>\n      <td>-2.449294e-16</td>\n    </tr>\n    <tr>\n      <th>...</th>\n      <td>...</td>\n      <td>...</td>\n    </tr>\n    <tr>\n      <th>97</th>\n      <td>13.45</td>\n      <td>1.224647e-16</td>\n    </tr>\n    <tr>\n      <th>98</th>\n      <td>13.45</td>\n      <td>-1.000000e+00</td>\n    </tr>\n    <tr>\n      <th>99</th>\n      <td>13.45</td>\n      <td>-2.449294e-16</td>\n    </tr>\n    <tr>\n      <th>100</th>\n      <td>13.45</td>\n      <td>0.000000e+00</td>\n    </tr>\n    <tr>\n      <th>101</th>\n      <td>13.45</td>\n      <td>1.000000e+00</td>\n    </tr>\n  </tbody>\n</table>\n<p>102 rows × 2 columns</p>\n</div>"
     },
     "execution_count": 173,
     "metadata": {},
     "output_type": "execute_result"
    }
   ],
   "source": [
    "df_interest = egad_data_frame[['Day Price', 'Day_Sin']].copy()\n",
    "\n",
    "df_interest"
   ],
   "metadata": {
    "collapsed": false,
    "ExecuteTime": {
     "end_time": "2023-11-01T15:45:28.842181652Z",
     "start_time": "2023-11-01T15:45:28.648321561Z"
    }
   },
   "id": "eab0354107f06afa"
  },
  {
   "cell_type": "code",
   "execution_count": 186,
   "outputs": [
    {
     "name": "stdout",
     "output_type": "stream",
     "text": [
      "X_Data shape :  (97, 5, 2)\n",
      "(97, 5, 2) (97,)\n"
     ]
    },
    {
     "data": {
      "text/plain": "array([[ 1.3500000e+01,  0.0000000e+00],\n       [ 1.2850000e+01,  1.0000000e+00],\n       [ 1.2850000e+01,  1.2246468e-16],\n       [ 1.3800000e+01, -1.0000000e+00],\n       [ 1.3800000e+01, -2.4492936e-16]])"
     },
     "execution_count": 186,
     "metadata": {},
     "output_type": "execute_result"
    }
   ],
   "source": [
    "#Splitting the Dataframe into X_features and the Y_Classes\n",
    "\"\"\"\n",
    "WINDOW_SIZE = 5\n",
    "[\n",
    "  [[ds1, dp1], [ds2, dp2], [ds3, dp3], [ds4, dp4], [ds5, dp5]],\n",
    "  [[ds2, dp2], [ds3, dp3], [ds4, dp4], [ds5, dp5], [ds6, dp6]]  \n",
    "]\n",
    "\"\"\"\n",
    "\n",
    "def __generate_x_y_from_nsc_df_method_1(__data_frame , time_step=5):\n",
    "    data_array = __data_frame.to_numpy()\n",
    "    X = []\n",
    "    y = []\n",
    "    for i in range(len(data_array)-time_step):\n",
    "        \n",
    "        rows = data_array[i:i + time_step]   # print(rowing[1]) gives [12.85  1.] , that is the second row \n",
    "        \n",
    "        zipped_row = [row for row in rows]  # creates a list of nd_arrays .\n",
    "        \n",
    "        label = data_array[i + time_step][0]\n",
    "        X.append(zipped_row)\n",
    "        y.append(label)\n",
    "        \n",
    "    return np.array(X), np.array(y)\n",
    "\n",
    "X_data, Y_data = __generate_x_y_from_nsc_df_method_1(df_interest , 5)\n",
    "\n",
    "print(\"X_Data shape : \",X_data.shape)\n",
    "\n",
    "print(X_data.shape , Y_data.shape)\n",
    "\n",
    "X_data[0]\n",
    "\n"
   ],
   "metadata": {
    "collapsed": false,
    "ExecuteTime": {
     "end_time": "2023-11-01T16:06:38.678034875Z",
     "start_time": "2023-11-01T16:06:38.625817389Z"
    }
   },
   "id": "119d615c0161c055"
  },
  {
   "cell_type": "code",
   "execution_count": 176,
   "outputs": [],
   "source": [
    "#Model Creation and Model Compilation.\n",
    "dropout_rate = 0.2\n",
    "input_shape=(5, 6)\n",
    "\n",
    "model = Sequential([Input(input_shape),\n",
    "                    LSTM(units=100, return_sequences=True),\n",
    "                    Dropout(rate=dropout_rate),\n",
    "                    LSTM(units=100, return_sequences=False),\n",
    "                    Dropout(rate= dropout_rate),\n",
    "                    Dense(units=32, activation='relu'),\n",
    "                    Dense(units = 1)])\n",
    "\n",
    "model.compile(loss=MeanSquaredError(), \n",
    "              optimizer=Adam(learning_rate=0.0001),\n",
    "              metrics=[RootMeanSquaredError()])\n"
   ],
   "metadata": {
    "collapsed": false,
    "ExecuteTime": {
     "end_time": "2023-11-01T15:45:29.548815991Z",
     "start_time": "2023-11-01T15:45:28.735922297Z"
    }
   },
   "id": "d0a9f340473242ca"
  }
 ],
 "metadata": {
  "kernelspec": {
   "display_name": "Python 3 (ipykernel)",
   "language": "python",
   "name": "python3"
  },
  "language_info": {
   "codemirror_mode": {
    "name": "ipython",
    "version": 3
   },
   "file_extension": ".py",
   "mimetype": "text/x-python",
   "name": "python",
   "nbconvert_exporter": "python",
   "pygments_lexer": "ipython3",
   "version": "3.10.12"
  }
 },
 "nbformat": 4,
 "nbformat_minor": 5
}
