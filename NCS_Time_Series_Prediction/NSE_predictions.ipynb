{
 "cells": [
  {
   "cell_type": "code",
   "execution_count": 15,
   "id": "initial_id",
   "metadata": {
    "ExecuteTime": {
     "end_time": "2023-11-09T13:06:57.356359360Z",
     "start_time": "2023-11-09T13:06:57.277373789Z"
    }
   },
   "outputs": [],
   "source": [
    "from sklearn.model_selection import train_test_split\n",
    "import tensorflow as tf\n",
    "from keras.models import Sequential\n",
    "from keras.layers import LSTM, Dense, Input, InputLayer, Dropout\n",
    "\n",
    "import pandas as pd\n",
    "import numpy as np\n",
    "\n",
    "np.random.seed(42)\n",
    "\n",
    "import os\n",
    "import tensorflow as tf\n",
    "\n",
    "from keras.utils import plot_model\n",
    "\n",
    "#DATA NORMALIZATION(STANDARDISATION)\n",
    "from sklearn.preprocessing import MinMaxScaler\n",
    "\n",
    "#DATA PLOTTING\n",
    "import matplotlib.pyplot as plt\n",
    "\n",
    "#FOR PERFORMANCE METRICS ANALYSIS.\n",
    "from keras.optimizers import Adam\n",
    "from keras.losses import  MeanSquaredError\n",
    "from keras.metrics import  RootMeanSquaredError\n",
    "\n",
    "#SAVING AND LOADING MODEL\n",
    "from keras.callbacks import ModelCheckpoint, History\n",
    "from keras.models import load_model\n"
   ]
  },
  {
   "cell_type": "code",
   "execution_count": 16,
   "outputs": [
    {
     "data": {
      "text/plain": "           Date  Code                        Name   12m Low  12m High  \\\n0      3-Jan-22  EGAD                 Eaagads Ltd        10        15   \n1      3-Jan-22  KUKZ                  Kakuzi Plc       355       427   \n2      3-Jan-22  KAPC     Kapchorua Tea Kenya Plc        80       101   \n3      3-Jan-22  LIMT              Limuru Tea Plc       260       360   \n4      3-Jan-22  SASN                  Sasini Plc     16.75      22.6   \n...         ...   ...                         ...       ...       ...   \n6727  31-May-22   MSC    Mumias Sugar Company Ltd      0.27      0.27   \n6728  31-May-22  UNGA              Unga Group Ltd      26.1      36.4   \n6729  31-May-22  SCOM               Safaricom Plc      25.5     45.25   \n6730  31-May-22  FAHR  Stanlib Fahari Income-REIT         5      7.48   \n6731  31-May-22   GLD            ABSA NewGold ETF  1,780.00  2,135.00   \n\n       Day Low  Day High Day Price  Previous Change Change%      Volume  \\\n0         13.5      13.8      13.5      13.5      -       -       4,000   \n1          385       385       385       385      -       -           -   \n2         99.5      99.5      99.5      95.5      4   4.19%         100   \n3          320       320       320       320      -       -           -   \n4         18.7      18.7      18.7      18.7      -       -           -   \n...        ...       ...       ...       ...    ...     ...         ...   \n6727      0.27      0.27      0.27      0.27      -       -           -   \n6728        29        29        29        30     -1   3.33%       2,100   \n6729     25.95     26.45        26     26.25  -0.25   0.95%  20,079,900   \n6730       5.5       5.6      5.56      5.58  -0.02   0.36%      11,700   \n6731  2,135.00  2,135.00  2,135.00  2,135.00      -       -           -   \n\n     Adjusted Price  \n0                 -  \n1                 -  \n2                 -  \n3                 -  \n4                 -  \n...             ...  \n6727              -  \n6728              -  \n6729              -  \n6730              -  \n6731              -  \n\n[6732 rows x 13 columns]",
      "text/html": "<div>\n<style scoped>\n    .dataframe tbody tr th:only-of-type {\n        vertical-align: middle;\n    }\n\n    .dataframe tbody tr th {\n        vertical-align: top;\n    }\n\n    .dataframe thead th {\n        text-align: right;\n    }\n</style>\n<table border=\"1\" class=\"dataframe\">\n  <thead>\n    <tr style=\"text-align: right;\">\n      <th></th>\n      <th>Date</th>\n      <th>Code</th>\n      <th>Name</th>\n      <th>12m Low</th>\n      <th>12m High</th>\n      <th>Day Low</th>\n      <th>Day High</th>\n      <th>Day Price</th>\n      <th>Previous</th>\n      <th>Change</th>\n      <th>Change%</th>\n      <th>Volume</th>\n      <th>Adjusted Price</th>\n    </tr>\n  </thead>\n  <tbody>\n    <tr>\n      <th>0</th>\n      <td>3-Jan-22</td>\n      <td>EGAD</td>\n      <td>Eaagads Ltd</td>\n      <td>10</td>\n      <td>15</td>\n      <td>13.5</td>\n      <td>13.8</td>\n      <td>13.5</td>\n      <td>13.5</td>\n      <td>-</td>\n      <td>-</td>\n      <td>4,000</td>\n      <td>-</td>\n    </tr>\n    <tr>\n      <th>1</th>\n      <td>3-Jan-22</td>\n      <td>KUKZ</td>\n      <td>Kakuzi Plc</td>\n      <td>355</td>\n      <td>427</td>\n      <td>385</td>\n      <td>385</td>\n      <td>385</td>\n      <td>385</td>\n      <td>-</td>\n      <td>-</td>\n      <td>-</td>\n      <td>-</td>\n    </tr>\n    <tr>\n      <th>2</th>\n      <td>3-Jan-22</td>\n      <td>KAPC</td>\n      <td>Kapchorua Tea Kenya Plc</td>\n      <td>80</td>\n      <td>101</td>\n      <td>99.5</td>\n      <td>99.5</td>\n      <td>99.5</td>\n      <td>95.5</td>\n      <td>4</td>\n      <td>4.19%</td>\n      <td>100</td>\n      <td>-</td>\n    </tr>\n    <tr>\n      <th>3</th>\n      <td>3-Jan-22</td>\n      <td>LIMT</td>\n      <td>Limuru Tea Plc</td>\n      <td>260</td>\n      <td>360</td>\n      <td>320</td>\n      <td>320</td>\n      <td>320</td>\n      <td>320</td>\n      <td>-</td>\n      <td>-</td>\n      <td>-</td>\n      <td>-</td>\n    </tr>\n    <tr>\n      <th>4</th>\n      <td>3-Jan-22</td>\n      <td>SASN</td>\n      <td>Sasini Plc</td>\n      <td>16.75</td>\n      <td>22.6</td>\n      <td>18.7</td>\n      <td>18.7</td>\n      <td>18.7</td>\n      <td>18.7</td>\n      <td>-</td>\n      <td>-</td>\n      <td>-</td>\n      <td>-</td>\n    </tr>\n    <tr>\n      <th>...</th>\n      <td>...</td>\n      <td>...</td>\n      <td>...</td>\n      <td>...</td>\n      <td>...</td>\n      <td>...</td>\n      <td>...</td>\n      <td>...</td>\n      <td>...</td>\n      <td>...</td>\n      <td>...</td>\n      <td>...</td>\n      <td>...</td>\n    </tr>\n    <tr>\n      <th>6727</th>\n      <td>31-May-22</td>\n      <td>MSC</td>\n      <td>Mumias Sugar Company Ltd</td>\n      <td>0.27</td>\n      <td>0.27</td>\n      <td>0.27</td>\n      <td>0.27</td>\n      <td>0.27</td>\n      <td>0.27</td>\n      <td>-</td>\n      <td>-</td>\n      <td>-</td>\n      <td>-</td>\n    </tr>\n    <tr>\n      <th>6728</th>\n      <td>31-May-22</td>\n      <td>UNGA</td>\n      <td>Unga Group Ltd</td>\n      <td>26.1</td>\n      <td>36.4</td>\n      <td>29</td>\n      <td>29</td>\n      <td>29</td>\n      <td>30</td>\n      <td>-1</td>\n      <td>3.33%</td>\n      <td>2,100</td>\n      <td>-</td>\n    </tr>\n    <tr>\n      <th>6729</th>\n      <td>31-May-22</td>\n      <td>SCOM</td>\n      <td>Safaricom Plc</td>\n      <td>25.5</td>\n      <td>45.25</td>\n      <td>25.95</td>\n      <td>26.45</td>\n      <td>26</td>\n      <td>26.25</td>\n      <td>-0.25</td>\n      <td>0.95%</td>\n      <td>20,079,900</td>\n      <td>-</td>\n    </tr>\n    <tr>\n      <th>6730</th>\n      <td>31-May-22</td>\n      <td>FAHR</td>\n      <td>Stanlib Fahari Income-REIT</td>\n      <td>5</td>\n      <td>7.48</td>\n      <td>5.5</td>\n      <td>5.6</td>\n      <td>5.56</td>\n      <td>5.58</td>\n      <td>-0.02</td>\n      <td>0.36%</td>\n      <td>11,700</td>\n      <td>-</td>\n    </tr>\n    <tr>\n      <th>6731</th>\n      <td>31-May-22</td>\n      <td>GLD</td>\n      <td>ABSA NewGold ETF</td>\n      <td>1,780.00</td>\n      <td>2,135.00</td>\n      <td>2,135.00</td>\n      <td>2,135.00</td>\n      <td>2,135.00</td>\n      <td>2,135.00</td>\n      <td>-</td>\n      <td>-</td>\n      <td>-</td>\n      <td>-</td>\n    </tr>\n  </tbody>\n</table>\n<p>6732 rows × 13 columns</p>\n</div>"
     },
     "execution_count": 16,
     "metadata": {},
     "output_type": "execute_result"
    }
   ],
   "source": [
    "nsc_data_frame = pd.read_csv(\"NSE_data_all_stocks_2022_jan_to_may (1).csv\")\n",
    "nsc_data_frame"
   ],
   "metadata": {
    "collapsed": false,
    "ExecuteTime": {
     "end_time": "2023-11-09T13:06:57.536527496Z",
     "start_time": "2023-11-09T13:06:57.283494284Z"
    }
   },
   "id": "643a221fdd673586"
  },
  {
   "cell_type": "code",
   "execution_count": 17,
   "id": "1065491407967dc4",
   "metadata": {
    "collapsed": false,
    "ExecuteTime": {
     "end_time": "2023-11-09T13:06:57.536952413Z",
     "start_time": "2023-11-09T13:06:57.363696225Z"
    }
   },
   "outputs": [],
   "source": [
    "#DATA  CLEANING  # nsc_data_frame.set_index(nsc_data_frame.Date, inplace=True) to update the index  of the dataframe.\n",
    "\n",
    "date_format = '%d-%b-%y'\n",
    "nsc_data_frame.Date = pd.to_datetime(nsc_data_frame['Date'], format=date_format)\n",
    "\n",
    "nsc_data_frame['Day_Name'] = nsc_data_frame['Date'].dt.day_name()\n",
    "\n",
    "nsc_data_frame = nsc_data_frame.drop(columns=['Change', 'Change%', 'Volume', 'Adjusted Price'])\n",
    "\n",
    "\n",
    "\n"
   ]
  },
  {
   "cell_type": "code",
   "execution_count": 18,
   "outputs": [
    {
     "data": {
      "text/plain": "<Figure size 640x480 with 1 Axes>",
      "image/png": "[encoded data removed]"
     },
     "metadata": {},
     "output_type": "display_data"
    }
   ],
   "source": [
    "# min_value = egad_data_frame['Day_Of_The_Week'].min()  ------ >> display(egad_data_frame.info())\n",
    "\n",
    "# SELECT THE 2ND COLUMN AND PLOT THE DAY PRICE AGAINST TIME\n",
    "\n",
    "plt.subplot(1, 2, 2)  \n",
    "price_column = pd.to_numeric(nsc_data_frame['Day Price'], errors='coerce')\n",
    "price_column[:50].plot()\n",
    "plt.title('Day Price Over Time')\n",
    "\n",
    "plt.tight_layout()  # To improve subplot spacing\n",
    "plt.show()\n",
    "\n",
    "# preprocessed_df['Date'] =pd.to_datetime(preprocessed_df['Date'])  plt.plot(preprocessed_df['Date'], preprocessed_df['Day Price'])\n"
   ],
   "metadata": {
    "collapsed": false,
    "ExecuteTime": {
     "end_time": "2023-11-09T13:06:57.794046274Z",
     "start_time": "2023-11-09T13:06:57.363829114Z"
    }
   },
   "id": "5960eac770fa6973"
  },
  {
   "cell_type": "code",
   "execution_count": 19,
   "outputs": [
    {
     "data": {
      "text/plain": "     Code  Day Price  Previous  Day High   Day Low  12m High  12m Low\n0    EGAD      13.50  0.846963  1.358279  0.877087  0.141421      0.0\n1    EGAD      12.85  0.846963 -0.389626 -0.318203  0.141421      0.0\n2    EGAD      12.85 -0.346526 -0.389626 -0.318203  0.141421      0.0\n3    EGAD      13.80 -0.346526  1.358279  1.428760  0.141421      0.0\n4    EGAD      13.80  1.397804  1.358279  1.428760  0.141421      0.0\n..    ...        ...       ...       ...       ...       ...      ...\n97   EGAD      13.45  0.755156  0.714314  0.785142  0.141421      0.0\n98   EGAD      13.45  0.755156  0.714314  0.785142  0.141421      0.0\n99   EGAD      13.45  0.755156  0.714314  0.785142  0.141421      0.0\n100  EGAD      13.45  0.755156  0.714314  0.785142 -7.071068      0.0\n101  EGAD      13.45  0.755156  0.714314  0.785142 -7.071068      0.0\n\n[102 rows x 7 columns]",
      "text/html": "<div>\n<style scoped>\n    .dataframe tbody tr th:only-of-type {\n        vertical-align: middle;\n    }\n\n    .dataframe tbody tr th {\n        vertical-align: top;\n    }\n\n    .dataframe thead th {\n        text-align: right;\n    }\n</style>\n<table border=\"1\" class=\"dataframe\">\n  <thead>\n    <tr style=\"text-align: right;\">\n      <th></th>\n      <th>Code</th>\n      <th>Day Price</th>\n      <th>Previous</th>\n      <th>Day High</th>\n      <th>Day Low</th>\n      <th>12m High</th>\n      <th>12m Low</th>\n    </tr>\n  </thead>\n  <tbody>\n    <tr>\n      <th>0</th>\n      <td>EGAD</td>\n      <td>13.50</td>\n      <td>0.846963</td>\n      <td>1.358279</td>\n      <td>0.877087</td>\n      <td>0.141421</td>\n      <td>0.0</td>\n    </tr>\n    <tr>\n      <th>1</th>\n      <td>EGAD</td>\n      <td>12.85</td>\n      <td>0.846963</td>\n      <td>-0.389626</td>\n      <td>-0.318203</td>\n      <td>0.141421</td>\n      <td>0.0</td>\n    </tr>\n    <tr>\n      <th>2</th>\n      <td>EGAD</td>\n      <td>12.85</td>\n      <td>-0.346526</td>\n      <td>-0.389626</td>\n      <td>-0.318203</td>\n      <td>0.141421</td>\n      <td>0.0</td>\n    </tr>\n    <tr>\n      <th>3</th>\n      <td>EGAD</td>\n      <td>13.80</td>\n      <td>-0.346526</td>\n      <td>1.358279</td>\n      <td>1.428760</td>\n      <td>0.141421</td>\n      <td>0.0</td>\n    </tr>\n    <tr>\n      <th>4</th>\n      <td>EGAD</td>\n      <td>13.80</td>\n      <td>1.397804</td>\n      <td>1.358279</td>\n      <td>1.428760</td>\n      <td>0.141421</td>\n      <td>0.0</td>\n    </tr>\n    <tr>\n      <th>...</th>\n      <td>...</td>\n      <td>...</td>\n      <td>...</td>\n      <td>...</td>\n      <td>...</td>\n      <td>...</td>\n      <td>...</td>\n    </tr>\n    <tr>\n      <th>97</th>\n      <td>EGAD</td>\n      <td>13.45</td>\n      <td>0.755156</td>\n      <td>0.714314</td>\n      <td>0.785142</td>\n      <td>0.141421</td>\n      <td>0.0</td>\n    </tr>\n    <tr>\n      <th>98</th>\n      <td>EGAD</td>\n      <td>13.45</td>\n      <td>0.755156</td>\n      <td>0.714314</td>\n      <td>0.785142</td>\n      <td>0.141421</td>\n      <td>0.0</td>\n    </tr>\n    <tr>\n      <th>99</th>\n      <td>EGAD</td>\n      <td>13.45</td>\n      <td>0.755156</td>\n      <td>0.714314</td>\n      <td>0.785142</td>\n      <td>0.141421</td>\n      <td>0.0</td>\n    </tr>\n    <tr>\n      <th>100</th>\n      <td>EGAD</td>\n      <td>13.45</td>\n      <td>0.755156</td>\n      <td>0.714314</td>\n      <td>0.785142</td>\n      <td>-7.071068</td>\n      <td>0.0</td>\n    </tr>\n    <tr>\n      <th>101</th>\n      <td>EGAD</td>\n      <td>13.45</td>\n      <td>0.755156</td>\n      <td>0.714314</td>\n      <td>0.785142</td>\n      <td>-7.071068</td>\n      <td>0.0</td>\n    </tr>\n  </tbody>\n</table>\n<p>102 rows × 7 columns</p>\n</div>"
     },
     "metadata": {},
     "output_type": "display_data"
    },
    {
     "data": {
      "text/plain": "     Day Price  Previous  Day High   Day Low  12m High  12m Low\n0        13.50  0.846963  1.358279  0.877087  0.141421      0.0\n1        12.85  0.846963 -0.389626 -0.318203  0.141421      0.0\n2        12.85 -0.346526 -0.389626 -0.318203  0.141421      0.0\n3        13.80 -0.346526  1.358279  1.428760  0.141421      0.0\n4        13.80  1.397804  1.358279  1.428760  0.141421      0.0\n..         ...       ...       ...       ...       ...      ...\n97       13.45  0.755156  0.714314  0.785142  0.141421      0.0\n98       13.45  0.755156  0.714314  0.785142  0.141421      0.0\n99       13.45  0.755156  0.714314  0.785142  0.141421      0.0\n100      13.45  0.755156  0.714314  0.785142 -7.071068      0.0\n101      13.45  0.755156  0.714314  0.785142 -7.071068      0.0\n\n[102 rows x 6 columns]",
      "text/html": "<div>\n<style scoped>\n    .dataframe tbody tr th:only-of-type {\n        vertical-align: middle;\n    }\n\n    .dataframe tbody tr th {\n        vertical-align: top;\n    }\n\n    .dataframe thead th {\n        text-align: right;\n    }\n</style>\n<table border=\"1\" class=\"dataframe\">\n  <thead>\n    <tr style=\"text-align: right;\">\n      <th></th>\n      <th>Day Price</th>\n      <th>Previous</th>\n      <th>Day High</th>\n      <th>Day Low</th>\n      <th>12m High</th>\n      <th>12m Low</th>\n    </tr>\n  </thead>\n  <tbody>\n    <tr>\n      <th>0</th>\n      <td>13.50</td>\n      <td>0.846963</td>\n      <td>1.358279</td>\n      <td>0.877087</td>\n      <td>0.141421</td>\n      <td>0.0</td>\n    </tr>\n    <tr>\n      <th>1</th>\n      <td>12.85</td>\n      <td>0.846963</td>\n      <td>-0.389626</td>\n      <td>-0.318203</td>\n      <td>0.141421</td>\n      <td>0.0</td>\n    </tr>\n    <tr>\n      <th>2</th>\n      <td>12.85</td>\n      <td>-0.346526</td>\n      <td>-0.389626</td>\n      <td>-0.318203</td>\n      <td>0.141421</td>\n      <td>0.0</td>\n    </tr>\n    <tr>\n      <th>3</th>\n      <td>13.80</td>\n      <td>-0.346526</td>\n      <td>1.358279</td>\n      <td>1.428760</td>\n      <td>0.141421</td>\n      <td>0.0</td>\n    </tr>\n    <tr>\n      <th>4</th>\n      <td>13.80</td>\n      <td>1.397804</td>\n      <td>1.358279</td>\n      <td>1.428760</td>\n      <td>0.141421</td>\n      <td>0.0</td>\n    </tr>\n    <tr>\n      <th>...</th>\n      <td>...</td>\n      <td>...</td>\n      <td>...</td>\n      <td>...</td>\n      <td>...</td>\n      <td>...</td>\n    </tr>\n    <tr>\n      <th>97</th>\n      <td>13.45</td>\n      <td>0.755156</td>\n      <td>0.714314</td>\n      <td>0.785142</td>\n      <td>0.141421</td>\n      <td>0.0</td>\n    </tr>\n    <tr>\n      <th>98</th>\n      <td>13.45</td>\n      <td>0.755156</td>\n      <td>0.714314</td>\n      <td>0.785142</td>\n      <td>0.141421</td>\n      <td>0.0</td>\n    </tr>\n    <tr>\n      <th>99</th>\n      <td>13.45</td>\n      <td>0.755156</td>\n      <td>0.714314</td>\n      <td>0.785142</td>\n      <td>0.141421</td>\n      <td>0.0</td>\n    </tr>\n    <tr>\n      <th>100</th>\n      <td>13.45</td>\n      <td>0.755156</td>\n      <td>0.714314</td>\n      <td>0.785142</td>\n      <td>-7.071068</td>\n      <td>0.0</td>\n    </tr>\n    <tr>\n      <th>101</th>\n      <td>13.45</td>\n      <td>0.755156</td>\n      <td>0.714314</td>\n      <td>0.785142</td>\n      <td>-7.071068</td>\n      <td>0.0</td>\n    </tr>\n  </tbody>\n</table>\n<p>102 rows × 6 columns</p>\n</div>"
     },
     "execution_count": 19,
     "metadata": {},
     "output_type": "execute_result"
    }
   ],
   "source": [
    "#Custom Data cleaner \n",
    "import random\n",
    "from sklearn.base import BaseEstimator, TransformerMixin\n",
    "from sklearn.preprocessing import StandardScaler\n",
    "from sklearn.pipeline import Pipeline\n",
    "from sklearn.compose import ColumnTransformer\n",
    "import pandas as pd\n",
    "\n",
    "nsc_scaler = StandardScaler()\n",
    "\n",
    "class NSCDataPreProcessor(BaseEstimator, TransformerMixin):\n",
    "    \n",
    "    def __init__(self,company_code ,to_type_cast, to_scale, to_return):\n",
    "        self.company_code = company_code        \n",
    "        self.to_type_cast= to_type_cast \n",
    "        self.to_return= to_return \n",
    "        self.to_scale=to_scale  #same as  columns_to_type_cast but has the company code.\n",
    "        \n",
    "        \n",
    "    def __type_cast_and_scale_xyz_df(self, xyz_data_frame):\n",
    "        for column_name in self.to_type_cast:\n",
    "            xyz_data_frame[column_name] = pd.to_numeric(xyz_data_frame[column_name], errors='coerce')\n",
    "        xyz_data_frame[self.to_scale] = nsc_scaler.fit_transform(xyz_data_frame[self.to_scale])\n",
    "        \n",
    "        \n",
    "        return xyz_data_frame[self.to_return]\n",
    "    \n",
    "    def fit(self, X, y=None):\n",
    "        return self\n",
    "       \n",
    "\n",
    "    def transform(self, X):   \n",
    "        \"\"\"\n",
    "        X - NSC dataFrame\n",
    "        Selects the data for one company , then names it xyz_company_data_frame \n",
    "        NB: Scaler always return columns that are assignable to the dataframe.        \n",
    "        \"\"\"        \n",
    "        \n",
    "        xyz_company_data_frame = nsc_data_frame[nsc_data_frame['Code'] == self.company_code].reset_index(drop=True)\n",
    "        type_converted_xyz_company_df = self.__type_cast_and_scale_xyz_df(\n",
    "            xyz_company_data_frame       \n",
    "        )\n",
    "        \n",
    "        return type_converted_xyz_company_df\n",
    "    \n",
    "# 'Code','Day Price','Day High', 'Day High', '12m High', '12m Low' , 'Day Price','Day High', 'Day High', '12m High', '12m Low'\n",
    "\n",
    "random_company_code = random.choice(nsc_data_frame.Code)\n",
    "    \n",
    "__data_scaler = NSCDataPreProcessor(\n",
    "    company_code= 'EGAD',\n",
    "    to_type_cast=['Day Price','Day High', 'Day Low', '12m High', '12m Low'],\n",
    "    to_scale=[ 'Previous','Day High', 'Day Low', '12m High', '12m Low'],\n",
    "    to_return=['Code','Day Price','Previous','Day High', 'Day Low', '12m High', '12m Low'], \n",
    ")\n",
    "\n",
    "xyz_preprocessed_df = __data_scaler.fit_transform(\n",
    "    nsc_data_frame,    \n",
    ")\n",
    "display(xyz_preprocessed_df)\n",
    "\n",
    "preprocessed_df = xyz_preprocessed_df.drop(columns=['Code'])\n",
    "preprocessed_df\n",
    "    "
   ],
   "metadata": {
    "collapsed": false,
    "ExecuteTime": {
     "end_time": "2023-11-09T13:06:57.870735614Z",
     "start_time": "2023-11-09T13:06:57.793767998Z"
    }
   },
   "id": "b0d826223e0086e8"
  },
  {
   "cell_type": "code",
   "execution_count": 20,
   "outputs": [
    {
     "data": {
      "text/plain": "     Day Price\n0        13.50\n1        12.85\n2        12.85\n3        13.80\n4        13.80\n..         ...\n97       13.45\n98       13.45\n99       13.45\n100      13.45\n101      13.45\n\n[102 rows x 1 columns]",
      "text/html": "<div>\n<style scoped>\n    .dataframe tbody tr th:only-of-type {\n        vertical-align: middle;\n    }\n\n    .dataframe tbody tr th {\n        vertical-align: top;\n    }\n\n    .dataframe thead th {\n        text-align: right;\n    }\n</style>\n<table border=\"1\" class=\"dataframe\">\n  <thead>\n    <tr style=\"text-align: right;\">\n      <th></th>\n      <th>Day Price</th>\n    </tr>\n  </thead>\n  <tbody>\n    <tr>\n      <th>0</th>\n      <td>13.50</td>\n    </tr>\n    <tr>\n      <th>1</th>\n      <td>12.85</td>\n    </tr>\n    <tr>\n      <th>2</th>\n      <td>12.85</td>\n    </tr>\n    <tr>\n      <th>3</th>\n      <td>13.80</td>\n    </tr>\n    <tr>\n      <th>4</th>\n      <td>13.80</td>\n    </tr>\n    <tr>\n      <th>...</th>\n      <td>...</td>\n    </tr>\n    <tr>\n      <th>97</th>\n      <td>13.45</td>\n    </tr>\n    <tr>\n      <th>98</th>\n      <td>13.45</td>\n    </tr>\n    <tr>\n      <th>99</th>\n      <td>13.45</td>\n    </tr>\n    <tr>\n      <th>100</th>\n      <td>13.45</td>\n    </tr>\n    <tr>\n      <th>101</th>\n      <td>13.45</td>\n    </tr>\n  </tbody>\n</table>\n<p>102 rows × 1 columns</p>\n</div>"
     },
     "metadata": {},
     "output_type": "display_data"
    },
    {
     "data": {
      "text/plain": "   Previous  Day High   Day Low  12m High  12m Low\n0  0.846963  1.358279  0.877087  0.141421      0.0\n1  0.846963 -0.389626 -0.318203  0.141421      0.0\n2 -0.346526 -0.389626 -0.318203  0.141421      0.0\n3 -0.346526  1.358279  1.428760  0.141421      0.0\n4  1.397804  1.358279  1.428760  0.141421      0.0",
      "text/html": "<div>\n<style scoped>\n    .dataframe tbody tr th:only-of-type {\n        vertical-align: middle;\n    }\n\n    .dataframe tbody tr th {\n        vertical-align: top;\n    }\n\n    .dataframe thead th {\n        text-align: right;\n    }\n</style>\n<table border=\"1\" class=\"dataframe\">\n  <thead>\n    <tr style=\"text-align: right;\">\n      <th></th>\n      <th>Previous</th>\n      <th>Day High</th>\n      <th>Day Low</th>\n      <th>12m High</th>\n      <th>12m Low</th>\n    </tr>\n  </thead>\n  <tbody>\n    <tr>\n      <th>0</th>\n      <td>0.846963</td>\n      <td>1.358279</td>\n      <td>0.877087</td>\n      <td>0.141421</td>\n      <td>0.0</td>\n    </tr>\n    <tr>\n      <th>1</th>\n      <td>0.846963</td>\n      <td>-0.389626</td>\n      <td>-0.318203</td>\n      <td>0.141421</td>\n      <td>0.0</td>\n    </tr>\n    <tr>\n      <th>2</th>\n      <td>-0.346526</td>\n      <td>-0.389626</td>\n      <td>-0.318203</td>\n      <td>0.141421</td>\n      <td>0.0</td>\n    </tr>\n    <tr>\n      <th>3</th>\n      <td>-0.346526</td>\n      <td>1.358279</td>\n      <td>1.428760</td>\n      <td>0.141421</td>\n      <td>0.0</td>\n    </tr>\n    <tr>\n      <th>4</th>\n      <td>1.397804</td>\n      <td>1.358279</td>\n      <td>1.428760</td>\n      <td>0.141421</td>\n      <td>0.0</td>\n    </tr>\n  </tbody>\n</table>\n</div>"
     },
     "execution_count": 20,
     "metadata": {},
     "output_type": "execute_result"
    }
   ],
   "source": [
    "output_var = pd.DataFrame(preprocessed_df['Day Price'])\n",
    "features = ['Previous','Day High', 'Day Low', '12m High', '12m Low']\n",
    "\n",
    "\n",
    "scaler = MinMaxScaler()\n",
    "feature_transform =  preprocessed_df[features]\n",
    "feature_transform= pd.DataFrame(columns=features, data=feature_transform, index=preprocessed_df.index)\n",
    "display(output_var)\n",
    "feature_transform.head()\n"
   ],
   "metadata": {
    "collapsed": false,
    "ExecuteTime": {
     "end_time": "2023-11-09T13:06:57.872268551Z",
     "start_time": "2023-11-09T13:06:57.851169831Z"
    }
   },
   "id": "eb9a272b4c023acb"
  },
  {
   "cell_type": "code",
   "execution_count": 21,
   "outputs": [
    {
     "name": "stdout",
     "output_type": "stream",
     "text": [
      "X_Data shape :  (97, 5, 6)\n",
      "Y_Data shape :  (97, 1)\n"
     ]
    }
   ],
   "source": [
    "def __generate_x_y_from_nsc_df(__data_frame , time_step=5):\n",
    "    data_array = __data_frame.to_numpy()\n",
    "    X = []\n",
    "    y = []\n",
    "    for i in range(len(data_array)-time_step):\n",
    "        \n",
    "        rows = data_array[i : i + time_step]  #Select 5 rows in each and every iteration\n",
    "        zipped_rows = [row for row in rows]  \n",
    "        \n",
    "        label = data_array[i + time_step][0] # Select the sixth row and the first column in that row . NB: Anything that is separated by [] makes rows and not columns .\n",
    "        X.append(zipped_rows)\n",
    "        y.append(label)\n",
    "        \n",
    "    return np.array(X).astype(np.float32), np.array(y).astype(np.float32).reshape(-1,1)\n",
    "\n",
    "X_data, Y_classes = __generate_x_y_from_nsc_df(preprocessed_df , time_step=5)\n",
    "\n",
    "print(\"X_Data shape : \",X_data.shape)\n",
    "print(\"Y_Data shape : \",Y_classes.shape)\n",
    "\n"
   ],
   "metadata": {
    "collapsed": false,
    "ExecuteTime": {
     "end_time": "2023-11-09T13:06:57.943235632Z",
     "start_time": "2023-11-09T13:06:57.868752989Z"
    }
   },
   "id": "e33550cdf7baa772"
  },
  {
   "cell_type": "code",
   "execution_count": 22,
   "outputs": [
    {
     "data": {
      "text/plain": "((77, 5, 6), (77, 1), (20, 5, 6), (20, 1))"
     },
     "execution_count": 22,
     "metadata": {},
     "output_type": "execute_result"
    }
   ],
   "source": [
    "\n",
    "#++++++++++++++++++++++++++++++++++++++++++   SPLITTING DATA +++++++++++++++++++++++++++++++++++++++++++++++++++++++++++++++++++++++++#\n",
    "\n",
    "def dynamic_data_split(X, y, ratio_train):\n",
    "    \"\"\"\n",
    "    Splits data and labels into training, validation, and test sets.\n",
    "\n",
    "    Args:\n",
    "        X (a 3D numpy.ndarray): Data.\n",
    "        y (numpy.ndarray): Labels.\n",
    "        ratio_train (float): Ratio for training data.\n",
    "\n",
    "    Returns:\n",
    "        tuple: (X_train, y_train, X_val, y_val, X_test, y_test).\n",
    "    \"\"\"\n",
    "    total_samples = X.shape[0]\n",
    "\n",
    "    train_samples = int(ratio_train * total_samples)\n",
    "    \n",
    "\n",
    "    X_train, y_train = X[:train_samples], y[:train_samples]\n",
    "    X_test, y_test = X[train_samples:], y[train_samples:]\n",
    "\n",
    "    return X_train, y_train, X_test, y_test\n",
    "\n",
    "\n",
    "train_ratio = 0.8\n",
    "test_ratio = 0.2\n",
    "\n",
    "X_train, y_train, X_test, y_test = dynamic_data_split(X_data,Y_classes , train_ratio)\n",
    "\n",
    "X_train.shape,y_train.shape, X_test.shape, y_test.shape"
   ],
   "metadata": {
    "collapsed": false,
    "ExecuteTime": {
     "end_time": "2023-11-09T13:06:57.984229884Z",
     "start_time": "2023-11-09T13:06:57.887558421Z"
    }
   },
   "id": "3aa3b30d485d3075"
  },
  {
   "cell_type": "code",
   "execution_count": 23,
   "outputs": [
    {
     "name": "stdout",
     "output_type": "stream",
     "text": [
      "Model: \"sequential_1\"\n",
      "_________________________________________________________________\n",
      " Layer (type)                Output Shape              Param #   \n",
      "=================================================================\n",
      " lstm_2 (LSTM)               (None, 5, 100)            42800     \n",
      "                                                                 \n",
      " dropout_2 (Dropout)         (None, 5, 100)            0         \n",
      "                                                                 \n",
      " lstm_3 (LSTM)               (None, 100)               80400     \n",
      "                                                                 \n",
      " dropout_3 (Dropout)         (None, 100)               0         \n",
      "                                                                 \n",
      " dense_1 (Dense)             (None, 1)                 101       \n",
      "                                                                 \n",
      "=================================================================\n",
      "Total params: 123301 (481.64 KB)\n",
      "Trainable params: 123301 (481.64 KB)\n",
      "Non-trainable params: 0 (0.00 Byte)\n",
      "_________________________________________________________________\n"
     ]
    }
   ],
   "source": [
    "input_shape = (X_train.shape[1], X_train.shape[2])\n",
    "lstm = Sequential()\n",
    "lstm.add(LSTM(100, input_shape=input_shape, activation='relu', return_sequences=True))\n",
    "lstm.add(Dropout(.2))\n",
    "lstm.add(LSTM(100, activation='relu', return_sequences=False))\n",
    "lstm.add(Dropout(.2))\n",
    "lstm.add(Dense(2))\n",
    "\n",
    "lstm.compile(loss=MeanSquaredError(), \n",
    "              optimizer=Adam(),\n",
    "              metrics=[RootMeanSquaredError()])\n",
    "\n",
    "lstm.summary()\n"
   ],
   "metadata": {
    "collapsed": false,
    "ExecuteTime": {
     "end_time": "2023-11-09T13:06:58.460885033Z",
     "start_time": "2023-11-09T13:06:57.927769020Z"
    }
   },
   "id": "5c5310e19d43c6f7"
  },
  {
   "cell_type": "code",
   "execution_count": 24,
   "outputs": [
    {
     "name": "stdout",
     "output_type": "stream",
     "text": [
      "Epoch 1/200\n",
      "10/10 [==============================] - 3s 10ms/step - loss: 132.4659 - root_mean_squared_error: 11.5094\n",
      "Epoch 2/200\n",
      "10/10 [==============================] - 0s 7ms/step - loss: 23.8518 - root_mean_squared_error: 4.8838\n",
      "Epoch 3/200\n",
      "10/10 [==============================] - 0s 8ms/step - loss: 12.2659 - root_mean_squared_error: 3.5023\n",
      "Epoch 4/200\n",
      "10/10 [==============================] - 0s 7ms/step - loss: 3.8193 - root_mean_squared_error: 1.9543\n",
      "Epoch 5/200\n",
      "10/10 [==============================] - 0s 7ms/step - loss: 4.8222 - root_mean_squared_error: 2.1959\n",
      "Epoch 6/200\n",
      "10/10 [==============================] - 0s 7ms/step - loss: 4.7724 - root_mean_squared_error: 2.1846\n",
      "Epoch 7/200\n",
      "10/10 [==============================] - 0s 7ms/step - loss: 2.9647 - root_mean_squared_error: 1.7218\n",
      "Epoch 8/200\n",
      "10/10 [==============================] - 0s 7ms/step - loss: 2.7937 - root_mean_squared_error: 1.6714\n",
      "Epoch 9/200\n",
      "10/10 [==============================] - 0s 7ms/step - loss: 2.2600 - root_mean_squared_error: 1.5033\n",
      "Epoch 10/200\n",
      "10/10 [==============================] - 0s 7ms/step - loss: 2.7992 - root_mean_squared_error: 1.6731\n",
      "Epoch 11/200\n",
      "10/10 [==============================] - 0s 7ms/step - loss: 2.8910 - root_mean_squared_error: 1.7003\n",
      "Epoch 12/200\n",
      "10/10 [==============================] - 0s 7ms/step - loss: 2.9811 - root_mean_squared_error: 1.7266\n",
      "Epoch 13/200\n",
      "10/10 [==============================] - 0s 7ms/step - loss: 2.6321 - root_mean_squared_error: 1.6224\n",
      "Epoch 14/200\n",
      "10/10 [==============================] - 0s 7ms/step - loss: 2.1442 - root_mean_squared_error: 1.4643\n",
      "Epoch 15/200\n",
      "10/10 [==============================] - 0s 13ms/step - loss: 2.5646 - root_mean_squared_error: 1.6014\n",
      "Epoch 16/200\n",
      "10/10 [==============================] - 0s 7ms/step - loss: 2.2725 - root_mean_squared_error: 1.5075\n",
      "Epoch 17/200\n",
      "10/10 [==============================] - 0s 7ms/step - loss: 2.3812 - root_mean_squared_error: 1.5431\n",
      "Epoch 18/200\n",
      "10/10 [==============================] - 0s 7ms/step - loss: 3.8086 - root_mean_squared_error: 1.9516\n",
      "Epoch 19/200\n",
      "10/10 [==============================] - 0s 7ms/step - loss: 3.2803 - root_mean_squared_error: 1.8112\n",
      "Epoch 20/200\n",
      "10/10 [==============================] - 0s 11ms/step - loss: 2.9784 - root_mean_squared_error: 1.7258\n",
      "Epoch 21/200\n",
      "10/10 [==============================] - 0s 7ms/step - loss: 4.8861 - root_mean_squared_error: 2.2105\n",
      "Epoch 22/200\n",
      "10/10 [==============================] - 0s 7ms/step - loss: 3.0009 - root_mean_squared_error: 1.7323\n",
      "Epoch 23/200\n",
      "10/10 [==============================] - 0s 7ms/step - loss: 2.6122 - root_mean_squared_error: 1.6162\n",
      "Epoch 24/200\n",
      "10/10 [==============================] - 0s 7ms/step - loss: 3.0470 - root_mean_squared_error: 1.7456\n",
      "Epoch 25/200\n",
      "10/10 [==============================] - 0s 7ms/step - loss: 2.3811 - root_mean_squared_error: 1.5431\n",
      "Epoch 26/200\n",
      "10/10 [==============================] - 0s 7ms/step - loss: 2.7992 - root_mean_squared_error: 1.6731\n",
      "Epoch 27/200\n",
      "10/10 [==============================] - 0s 7ms/step - loss: 2.3023 - root_mean_squared_error: 1.5173\n",
      "Epoch 28/200\n",
      "10/10 [==============================] - 0s 8ms/step - loss: 1.7479 - root_mean_squared_error: 1.3221\n",
      "Epoch 29/200\n",
      "10/10 [==============================] - 0s 7ms/step - loss: 2.7762 - root_mean_squared_error: 1.6662\n",
      "Epoch 30/200\n",
      "10/10 [==============================] - 0s 7ms/step - loss: 1.4540 - root_mean_squared_error: 1.2058\n",
      "Epoch 31/200\n",
      "10/10 [==============================] - 0s 7ms/step - loss: 1.5333 - root_mean_squared_error: 1.2383\n",
      "Epoch 32/200\n",
      "10/10 [==============================] - 0s 7ms/step - loss: 1.4556 - root_mean_squared_error: 1.2065\n",
      "Epoch 33/200\n",
      "10/10 [==============================] - 0s 7ms/step - loss: 2.1042 - root_mean_squared_error: 1.4506\n",
      "Epoch 34/200\n",
      "10/10 [==============================] - 0s 7ms/step - loss: 1.6937 - root_mean_squared_error: 1.3014\n",
      "Epoch 35/200\n",
      "10/10 [==============================] - 0s 8ms/step - loss: 1.6855 - root_mean_squared_error: 1.2983\n",
      "Epoch 36/200\n",
      "10/10 [==============================] - 0s 7ms/step - loss: 2.3259 - root_mean_squared_error: 1.5251\n",
      "Epoch 37/200\n",
      "10/10 [==============================] - 0s 7ms/step - loss: 1.5204 - root_mean_squared_error: 1.2331\n",
      "Epoch 38/200\n",
      "10/10 [==============================] - 0s 7ms/step - loss: 1.5715 - root_mean_squared_error: 1.2536\n",
      "Epoch 39/200\n",
      "10/10 [==============================] - 0s 7ms/step - loss: 2.1816 - root_mean_squared_error: 1.4770\n",
      "Epoch 40/200\n",
      "10/10 [==============================] - 0s 7ms/step - loss: 1.9210 - root_mean_squared_error: 1.3860\n",
      "Epoch 41/200\n",
      "10/10 [==============================] - 0s 7ms/step - loss: 2.2312 - root_mean_squared_error: 1.4937\n",
      "Epoch 42/200\n",
      "10/10 [==============================] - 0s 7ms/step - loss: 2.1456 - root_mean_squared_error: 1.4648\n",
      "Epoch 43/200\n",
      "10/10 [==============================] - 0s 7ms/step - loss: 1.8953 - root_mean_squared_error: 1.3767\n",
      "Epoch 44/200\n",
      "10/10 [==============================] - 0s 7ms/step - loss: 2.7571 - root_mean_squared_error: 1.6605\n",
      "Epoch 45/200\n",
      "10/10 [==============================] - 0s 7ms/step - loss: 1.7212 - root_mean_squared_error: 1.3120\n",
      "Epoch 46/200\n",
      "10/10 [==============================] - 0s 7ms/step - loss: 1.7043 - root_mean_squared_error: 1.3055\n",
      "Epoch 47/200\n",
      "10/10 [==============================] - 0s 7ms/step - loss: 1.5914 - root_mean_squared_error: 1.2615\n",
      "Epoch 48/200\n",
      "10/10 [==============================] - 0s 7ms/step - loss: 2.0382 - root_mean_squared_error: 1.4277\n",
      "Epoch 49/200\n",
      "10/10 [==============================] - 0s 7ms/step - loss: 1.5802 - root_mean_squared_error: 1.2571\n",
      "Epoch 50/200\n",
      "10/10 [==============================] - 0s 7ms/step - loss: 1.5399 - root_mean_squared_error: 1.2409\n",
      "Epoch 51/200\n",
      "10/10 [==============================] - 0s 8ms/step - loss: 1.2143 - root_mean_squared_error: 1.1020\n",
      "Epoch 52/200\n",
      "10/10 [==============================] - 0s 7ms/step - loss: 1.7236 - root_mean_squared_error: 1.3129\n",
      "Epoch 53/200\n",
      "10/10 [==============================] - 0s 8ms/step - loss: 2.1713 - root_mean_squared_error: 1.4735\n",
      "Epoch 54/200\n",
      "10/10 [==============================] - 0s 7ms/step - loss: 1.5473 - root_mean_squared_error: 1.2439\n",
      "Epoch 55/200\n",
      "10/10 [==============================] - 0s 8ms/step - loss: 1.2865 - root_mean_squared_error: 1.1342\n",
      "Epoch 56/200\n",
      "10/10 [==============================] - 0s 7ms/step - loss: 1.8127 - root_mean_squared_error: 1.3464\n",
      "Epoch 57/200\n",
      "10/10 [==============================] - 0s 7ms/step - loss: 1.4027 - root_mean_squared_error: 1.1844\n",
      "Epoch 58/200\n",
      "10/10 [==============================] - 0s 7ms/step - loss: 1.7269 - root_mean_squared_error: 1.3141\n",
      "Epoch 59/200\n",
      "10/10 [==============================] - 0s 7ms/step - loss: 1.0795 - root_mean_squared_error: 1.0390\n",
      "Epoch 60/200\n",
      "10/10 [==============================] - 0s 7ms/step - loss: 1.2514 - root_mean_squared_error: 1.1187\n",
      "Epoch 61/200\n",
      "10/10 [==============================] - 0s 7ms/step - loss: 1.5233 - root_mean_squared_error: 1.2342\n",
      "Epoch 62/200\n",
      "10/10 [==============================] - 0s 7ms/step - loss: 1.7574 - root_mean_squared_error: 1.3257\n",
      "Epoch 63/200\n",
      "10/10 [==============================] - 0s 7ms/step - loss: 1.5307 - root_mean_squared_error: 1.2372\n",
      "Epoch 64/200\n",
      "10/10 [==============================] - 0s 7ms/step - loss: 1.6183 - root_mean_squared_error: 1.2721\n",
      "Epoch 65/200\n",
      "10/10 [==============================] - 0s 7ms/step - loss: 0.9955 - root_mean_squared_error: 0.9977\n",
      "Epoch 66/200\n",
      "10/10 [==============================] - 0s 8ms/step - loss: 1.1416 - root_mean_squared_error: 1.0684\n",
      "Epoch 67/200\n",
      "10/10 [==============================] - 0s 7ms/step - loss: 1.2099 - root_mean_squared_error: 1.1000\n",
      "Epoch 68/200\n",
      "10/10 [==============================] - 0s 8ms/step - loss: 1.1785 - root_mean_squared_error: 1.0856\n",
      "Epoch 69/200\n",
      "10/10 [==============================] - 0s 7ms/step - loss: 1.5507 - root_mean_squared_error: 1.2453\n",
      "Epoch 70/200\n",
      "10/10 [==============================] - 0s 7ms/step - loss: 1.2978 - root_mean_squared_error: 1.1392\n",
      "Epoch 71/200\n",
      "10/10 [==============================] - 0s 7ms/step - loss: 1.2850 - root_mean_squared_error: 1.1336\n",
      "Epoch 72/200\n",
      "10/10 [==============================] - 0s 7ms/step - loss: 1.3320 - root_mean_squared_error: 1.1541\n",
      "Epoch 73/200\n",
      "10/10 [==============================] - 0s 7ms/step - loss: 1.5226 - root_mean_squared_error: 1.2340\n",
      "Epoch 74/200\n",
      "10/10 [==============================] - 0s 7ms/step - loss: 1.4946 - root_mean_squared_error: 1.2225\n",
      "Epoch 75/200\n",
      "10/10 [==============================] - 0s 7ms/step - loss: 1.5079 - root_mean_squared_error: 1.2280\n",
      "Epoch 76/200\n",
      "10/10 [==============================] - 0s 7ms/step - loss: 1.4036 - root_mean_squared_error: 1.1848\n",
      "Epoch 77/200\n",
      "10/10 [==============================] - 0s 7ms/step - loss: 1.2657 - root_mean_squared_error: 1.1250\n",
      "Epoch 78/200\n",
      "10/10 [==============================] - 0s 7ms/step - loss: 1.5290 - root_mean_squared_error: 1.2365\n",
      "Epoch 79/200\n",
      "10/10 [==============================] - 0s 7ms/step - loss: 1.3119 - root_mean_squared_error: 1.1454\n",
      "Epoch 80/200\n",
      "10/10 [==============================] - 0s 7ms/step - loss: 1.3200 - root_mean_squared_error: 1.1489\n",
      "Epoch 81/200\n",
      "10/10 [==============================] - 0s 8ms/step - loss: 1.1744 - root_mean_squared_error: 1.0837\n",
      "Epoch 82/200\n",
      "10/10 [==============================] - 0s 8ms/step - loss: 1.0401 - root_mean_squared_error: 1.0199\n",
      "Epoch 83/200\n",
      "10/10 [==============================] - 0s 8ms/step - loss: 1.0642 - root_mean_squared_error: 1.0316\n",
      "Epoch 84/200\n",
      "10/10 [==============================] - 0s 7ms/step - loss: 1.9157 - root_mean_squared_error: 1.3841\n",
      "Epoch 85/200\n",
      "10/10 [==============================] - 0s 7ms/step - loss: 1.5937 - root_mean_squared_error: 1.2624\n",
      "Epoch 86/200\n",
      "10/10 [==============================] - 0s 7ms/step - loss: 1.3189 - root_mean_squared_error: 1.1484\n",
      "Epoch 87/200\n",
      "10/10 [==============================] - 0s 7ms/step - loss: 1.4910 - root_mean_squared_error: 1.2211\n",
      "Epoch 88/200\n",
      "10/10 [==============================] - 0s 8ms/step - loss: 1.5501 - root_mean_squared_error: 1.2450\n",
      "Epoch 89/200\n",
      "10/10 [==============================] - 0s 7ms/step - loss: 1.1830 - root_mean_squared_error: 1.0876\n",
      "Epoch 90/200\n",
      "10/10 [==============================] - 0s 7ms/step - loss: 1.0749 - root_mean_squared_error: 1.0368\n",
      "Epoch 91/200\n",
      "10/10 [==============================] - 0s 7ms/step - loss: 1.6208 - root_mean_squared_error: 1.2731\n",
      "Epoch 92/200\n",
      "10/10 [==============================] - 0s 7ms/step - loss: 1.2525 - root_mean_squared_error: 1.1191\n",
      "Epoch 93/200\n",
      "10/10 [==============================] - 0s 7ms/step - loss: 0.8616 - root_mean_squared_error: 0.9282\n",
      "Epoch 94/200\n",
      "10/10 [==============================] - 0s 8ms/step - loss: 1.1822 - root_mean_squared_error: 1.0873\n",
      "Epoch 95/200\n",
      "10/10 [==============================] - 0s 7ms/step - loss: 1.1987 - root_mean_squared_error: 1.0949\n",
      "Epoch 96/200\n",
      "10/10 [==============================] - 0s 7ms/step - loss: 1.0461 - root_mean_squared_error: 1.0228\n",
      "Epoch 97/200\n",
      "10/10 [==============================] - 0s 8ms/step - loss: 1.1482 - root_mean_squared_error: 1.0715\n",
      "Epoch 98/200\n",
      "10/10 [==============================] - 0s 7ms/step - loss: 0.9617 - root_mean_squared_error: 0.9807\n",
      "Epoch 99/200\n",
      "10/10 [==============================] - 0s 7ms/step - loss: 1.1082 - root_mean_squared_error: 1.0527\n",
      "Epoch 100/200\n",
      "10/10 [==============================] - 0s 7ms/step - loss: 0.8239 - root_mean_squared_error: 0.9077\n",
      "Epoch 101/200\n",
      "10/10 [==============================] - 0s 8ms/step - loss: 1.3219 - root_mean_squared_error: 1.1497\n",
      "Epoch 102/200\n",
      "10/10 [==============================] - 0s 7ms/step - loss: 1.0996 - root_mean_squared_error: 1.0486\n",
      "Epoch 103/200\n",
      "10/10 [==============================] - 0s 7ms/step - loss: 1.2176 - root_mean_squared_error: 1.1034\n",
      "Epoch 104/200\n",
      "10/10 [==============================] - 0s 7ms/step - loss: 1.1649 - root_mean_squared_error: 1.0793\n",
      "Epoch 105/200\n",
      "10/10 [==============================] - 0s 8ms/step - loss: 0.8569 - root_mean_squared_error: 0.9257\n",
      "Epoch 106/200\n",
      "10/10 [==============================] - 0s 7ms/step - loss: 1.4056 - root_mean_squared_error: 1.1856\n",
      "Epoch 107/200\n",
      "10/10 [==============================] - 0s 8ms/step - loss: 1.3775 - root_mean_squared_error: 1.1737\n",
      "Epoch 108/200\n",
      "10/10 [==============================] - 0s 7ms/step - loss: 0.8288 - root_mean_squared_error: 0.9104\n",
      "Epoch 109/200\n",
      "10/10 [==============================] - 0s 7ms/step - loss: 1.3118 - root_mean_squared_error: 1.1453\n",
      "Epoch 110/200\n",
      "10/10 [==============================] - 0s 7ms/step - loss: 1.3898 - root_mean_squared_error: 1.1789\n",
      "Epoch 111/200\n",
      "10/10 [==============================] - 0s 7ms/step - loss: 1.0376 - root_mean_squared_error: 1.0187\n",
      "Epoch 112/200\n",
      "10/10 [==============================] - 0s 7ms/step - loss: 1.1321 - root_mean_squared_error: 1.0640\n",
      "Epoch 113/200\n",
      "10/10 [==============================] - 0s 7ms/step - loss: 1.0923 - root_mean_squared_error: 1.0451\n",
      "Epoch 114/200\n",
      "10/10 [==============================] - 0s 8ms/step - loss: 1.1983 - root_mean_squared_error: 1.0947\n",
      "Epoch 115/200\n",
      "10/10 [==============================] - 0s 7ms/step - loss: 1.7884 - root_mean_squared_error: 1.3373\n",
      "Epoch 116/200\n",
      "10/10 [==============================] - 0s 8ms/step - loss: 1.5816 - root_mean_squared_error: 1.2576\n",
      "Epoch 117/200\n",
      "10/10 [==============================] - 0s 8ms/step - loss: 1.0414 - root_mean_squared_error: 1.0205\n",
      "Epoch 118/200\n",
      "10/10 [==============================] - 0s 8ms/step - loss: 0.9589 - root_mean_squared_error: 0.9792\n",
      "Epoch 119/200\n",
      "10/10 [==============================] - 0s 7ms/step - loss: 1.0709 - root_mean_squared_error: 1.0349\n",
      "Epoch 120/200\n",
      "10/10 [==============================] - 0s 8ms/step - loss: 1.1012 - root_mean_squared_error: 1.0494\n",
      "Epoch 121/200\n",
      "10/10 [==============================] - 0s 8ms/step - loss: 1.0860 - root_mean_squared_error: 1.0421\n",
      "Epoch 122/200\n",
      "10/10 [==============================] - 0s 8ms/step - loss: 0.9373 - root_mean_squared_error: 0.9681\n",
      "Epoch 123/200\n",
      "10/10 [==============================] - 0s 7ms/step - loss: 1.2704 - root_mean_squared_error: 1.1271\n",
      "Epoch 124/200\n",
      "10/10 [==============================] - 0s 8ms/step - loss: 1.1478 - root_mean_squared_error: 1.0714\n",
      "Epoch 125/200\n",
      "10/10 [==============================] - 0s 7ms/step - loss: 1.2256 - root_mean_squared_error: 1.1071\n",
      "Epoch 126/200\n",
      "10/10 [==============================] - 0s 7ms/step - loss: 1.2506 - root_mean_squared_error: 1.1183\n",
      "Epoch 127/200\n",
      "10/10 [==============================] - 0s 7ms/step - loss: 1.0982 - root_mean_squared_error: 1.0479\n",
      "Epoch 128/200\n",
      "10/10 [==============================] - 0s 7ms/step - loss: 1.4795 - root_mean_squared_error: 1.2164\n",
      "Epoch 129/200\n",
      "10/10 [==============================] - 0s 7ms/step - loss: 0.9767 - root_mean_squared_error: 0.9883\n",
      "Epoch 130/200\n",
      "10/10 [==============================] - 0s 8ms/step - loss: 1.4025 - root_mean_squared_error: 1.1843\n",
      "Epoch 131/200\n",
      "10/10 [==============================] - 0s 7ms/step - loss: 0.8817 - root_mean_squared_error: 0.9390\n",
      "Epoch 132/200\n",
      "10/10 [==============================] - 0s 7ms/step - loss: 1.0584 - root_mean_squared_error: 1.0288\n",
      "Epoch 133/200\n",
      "10/10 [==============================] - 0s 8ms/step - loss: 1.3311 - root_mean_squared_error: 1.1537\n",
      "Epoch 134/200\n",
      "10/10 [==============================] - 0s 7ms/step - loss: 1.0888 - root_mean_squared_error: 1.0434\n",
      "Epoch 135/200\n",
      "10/10 [==============================] - 0s 7ms/step - loss: 1.0931 - root_mean_squared_error: 1.0455\n",
      "Epoch 136/200\n",
      "10/10 [==============================] - 0s 7ms/step - loss: 1.1760 - root_mean_squared_error: 1.0844\n",
      "Epoch 137/200\n",
      "10/10 [==============================] - 0s 7ms/step - loss: 1.2512 - root_mean_squared_error: 1.1186\n",
      "Epoch 138/200\n",
      "10/10 [==============================] - 0s 7ms/step - loss: 1.1941 - root_mean_squared_error: 1.0927\n",
      "Epoch 139/200\n",
      "10/10 [==============================] - 0s 7ms/step - loss: 0.8568 - root_mean_squared_error: 0.9256\n",
      "Epoch 140/200\n",
      "10/10 [==============================] - 0s 8ms/step - loss: 1.0547 - root_mean_squared_error: 1.0270\n",
      "Epoch 141/200\n",
      "10/10 [==============================] - 0s 7ms/step - loss: 0.9778 - root_mean_squared_error: 0.9888\n",
      "Epoch 142/200\n",
      "10/10 [==============================] - 0s 7ms/step - loss: 1.9067 - root_mean_squared_error: 1.3808\n",
      "Epoch 143/200\n",
      "10/10 [==============================] - 0s 7ms/step - loss: 0.7981 - root_mean_squared_error: 0.8934\n",
      "Epoch 144/200\n",
      "10/10 [==============================] - 0s 7ms/step - loss: 0.8694 - root_mean_squared_error: 0.9324\n",
      "Epoch 145/200\n",
      "10/10 [==============================] - 0s 7ms/step - loss: 0.8611 - root_mean_squared_error: 0.9280\n",
      "Epoch 146/200\n",
      "10/10 [==============================] - 0s 7ms/step - loss: 1.0833 - root_mean_squared_error: 1.0408\n",
      "Epoch 147/200\n",
      "10/10 [==============================] - 0s 7ms/step - loss: 1.1456 - root_mean_squared_error: 1.0703\n",
      "Epoch 148/200\n",
      "10/10 [==============================] - 0s 7ms/step - loss: 0.9044 - root_mean_squared_error: 0.9510\n",
      "Epoch 149/200\n",
      "10/10 [==============================] - 0s 7ms/step - loss: 0.9545 - root_mean_squared_error: 0.9770\n",
      "Epoch 150/200\n",
      "10/10 [==============================] - 0s 7ms/step - loss: 0.9435 - root_mean_squared_error: 0.9713\n",
      "Epoch 151/200\n",
      "10/10 [==============================] - 0s 7ms/step - loss: 1.1460 - root_mean_squared_error: 1.0705\n",
      "Epoch 152/200\n",
      "10/10 [==============================] - 0s 7ms/step - loss: 1.3297 - root_mean_squared_error: 1.1531\n",
      "Epoch 153/200\n",
      "10/10 [==============================] - 0s 7ms/step - loss: 1.4629 - root_mean_squared_error: 1.2095\n",
      "Epoch 154/200\n",
      "10/10 [==============================] - 0s 8ms/step - loss: 1.0573 - root_mean_squared_error: 1.0283\n",
      "Epoch 155/200\n",
      "10/10 [==============================] - 0s 7ms/step - loss: 0.9961 - root_mean_squared_error: 0.9980\n",
      "Epoch 156/200\n",
      "10/10 [==============================] - 0s 7ms/step - loss: 1.3326 - root_mean_squared_error: 1.1544\n",
      "Epoch 157/200\n",
      "10/10 [==============================] - 0s 8ms/step - loss: 0.9262 - root_mean_squared_error: 0.9624\n",
      "Epoch 158/200\n",
      "10/10 [==============================] - 0s 7ms/step - loss: 0.6376 - root_mean_squared_error: 0.7985\n",
      "Epoch 159/200\n",
      "10/10 [==============================] - 0s 8ms/step - loss: 1.1586 - root_mean_squared_error: 1.0764\n",
      "Epoch 160/200\n",
      "10/10 [==============================] - 0s 8ms/step - loss: 0.9706 - root_mean_squared_error: 0.9852\n",
      "Epoch 161/200\n",
      "10/10 [==============================] - 0s 7ms/step - loss: 1.4202 - root_mean_squared_error: 1.1917\n",
      "Epoch 162/200\n",
      "10/10 [==============================] - 0s 7ms/step - loss: 1.2689 - root_mean_squared_error: 1.1265\n",
      "Epoch 163/200\n",
      "10/10 [==============================] - 0s 7ms/step - loss: 1.0212 - root_mean_squared_error: 1.0105\n",
      "Epoch 164/200\n",
      "10/10 [==============================] - 0s 7ms/step - loss: 1.3955 - root_mean_squared_error: 1.1813\n",
      "Epoch 165/200\n",
      "10/10 [==============================] - 0s 7ms/step - loss: 1.1040 - root_mean_squared_error: 1.0507\n",
      "Epoch 166/200\n",
      "10/10 [==============================] - 0s 8ms/step - loss: 1.0782 - root_mean_squared_error: 1.0384\n",
      "Epoch 167/200\n",
      "10/10 [==============================] - 0s 7ms/step - loss: 1.4941 - root_mean_squared_error: 1.2223\n",
      "Epoch 168/200\n",
      "10/10 [==============================] - 0s 7ms/step - loss: 1.0151 - root_mean_squared_error: 1.0075\n",
      "Epoch 169/200\n",
      "10/10 [==============================] - 0s 8ms/step - loss: 0.9533 - root_mean_squared_error: 0.9764\n",
      "Epoch 170/200\n",
      "10/10 [==============================] - 0s 7ms/step - loss: 1.2412 - root_mean_squared_error: 1.1141\n",
      "Epoch 171/200\n",
      "10/10 [==============================] - 0s 7ms/step - loss: 1.0903 - root_mean_squared_error: 1.0442\n",
      "Epoch 172/200\n",
      "10/10 [==============================] - 0s 7ms/step - loss: 0.8613 - root_mean_squared_error: 0.9280\n",
      "Epoch 173/200\n",
      "10/10 [==============================] - 0s 7ms/step - loss: 1.7105 - root_mean_squared_error: 1.3079\n",
      "Epoch 174/200\n",
      "10/10 [==============================] - 0s 7ms/step - loss: 1.1298 - root_mean_squared_error: 1.0629\n",
      "Epoch 175/200\n",
      "10/10 [==============================] - 0s 7ms/step - loss: 0.9819 - root_mean_squared_error: 0.9909\n",
      "Epoch 176/200\n",
      "10/10 [==============================] - 0s 7ms/step - loss: 0.6794 - root_mean_squared_error: 0.8242\n",
      "Epoch 177/200\n",
      "10/10 [==============================] - 0s 7ms/step - loss: 0.8755 - root_mean_squared_error: 0.9357\n",
      "Epoch 178/200\n",
      "10/10 [==============================] - 0s 7ms/step - loss: 0.8271 - root_mean_squared_error: 0.9094\n",
      "Epoch 179/200\n",
      "10/10 [==============================] - 0s 8ms/step - loss: 0.9471 - root_mean_squared_error: 0.9732\n",
      "Epoch 180/200\n",
      "10/10 [==============================] - 0s 7ms/step - loss: 1.2605 - root_mean_squared_error: 1.1227\n",
      "Epoch 181/200\n",
      "10/10 [==============================] - 0s 7ms/step - loss: 1.1290 - root_mean_squared_error: 1.0626\n",
      "Epoch 182/200\n",
      "10/10 [==============================] - 0s 7ms/step - loss: 0.8658 - root_mean_squared_error: 0.9305\n",
      "Epoch 183/200\n",
      "10/10 [==============================] - 0s 7ms/step - loss: 0.9064 - root_mean_squared_error: 0.9521\n",
      "Epoch 184/200\n",
      "10/10 [==============================] - 0s 7ms/step - loss: 1.2370 - root_mean_squared_error: 1.1122\n",
      "Epoch 185/200\n",
      "10/10 [==============================] - 0s 7ms/step - loss: 0.7313 - root_mean_squared_error: 0.8551\n",
      "Epoch 186/200\n",
      "10/10 [==============================] - 0s 8ms/step - loss: 1.5994 - root_mean_squared_error: 1.2647\n",
      "Epoch 187/200\n",
      "10/10 [==============================] - 0s 7ms/step - loss: 1.1734 - root_mean_squared_error: 1.0832\n",
      "Epoch 188/200\n",
      "10/10 [==============================] - 0s 7ms/step - loss: 0.8249 - root_mean_squared_error: 0.9082\n",
      "Epoch 189/200\n",
      "10/10 [==============================] - 0s 7ms/step - loss: 1.0668 - root_mean_squared_error: 1.0329\n",
      "Epoch 190/200\n",
      "10/10 [==============================] - 0s 7ms/step - loss: 1.1292 - root_mean_squared_error: 1.0626\n",
      "Epoch 191/200\n",
      "10/10 [==============================] - 0s 8ms/step - loss: 0.9245 - root_mean_squared_error: 0.9615\n",
      "Epoch 192/200\n",
      "10/10 [==============================] - 0s 7ms/step - loss: 0.9511 - root_mean_squared_error: 0.9752\n",
      "Epoch 193/200\n",
      "10/10 [==============================] - 0s 7ms/step - loss: 0.8775 - root_mean_squared_error: 0.9368\n",
      "Epoch 194/200\n",
      "10/10 [==============================] - 0s 7ms/step - loss: 1.1321 - root_mean_squared_error: 1.0640\n",
      "Epoch 195/200\n",
      "10/10 [==============================] - 0s 7ms/step - loss: 1.3860 - root_mean_squared_error: 1.1773\n",
      "Epoch 196/200\n",
      "10/10 [==============================] - 0s 7ms/step - loss: 1.1683 - root_mean_squared_error: 1.0809\n",
      "Epoch 197/200\n",
      "10/10 [==============================] - 0s 8ms/step - loss: 1.4596 - root_mean_squared_error: 1.2081\n",
      "Epoch 198/200\n",
      "10/10 [==============================] - 0s 7ms/step - loss: 0.9908 - root_mean_squared_error: 0.9954\n",
      "Epoch 199/200\n",
      "10/10 [==============================] - 0s 8ms/step - loss: 1.1455 - root_mean_squared_error: 1.0703\n",
      "Epoch 200/200\n",
      "10/10 [==============================] - 0s 7ms/step - loss: 0.9719 - root_mean_squared_error: 0.9859\n"
     ]
    }
   ],
   "source": [
    "history=lstm.fit(X_train, y_train, epochs=200, batch_size=8, verbose=1, shuffle=False)"
   ],
   "metadata": {
    "collapsed": false,
    "ExecuteTime": {
     "end_time": "2023-11-09T13:07:22.080735945Z",
     "start_time": "2023-11-09T13:06:58.383814648Z"
    }
   },
   "id": "c62a500d396bf45c"
  },
  {
   "cell_type": "code",
   "execution_count": 25,
   "outputs": [
    {
     "name": "stdout",
     "output_type": "stream",
     "text": [
      "1/1 [==============================] - 0s 250ms/step\n",
      "(20, 5, 6)\n",
      "(20, 1)\n"
     ]
    },
    {
     "data": {
      "text/plain": "<Figure size 640x480 with 1 Axes>",
      "image/png": "[encoded data removed]"
     },
     "metadata": {},
     "output_type": "display_data"
    },
    {
     "data": {
      "text/plain": "array([[11.45],\n       [11.4 ],\n       [11.5 ],\n       [11.5 ],\n       [12.  ],\n       [12.  ],\n       [13.1 ],\n       [13.1 ],\n       [13.1 ],\n       [13.1 ],\n       [13.1 ],\n       [13.1 ],\n       [12.3 ],\n       [13.45],\n       [13.45],\n       [13.45],\n       [13.45],\n       [13.45],\n       [13.45],\n       [13.45]], dtype=float32)"
     },
     "execution_count": 25,
     "metadata": {},
     "output_type": "execute_result"
    }
   ],
   "source": [
    "predicted_stock_prices= lstm.predict(X_test)\n",
    "print(X_test.shape)\n",
    "print(y_test.shape)\n",
    "\n",
    "plt.plot(y_test, color = 'red', label = 'Actual Stock Price')\n",
    "plt.plot(predicted_stock_prices, color = 'green', label = 'Predicted Stock Price')\n",
    "plt.title(random_company_code + ' Stock Price Prediction')\n",
    "plt.xlabel('Time')\n",
    "plt.ylabel('Stock Price')\n",
    "plt.legend()\n",
    "plt.show()\n",
    "\n",
    "\n",
    "y_test\n",
    "\n",
    "\n",
    "#TPSE  giving the best results .\n",
    "\n"
   ],
   "metadata": {
    "collapsed": false,
    "ExecuteTime": {
     "end_time": "2023-11-09T13:07:22.677865184Z",
     "start_time": "2023-11-09T13:07:22.086469546Z"
    }
   },
   "id": "da2950b7bf9475b0"
  },
  {
   "cell_type": "markdown",
   "source": [],
   "metadata": {
    "collapsed": false
   },
   "id": "13acbe3f5248e749"
  },
  {
   "cell_type": "code",
   "execution_count": 26,
   "outputs": [
    {
     "data": {
      "text/plain": "    Actual Stock Prices  Predicted Stock Prices\n0                 11.45               11.950978\n1                 11.40               11.467816\n2                 11.50               11.646730\n3                 11.50               11.809241\n4                 12.00               11.984648\n5                 12.00               12.304159\n6                 13.10               11.742619\n7                 13.10               11.993486\n8                 13.10               12.071781\n9                 13.10               12.099143\n10                13.10               12.161791\n11                13.10               12.187126\n12                12.30               12.222849\n13                13.45               11.958984\n14                13.45               12.253156\n15                13.45               12.319057\n16                13.45               12.420143\n17                13.45               12.553001\n18                13.45               12.380200\n19                13.45               12.377947",
      "text/html": "<div>\n<style scoped>\n    .dataframe tbody tr th:only-of-type {\n        vertical-align: middle;\n    }\n\n    .dataframe tbody tr th {\n        vertical-align: top;\n    }\n\n    .dataframe thead th {\n        text-align: right;\n    }\n</style>\n<table border=\"1\" class=\"dataframe\">\n  <thead>\n    <tr style=\"text-align: right;\">\n      <th></th>\n      <th>Actual Stock Prices</th>\n      <th>Predicted Stock Prices</th>\n    </tr>\n  </thead>\n  <tbody>\n    <tr>\n      <th>0</th>\n      <td>11.45</td>\n      <td>11.950978</td>\n    </tr>\n    <tr>\n      <th>1</th>\n      <td>11.40</td>\n      <td>11.467816</td>\n    </tr>\n    <tr>\n      <th>2</th>\n      <td>11.50</td>\n      <td>11.646730</td>\n    </tr>\n    <tr>\n      <th>3</th>\n      <td>11.50</td>\n      <td>11.809241</td>\n    </tr>\n    <tr>\n      <th>4</th>\n      <td>12.00</td>\n      <td>11.984648</td>\n    </tr>\n    <tr>\n      <th>5</th>\n      <td>12.00</td>\n      <td>12.304159</td>\n    </tr>\n    <tr>\n      <th>6</th>\n      <td>13.10</td>\n      <td>11.742619</td>\n    </tr>\n    <tr>\n      <th>7</th>\n      <td>13.10</td>\n      <td>11.993486</td>\n    </tr>\n    <tr>\n      <th>8</th>\n      <td>13.10</td>\n      <td>12.071781</td>\n    </tr>\n    <tr>\n      <th>9</th>\n      <td>13.10</td>\n      <td>12.099143</td>\n    </tr>\n    <tr>\n      <th>10</th>\n      <td>13.10</td>\n      <td>12.161791</td>\n    </tr>\n    <tr>\n      <th>11</th>\n      <td>13.10</td>\n      <td>12.187126</td>\n    </tr>\n    <tr>\n      <th>12</th>\n      <td>12.30</td>\n      <td>12.222849</td>\n    </tr>\n    <tr>\n      <th>13</th>\n      <td>13.45</td>\n      <td>11.958984</td>\n    </tr>\n    <tr>\n      <th>14</th>\n      <td>13.45</td>\n      <td>12.253156</td>\n    </tr>\n    <tr>\n      <th>15</th>\n      <td>13.45</td>\n      <td>12.319057</td>\n    </tr>\n    <tr>\n      <th>16</th>\n      <td>13.45</td>\n      <td>12.420143</td>\n    </tr>\n    <tr>\n      <th>17</th>\n      <td>13.45</td>\n      <td>12.553001</td>\n    </tr>\n    <tr>\n      <th>18</th>\n      <td>13.45</td>\n      <td>12.380200</td>\n    </tr>\n    <tr>\n      <th>19</th>\n      <td>13.45</td>\n      <td>12.377947</td>\n    </tr>\n  </tbody>\n</table>\n</div>"
     },
     "execution_count": 26,
     "metadata": {},
     "output_type": "execute_result"
    }
   ],
   "source": [
    "test_df = pd.DataFrame(data={'Actual Stock Prices':y_test.flatten(),'Predicted Stock Prices':predicted_stock_prices.flatten()})\n",
    "test_df"
   ],
   "metadata": {
    "collapsed": false,
    "ExecuteTime": {
     "end_time": "2023-11-09T13:07:22.692431957Z",
     "start_time": "2023-11-09T13:07:22.687208263Z"
    }
   },
   "id": "3b47a3156a2b9bf9"
  },
  {
   "cell_type": "code",
   "execution_count": 27,
   "outputs": [
    {
     "data": {
      "text/plain": "<Figure size 600x400 with 1 Axes>",
      "image/png": "[encoded data removed]"
     },
     "metadata": {},
     "output_type": "display_data"
    }
   ],
   "source": [
    "from sklearn.metrics import confusion_matrix\n",
    "import seaborn as sns \n",
    "\n",
    "predicted_stock_prices = predicted_stock_prices.flatten()\n",
    "y_test = y_test.flatten()\n",
    "\n",
    "threshold = 0.2  # Adjust the threshold based on your problem\n",
    "\n",
    "absolute_difference = np.abs(predicted_stock_prices - y_test)\n",
    "\n",
    "binary_predictions = (absolute_difference <= threshold).astype(int)\n",
    "\n",
    "y_ones = np.ones_like(y_test)\n",
    "\n",
    "cm = confusion_matrix(y_ones, binary_predictions)\n",
    "\n",
    "plt.figure(figsize=(6, 4))\n",
    "sns.heatmap(cm, annot=True, fmt='d', cmap='Blues', linewidths=.5, square=True, cbar=False)\n",
    "plt.xlabel('Predicted')\n",
    "plt.ylabel('True')\n",
    "plt.show()\n",
    "\n"
   ],
   "metadata": {
    "collapsed": false,
    "ExecuteTime": {
     "end_time": "2023-11-09T13:07:22.981091491Z",
     "start_time": "2023-11-09T13:07:22.705958722Z"
    }
   },
   "id": "4d083a0229d28185"
  },
  {
   "cell_type": "code",
   "execution_count": 28,
   "outputs": [
    {
     "name": "stdout",
     "output_type": "stream",
     "text": [
      "Accuracy: 0.2\n",
      "Recall: 1.0\n",
      "F1 Score: 0.33333333333333337\n"
     ]
    }
   ],
   "source": [
    "from sklearn.metrics import confusion_matrix, accuracy_score, recall_score, f1_score\n",
    "\n",
    "confusion_matrix_data = [[90, 5],  # True Negative (TN), False Positive (FP)\n",
    "                         [10, 85]]  # False Negative (FN), True Positive (TP)\n",
    "\n",
    "\n",
    "actual_prices, predicted_stock_prices = binary_predictions, y_ones\n",
    "\n",
    "\n",
    "accuracy = accuracy_score(actual_prices, predicted_stock_prices)\n",
    "\n",
    "recall = recall_score(actual_prices, predicted_stock_prices)\n",
    "\n",
    "f1 = f1_score(actual_prices, predicted_stock_prices)\n",
    "\n",
    "print(\"Accuracy:\", accuracy)\n",
    "print(\"Recall:\", recall)\n",
    "print(\"F1 Score:\", f1)\n"
   ],
   "metadata": {
    "collapsed": false,
    "ExecuteTime": {
     "end_time": "2023-11-09T13:07:22.981563070Z",
     "start_time": "2023-11-09T13:07:22.935722199Z"
    }
   },
   "id": "5e030970b53d02fd"
  }
 ],
 "metadata": {
  "kernelspec": {
   "display_name": "Python 3 (ipykernel)",
   "language": "python",
   "name": "python3"
  },
  "language_info": {
   "codemirror_mode": {
    "name": "ipython",
    "version": 3
   },
   "file_extension": ".py",
   "mimetype": "text/x-python",
   "name": "python",
   "nbconvert_exporter": "python",
   "pygments_lexer": "ipython3",
   "version": "3.10.12"
  }
 },
 "nbformat": 4,
 "nbformat_minor": 5
}
