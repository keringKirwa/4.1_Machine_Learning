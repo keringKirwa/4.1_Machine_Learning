{
 "cells": [
  {
   "cell_type": "code",
   "execution_count": 130,
   "id": "initial_id",
   "metadata": {
    "ExecuteTime": {
     "end_time": "2023-11-02T19:24:09.416135225Z",
     "start_time": "2023-11-02T19:24:09.325687537Z"
    }
   },
   "outputs": [],
   "source": [
    "from sklearn.model_selection import train_test_split\n",
    "import tensorflow as tf\n",
    "from keras.models import Sequential\n",
    "from keras.layers import LSTM, Dense, Input, InputLayer, Dropout\n",
    "\n",
    "import pandas as pd\n",
    "import numpy as np\n",
    "\n",
    "np.random.seed(42)\n",
    "\n",
    "import os\n",
    "import tensorflow as tf\n",
    "\n",
    "#DATA NORMALIZATION(STANDARDISATION)\n",
    "from sklearn.preprocessing import MinMaxScaler\n",
    "\n",
    "#DATA PLOTTING\n",
    "import matplotlib.pyplot as plt\n",
    "\n",
    "#FOR PERFORMANCE METRICS ANALYSIS.\n",
    "from keras.optimizers import Adam\n",
    "from keras.losses import  MeanSquaredError\n",
    "from keras.metrics import  RootMeanSquaredError\n",
    "\n",
    "#SAVING AND LOADING MODEL\n",
    "from keras.callbacks import ModelCheckpoint\n",
    "from keras.models import load_model\n"
   ]
  },
  {
   "cell_type": "code",
   "execution_count": 131,
   "outputs": [
    {
     "data": {
      "text/plain": "           Date  Code                        Name   12m Low  12m High  \\\n0      3-Jan-22  EGAD                 Eaagads Ltd        10        15   \n1      3-Jan-22  KUKZ                  Kakuzi Plc       355       427   \n2      3-Jan-22  KAPC     Kapchorua Tea Kenya Plc        80       101   \n3      3-Jan-22  LIMT              Limuru Tea Plc       260       360   \n4      3-Jan-22  SASN                  Sasini Plc     16.75      22.6   \n...         ...   ...                         ...       ...       ...   \n6727  31-May-22   MSC    Mumias Sugar Company Ltd      0.27      0.27   \n6728  31-May-22  UNGA              Unga Group Ltd      26.1      36.4   \n6729  31-May-22  SCOM               Safaricom Plc      25.5     45.25   \n6730  31-May-22  FAHR  Stanlib Fahari Income-REIT         5      7.48   \n6731  31-May-22   GLD            ABSA NewGold ETF  1,780.00  2,135.00   \n\n       Day Low  Day High Day Price  Previous Change Change%      Volume  \\\n0         13.5      13.8      13.5      13.5      -       -       4,000   \n1          385       385       385       385      -       -           -   \n2         99.5      99.5      99.5      95.5      4   4.19%         100   \n3          320       320       320       320      -       -           -   \n4         18.7      18.7      18.7      18.7      -       -           -   \n...        ...       ...       ...       ...    ...     ...         ...   \n6727      0.27      0.27      0.27      0.27      -       -           -   \n6728        29        29        29        30     -1   3.33%       2,100   \n6729     25.95     26.45        26     26.25  -0.25   0.95%  20,079,900   \n6730       5.5       5.6      5.56      5.58  -0.02   0.36%      11,700   \n6731  2,135.00  2,135.00  2,135.00  2,135.00      -       -           -   \n\n     Adjusted Price  \n0                 -  \n1                 -  \n2                 -  \n3                 -  \n4                 -  \n...             ...  \n6727              -  \n6728              -  \n6729              -  \n6730              -  \n6731              -  \n\n[6732 rows x 13 columns]",
      "text/html": "<div>\n<style scoped>\n    .dataframe tbody tr th:only-of-type {\n        vertical-align: middle;\n    }\n\n    .dataframe tbody tr th {\n        vertical-align: top;\n    }\n\n    .dataframe thead th {\n        text-align: right;\n    }\n</style>\n<table border=\"1\" class=\"dataframe\">\n  <thead>\n    <tr style=\"text-align: right;\">\n      <th></th>\n      <th>Date</th>\n      <th>Code</th>\n      <th>Name</th>\n      <th>12m Low</th>\n      <th>12m High</th>\n      <th>Day Low</th>\n      <th>Day High</th>\n      <th>Day Price</th>\n      <th>Previous</th>\n      <th>Change</th>\n      <th>Change%</th>\n      <th>Volume</th>\n      <th>Adjusted Price</th>\n    </tr>\n  </thead>\n  <tbody>\n    <tr>\n      <th>0</th>\n      <td>3-Jan-22</td>\n      <td>EGAD</td>\n      <td>Eaagads Ltd</td>\n      <td>10</td>\n      <td>15</td>\n      <td>13.5</td>\n      <td>13.8</td>\n      <td>13.5</td>\n      <td>13.5</td>\n      <td>-</td>\n      <td>-</td>\n      <td>4,000</td>\n      <td>-</td>\n    </tr>\n    <tr>\n      <th>1</th>\n      <td>3-Jan-22</td>\n      <td>KUKZ</td>\n      <td>Kakuzi Plc</td>\n      <td>355</td>\n      <td>427</td>\n      <td>385</td>\n      <td>385</td>\n      <td>385</td>\n      <td>385</td>\n      <td>-</td>\n      <td>-</td>\n      <td>-</td>\n      <td>-</td>\n    </tr>\n    <tr>\n      <th>2</th>\n      <td>3-Jan-22</td>\n      <td>KAPC</td>\n      <td>Kapchorua Tea Kenya Plc</td>\n      <td>80</td>\n      <td>101</td>\n      <td>99.5</td>\n      <td>99.5</td>\n      <td>99.5</td>\n      <td>95.5</td>\n      <td>4</td>\n      <td>4.19%</td>\n      <td>100</td>\n      <td>-</td>\n    </tr>\n    <tr>\n      <th>3</th>\n      <td>3-Jan-22</td>\n      <td>LIMT</td>\n      <td>Limuru Tea Plc</td>\n      <td>260</td>\n      <td>360</td>\n      <td>320</td>\n      <td>320</td>\n      <td>320</td>\n      <td>320</td>\n      <td>-</td>\n      <td>-</td>\n      <td>-</td>\n      <td>-</td>\n    </tr>\n    <tr>\n      <th>4</th>\n      <td>3-Jan-22</td>\n      <td>SASN</td>\n      <td>Sasini Plc</td>\n      <td>16.75</td>\n      <td>22.6</td>\n      <td>18.7</td>\n      <td>18.7</td>\n      <td>18.7</td>\n      <td>18.7</td>\n      <td>-</td>\n      <td>-</td>\n      <td>-</td>\n      <td>-</td>\n    </tr>\n    <tr>\n      <th>...</th>\n      <td>...</td>\n      <td>...</td>\n      <td>...</td>\n      <td>...</td>\n      <td>...</td>\n      <td>...</td>\n      <td>...</td>\n      <td>...</td>\n      <td>...</td>\n      <td>...</td>\n      <td>...</td>\n      <td>...</td>\n      <td>...</td>\n    </tr>\n    <tr>\n      <th>6727</th>\n      <td>31-May-22</td>\n      <td>MSC</td>\n      <td>Mumias Sugar Company Ltd</td>\n      <td>0.27</td>\n      <td>0.27</td>\n      <td>0.27</td>\n      <td>0.27</td>\n      <td>0.27</td>\n      <td>0.27</td>\n      <td>-</td>\n      <td>-</td>\n      <td>-</td>\n      <td>-</td>\n    </tr>\n    <tr>\n      <th>6728</th>\n      <td>31-May-22</td>\n      <td>UNGA</td>\n      <td>Unga Group Ltd</td>\n      <td>26.1</td>\n      <td>36.4</td>\n      <td>29</td>\n      <td>29</td>\n      <td>29</td>\n      <td>30</td>\n      <td>-1</td>\n      <td>3.33%</td>\n      <td>2,100</td>\n      <td>-</td>\n    </tr>\n    <tr>\n      <th>6729</th>\n      <td>31-May-22</td>\n      <td>SCOM</td>\n      <td>Safaricom Plc</td>\n      <td>25.5</td>\n      <td>45.25</td>\n      <td>25.95</td>\n      <td>26.45</td>\n      <td>26</td>\n      <td>26.25</td>\n      <td>-0.25</td>\n      <td>0.95%</td>\n      <td>20,079,900</td>\n      <td>-</td>\n    </tr>\n    <tr>\n      <th>6730</th>\n      <td>31-May-22</td>\n      <td>FAHR</td>\n      <td>Stanlib Fahari Income-REIT</td>\n      <td>5</td>\n      <td>7.48</td>\n      <td>5.5</td>\n      <td>5.6</td>\n      <td>5.56</td>\n      <td>5.58</td>\n      <td>-0.02</td>\n      <td>0.36%</td>\n      <td>11,700</td>\n      <td>-</td>\n    </tr>\n    <tr>\n      <th>6731</th>\n      <td>31-May-22</td>\n      <td>GLD</td>\n      <td>ABSA NewGold ETF</td>\n      <td>1,780.00</td>\n      <td>2,135.00</td>\n      <td>2,135.00</td>\n      <td>2,135.00</td>\n      <td>2,135.00</td>\n      <td>2,135.00</td>\n      <td>-</td>\n      <td>-</td>\n      <td>-</td>\n      <td>-</td>\n    </tr>\n  </tbody>\n</table>\n<p>6732 rows × 13 columns</p>\n</div>"
     },
     "execution_count": 131,
     "metadata": {},
     "output_type": "execute_result"
    }
   ],
   "source": [
    "nsc_data_frame = pd.read_csv(\"NSE_data_all_stocks_2022_jan_to_may (1).csv\")\n",
    "nsc_data_frame"
   ],
   "metadata": {
    "collapsed": false,
    "ExecuteTime": {
     "end_time": "2023-11-02T19:24:09.417585081Z",
     "start_time": "2023-11-02T19:24:09.369793477Z"
    }
   },
   "id": "643a221fdd673586"
  },
  {
   "cell_type": "code",
   "execution_count": 132,
   "id": "1065491407967dc4",
   "metadata": {
    "collapsed": false,
    "ExecuteTime": {
     "end_time": "2023-11-02T19:24:09.504015078Z",
     "start_time": "2023-11-02T19:24:09.405152941Z"
    }
   },
   "outputs": [
    {
     "data": {
      "text/plain": "        Date  Code                            Name 12m Low 12m High Day Low  \\\n0 2022-01-03  EGAD                     Eaagads Ltd      10       15    13.5   \n1 2022-01-03  KUKZ                      Kakuzi Plc     355      427     385   \n2 2022-01-03  KAPC         Kapchorua Tea Kenya Plc      80      101    99.5   \n3 2022-01-03  LIMT                  Limuru Tea Plc     260      360     320   \n4 2022-01-03  SASN                      Sasini Plc   16.75     22.6    18.7   \n5 2022-01-03   WTK        Williamson Tea Kenya Plc     125   154.75     132   \n6 2022-01-03  CGEN         Car and General (K) Ltd      10       70   33.95   \n7 2022-01-03  ABSA             ABSA Bank Kenya Plc     8.6    12.95    11.6   \n8 2022-01-03   BKG                    BK Group Plc    24.3       40      29   \n9 2022-01-03  COOP  Co-operative Bank of Kenya Ltd    11.5       14    12.9   \n\n  Day High Day Price Previous  Day_Of_The_Week Day_Name  Day_Sin  Day_Cos  \n0     13.8      13.5     13.5                0   Monday      0.0      1.0  \n1      385       385      385                0   Monday      0.0      1.0  \n2     99.5      99.5     95.5                0   Monday      0.0      1.0  \n3      320       320      320                0   Monday      0.0      1.0  \n4     18.7      18.7     18.7                0   Monday      0.0      1.0  \n5      132       132      130                0   Monday      0.0      1.0  \n6    33.95     33.95    33.95                0   Monday      0.0      1.0  \n7     11.9     11.75    11.85                0   Monday      0.0      1.0  \n8       29        29       29                0   Monday      0.0      1.0  \n9     13.5        13    12.95                0   Monday      0.0      1.0  ",
      "text/html": "<div>\n<style scoped>\n    .dataframe tbody tr th:only-of-type {\n        vertical-align: middle;\n    }\n\n    .dataframe tbody tr th {\n        vertical-align: top;\n    }\n\n    .dataframe thead th {\n        text-align: right;\n    }\n</style>\n<table border=\"1\" class=\"dataframe\">\n  <thead>\n    <tr style=\"text-align: right;\">\n      <th></th>\n      <th>Date</th>\n      <th>Code</th>\n      <th>Name</th>\n      <th>12m Low</th>\n      <th>12m High</th>\n      <th>Day Low</th>\n      <th>Day High</th>\n      <th>Day Price</th>\n      <th>Previous</th>\n      <th>Day_Of_The_Week</th>\n      <th>Day_Name</th>\n      <th>Day_Sin</th>\n      <th>Day_Cos</th>\n    </tr>\n  </thead>\n  <tbody>\n    <tr>\n      <th>0</th>\n      <td>2022-01-03</td>\n      <td>EGAD</td>\n      <td>Eaagads Ltd</td>\n      <td>10</td>\n      <td>15</td>\n      <td>13.5</td>\n      <td>13.8</td>\n      <td>13.5</td>\n      <td>13.5</td>\n      <td>0</td>\n      <td>Monday</td>\n      <td>0.0</td>\n      <td>1.0</td>\n    </tr>\n    <tr>\n      <th>1</th>\n      <td>2022-01-03</td>\n      <td>KUKZ</td>\n      <td>Kakuzi Plc</td>\n      <td>355</td>\n      <td>427</td>\n      <td>385</td>\n      <td>385</td>\n      <td>385</td>\n      <td>385</td>\n      <td>0</td>\n      <td>Monday</td>\n      <td>0.0</td>\n      <td>1.0</td>\n    </tr>\n    <tr>\n      <th>2</th>\n      <td>2022-01-03</td>\n      <td>KAPC</td>\n      <td>Kapchorua Tea Kenya Plc</td>\n      <td>80</td>\n      <td>101</td>\n      <td>99.5</td>\n      <td>99.5</td>\n      <td>99.5</td>\n      <td>95.5</td>\n      <td>0</td>\n      <td>Monday</td>\n      <td>0.0</td>\n      <td>1.0</td>\n    </tr>\n    <tr>\n      <th>3</th>\n      <td>2022-01-03</td>\n      <td>LIMT</td>\n      <td>Limuru Tea Plc</td>\n      <td>260</td>\n      <td>360</td>\n      <td>320</td>\n      <td>320</td>\n      <td>320</td>\n      <td>320</td>\n      <td>0</td>\n      <td>Monday</td>\n      <td>0.0</td>\n      <td>1.0</td>\n    </tr>\n    <tr>\n      <th>4</th>\n      <td>2022-01-03</td>\n      <td>SASN</td>\n      <td>Sasini Plc</td>\n      <td>16.75</td>\n      <td>22.6</td>\n      <td>18.7</td>\n      <td>18.7</td>\n      <td>18.7</td>\n      <td>18.7</td>\n      <td>0</td>\n      <td>Monday</td>\n      <td>0.0</td>\n      <td>1.0</td>\n    </tr>\n    <tr>\n      <th>5</th>\n      <td>2022-01-03</td>\n      <td>WTK</td>\n      <td>Williamson Tea Kenya Plc</td>\n      <td>125</td>\n      <td>154.75</td>\n      <td>132</td>\n      <td>132</td>\n      <td>132</td>\n      <td>130</td>\n      <td>0</td>\n      <td>Monday</td>\n      <td>0.0</td>\n      <td>1.0</td>\n    </tr>\n    <tr>\n      <th>6</th>\n      <td>2022-01-03</td>\n      <td>CGEN</td>\n      <td>Car and General (K) Ltd</td>\n      <td>10</td>\n      <td>70</td>\n      <td>33.95</td>\n      <td>33.95</td>\n      <td>33.95</td>\n      <td>33.95</td>\n      <td>0</td>\n      <td>Monday</td>\n      <td>0.0</td>\n      <td>1.0</td>\n    </tr>\n    <tr>\n      <th>7</th>\n      <td>2022-01-03</td>\n      <td>ABSA</td>\n      <td>ABSA Bank Kenya Plc</td>\n      <td>8.6</td>\n      <td>12.95</td>\n      <td>11.6</td>\n      <td>11.9</td>\n      <td>11.75</td>\n      <td>11.85</td>\n      <td>0</td>\n      <td>Monday</td>\n      <td>0.0</td>\n      <td>1.0</td>\n    </tr>\n    <tr>\n      <th>8</th>\n      <td>2022-01-03</td>\n      <td>BKG</td>\n      <td>BK Group Plc</td>\n      <td>24.3</td>\n      <td>40</td>\n      <td>29</td>\n      <td>29</td>\n      <td>29</td>\n      <td>29</td>\n      <td>0</td>\n      <td>Monday</td>\n      <td>0.0</td>\n      <td>1.0</td>\n    </tr>\n    <tr>\n      <th>9</th>\n      <td>2022-01-03</td>\n      <td>COOP</td>\n      <td>Co-operative Bank of Kenya Ltd</td>\n      <td>11.5</td>\n      <td>14</td>\n      <td>12.9</td>\n      <td>13.5</td>\n      <td>13</td>\n      <td>12.95</td>\n      <td>0</td>\n      <td>Monday</td>\n      <td>0.0</td>\n      <td>1.0</td>\n    </tr>\n  </tbody>\n</table>\n</div>"
     },
     "execution_count": 132,
     "metadata": {},
     "output_type": "execute_result"
    }
   ],
   "source": [
    "#DATA  CLEANING  # nsc_data_frame.set_index(nsc_data_frame.Date, inplace=True) to update the index  of the dataframe.\n",
    "\n",
    "date_format = '%d-%b-%y'\n",
    "nsc_data_frame.Date = pd.to_datetime(nsc_data_frame['Date'], format=date_format)\n",
    "nsc_data_frame['Day_Of_The_Week'] = nsc_data_frame['Date'].dt.dayofweek\n",
    "\n",
    "nsc_data_frame['Day_Name'] = nsc_data_frame['Date'].dt.day_name()\n",
    "\n",
    "nsc_data_frame = nsc_data_frame.drop(columns=['Change', 'Change%', 'Volume', 'Adjusted Price'])\n",
    "\n",
    "\n",
    "nsc_data_frame['Day_Sin'] = np.sin(2 * np.pi * nsc_data_frame['Day_Of_The_Week']/4.0)\n",
    "nsc_data_frame['Day_Cos'] = np.cos(2 * np.pi * nsc_data_frame['Day_Of_The_Week']/4.0)\n",
    "\n",
    "nsc_data_frame.head(10)\n",
    "\n"
   ]
  },
  {
   "cell_type": "code",
   "execution_count": 133,
   "outputs": [],
   "source": [
    "# min_value = egad_data_frame['Day_Of_The_Week'].min()  ------ >> display(egad_data_frame.info())\n",
    "\n",
    "\n",
    "#SELECT THE 1ST COLUMN AND PLOT THE DAY_SINE AGAINST TIME\n",
    "\n",
    "# plt.figure(figsize=(12, 6))  \n",
    "# plt.subplot(1, 2, 1)  # Selects the first subplot\n",
    "# one_company_data_frame['Day_Sin'].plot()\n",
    "# plt.title('Day_Sin Over Time')\n",
    "# \n",
    "# # SELECT THE 2ND COLUMN AND PLOT THE DAY PRICE AGAINST TIME\n",
    "# \n",
    "# plt.subplot(1, 2, 2)  \n",
    "# one_company_data_frame['Day Price'].plot()\n",
    "# plt.title('Day Price Over Time')\n",
    "# \n",
    "# plt.tight_layout()  # To improve subplot spacing\n",
    "# plt.show()\n",
    "\n",
    "\n"
   ],
   "metadata": {
    "collapsed": false,
    "ExecuteTime": {
     "end_time": "2023-11-02T19:24:09.565811946Z",
     "start_time": "2023-11-02T19:24:09.451615165Z"
    }
   },
   "id": "5960eac770fa6973"
  },
  {
   "cell_type": "code",
   "execution_count": 134,
   "outputs": [
    {
     "data": {
      "text/plain": "     Code  Day Price  Day High  Day Low\n0    EGAD       0.84      0.96     0.84\n1    EGAD       0.58      0.58     0.58\n2    EGAD       0.58      0.58     0.58\n3    EGAD       0.96      0.96     0.96\n4    EGAD       0.96      0.96     0.96\n..    ...        ...       ...      ...\n97   EGAD       0.82      0.82     0.82\n98   EGAD       0.82      0.82     0.82\n99   EGAD       0.82      0.82     0.82\n100  EGAD       0.82      0.82     0.82\n101  EGAD       0.82      0.82     0.82\n\n[102 rows x 4 columns]",
      "text/html": "<div>\n<style scoped>\n    .dataframe tbody tr th:only-of-type {\n        vertical-align: middle;\n    }\n\n    .dataframe tbody tr th {\n        vertical-align: top;\n    }\n\n    .dataframe thead th {\n        text-align: right;\n    }\n</style>\n<table border=\"1\" class=\"dataframe\">\n  <thead>\n    <tr style=\"text-align: right;\">\n      <th></th>\n      <th>Code</th>\n      <th>Day Price</th>\n      <th>Day High</th>\n      <th>Day Low</th>\n    </tr>\n  </thead>\n  <tbody>\n    <tr>\n      <th>0</th>\n      <td>EGAD</td>\n      <td>0.84</td>\n      <td>0.96</td>\n      <td>0.84</td>\n    </tr>\n    <tr>\n      <th>1</th>\n      <td>EGAD</td>\n      <td>0.58</td>\n      <td>0.58</td>\n      <td>0.58</td>\n    </tr>\n    <tr>\n      <th>2</th>\n      <td>EGAD</td>\n      <td>0.58</td>\n      <td>0.58</td>\n      <td>0.58</td>\n    </tr>\n    <tr>\n      <th>3</th>\n      <td>EGAD</td>\n      <td>0.96</td>\n      <td>0.96</td>\n      <td>0.96</td>\n    </tr>\n    <tr>\n      <th>4</th>\n      <td>EGAD</td>\n      <td>0.96</td>\n      <td>0.96</td>\n      <td>0.96</td>\n    </tr>\n    <tr>\n      <th>...</th>\n      <td>...</td>\n      <td>...</td>\n      <td>...</td>\n      <td>...</td>\n    </tr>\n    <tr>\n      <th>97</th>\n      <td>EGAD</td>\n      <td>0.82</td>\n      <td>0.82</td>\n      <td>0.82</td>\n    </tr>\n    <tr>\n      <th>98</th>\n      <td>EGAD</td>\n      <td>0.82</td>\n      <td>0.82</td>\n      <td>0.82</td>\n    </tr>\n    <tr>\n      <th>99</th>\n      <td>EGAD</td>\n      <td>0.82</td>\n      <td>0.82</td>\n      <td>0.82</td>\n    </tr>\n    <tr>\n      <th>100</th>\n      <td>EGAD</td>\n      <td>0.82</td>\n      <td>0.82</td>\n      <td>0.82</td>\n    </tr>\n    <tr>\n      <th>101</th>\n      <td>EGAD</td>\n      <td>0.82</td>\n      <td>0.82</td>\n      <td>0.82</td>\n    </tr>\n  </tbody>\n</table>\n<p>102 rows × 4 columns</p>\n</div>"
     },
     "metadata": {},
     "output_type": "display_data"
    },
    {
     "data": {
      "text/plain": "     Day Price  Day High  Day Low\n0         0.84      0.96     0.84\n1         0.58      0.58     0.58\n2         0.58      0.58     0.58\n3         0.96      0.96     0.96\n4         0.96      0.96     0.96\n..         ...       ...      ...\n97        0.82      0.82     0.82\n98        0.82      0.82     0.82\n99        0.82      0.82     0.82\n100       0.82      0.82     0.82\n101       0.82      0.82     0.82\n\n[102 rows x 3 columns]",
      "text/html": "<div>\n<style scoped>\n    .dataframe tbody tr th:only-of-type {\n        vertical-align: middle;\n    }\n\n    .dataframe tbody tr th {\n        vertical-align: top;\n    }\n\n    .dataframe thead th {\n        text-align: right;\n    }\n</style>\n<table border=\"1\" class=\"dataframe\">\n  <thead>\n    <tr style=\"text-align: right;\">\n      <th></th>\n      <th>Day Price</th>\n      <th>Day High</th>\n      <th>Day Low</th>\n    </tr>\n  </thead>\n  <tbody>\n    <tr>\n      <th>0</th>\n      <td>0.84</td>\n      <td>0.96</td>\n      <td>0.84</td>\n    </tr>\n    <tr>\n      <th>1</th>\n      <td>0.58</td>\n      <td>0.58</td>\n      <td>0.58</td>\n    </tr>\n    <tr>\n      <th>2</th>\n      <td>0.58</td>\n      <td>0.58</td>\n      <td>0.58</td>\n    </tr>\n    <tr>\n      <th>3</th>\n      <td>0.96</td>\n      <td>0.96</td>\n      <td>0.96</td>\n    </tr>\n    <tr>\n      <th>4</th>\n      <td>0.96</td>\n      <td>0.96</td>\n      <td>0.96</td>\n    </tr>\n    <tr>\n      <th>...</th>\n      <td>...</td>\n      <td>...</td>\n      <td>...</td>\n    </tr>\n    <tr>\n      <th>97</th>\n      <td>0.82</td>\n      <td>0.82</td>\n      <td>0.82</td>\n    </tr>\n    <tr>\n      <th>98</th>\n      <td>0.82</td>\n      <td>0.82</td>\n      <td>0.82</td>\n    </tr>\n    <tr>\n      <th>99</th>\n      <td>0.82</td>\n      <td>0.82</td>\n      <td>0.82</td>\n    </tr>\n    <tr>\n      <th>100</th>\n      <td>0.82</td>\n      <td>0.82</td>\n      <td>0.82</td>\n    </tr>\n    <tr>\n      <th>101</th>\n      <td>0.82</td>\n      <td>0.82</td>\n      <td>0.82</td>\n    </tr>\n  </tbody>\n</table>\n<p>102 rows × 3 columns</p>\n</div>"
     },
     "execution_count": 134,
     "metadata": {},
     "output_type": "execute_result"
    }
   ],
   "source": [
    "#Custom Data cleaner \n",
    "\n",
    "from sklearn.base import BaseEstimator, TransformerMixin\n",
    "from sklearn.pipeline import Pipeline\n",
    "from sklearn.compose import ColumnTransformer\n",
    "import pandas as pd\n",
    "\n",
    "class NSCDataScaler(BaseEstimator, TransformerMixin):\n",
    "    \n",
    "    def __init__(self,company_code ,  columns_to_return,columns_to_type_cast_and_scale):\n",
    "        self.company_code = company_code\n",
    "        self.minMaxScaler = MinMaxScaler()\n",
    "        self.to_type_cast_and_scale= columns_to_type_cast_and_scale\n",
    "    \n",
    "        self.to_return= columns_to_return  #same as  columns_to_type_cast but has the company code.\n",
    "        \n",
    "        \n",
    "    def __type_cast_and_scale_xyz_df(self, xyz_data_frame):\n",
    "        for column_name in self.to_type_cast_and_scale:\n",
    "            xyz_data_frame[column_name] = pd.to_numeric(xyz_data_frame[column_name], errors='coerce')\n",
    "        xyz_data_frame[self.to_type_cast_and_scale] = self.minMaxScaler.fit_transform(xyz_data_frame[self.to_type_cast_and_scale])\n",
    "        \n",
    "        return xyz_data_frame[self.to_return]\n",
    "    \n",
    "    def fit(self, X, y=None):\n",
    "        return self\n",
    "       \n",
    "\n",
    "    def transform(self, X):   \n",
    "        \"\"\"\n",
    "        X - NSC dataFrame\n",
    "        Selects the data for one company , then names it xyz_company_data_frame \n",
    "        NB: Scaler always return columns that are assignable to the dataframe.        \n",
    "        \"\"\"        \n",
    "        \n",
    "        xyz_company_data_frame = nsc_data_frame[nsc_data_frame['Code'] == self.company_code].reset_index(drop=True)\n",
    "        type_converted_xyz_company_df = self.__type_cast_and_scale_xyz_df(\n",
    "            xyz_company_data_frame       \n",
    "        )\n",
    "        \n",
    "        return type_converted_xyz_company_df\n",
    "    \n",
    "__data_scaler = NSCDataScaler(\n",
    "    columns_to_return=['Code','Day Price','Day High', 'Day Low'],\n",
    "    columns_to_type_cast_and_scale=['Day Price','Day High', 'Day Low'],\n",
    "    company_code=\"EGAD\"\n",
    "    )\n",
    "\n",
    "preprocessed_df = __data_scaler.fit_transform(\n",
    "    nsc_data_frame,    \n",
    ")\n",
    "  \n",
    "  \n",
    "display(preprocessed_df)\n",
    "\n",
    "preprocessed_df=preprocessed_df.drop(columns=['Code'])\n",
    "preprocessed_df\n",
    "    "
   ],
   "metadata": {
    "collapsed": false,
    "ExecuteTime": {
     "end_time": "2023-11-02T19:24:09.639695814Z",
     "start_time": "2023-11-02T19:24:09.499257581Z"
    }
   },
   "id": "b0d826223e0086e8"
  },
  {
   "cell_type": "code",
   "execution_count": 139,
   "outputs": [
    {
     "name": "stdout",
     "output_type": "stream",
     "text": [
      "X_Data shape :  (97, 5, 3)\n",
      "Y_Data shape :  (97,)\n"
     ]
    },
    {
     "data": {
      "text/plain": "array([[0.84, 0.96, 0.84],\n       [0.58, 0.58, 0.58],\n       [0.58, 0.58, 0.58],\n       [0.96, 0.96, 0.96],\n       [0.96, 0.96, 0.96]])"
     },
     "execution_count": 139,
     "metadata": {},
     "output_type": "execute_result"
    }
   ],
   "source": [
    "#Splitting the Dataframe into X_features and the Y_Classes\n",
    "\"\"\"\n",
    "WINDOW_SIZE = 5\n",
    "[\n",
    "  [[ds1, dp1], [ds2, dp2], [ds3, dp3], [ds4, dp4], [ds5, dp5]],\n",
    "  [[ds2, dp2], [ds3, dp3], [ds4, dp4], [ds5, dp5], [ds6, dp6]]  \n",
    "]\n",
    "\"\"\"\n",
    "\n",
    "def __generate_x_y_from_nsc_df(__data_frame , time_step=5):\n",
    "    data_array = __data_frame.to_numpy()\n",
    "    X = []\n",
    "    y = []\n",
    "    for i in range(len(data_array)-time_step):\n",
    "        \n",
    "        rows = data_array[i:i + time_step]   # print(rowing[1]) gives [12.85  1.] , that is the second row \n",
    "        \n",
    "        zipped_row = [row for row in rows]  # creates a list of nd_arrays .\n",
    "        \n",
    "        label = data_array[i + time_step][0]\n",
    "        X.append(zipped_row)\n",
    "        y.append(label)\n",
    "        \n",
    "    return np.array(X), np.array(y)\n",
    "\n",
    "X_data, Y_classes = __generate_x_y_from_nsc_df(preprocessed_df , 5)\n",
    "\n",
    "print(\"X_Data shape : \",X_data.shape)\n",
    "print(\"Y_Data shape : \",Y_classes.shape)\n",
    "\n",
    "\n",
    "X_data[0]\n",
    "\n"
   ],
   "metadata": {
    "collapsed": false,
    "ExecuteTime": {
     "end_time": "2023-11-02T19:29:02.154958084Z",
     "start_time": "2023-11-02T19:29:02.137916398Z"
    }
   },
   "id": "119d615c0161c055"
  },
  {
   "cell_type": "code",
   "execution_count": 136,
   "outputs": [
    {
     "name": "stdout",
     "output_type": "stream",
     "text": [
      "Input shape :  (5, 3)\n",
      "Model: \"sequential_5\"\n",
      "_________________________________________________________________\n",
      " Layer (type)                Output Shape              Param #   \n",
      "=================================================================\n",
      " lstm_10 (LSTM)              (None, 5, 100)            41600     \n",
      "                                                                 \n",
      " dropout_10 (Dropout)        (None, 5, 100)            0         \n",
      "                                                                 \n",
      " lstm_11 (LSTM)              (None, 100)               80400     \n",
      "                                                                 \n",
      " dropout_11 (Dropout)        (None, 100)               0         \n",
      "                                                                 \n",
      " dense_10 (Dense)            (None, 32)                3232      \n",
      "                                                                 \n",
      " dense_11 (Dense)            (None, 1)                 33        \n",
      "                                                                 \n",
      "=================================================================\n",
      "Total params: 125265 (489.32 KB)\n",
      "Trainable params: 125265 (489.32 KB)\n",
      "Non-trainable params: 0 (0.00 Byte)\n",
      "_________________________________________________________________\n"
     ]
    }
   ],
   "source": [
    "#Model Creation and Model Compilation.\n",
    "dropout_rate = 0.2\n",
    "\n",
    "input_shape=(X_data.shape[1], X_data.shape[2])\n",
    "\n",
    "print(\"Input shape : \",input_shape)\n",
    "\n",
    "\n",
    "nsc_lstm_model = Sequential([Input(input_shape),\n",
    "                    LSTM(units=100, return_sequences=True),\n",
    "                    Dropout(rate=dropout_rate),\n",
    "                    LSTM(units=100, return_sequences=False),\n",
    "                    Dropout(rate= dropout_rate),\n",
    "                    Dense(units=32, activation='relu'),\n",
    "                    Dense(units = 1)])\n",
    "\n",
    "nsc_lstm_model.compile(loss=MeanSquaredError(), \n",
    "              optimizer=Adam(learning_rate=0.0001),\n",
    "              metrics=[RootMeanSquaredError()])\n",
    "\n",
    "nsc_lstm_model.summary()\n"
   ],
   "metadata": {
    "collapsed": false,
    "ExecuteTime": {
     "end_time": "2023-11-02T19:24:10.442737235Z",
     "start_time": "2023-11-02T19:24:09.569913664Z"
    }
   },
   "id": "d0a9f340473242ca"
  },
  {
   "cell_type": "code",
   "execution_count": 137,
   "outputs": [
    {
     "data": {
      "text/plain": "((77, 5, 3), (77,), (9, 5, 3), (9,), (11, 5, 3), (11,))"
     },
     "execution_count": 137,
     "metadata": {},
     "output_type": "execute_result"
    }
   ],
   "source": [
    "\n",
    "#++++++++++++++++++++++++++++++++++++++++++   SPLITTING DATA +++++++++++++++++++++++++++++++++++++++++++++++++++++++++++++++++++++++++#\n",
    "\n",
    "def dynamic_data_split(X, y, train_ratio, val_ratio, test_ratio):\n",
    "    \"\"\"\n",
    "    Splits data and labels into training, validation, and test sets.\n",
    "\n",
    "    Args:\n",
    "        X (a 3D numpy.ndarray): Data.\n",
    "        y (numpy.ndarray): Labels.\n",
    "        train_ratio (float): Ratio for training data.\n",
    "        val_ratio (float): Ratio for validation data.\n",
    "        test_ratio (float): Ratio for test data.\n",
    "\n",
    "    Returns:\n",
    "        tuple: (X_train, y_train, X_val, y_val, X_test, y_test).\n",
    "    \"\"\"\n",
    "    total_samples = X.shape[0]\n",
    "\n",
    "    train_samples = int(train_ratio * total_samples)\n",
    "    val_samples = int(val_ratio * total_samples)\n",
    "\n",
    "    X_train, y_train = X[:train_samples], y[:train_samples]\n",
    "    X_val, y_val = X[train_samples:train_samples + val_samples], y[train_samples:train_samples + val_samples]\n",
    "    X_test, y_test = X[train_samples + val_samples:], y[train_samples + val_samples:]\n",
    "\n",
    "    return X_train, y_train, X_val, y_val, X_test, y_test\n",
    "\n",
    "\n",
    "train_ratio = 0.8\n",
    "val_ratio = 0.1\n",
    "test_ratio = 0.1\n",
    "\n",
    "X_train, y_train, X_val, y_val, X_test, y_test = dynamic_data_split(X_data,Y_classes , train_ratio, val_ratio= val_ratio,test_ratio= test_ratio)\n",
    "\n",
    "X_train.shape,y_train.shape, X_val.shape,y_val.shape, X_test.shape, y_test.shape\n"
   ],
   "metadata": {
    "collapsed": false,
    "ExecuteTime": {
     "end_time": "2023-11-02T19:24:10.443507282Z",
     "start_time": "2023-11-02T19:24:10.425859942Z"
    }
   },
   "id": "89d72568201aa28"
  },
  {
   "cell_type": "code",
   "execution_count": 138,
   "outputs": [
    {
     "name": "stdout",
     "output_type": "stream",
     "text": [
      "Epoch 1/10\n",
      "1/3 [=========>....................] - ETA: 9s - loss: 0.5089 - root_mean_squared_error: 0.7134INFO:tensorflow:Assets written to: nsc_model/assets\n"
     ]
    },
    {
     "name": "stderr",
     "output_type": "stream",
     "text": [
      "INFO:tensorflow:Assets written to: nsc_model/assets\n"
     ]
    },
    {
     "name": "stdout",
     "output_type": "stream",
     "text": [
      "3/3 [==============================] - 11s 3s/step - loss: 0.4901 - root_mean_squared_error: 0.7001 - val_loss: 0.1647 - val_root_mean_squared_error: 0.4059\n",
      "Epoch 2/10\n",
      "1/3 [=========>....................] - ETA: 0s - loss: 0.4937 - root_mean_squared_error: 0.7027INFO:tensorflow:Assets written to: nsc_model/assets\n"
     ]
    },
    {
     "name": "stderr",
     "output_type": "stream",
     "text": [
      "INFO:tensorflow:Assets written to: nsc_model/assets\n"
     ]
    },
    {
     "name": "stdout",
     "output_type": "stream",
     "text": [
      "3/3 [==============================] - 5s 3s/step - loss: 0.4715 - root_mean_squared_error: 0.6866 - val_loss: 0.1612 - val_root_mean_squared_error: 0.4015\n",
      "Epoch 3/10\n",
      "1/3 [=========>....................] - ETA: 0s - loss: 0.4749 - root_mean_squared_error: 0.6891INFO:tensorflow:Assets written to: nsc_model/assets\n"
     ]
    },
    {
     "name": "stderr",
     "output_type": "stream",
     "text": [
      "INFO:tensorflow:Assets written to: nsc_model/assets\n"
     ]
    },
    {
     "name": "stdout",
     "output_type": "stream",
     "text": [
      "3/3 [==============================] - 6s 3s/step - loss: 0.4540 - root_mean_squared_error: 0.6738 - val_loss: 0.1578 - val_root_mean_squared_error: 0.3972\n",
      "Epoch 4/10\n",
      "1/3 [=========>....................] - ETA: 0s - loss: 0.4777 - root_mean_squared_error: 0.6912INFO:tensorflow:Assets written to: nsc_model/assets\n"
     ]
    },
    {
     "name": "stderr",
     "output_type": "stream",
     "text": [
      "INFO:tensorflow:Assets written to: nsc_model/assets\n"
     ]
    },
    {
     "name": "stdout",
     "output_type": "stream",
     "text": [
      "3/3 [==============================] - 8s 4s/step - loss: 0.4360 - root_mean_squared_error: 0.6603 - val_loss: 0.1544 - val_root_mean_squared_error: 0.3930\n",
      "Epoch 5/10\n",
      "1/3 [=========>....................] - ETA: 0s - loss: 0.3936 - root_mean_squared_error: 0.6274INFO:tensorflow:Assets written to: nsc_model/assets\n"
     ]
    },
    {
     "name": "stderr",
     "output_type": "stream",
     "text": [
      "INFO:tensorflow:Assets written to: nsc_model/assets\n"
     ]
    },
    {
     "name": "stdout",
     "output_type": "stream",
     "text": [
      "3/3 [==============================] - 5s 3s/step - loss: 0.4147 - root_mean_squared_error: 0.6440 - val_loss: 0.1512 - val_root_mean_squared_error: 0.3888\n",
      "Epoch 6/10\n",
      "1/3 [=========>....................] - ETA: 0s - loss: 0.3913 - root_mean_squared_error: 0.6256INFO:tensorflow:Assets written to: nsc_model/assets\n"
     ]
    },
    {
     "name": "stderr",
     "output_type": "stream",
     "text": [
      "INFO:tensorflow:Assets written to: nsc_model/assets\n"
     ]
    },
    {
     "name": "stdout",
     "output_type": "stream",
     "text": [
      "3/3 [==============================] - 6s 3s/step - loss: 0.3971 - root_mean_squared_error: 0.6301 - val_loss: 0.1481 - val_root_mean_squared_error: 0.3848\n",
      "Epoch 7/10\n",
      "1/3 [=========>....................] - ETA: 0s - loss: 0.3737 - root_mean_squared_error: 0.6113INFO:tensorflow:Assets written to: nsc_model/assets\n"
     ]
    },
    {
     "name": "stderr",
     "output_type": "stream",
     "text": [
      "INFO:tensorflow:Assets written to: nsc_model/assets\n"
     ]
    },
    {
     "name": "stdout",
     "output_type": "stream",
     "text": [
      "3/3 [==============================] - 6s 3s/step - loss: 0.3767 - root_mean_squared_error: 0.6137 - val_loss: 0.1451 - val_root_mean_squared_error: 0.3809\n",
      "Epoch 8/10\n",
      "1/3 [=========>....................] - ETA: 0s - loss: 0.3214 - root_mean_squared_error: 0.5670INFO:tensorflow:Assets written to: nsc_model/assets\n"
     ]
    },
    {
     "name": "stderr",
     "output_type": "stream",
     "text": [
      "INFO:tensorflow:Assets written to: nsc_model/assets\n"
     ]
    },
    {
     "name": "stdout",
     "output_type": "stream",
     "text": [
      "3/3 [==============================] - 5s 3s/step - loss: 0.3539 - root_mean_squared_error: 0.5949 - val_loss: 0.1422 - val_root_mean_squared_error: 0.3771\n",
      "Epoch 9/10\n",
      "1/3 [=========>....................] - ETA: 0s - loss: 0.3734 - root_mean_squared_error: 0.6111INFO:tensorflow:Assets written to: nsc_model/assets\n"
     ]
    },
    {
     "name": "stderr",
     "output_type": "stream",
     "text": [
      "INFO:tensorflow:Assets written to: nsc_model/assets\n"
     ]
    },
    {
     "name": "stdout",
     "output_type": "stream",
     "text": [
      "3/3 [==============================] - 5s 3s/step - loss: 0.3352 - root_mean_squared_error: 0.5790 - val_loss: 0.1393 - val_root_mean_squared_error: 0.3732\n",
      "Epoch 10/10\n",
      "1/3 [=========>....................] - ETA: 0s - loss: 0.3594 - root_mean_squared_error: 0.5995INFO:tensorflow:Assets written to: nsc_model/assets\n"
     ]
    },
    {
     "name": "stderr",
     "output_type": "stream",
     "text": [
      "INFO:tensorflow:Assets written to: nsc_model/assets\n"
     ]
    },
    {
     "name": "stdout",
     "output_type": "stream",
     "text": [
      "3/3 [==============================] - 5s 2s/step - loss: 0.3154 - root_mean_squared_error: 0.5616 - val_loss: 0.1365 - val_root_mean_squared_error: 0.3695\n"
     ]
    },
    {
     "data": {
      "text/plain": "<keras.src.callbacks.History at 0x7ff0464fdf30>"
     },
     "execution_count": 138,
     "metadata": {},
     "output_type": "execute_result"
    }
   ],
   "source": [
    "__nsc_model_checkpoint = ModelCheckpoint('nsc_model/', save_best_only=True)\n",
    "\n",
    "nsc_lstm_model.fit(X_train, y_train, validation_data=(X_val, y_val), epochs=10, callbacks=[__nsc_model_checkpoint])\n"
   ],
   "metadata": {
    "collapsed": false,
    "ExecuteTime": {
     "end_time": "2023-11-02T19:25:12.969180358Z",
     "start_time": "2023-11-02T19:24:10.426089465Z"
    }
   },
   "id": "498f42a9e3910ada"
  }
 ],
 "metadata": {
  "kernelspec": {
   "display_name": "Python 3 (ipykernel)",
   "language": "python",
   "name": "python3"
  },
  "language_info": {
   "codemirror_mode": {
    "name": "ipython",
    "version": 3
   },
   "file_extension": ".py",
   "mimetype": "text/x-python",
   "name": "python",
   "nbconvert_exporter": "python",
   "pygments_lexer": "ipython3",
   "version": "3.10.12"
  }
 },
 "nbformat": 4,
 "nbformat_minor": 5
}
