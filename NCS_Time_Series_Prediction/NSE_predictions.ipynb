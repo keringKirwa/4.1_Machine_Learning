{
 "cells": [
  {
   "cell_type": "code",
   "execution_count": 211,
   "id": "initial_id",
   "metadata": {
    "ExecuteTime": {
     "end_time": "2023-11-01T17:10:28.601577089Z",
     "start_time": "2023-11-01T17:10:28.475370561Z"
    }
   },
   "outputs": [],
   "source": [
    "from sklearn.model_selection import train_test_split\n",
    "import tensorflow as tf\n",
    "from keras.models import Sequential\n",
    "from keras.layers import LSTM, Dense, Input, InputLayer, Dropout\n",
    "\n",
    "import pandas as pd\n",
    "import numpy as np\n",
    "\n",
    "np.random.seed(42)\n",
    "\n",
    "import os\n",
    "import tensorflow as tf\n",
    "\n",
    "#DATA NORMALIZATION(STANDARDISATION)\n",
    "from sklearn.preprocessing import MinMaxScaler\n",
    "\n",
    "#DATA PLOTTING\n",
    "import matplotlib.pyplot as plt\n",
    "\n",
    "#FOR PERFORMANCE METRICS ANALYSIS.\n",
    "from keras.optimizers import Adam\n",
    "from keras.losses import  MeanSquaredError\n",
    "from keras.metrics import  RootMeanSquaredError\n",
    "\n",
    "#SAVING AND LOADING MODEL\n",
    "from keras.callbacks import ModelCheckpoint\n",
    "from keras.models import load_model\n"
   ]
  },
  {
   "cell_type": "code",
   "execution_count": 212,
   "outputs": [
    {
     "data": {
      "text/plain": "           Date  Code                        Name   12m Low  12m High  \\\n0      3-Jan-22  EGAD                 Eaagads Ltd        10        15   \n1      3-Jan-22  KUKZ                  Kakuzi Plc       355       427   \n2      3-Jan-22  KAPC     Kapchorua Tea Kenya Plc        80       101   \n3      3-Jan-22  LIMT              Limuru Tea Plc       260       360   \n4      3-Jan-22  SASN                  Sasini Plc     16.75      22.6   \n...         ...   ...                         ...       ...       ...   \n6727  31-May-22   MSC    Mumias Sugar Company Ltd      0.27      0.27   \n6728  31-May-22  UNGA              Unga Group Ltd      26.1      36.4   \n6729  31-May-22  SCOM               Safaricom Plc      25.5     45.25   \n6730  31-May-22  FAHR  Stanlib Fahari Income-REIT         5      7.48   \n6731  31-May-22   GLD            ABSA NewGold ETF  1,780.00  2,135.00   \n\n       Day Low  Day High Day Price  Previous Change Change%      Volume  \\\n0         13.5      13.8      13.5      13.5      -       -       4,000   \n1          385       385       385       385      -       -           -   \n2         99.5      99.5      99.5      95.5      4   4.19%         100   \n3          320       320       320       320      -       -           -   \n4         18.7      18.7      18.7      18.7      -       -           -   \n...        ...       ...       ...       ...    ...     ...         ...   \n6727      0.27      0.27      0.27      0.27      -       -           -   \n6728        29        29        29        30     -1   3.33%       2,100   \n6729     25.95     26.45        26     26.25  -0.25   0.95%  20,079,900   \n6730       5.5       5.6      5.56      5.58  -0.02   0.36%      11,700   \n6731  2,135.00  2,135.00  2,135.00  2,135.00      -       -           -   \n\n     Adjusted Price  \n0                 -  \n1                 -  \n2                 -  \n3                 -  \n4                 -  \n...             ...  \n6727              -  \n6728              -  \n6729              -  \n6730              -  \n6731              -  \n\n[6732 rows x 13 columns]",
      "text/html": "<div>\n<style scoped>\n    .dataframe tbody tr th:only-of-type {\n        vertical-align: middle;\n    }\n\n    .dataframe tbody tr th {\n        vertical-align: top;\n    }\n\n    .dataframe thead th {\n        text-align: right;\n    }\n</style>\n<table border=\"1\" class=\"dataframe\">\n  <thead>\n    <tr style=\"text-align: right;\">\n      <th></th>\n      <th>Date</th>\n      <th>Code</th>\n      <th>Name</th>\n      <th>12m Low</th>\n      <th>12m High</th>\n      <th>Day Low</th>\n      <th>Day High</th>\n      <th>Day Price</th>\n      <th>Previous</th>\n      <th>Change</th>\n      <th>Change%</th>\n      <th>Volume</th>\n      <th>Adjusted Price</th>\n    </tr>\n  </thead>\n  <tbody>\n    <tr>\n      <th>0</th>\n      <td>3-Jan-22</td>\n      <td>EGAD</td>\n      <td>Eaagads Ltd</td>\n      <td>10</td>\n      <td>15</td>\n      <td>13.5</td>\n      <td>13.8</td>\n      <td>13.5</td>\n      <td>13.5</td>\n      <td>-</td>\n      <td>-</td>\n      <td>4,000</td>\n      <td>-</td>\n    </tr>\n    <tr>\n      <th>1</th>\n      <td>3-Jan-22</td>\n      <td>KUKZ</td>\n      <td>Kakuzi Plc</td>\n      <td>355</td>\n      <td>427</td>\n      <td>385</td>\n      <td>385</td>\n      <td>385</td>\n      <td>385</td>\n      <td>-</td>\n      <td>-</td>\n      <td>-</td>\n      <td>-</td>\n    </tr>\n    <tr>\n      <th>2</th>\n      <td>3-Jan-22</td>\n      <td>KAPC</td>\n      <td>Kapchorua Tea Kenya Plc</td>\n      <td>80</td>\n      <td>101</td>\n      <td>99.5</td>\n      <td>99.5</td>\n      <td>99.5</td>\n      <td>95.5</td>\n      <td>4</td>\n      <td>4.19%</td>\n      <td>100</td>\n      <td>-</td>\n    </tr>\n    <tr>\n      <th>3</th>\n      <td>3-Jan-22</td>\n      <td>LIMT</td>\n      <td>Limuru Tea Plc</td>\n      <td>260</td>\n      <td>360</td>\n      <td>320</td>\n      <td>320</td>\n      <td>320</td>\n      <td>320</td>\n      <td>-</td>\n      <td>-</td>\n      <td>-</td>\n      <td>-</td>\n    </tr>\n    <tr>\n      <th>4</th>\n      <td>3-Jan-22</td>\n      <td>SASN</td>\n      <td>Sasini Plc</td>\n      <td>16.75</td>\n      <td>22.6</td>\n      <td>18.7</td>\n      <td>18.7</td>\n      <td>18.7</td>\n      <td>18.7</td>\n      <td>-</td>\n      <td>-</td>\n      <td>-</td>\n      <td>-</td>\n    </tr>\n    <tr>\n      <th>...</th>\n      <td>...</td>\n      <td>...</td>\n      <td>...</td>\n      <td>...</td>\n      <td>...</td>\n      <td>...</td>\n      <td>...</td>\n      <td>...</td>\n      <td>...</td>\n      <td>...</td>\n      <td>...</td>\n      <td>...</td>\n      <td>...</td>\n    </tr>\n    <tr>\n      <th>6727</th>\n      <td>31-May-22</td>\n      <td>MSC</td>\n      <td>Mumias Sugar Company Ltd</td>\n      <td>0.27</td>\n      <td>0.27</td>\n      <td>0.27</td>\n      <td>0.27</td>\n      <td>0.27</td>\n      <td>0.27</td>\n      <td>-</td>\n      <td>-</td>\n      <td>-</td>\n      <td>-</td>\n    </tr>\n    <tr>\n      <th>6728</th>\n      <td>31-May-22</td>\n      <td>UNGA</td>\n      <td>Unga Group Ltd</td>\n      <td>26.1</td>\n      <td>36.4</td>\n      <td>29</td>\n      <td>29</td>\n      <td>29</td>\n      <td>30</td>\n      <td>-1</td>\n      <td>3.33%</td>\n      <td>2,100</td>\n      <td>-</td>\n    </tr>\n    <tr>\n      <th>6729</th>\n      <td>31-May-22</td>\n      <td>SCOM</td>\n      <td>Safaricom Plc</td>\n      <td>25.5</td>\n      <td>45.25</td>\n      <td>25.95</td>\n      <td>26.45</td>\n      <td>26</td>\n      <td>26.25</td>\n      <td>-0.25</td>\n      <td>0.95%</td>\n      <td>20,079,900</td>\n      <td>-</td>\n    </tr>\n    <tr>\n      <th>6730</th>\n      <td>31-May-22</td>\n      <td>FAHR</td>\n      <td>Stanlib Fahari Income-REIT</td>\n      <td>5</td>\n      <td>7.48</td>\n      <td>5.5</td>\n      <td>5.6</td>\n      <td>5.56</td>\n      <td>5.58</td>\n      <td>-0.02</td>\n      <td>0.36%</td>\n      <td>11,700</td>\n      <td>-</td>\n    </tr>\n    <tr>\n      <th>6731</th>\n      <td>31-May-22</td>\n      <td>GLD</td>\n      <td>ABSA NewGold ETF</td>\n      <td>1,780.00</td>\n      <td>2,135.00</td>\n      <td>2,135.00</td>\n      <td>2,135.00</td>\n      <td>2,135.00</td>\n      <td>2,135.00</td>\n      <td>-</td>\n      <td>-</td>\n      <td>-</td>\n      <td>-</td>\n    </tr>\n  </tbody>\n</table>\n<p>6732 rows × 13 columns</p>\n</div>"
     },
     "execution_count": 212,
     "metadata": {},
     "output_type": "execute_result"
    }
   ],
   "source": [
    "nsc_data_frame = pd.read_csv(\"NSE_data_all_stocks_2022_jan_to_may (1).csv\")\n",
    "nsc_data_frame"
   ],
   "metadata": {
    "collapsed": false,
    "ExecuteTime": {
     "end_time": "2023-11-01T17:10:28.636271351Z",
     "start_time": "2023-11-01T17:10:28.519769598Z"
    }
   },
   "id": "643a221fdd673586"
  },
  {
   "cell_type": "code",
   "execution_count": 213,
   "id": "1065491407967dc4",
   "metadata": {
    "collapsed": false,
    "ExecuteTime": {
     "end_time": "2023-11-01T17:10:28.639609896Z",
     "start_time": "2023-11-01T17:10:28.561358097Z"
    }
   },
   "outputs": [
    {
     "data": {
      "text/plain": "           Date     Code                          Name   12m Low  12m High  \\\n381  2022-01-10     KURV          Kurwitu Ventures Ltd  1,500.00  1,500.00   \n2473 2022-02-23     SCAN             WPP ScanGroup Plc       3.5      6.36   \n6214 2022-05-20      DTK  Diamond Trust Bank Kenya Ltd      48.5        69   \n1559 2022-02-03     TOTL               Total Kenya Ltd     22.05      27.5   \n2184 2022-02-17     CGEN       Car and General (K) Ltd        10        70   \n2182 2022-02-17     SASN                    Sasini Plc     16.75      22.6   \n2638 2022-02-25     FAHR    Stanlib Fahari Income-REIT       5.5      7.48   \n503  2022-01-12     TOTL               Total Kenya Ltd     22.05      27.5   \n3341 2022-03-14     TOTL               Total Kenya Ltd     22.05      27.5   \n3206 2022-03-10  KPLC-P4                       KPLC-P4       4.1      4.53   \n\n       Day Low  Day High Day Price  Previous  Day_Of_The_Week   Day_Name  \\\n381   1,500.00  1,500.00  1,500.00  1,500.00                0     Monday   \n2473      4.37       4.4      4.38       4.4                2  Wednesday   \n6214      48.5        51     49.95      50.5                4     Friday   \n1559      23.4     23.75      23.5     23.45                3   Thursday   \n2184        62        66     63.25        63                3   Thursday   \n2182        21     21.85      21.5     20.95                3   Thursday   \n2638       6.2       6.3      6.22      6.22                4     Friday   \n503       24.5      25.3      24.5      24.2                2  Wednesday   \n3341     23.15      23.2      23.2     23.25                0     Monday   \n3206      4.11      4.11      4.11      4.11                3   Thursday   \n\n           Day_Sin       Day_Cos  \n381   0.000000e+00  1.000000e+00  \n2473  1.224647e-16 -1.000000e+00  \n6214 -2.449294e-16  1.000000e+00  \n1559 -1.000000e+00 -1.836970e-16  \n2184 -1.000000e+00 -1.836970e-16  \n2182 -1.000000e+00 -1.836970e-16  \n2638 -2.449294e-16  1.000000e+00  \n503   1.224647e-16 -1.000000e+00  \n3341  0.000000e+00  1.000000e+00  \n3206 -1.000000e+00 -1.836970e-16  ",
      "text/html": "<div>\n<style scoped>\n    .dataframe tbody tr th:only-of-type {\n        vertical-align: middle;\n    }\n\n    .dataframe tbody tr th {\n        vertical-align: top;\n    }\n\n    .dataframe thead th {\n        text-align: right;\n    }\n</style>\n<table border=\"1\" class=\"dataframe\">\n  <thead>\n    <tr style=\"text-align: right;\">\n      <th></th>\n      <th>Date</th>\n      <th>Code</th>\n      <th>Name</th>\n      <th>12m Low</th>\n      <th>12m High</th>\n      <th>Day Low</th>\n      <th>Day High</th>\n      <th>Day Price</th>\n      <th>Previous</th>\n      <th>Day_Of_The_Week</th>\n      <th>Day_Name</th>\n      <th>Day_Sin</th>\n      <th>Day_Cos</th>\n    </tr>\n  </thead>\n  <tbody>\n    <tr>\n      <th>381</th>\n      <td>2022-01-10</td>\n      <td>KURV</td>\n      <td>Kurwitu Ventures Ltd</td>\n      <td>1,500.00</td>\n      <td>1,500.00</td>\n      <td>1,500.00</td>\n      <td>1,500.00</td>\n      <td>1,500.00</td>\n      <td>1,500.00</td>\n      <td>0</td>\n      <td>Monday</td>\n      <td>0.000000e+00</td>\n      <td>1.000000e+00</td>\n    </tr>\n    <tr>\n      <th>2473</th>\n      <td>2022-02-23</td>\n      <td>SCAN</td>\n      <td>WPP ScanGroup Plc</td>\n      <td>3.5</td>\n      <td>6.36</td>\n      <td>4.37</td>\n      <td>4.4</td>\n      <td>4.38</td>\n      <td>4.4</td>\n      <td>2</td>\n      <td>Wednesday</td>\n      <td>1.224647e-16</td>\n      <td>-1.000000e+00</td>\n    </tr>\n    <tr>\n      <th>6214</th>\n      <td>2022-05-20</td>\n      <td>DTK</td>\n      <td>Diamond Trust Bank Kenya Ltd</td>\n      <td>48.5</td>\n      <td>69</td>\n      <td>48.5</td>\n      <td>51</td>\n      <td>49.95</td>\n      <td>50.5</td>\n      <td>4</td>\n      <td>Friday</td>\n      <td>-2.449294e-16</td>\n      <td>1.000000e+00</td>\n    </tr>\n    <tr>\n      <th>1559</th>\n      <td>2022-02-03</td>\n      <td>TOTL</td>\n      <td>Total Kenya Ltd</td>\n      <td>22.05</td>\n      <td>27.5</td>\n      <td>23.4</td>\n      <td>23.75</td>\n      <td>23.5</td>\n      <td>23.45</td>\n      <td>3</td>\n      <td>Thursday</td>\n      <td>-1.000000e+00</td>\n      <td>-1.836970e-16</td>\n    </tr>\n    <tr>\n      <th>2184</th>\n      <td>2022-02-17</td>\n      <td>CGEN</td>\n      <td>Car and General (K) Ltd</td>\n      <td>10</td>\n      <td>70</td>\n      <td>62</td>\n      <td>66</td>\n      <td>63.25</td>\n      <td>63</td>\n      <td>3</td>\n      <td>Thursday</td>\n      <td>-1.000000e+00</td>\n      <td>-1.836970e-16</td>\n    </tr>\n    <tr>\n      <th>2182</th>\n      <td>2022-02-17</td>\n      <td>SASN</td>\n      <td>Sasini Plc</td>\n      <td>16.75</td>\n      <td>22.6</td>\n      <td>21</td>\n      <td>21.85</td>\n      <td>21.5</td>\n      <td>20.95</td>\n      <td>3</td>\n      <td>Thursday</td>\n      <td>-1.000000e+00</td>\n      <td>-1.836970e-16</td>\n    </tr>\n    <tr>\n      <th>2638</th>\n      <td>2022-02-25</td>\n      <td>FAHR</td>\n      <td>Stanlib Fahari Income-REIT</td>\n      <td>5.5</td>\n      <td>7.48</td>\n      <td>6.2</td>\n      <td>6.3</td>\n      <td>6.22</td>\n      <td>6.22</td>\n      <td>4</td>\n      <td>Friday</td>\n      <td>-2.449294e-16</td>\n      <td>1.000000e+00</td>\n    </tr>\n    <tr>\n      <th>503</th>\n      <td>2022-01-12</td>\n      <td>TOTL</td>\n      <td>Total Kenya Ltd</td>\n      <td>22.05</td>\n      <td>27.5</td>\n      <td>24.5</td>\n      <td>25.3</td>\n      <td>24.5</td>\n      <td>24.2</td>\n      <td>2</td>\n      <td>Wednesday</td>\n      <td>1.224647e-16</td>\n      <td>-1.000000e+00</td>\n    </tr>\n    <tr>\n      <th>3341</th>\n      <td>2022-03-14</td>\n      <td>TOTL</td>\n      <td>Total Kenya Ltd</td>\n      <td>22.05</td>\n      <td>27.5</td>\n      <td>23.15</td>\n      <td>23.2</td>\n      <td>23.2</td>\n      <td>23.25</td>\n      <td>0</td>\n      <td>Monday</td>\n      <td>0.000000e+00</td>\n      <td>1.000000e+00</td>\n    </tr>\n    <tr>\n      <th>3206</th>\n      <td>2022-03-10</td>\n      <td>KPLC-P4</td>\n      <td>KPLC-P4</td>\n      <td>4.1</td>\n      <td>4.53</td>\n      <td>4.11</td>\n      <td>4.11</td>\n      <td>4.11</td>\n      <td>4.11</td>\n      <td>3</td>\n      <td>Thursday</td>\n      <td>-1.000000e+00</td>\n      <td>-1.836970e-16</td>\n    </tr>\n  </tbody>\n</table>\n</div>"
     },
     "execution_count": 213,
     "metadata": {},
     "output_type": "execute_result"
    }
   ],
   "source": [
    "#DATA  CLEANING  # nsc_data_frame.set_index(nsc_data_frame.Date, inplace=True) to update the index  of the dataframe.\n",
    "\n",
    "date_format = '%d-%b-%y'\n",
    "nsc_data_frame.Date = pd.to_datetime(nsc_data_frame['Date'], format=date_format)\n",
    "nsc_data_frame['Day_Of_The_Week'] = nsc_data_frame['Date'].dt.dayofweek\n",
    "\n",
    "nsc_data_frame['Day_Name'] = nsc_data_frame['Date'].dt.day_name()\n",
    "\n",
    "nsc_data_frame = nsc_data_frame.drop(columns=['Change', 'Change%', 'Volume', 'Adjusted Price'])\n",
    "\n",
    "\n",
    "nsc_data_frame['Day_Sin'] = np.sin(2 * np.pi * nsc_data_frame['Day_Of_The_Week']/4.0)\n",
    "nsc_data_frame['Day_Cos'] = np.cos(2 * np.pi * nsc_data_frame['Day_Of_The_Week']/4.0)\n",
    "\n",
    "nsc_data_frame.sample(10)\n",
    "\n"
   ]
  },
  {
   "cell_type": "code",
   "execution_count": 214,
   "outputs": [
    {
     "data": {
      "text/plain": "        Date  Code         Name 12m Low 12m High Day Low Day High  Day Price  \\\n0 2022-01-03  EGAD  Eaagads Ltd      10       15    13.5     13.8      13.50   \n1 2022-01-04  EGAD  Eaagads Ltd      10       15   12.85    12.85      12.85   \n2 2022-01-05  EGAD  Eaagads Ltd      10       15   12.85    12.85      12.85   \n3 2022-01-06  EGAD  Eaagads Ltd      10       15    13.8     13.8      13.80   \n4 2022-01-07  EGAD  Eaagads Ltd      10       15    13.8     13.8      13.80   \n5 2022-01-10  EGAD  Eaagads Ltd      10       15    13.8     13.8      13.80   \n6 2022-01-11  EGAD  Eaagads Ltd      10       15    13.8     13.8      13.80   \n7 2022-01-12  EGAD  Eaagads Ltd      10       15    12.9     12.9      12.90   \n8 2022-01-13  EGAD  Eaagads Ltd      10       15    12.9     12.9      12.90   \n9 2022-01-14  EGAD  Eaagads Ltd      10       15    13.8     13.8      13.80   \n\n  Previous  Day_Of_The_Week   Day_Name       Day_Sin       Day_Cos  \n0     13.5                0     Monday  0.000000e+00  1.000000e+00  \n1     13.5                1    Tuesday  1.000000e+00  6.123234e-17  \n2    12.85                2  Wednesday  1.224647e-16 -1.000000e+00  \n3    12.85                3   Thursday -1.000000e+00 -1.836970e-16  \n4     13.8                4     Friday -2.449294e-16  1.000000e+00  \n5     13.8                0     Monday  0.000000e+00  1.000000e+00  \n6     13.8                1    Tuesday  1.000000e+00  6.123234e-17  \n7     13.8                2  Wednesday  1.224647e-16 -1.000000e+00  \n8     12.9                3   Thursday -1.000000e+00 -1.836970e-16  \n9     12.9                4     Friday -2.449294e-16  1.000000e+00  ",
      "text/html": "<div>\n<style scoped>\n    .dataframe tbody tr th:only-of-type {\n        vertical-align: middle;\n    }\n\n    .dataframe tbody tr th {\n        vertical-align: top;\n    }\n\n    .dataframe thead th {\n        text-align: right;\n    }\n</style>\n<table border=\"1\" class=\"dataframe\">\n  <thead>\n    <tr style=\"text-align: right;\">\n      <th></th>\n      <th>Date</th>\n      <th>Code</th>\n      <th>Name</th>\n      <th>12m Low</th>\n      <th>12m High</th>\n      <th>Day Low</th>\n      <th>Day High</th>\n      <th>Day Price</th>\n      <th>Previous</th>\n      <th>Day_Of_The_Week</th>\n      <th>Day_Name</th>\n      <th>Day_Sin</th>\n      <th>Day_Cos</th>\n    </tr>\n  </thead>\n  <tbody>\n    <tr>\n      <th>0</th>\n      <td>2022-01-03</td>\n      <td>EGAD</td>\n      <td>Eaagads Ltd</td>\n      <td>10</td>\n      <td>15</td>\n      <td>13.5</td>\n      <td>13.8</td>\n      <td>13.50</td>\n      <td>13.5</td>\n      <td>0</td>\n      <td>Monday</td>\n      <td>0.000000e+00</td>\n      <td>1.000000e+00</td>\n    </tr>\n    <tr>\n      <th>1</th>\n      <td>2022-01-04</td>\n      <td>EGAD</td>\n      <td>Eaagads Ltd</td>\n      <td>10</td>\n      <td>15</td>\n      <td>12.85</td>\n      <td>12.85</td>\n      <td>12.85</td>\n      <td>13.5</td>\n      <td>1</td>\n      <td>Tuesday</td>\n      <td>1.000000e+00</td>\n      <td>6.123234e-17</td>\n    </tr>\n    <tr>\n      <th>2</th>\n      <td>2022-01-05</td>\n      <td>EGAD</td>\n      <td>Eaagads Ltd</td>\n      <td>10</td>\n      <td>15</td>\n      <td>12.85</td>\n      <td>12.85</td>\n      <td>12.85</td>\n      <td>12.85</td>\n      <td>2</td>\n      <td>Wednesday</td>\n      <td>1.224647e-16</td>\n      <td>-1.000000e+00</td>\n    </tr>\n    <tr>\n      <th>3</th>\n      <td>2022-01-06</td>\n      <td>EGAD</td>\n      <td>Eaagads Ltd</td>\n      <td>10</td>\n      <td>15</td>\n      <td>13.8</td>\n      <td>13.8</td>\n      <td>13.80</td>\n      <td>12.85</td>\n      <td>3</td>\n      <td>Thursday</td>\n      <td>-1.000000e+00</td>\n      <td>-1.836970e-16</td>\n    </tr>\n    <tr>\n      <th>4</th>\n      <td>2022-01-07</td>\n      <td>EGAD</td>\n      <td>Eaagads Ltd</td>\n      <td>10</td>\n      <td>15</td>\n      <td>13.8</td>\n      <td>13.8</td>\n      <td>13.80</td>\n      <td>13.8</td>\n      <td>4</td>\n      <td>Friday</td>\n      <td>-2.449294e-16</td>\n      <td>1.000000e+00</td>\n    </tr>\n    <tr>\n      <th>5</th>\n      <td>2022-01-10</td>\n      <td>EGAD</td>\n      <td>Eaagads Ltd</td>\n      <td>10</td>\n      <td>15</td>\n      <td>13.8</td>\n      <td>13.8</td>\n      <td>13.80</td>\n      <td>13.8</td>\n      <td>0</td>\n      <td>Monday</td>\n      <td>0.000000e+00</td>\n      <td>1.000000e+00</td>\n    </tr>\n    <tr>\n      <th>6</th>\n      <td>2022-01-11</td>\n      <td>EGAD</td>\n      <td>Eaagads Ltd</td>\n      <td>10</td>\n      <td>15</td>\n      <td>13.8</td>\n      <td>13.8</td>\n      <td>13.80</td>\n      <td>13.8</td>\n      <td>1</td>\n      <td>Tuesday</td>\n      <td>1.000000e+00</td>\n      <td>6.123234e-17</td>\n    </tr>\n    <tr>\n      <th>7</th>\n      <td>2022-01-12</td>\n      <td>EGAD</td>\n      <td>Eaagads Ltd</td>\n      <td>10</td>\n      <td>15</td>\n      <td>12.9</td>\n      <td>12.9</td>\n      <td>12.90</td>\n      <td>13.8</td>\n      <td>2</td>\n      <td>Wednesday</td>\n      <td>1.224647e-16</td>\n      <td>-1.000000e+00</td>\n    </tr>\n    <tr>\n      <th>8</th>\n      <td>2022-01-13</td>\n      <td>EGAD</td>\n      <td>Eaagads Ltd</td>\n      <td>10</td>\n      <td>15</td>\n      <td>12.9</td>\n      <td>12.9</td>\n      <td>12.90</td>\n      <td>12.9</td>\n      <td>3</td>\n      <td>Thursday</td>\n      <td>-1.000000e+00</td>\n      <td>-1.836970e-16</td>\n    </tr>\n    <tr>\n      <th>9</th>\n      <td>2022-01-14</td>\n      <td>EGAD</td>\n      <td>Eaagads Ltd</td>\n      <td>10</td>\n      <td>15</td>\n      <td>13.8</td>\n      <td>13.8</td>\n      <td>13.80</td>\n      <td>12.9</td>\n      <td>4</td>\n      <td>Friday</td>\n      <td>-2.449294e-16</td>\n      <td>1.000000e+00</td>\n    </tr>\n  </tbody>\n</table>\n</div>"
     },
     "metadata": {},
     "output_type": "display_data"
    }
   ],
   "source": [
    "#EGAD LTD.  DATA\n",
    "\n",
    "egad_data_frame = nsc_data_frame[nsc_data_frame['Code'] == 'EGAD'].reset_index(drop=True)\n",
    "egad_data_frame['Day Price'] = pd.to_numeric(egad_data_frame['Day Price'], errors='coerce')\n",
    "\n",
    "\n",
    "# min_value = egad_data_frame['Day_Of_The_Week'].min()  ------ >> display(egad_data_frame.info())\n",
    "\n",
    "display(egad_data_frame.head(10))\n",
    "\n",
    "#SELECT THE 1ST COLUMN AND PLOT THE DAY_SINE AGAINST TIME\n",
    "\n",
    "# plt.figure(figsize=(12, 6))  \n",
    "# plt.subplot(1, 2, 1)  # Selects the first subplot\n",
    "# egad_data_frame['Day_Sin'].plot()\n",
    "# plt.title('Day_Sin Over Time')\n",
    "\n",
    "#SELECT THE 2ND COLUMN AND PLOT THE DAY PRICE AGAINST TIME\n",
    "\n",
    "# plt.subplot(1, 2, 2)  \n",
    "# egad_data_frame['Day Price'].plot()\n",
    "# plt.title('Day Price Over Time')\n",
    "# \n",
    "# plt.tight_layout()  # To improve subplot spacing\n",
    "# plt.show()\n",
    "\n",
    "\n"
   ],
   "metadata": {
    "collapsed": false,
    "ExecuteTime": {
     "end_time": "2023-11-01T17:10:28.681913396Z",
     "start_time": "2023-11-01T17:10:28.611121321Z"
    }
   },
   "id": "5960eac770fa6973"
  },
  {
   "cell_type": "code",
   "execution_count": 215,
   "outputs": [
    {
     "data": {
      "text/plain": "     Day Price       Day_Sin\n0        13.50  0.000000e+00\n1        12.85  1.000000e+00\n2        12.85  1.224647e-16\n3        13.80 -1.000000e+00\n4        13.80 -2.449294e-16\n..         ...           ...\n97       13.45  1.224647e-16\n98       13.45 -1.000000e+00\n99       13.45 -2.449294e-16\n100      13.45  0.000000e+00\n101      13.45  1.000000e+00\n\n[102 rows x 2 columns]",
      "text/html": "<div>\n<style scoped>\n    .dataframe tbody tr th:only-of-type {\n        vertical-align: middle;\n    }\n\n    .dataframe tbody tr th {\n        vertical-align: top;\n    }\n\n    .dataframe thead th {\n        text-align: right;\n    }\n</style>\n<table border=\"1\" class=\"dataframe\">\n  <thead>\n    <tr style=\"text-align: right;\">\n      <th></th>\n      <th>Day Price</th>\n      <th>Day_Sin</th>\n    </tr>\n  </thead>\n  <tbody>\n    <tr>\n      <th>0</th>\n      <td>13.50</td>\n      <td>0.000000e+00</td>\n    </tr>\n    <tr>\n      <th>1</th>\n      <td>12.85</td>\n      <td>1.000000e+00</td>\n    </tr>\n    <tr>\n      <th>2</th>\n      <td>12.85</td>\n      <td>1.224647e-16</td>\n    </tr>\n    <tr>\n      <th>3</th>\n      <td>13.80</td>\n      <td>-1.000000e+00</td>\n    </tr>\n    <tr>\n      <th>4</th>\n      <td>13.80</td>\n      <td>-2.449294e-16</td>\n    </tr>\n    <tr>\n      <th>...</th>\n      <td>...</td>\n      <td>...</td>\n    </tr>\n    <tr>\n      <th>97</th>\n      <td>13.45</td>\n      <td>1.224647e-16</td>\n    </tr>\n    <tr>\n      <th>98</th>\n      <td>13.45</td>\n      <td>-1.000000e+00</td>\n    </tr>\n    <tr>\n      <th>99</th>\n      <td>13.45</td>\n      <td>-2.449294e-16</td>\n    </tr>\n    <tr>\n      <th>100</th>\n      <td>13.45</td>\n      <td>0.000000e+00</td>\n    </tr>\n    <tr>\n      <th>101</th>\n      <td>13.45</td>\n      <td>1.000000e+00</td>\n    </tr>\n  </tbody>\n</table>\n<p>102 rows × 2 columns</p>\n</div>"
     },
     "execution_count": 215,
     "metadata": {},
     "output_type": "execute_result"
    }
   ],
   "source": [
    "df_interest = egad_data_frame[['Day Price', 'Day_Sin']].copy()\n",
    "\n",
    "df_interest"
   ],
   "metadata": {
    "collapsed": false,
    "ExecuteTime": {
     "end_time": "2023-11-01T17:10:28.839655726Z",
     "start_time": "2023-11-01T17:10:28.656366976Z"
    }
   },
   "id": "eab0354107f06afa"
  },
  {
   "cell_type": "code",
   "execution_count": 216,
   "outputs": [
    {
     "name": "stdout",
     "output_type": "stream",
     "text": [
      "X_Data shape :  (97, 5, 2)\n",
      "(97, 5, 2) (97,)\n"
     ]
    },
    {
     "data": {
      "text/plain": "array([[ 1.3500000e+01,  0.0000000e+00],\n       [ 1.2850000e+01,  1.0000000e+00],\n       [ 1.2850000e+01,  1.2246468e-16],\n       [ 1.3800000e+01, -1.0000000e+00],\n       [ 1.3800000e+01, -2.4492936e-16]])"
     },
     "execution_count": 216,
     "metadata": {},
     "output_type": "execute_result"
    }
   ],
   "source": [
    "#Splitting the Dataframe into X_features and the Y_Classes\n",
    "\"\"\"\n",
    "WINDOW_SIZE = 5\n",
    "[\n",
    "  [[ds1, dp1], [ds2, dp2], [ds3, dp3], [ds4, dp4], [ds5, dp5]],\n",
    "  [[ds2, dp2], [ds3, dp3], [ds4, dp4], [ds5, dp5], [ds6, dp6]]  \n",
    "]\n",
    "\"\"\"\n",
    "\n",
    "def __generate_x_y_from_nsc_df(__data_frame , time_step=5):\n",
    "    data_array = __data_frame.to_numpy()\n",
    "    X = []\n",
    "    y = []\n",
    "    for i in range(len(data_array)-time_step):\n",
    "        \n",
    "        rows = data_array[i:i + time_step]   # print(rowing[1]) gives [12.85  1.] , that is the second row \n",
    "        \n",
    "        zipped_row = [row for row in rows]  # creates a list of nd_arrays .\n",
    "        \n",
    "        label = data_array[i + time_step][0]\n",
    "        X.append(zipped_row)\n",
    "        y.append(label)\n",
    "        \n",
    "    return np.array(X), np.array(y)\n",
    "\n",
    "X_data, Y_classes = __generate_x_y_from_nsc_df(df_interest , 5)\n",
    "\n",
    "print(\"X_Data shape : \",X_data.shape)\n",
    "\n",
    "print(X_data.shape , Y_classes.shape)\n",
    "\n",
    "X_data[0]\n",
    "\n"
   ],
   "metadata": {
    "collapsed": false,
    "ExecuteTime": {
     "end_time": "2023-11-01T17:10:28.840483428Z",
     "start_time": "2023-11-01T17:10:28.699985367Z"
    }
   },
   "id": "119d615c0161c055"
  },
  {
   "cell_type": "code",
   "execution_count": 217,
   "outputs": [
    {
     "data": {
      "text/plain": "array([[[ 8.68796552e-01,  0.00000000e+00],\n        [-3.12774255e-01,  1.00000000e+00],\n        [-3.12774255e-01,  1.22464680e-16],\n        [ 1.41413692e+00, -1.00000000e+00],\n        [ 1.41413692e+00, -2.44929360e-16]],\n\n       [[-3.12774255e-01,  1.00000000e+00],\n        [-3.12774255e-01,  1.22464680e-16],\n        [ 1.41413692e+00, -1.00000000e+00],\n        [ 1.41413692e+00, -2.44929360e-16],\n        [ 1.41413692e+00,  0.00000000e+00]],\n\n       [[-3.12774255e-01,  1.22464680e-16],\n        [ 1.41413692e+00, -1.00000000e+00],\n        [ 1.41413692e+00, -2.44929360e-16],\n        [ 1.41413692e+00,  0.00000000e+00],\n        [ 1.41413692e+00,  1.00000000e+00]],\n\n       [[ 1.41413692e+00, -1.00000000e+00],\n        [ 1.41413692e+00, -2.44929360e-16],\n        [ 1.41413692e+00,  0.00000000e+00],\n        [ 1.41413692e+00,  1.00000000e+00],\n        [-2.21884193e-01,  1.22464680e-16]],\n\n       [[ 1.41413692e+00, -2.44929360e-16],\n        [ 1.41413692e+00,  0.00000000e+00],\n        [ 1.41413692e+00,  1.00000000e+00],\n        [-2.21884193e-01,  1.22464680e-16],\n        [-2.21884193e-01, -1.00000000e+00]],\n\n       [[ 1.41413692e+00,  0.00000000e+00],\n        [ 1.41413692e+00,  1.00000000e+00],\n        [-2.21884193e-01,  1.22464680e-16],\n        [-2.21884193e-01, -1.00000000e+00],\n        [ 1.41413692e+00, -2.44929360e-16]],\n\n       [[ 1.41413692e+00,  1.00000000e+00],\n        [-2.21884193e-01,  1.22464680e-16],\n        [-2.21884193e-01, -1.00000000e+00],\n        [ 1.41413692e+00, -2.44929360e-16],\n        [ 1.41413692e+00,  0.00000000e+00]],\n\n       [[-2.21884193e-01,  1.22464680e-16],\n        [-2.21884193e-01, -1.00000000e+00],\n        [ 1.41413692e+00, -2.44929360e-16],\n        [ 1.41413692e+00,  0.00000000e+00],\n        [ 1.59591705e+00,  1.00000000e+00]],\n\n       [[-2.21884193e-01, -1.00000000e+00],\n        [ 1.41413692e+00, -2.44929360e-16],\n        [ 1.41413692e+00,  0.00000000e+00],\n        [ 1.59591705e+00,  1.00000000e+00],\n        [ 1.59591705e+00,  1.22464680e-16]],\n\n       [[ 1.41413692e+00, -2.44929360e-16],\n        [ 1.41413692e+00,  0.00000000e+00],\n        [ 1.59591705e+00,  1.00000000e+00],\n        [ 1.59591705e+00,  1.22464680e-16],\n        [ 1.41413692e+00, -1.00000000e+00]],\n\n       [[ 1.41413692e+00,  0.00000000e+00],\n        [ 1.59591705e+00,  1.00000000e+00],\n        [ 1.59591705e+00,  1.22464680e-16],\n        [ 1.41413692e+00, -1.00000000e+00],\n        [ 1.41413692e+00, -2.44929360e-16]],\n\n       [[ 1.59591705e+00,  1.00000000e+00],\n        [ 1.59591705e+00,  1.22464680e-16],\n        [ 1.41413692e+00, -1.00000000e+00],\n        [ 1.41413692e+00, -2.44929360e-16],\n        [ 1.41413692e+00,  0.00000000e+00]],\n\n       [[ 1.59591705e+00,  1.22464680e-16],\n        [ 1.41413692e+00, -1.00000000e+00],\n        [ 1.41413692e+00, -2.44929360e-16],\n        [ 1.41413692e+00,  0.00000000e+00],\n        [ 1.41413692e+00,  1.00000000e+00]],\n\n       [[ 1.41413692e+00, -1.00000000e+00],\n        [ 1.41413692e+00, -2.44929360e-16],\n        [ 1.41413692e+00,  0.00000000e+00],\n        [ 1.41413692e+00,  1.00000000e+00],\n        [ 5.07859935e-02,  1.22464680e-16]],\n\n       [[ 1.41413692e+00, -2.44929360e-16],\n        [ 1.41413692e+00,  0.00000000e+00],\n        [ 1.41413692e+00,  1.00000000e+00],\n        [ 5.07859935e-02,  1.22464680e-16],\n        [ 5.07859935e-02, -1.00000000e+00]],\n\n       [[ 1.41413692e+00,  0.00000000e+00],\n        [ 1.41413692e+00,  1.00000000e+00],\n        [ 5.07859935e-02,  1.22464680e-16],\n        [ 5.07859935e-02, -1.00000000e+00],\n        [ 2.32566118e-01, -2.44929360e-16]],\n\n       [[ 1.41413692e+00,  1.00000000e+00],\n        [ 5.07859935e-02,  1.22464680e-16],\n        [ 5.07859935e-02, -1.00000000e+00],\n        [ 2.32566118e-01, -2.44929360e-16],\n        [ 1.41676056e-01,  0.00000000e+00]],\n\n       [[ 5.07859935e-02,  1.22464680e-16],\n        [ 5.07859935e-02, -1.00000000e+00],\n        [ 2.32566118e-01, -2.44929360e-16],\n        [ 1.41676056e-01,  0.00000000e+00],\n        [ 8.68796552e-01,  1.00000000e+00]],\n\n       [[ 5.07859935e-02, -1.00000000e+00],\n        [ 2.32566118e-01, -2.44929360e-16],\n        [ 1.41676056e-01,  0.00000000e+00],\n        [ 8.68796552e-01,  1.00000000e+00],\n        [ 8.68796552e-01,  1.22464680e-16]],\n\n       [[ 2.32566118e-01, -2.44929360e-16],\n        [ 1.41676056e-01,  0.00000000e+00],\n        [ 8.68796552e-01,  1.00000000e+00],\n        [ 8.68796552e-01,  1.22464680e-16],\n        [ 8.68796552e-01, -1.00000000e+00]],\n\n       [[ 1.41676056e-01,  0.00000000e+00],\n        [ 8.68796552e-01,  1.00000000e+00],\n        [ 8.68796552e-01,  1.22464680e-16],\n        [ 8.68796552e-01, -1.00000000e+00],\n        [ 8.68796552e-01, -2.44929360e-16]],\n\n       [[ 8.68796552e-01,  1.00000000e+00],\n        [ 8.68796552e-01,  1.22464680e-16],\n        [ 8.68796552e-01, -1.00000000e+00],\n        [ 8.68796552e-01, -2.44929360e-16],\n        [ 8.68796552e-01,  0.00000000e+00]],\n\n       [[ 8.68796552e-01,  1.22464680e-16],\n        [ 8.68796552e-01, -1.00000000e+00],\n        [ 8.68796552e-01, -2.44929360e-16],\n        [ 8.68796552e-01,  0.00000000e+00],\n        [ 8.68796552e-01,  1.00000000e+00]],\n\n       [[ 8.68796552e-01, -1.00000000e+00],\n        [ 8.68796552e-01, -2.44929360e-16],\n        [ 8.68796552e-01,  0.00000000e+00],\n        [ 8.68796552e-01,  1.00000000e+00],\n        [ 1.41676056e-01,  1.22464680e-16]],\n\n       [[ 8.68796552e-01, -2.44929360e-16],\n        [ 8.68796552e-01,  0.00000000e+00],\n        [ 8.68796552e-01,  1.00000000e+00],\n        [ 1.41676056e-01,  1.22464680e-16],\n        [ 1.41676056e-01, -1.00000000e+00]],\n\n       [[ 8.68796552e-01,  0.00000000e+00],\n        [ 8.68796552e-01,  1.00000000e+00],\n        [ 1.41676056e-01,  1.22464680e-16],\n        [ 1.41676056e-01, -1.00000000e+00],\n        [ 1.41676056e-01, -2.44929360e-16]],\n\n       [[ 8.68796552e-01,  1.00000000e+00],\n        [ 1.41676056e-01,  1.22464680e-16],\n        [ 1.41676056e-01, -1.00000000e+00],\n        [ 1.41676056e-01, -2.44929360e-16],\n        [ 1.41676056e-01,  0.00000000e+00]],\n\n       [[ 1.41676056e-01,  1.22464680e-16],\n        [ 1.41676056e-01, -1.00000000e+00],\n        [ 1.41676056e-01, -2.44929360e-16],\n        [ 1.41676056e-01,  0.00000000e+00],\n        [-4.01040686e-02,  1.00000000e+00]],\n\n       [[ 1.41676056e-01, -1.00000000e+00],\n        [ 1.41676056e-01, -2.44929360e-16],\n        [ 1.41676056e-01,  0.00000000e+00],\n        [-4.01040686e-02,  1.00000000e+00],\n        [ 1.41676056e-01,  1.22464680e-16]],\n\n       [[ 1.41676056e-01, -2.44929360e-16],\n        [ 1.41676056e-01,  0.00000000e+00],\n        [-4.01040686e-02,  1.00000000e+00],\n        [ 1.41676056e-01,  1.22464680e-16],\n        [ 1.41676056e-01, -1.00000000e+00]],\n\n       [[ 1.41676056e-01,  0.00000000e+00],\n        [-4.01040686e-02,  1.00000000e+00],\n        [ 1.41676056e-01,  1.22464680e-16],\n        [ 1.41676056e-01, -1.00000000e+00],\n        [ 1.41676056e-01, -2.44929360e-16]],\n\n       [[-4.01040686e-02,  1.00000000e+00],\n        [ 1.41676056e-01,  1.22464680e-16],\n        [ 1.41676056e-01, -1.00000000e+00],\n        [ 1.41676056e-01, -2.44929360e-16],\n        [ 1.41676056e-01,  0.00000000e+00]],\n\n       [[ 1.41676056e-01,  1.22464680e-16],\n        [ 1.41676056e-01, -1.00000000e+00],\n        [ 1.41676056e-01, -2.44929360e-16],\n        [ 1.41676056e-01,  0.00000000e+00],\n        [ 1.41676056e-01,  1.00000000e+00]],\n\n       [[ 1.41676056e-01, -1.00000000e+00],\n        [ 1.41676056e-01, -2.44929360e-16],\n        [ 1.41676056e-01,  0.00000000e+00],\n        [ 1.41676056e-01,  1.00000000e+00],\n        [ 8.68796552e-01,  1.22464680e-16]],\n\n       [[ 1.41676056e-01, -2.44929360e-16],\n        [ 1.41676056e-01,  0.00000000e+00],\n        [ 1.41676056e-01,  1.00000000e+00],\n        [ 8.68796552e-01,  1.22464680e-16],\n        [-1.22167488e+00, -1.00000000e+00]],\n\n       [[ 1.41676056e-01,  0.00000000e+00],\n        [ 1.41676056e-01,  1.00000000e+00],\n        [ 8.68796552e-01,  1.22464680e-16],\n        [-1.22167488e+00, -1.00000000e+00],\n        [-1.22167488e+00, -2.44929360e-16]],\n\n       [[ 1.41676056e-01,  1.00000000e+00],\n        [ 8.68796552e-01,  1.22464680e-16],\n        [-1.22167488e+00, -1.00000000e+00],\n        [-1.22167488e+00, -2.44929360e-16],\n        [-1.22167488e+00,  0.00000000e+00]],\n\n       [[ 8.68796552e-01,  1.22464680e-16],\n        [-1.22167488e+00, -1.00000000e+00],\n        [-1.22167488e+00, -2.44929360e-16],\n        [-1.22167488e+00,  0.00000000e+00],\n        [ 8.68796552e-01,  1.00000000e+00]],\n\n       [[-1.22167488e+00, -1.00000000e+00],\n        [-1.22167488e+00, -2.44929360e-16],\n        [-1.22167488e+00,  0.00000000e+00],\n        [ 8.68796552e-01,  1.00000000e+00],\n        [ 8.68796552e-01,  1.22464680e-16]],\n\n       [[-1.22167488e+00, -2.44929360e-16],\n        [-1.22167488e+00,  0.00000000e+00],\n        [ 8.68796552e-01,  1.00000000e+00],\n        [ 8.68796552e-01,  1.22464680e-16],\n        [ 8.68796552e-01, -1.00000000e+00]],\n\n       [[-1.22167488e+00,  0.00000000e+00],\n        [ 8.68796552e-01,  1.00000000e+00],\n        [ 8.68796552e-01,  1.22464680e-16],\n        [ 8.68796552e-01, -1.00000000e+00],\n        [ 8.68796552e-01, -2.44929360e-16]],\n\n       [[ 8.68796552e-01,  1.00000000e+00],\n        [ 8.68796552e-01,  1.22464680e-16],\n        [ 8.68796552e-01, -1.00000000e+00],\n        [ 8.68796552e-01, -2.44929360e-16],\n        [ 8.68796552e-01,  0.00000000e+00]],\n\n       [[ 8.68796552e-01,  1.22464680e-16],\n        [ 8.68796552e-01, -1.00000000e+00],\n        [ 8.68796552e-01, -2.44929360e-16],\n        [ 8.68796552e-01,  0.00000000e+00],\n        [ 8.68796552e-01,  1.00000000e+00]],\n\n       [[ 8.68796552e-01, -1.00000000e+00],\n        [ 8.68796552e-01, -2.44929360e-16],\n        [ 8.68796552e-01,  0.00000000e+00],\n        [ 8.68796552e-01,  1.00000000e+00],\n        [ 8.68796552e-01,  1.22464680e-16]],\n\n       [[ 8.68796552e-01, -2.44929360e-16],\n        [ 8.68796552e-01,  0.00000000e+00],\n        [ 8.68796552e-01,  1.00000000e+00],\n        [ 8.68796552e-01,  1.22464680e-16],\n        [ 8.68796552e-01, -1.00000000e+00]],\n\n       [[ 8.68796552e-01,  0.00000000e+00],\n        [ 8.68796552e-01,  1.00000000e+00],\n        [ 8.68796552e-01,  1.22464680e-16],\n        [ 8.68796552e-01, -1.00000000e+00],\n        [ 8.68796552e-01, -2.44929360e-16]],\n\n       [[ 8.68796552e-01,  1.00000000e+00],\n        [ 8.68796552e-01,  1.22464680e-16],\n        [ 8.68796552e-01, -1.00000000e+00],\n        [ 8.68796552e-01, -2.44929360e-16],\n        [-7.67224565e-01,  0.00000000e+00]],\n\n       [[ 8.68796552e-01,  1.22464680e-16],\n        [ 8.68796552e-01, -1.00000000e+00],\n        [ 8.68796552e-01, -2.44929360e-16],\n        [-7.67224565e-01,  0.00000000e+00],\n        [-7.67224565e-01,  1.00000000e+00]],\n\n       [[ 8.68796552e-01, -1.00000000e+00],\n        [ 8.68796552e-01, -2.44929360e-16],\n        [-7.67224565e-01,  0.00000000e+00],\n        [-7.67224565e-01,  1.00000000e+00],\n        [ 8.68796552e-01,  1.22464680e-16]],\n\n       [[ 8.68796552e-01, -2.44929360e-16],\n        [-7.67224565e-01,  0.00000000e+00],\n        [-7.67224565e-01,  1.00000000e+00],\n        [ 8.68796552e-01,  1.22464680e-16],\n        [-7.67224565e-01, -1.00000000e+00]],\n\n       [[-7.67224565e-01,  0.00000000e+00],\n        [-7.67224565e-01,  1.00000000e+00],\n        [ 8.68796552e-01,  1.22464680e-16],\n        [-7.67224565e-01, -1.00000000e+00],\n        [-1.30994131e-01, -2.44929360e-16]],\n\n       [[-7.67224565e-01,  1.00000000e+00],\n        [ 8.68796552e-01,  1.22464680e-16],\n        [-7.67224565e-01, -1.00000000e+00],\n        [-1.30994131e-01, -2.44929360e-16],\n        [-1.30994131e-01,  0.00000000e+00]],\n\n       [[ 8.68796552e-01,  1.22464680e-16],\n        [-7.67224565e-01, -1.00000000e+00],\n        [-1.30994131e-01, -2.44929360e-16],\n        [-1.30994131e-01,  0.00000000e+00],\n        [-1.30994131e-01,  1.00000000e+00]],\n\n       [[-7.67224565e-01, -1.00000000e+00],\n        [-1.30994131e-01, -2.44929360e-16],\n        [-1.30994131e-01,  0.00000000e+00],\n        [-1.30994131e-01,  1.00000000e+00],\n        [-1.30994131e-01,  1.22464680e-16]],\n\n       [[-1.30994131e-01, -2.44929360e-16],\n        [-1.30994131e-01,  0.00000000e+00],\n        [-1.30994131e-01,  1.00000000e+00],\n        [-1.30994131e-01,  1.22464680e-16],\n        [-1.30994131e-01, -1.00000000e+00]],\n\n       [[-1.30994131e-01,  0.00000000e+00],\n        [-1.30994131e-01,  1.00000000e+00],\n        [-1.30994131e-01,  1.22464680e-16],\n        [-1.30994131e-01, -1.00000000e+00],\n        [-1.30994131e-01, -2.44929360e-16]],\n\n       [[-1.30994131e-01,  1.00000000e+00],\n        [-1.30994131e-01,  1.22464680e-16],\n        [-1.30994131e-01, -1.00000000e+00],\n        [-1.30994131e-01, -2.44929360e-16],\n        [-1.30994131e-01,  0.00000000e+00]],\n\n       [[-1.30994131e-01,  1.22464680e-16],\n        [-1.30994131e-01, -1.00000000e+00],\n        [-1.30994131e-01, -2.44929360e-16],\n        [-1.30994131e-01,  0.00000000e+00],\n        [-1.30994131e-01,  1.00000000e+00]],\n\n       [[-1.30994131e-01, -1.00000000e+00],\n        [-1.30994131e-01, -2.44929360e-16],\n        [-1.30994131e-01,  0.00000000e+00],\n        [-1.30994131e-01,  1.00000000e+00],\n        [-6.76334503e-01,  1.22464680e-16]],\n\n       [[-1.30994131e-01, -2.44929360e-16],\n        [-1.30994131e-01,  0.00000000e+00],\n        [-1.30994131e-01,  1.00000000e+00],\n        [-6.76334503e-01,  1.22464680e-16],\n        [-6.76334503e-01, -1.00000000e+00]],\n\n       [[-1.30994131e-01,  0.00000000e+00],\n        [-1.30994131e-01,  1.00000000e+00],\n        [-6.76334503e-01,  1.22464680e-16],\n        [-6.76334503e-01, -1.00000000e+00],\n        [-6.76334503e-01, -2.44929360e-16]],\n\n       [[-1.30994131e-01,  1.00000000e+00],\n        [-6.76334503e-01,  1.22464680e-16],\n        [-6.76334503e-01, -1.00000000e+00],\n        [-6.76334503e-01, -2.44929360e-16],\n        [-6.76334503e-01,  0.00000000e+00]],\n\n       [[-6.76334503e-01,  1.22464680e-16],\n        [-6.76334503e-01, -1.00000000e+00],\n        [-6.76334503e-01, -2.44929360e-16],\n        [-6.76334503e-01,  0.00000000e+00],\n        [-6.76334503e-01,  1.00000000e+00]],\n\n       [[-6.76334503e-01, -1.00000000e+00],\n        [-6.76334503e-01, -2.44929360e-16],\n        [-6.76334503e-01,  0.00000000e+00],\n        [-6.76334503e-01,  1.00000000e+00],\n        [-6.76334503e-01,  1.22464680e-16]],\n\n       [[-6.76334503e-01, -2.44929360e-16],\n        [-6.76334503e-01,  0.00000000e+00],\n        [-6.76334503e-01,  1.00000000e+00],\n        [-6.76334503e-01,  1.22464680e-16],\n        [-6.76334503e-01, -1.00000000e+00]],\n\n       [[-6.76334503e-01,  0.00000000e+00],\n        [-6.76334503e-01,  1.00000000e+00],\n        [-6.76334503e-01,  1.22464680e-16],\n        [-6.76334503e-01, -1.00000000e+00],\n        [-6.76334503e-01, -2.44929360e-16]],\n\n       [[-6.76334503e-01,  1.00000000e+00],\n        [-6.76334503e-01,  1.22464680e-16],\n        [-6.76334503e-01, -1.00000000e+00],\n        [-6.76334503e-01, -2.44929360e-16],\n        [-6.76334503e-01,  0.00000000e+00]],\n\n       [[-6.76334503e-01,  1.22464680e-16],\n        [-6.76334503e-01, -1.00000000e+00],\n        [-6.76334503e-01, -2.44929360e-16],\n        [-6.76334503e-01,  0.00000000e+00],\n        [-6.76334503e-01,  1.00000000e+00]],\n\n       [[-6.76334503e-01, -1.00000000e+00],\n        [-6.76334503e-01, -2.44929360e-16],\n        [-6.76334503e-01,  0.00000000e+00],\n        [-6.76334503e-01,  1.00000000e+00],\n        [-6.76334503e-01,  1.22464680e-16]],\n\n       [[-6.76334503e-01, -2.44929360e-16],\n        [-6.76334503e-01,  0.00000000e+00],\n        [-6.76334503e-01,  1.00000000e+00],\n        [-6.76334503e-01,  1.22464680e-16],\n        [-6.76334503e-01, -1.00000000e+00]],\n\n       [[-6.76334503e-01,  0.00000000e+00],\n        [-6.76334503e-01,  1.00000000e+00],\n        [-6.76334503e-01,  1.22464680e-16],\n        [-6.76334503e-01, -1.00000000e+00],\n        [-6.76334503e-01,  1.00000000e+00]],\n\n       [[-6.76334503e-01,  1.00000000e+00],\n        [-6.76334503e-01,  1.22464680e-16],\n        [-6.76334503e-01, -1.00000000e+00],\n        [-6.76334503e-01,  1.00000000e+00],\n        [-6.76334503e-01,  1.22464680e-16]],\n\n       [[-6.76334503e-01,  1.22464680e-16],\n        [-6.76334503e-01, -1.00000000e+00],\n        [-6.76334503e-01,  1.00000000e+00],\n        [-6.76334503e-01,  1.22464680e-16],\n        [-6.76334503e-01, -1.00000000e+00]],\n\n       [[-6.76334503e-01, -1.00000000e+00],\n        [-6.76334503e-01,  1.00000000e+00],\n        [-6.76334503e-01,  1.22464680e-16],\n        [-6.76334503e-01, -1.00000000e+00],\n        [-6.76334503e-01, -2.44929360e-16]],\n\n       [[-6.76334503e-01,  1.00000000e+00],\n        [-6.76334503e-01,  1.22464680e-16],\n        [-6.76334503e-01, -1.00000000e+00],\n        [-6.76334503e-01, -2.44929360e-16],\n        [-6.76334503e-01,  0.00000000e+00]],\n\n       [[-6.76334503e-01,  1.22464680e-16],\n        [-6.76334503e-01, -1.00000000e+00],\n        [-6.76334503e-01, -2.44929360e-16],\n        [-6.76334503e-01,  0.00000000e+00],\n        [-6.76334503e-01,  1.00000000e+00]],\n\n       [[-6.76334503e-01, -1.00000000e+00],\n        [-6.76334503e-01, -2.44929360e-16],\n        [-6.76334503e-01,  0.00000000e+00],\n        [-6.76334503e-01,  1.00000000e+00],\n        [-6.76334503e-01,  1.22464680e-16]],\n\n       [[-6.76334503e-01, -2.44929360e-16],\n        [-6.76334503e-01,  0.00000000e+00],\n        [-6.76334503e-01,  1.00000000e+00],\n        [-6.76334503e-01,  1.22464680e-16],\n        [-6.76334503e-01, -1.00000000e+00]],\n\n       [[-6.76334503e-01,  0.00000000e+00],\n        [-6.76334503e-01,  1.00000000e+00],\n        [-6.76334503e-01,  1.22464680e-16],\n        [-6.76334503e-01, -1.00000000e+00],\n        [-2.85769599e+00,  1.22464680e-16]],\n\n       [[-6.76334503e-01,  1.00000000e+00],\n        [-6.76334503e-01,  1.22464680e-16],\n        [-6.76334503e-01, -1.00000000e+00],\n        [-2.85769599e+00,  1.22464680e-16],\n        [-2.94858606e+00, -1.00000000e+00]],\n\n       [[-6.76334503e-01,  1.22464680e-16],\n        [-6.76334503e-01, -1.00000000e+00],\n        [-2.85769599e+00,  1.22464680e-16],\n        [-2.94858606e+00, -1.00000000e+00],\n        [-2.76680593e+00, -2.44929360e-16]],\n\n       [[-6.76334503e-01, -1.00000000e+00],\n        [-2.85769599e+00,  1.22464680e-16],\n        [-2.94858606e+00, -1.00000000e+00],\n        [-2.76680593e+00, -2.44929360e-16],\n        [-2.76680593e+00,  0.00000000e+00]],\n\n       [[-2.85769599e+00,  1.22464680e-16],\n        [-2.94858606e+00, -1.00000000e+00],\n        [-2.76680593e+00, -2.44929360e-16],\n        [-2.76680593e+00,  0.00000000e+00],\n        [-1.85790531e+00,  1.00000000e+00]],\n\n       [[-2.94858606e+00, -1.00000000e+00],\n        [-2.76680593e+00, -2.44929360e-16],\n        [-2.76680593e+00,  0.00000000e+00],\n        [-1.85790531e+00,  1.00000000e+00],\n        [-1.85790531e+00,  1.22464680e-16]],\n\n       [[-2.76680593e+00, -2.44929360e-16],\n        [-2.76680593e+00,  0.00000000e+00],\n        [-1.85790531e+00,  1.00000000e+00],\n        [-1.85790531e+00,  1.22464680e-16],\n        [ 1.41676056e-01, -1.00000000e+00]],\n\n       [[-2.76680593e+00,  0.00000000e+00],\n        [-1.85790531e+00,  1.00000000e+00],\n        [-1.85790531e+00,  1.22464680e-16],\n        [ 1.41676056e-01, -1.00000000e+00],\n        [ 1.41676056e-01, -2.44929360e-16]],\n\n       [[-1.85790531e+00,  1.00000000e+00],\n        [-1.85790531e+00,  1.22464680e-16],\n        [ 1.41676056e-01, -1.00000000e+00],\n        [ 1.41676056e-01, -2.44929360e-16],\n        [ 1.41676056e-01,  0.00000000e+00]],\n\n       [[-1.85790531e+00,  1.22464680e-16],\n        [ 1.41676056e-01, -1.00000000e+00],\n        [ 1.41676056e-01, -2.44929360e-16],\n        [ 1.41676056e-01,  0.00000000e+00],\n        [ 1.41676056e-01,  1.00000000e+00]],\n\n       [[ 1.41676056e-01, -1.00000000e+00],\n        [ 1.41676056e-01, -2.44929360e-16],\n        [ 1.41676056e-01,  0.00000000e+00],\n        [ 1.41676056e-01,  1.00000000e+00],\n        [ 1.41676056e-01,  1.22464680e-16]],\n\n       [[ 1.41676056e-01, -2.44929360e-16],\n        [ 1.41676056e-01,  0.00000000e+00],\n        [ 1.41676056e-01,  1.00000000e+00],\n        [ 1.41676056e-01,  1.22464680e-16],\n        [ 1.41676056e-01, -1.00000000e+00]],\n\n       [[ 1.41676056e-01,  0.00000000e+00],\n        [ 1.41676056e-01,  1.00000000e+00],\n        [ 1.41676056e-01,  1.22464680e-16],\n        [ 1.41676056e-01, -1.00000000e+00],\n        [-1.31256494e+00, -2.44929360e-16]],\n\n       [[ 1.41676056e-01,  1.00000000e+00],\n        [ 1.41676056e-01,  1.22464680e-16],\n        [ 1.41676056e-01, -1.00000000e+00],\n        [-1.31256494e+00, -2.44929360e-16],\n        [ 7.77906490e-01,  0.00000000e+00]],\n\n       [[ 1.41676056e-01,  1.22464680e-16],\n        [ 1.41676056e-01, -1.00000000e+00],\n        [-1.31256494e+00, -2.44929360e-16],\n        [ 7.77906490e-01,  0.00000000e+00],\n        [ 7.77906490e-01,  1.00000000e+00]],\n\n       [[ 1.41676056e-01, -1.00000000e+00],\n        [-1.31256494e+00, -2.44929360e-16],\n        [ 7.77906490e-01,  0.00000000e+00],\n        [ 7.77906490e-01,  1.00000000e+00],\n        [ 7.77906490e-01,  1.22464680e-16]],\n\n       [[-1.31256494e+00, -2.44929360e-16],\n        [ 7.77906490e-01,  0.00000000e+00],\n        [ 7.77906490e-01,  1.00000000e+00],\n        [ 7.77906490e-01,  1.22464680e-16],\n        [ 7.77906490e-01, -1.00000000e+00]],\n\n       [[ 7.77906490e-01,  0.00000000e+00],\n        [ 7.77906490e-01,  1.00000000e+00],\n        [ 7.77906490e-01,  1.22464680e-16],\n        [ 7.77906490e-01, -1.00000000e+00],\n        [ 7.77906490e-01, -2.44929360e-16]],\n\n       [[ 7.77906490e-01,  1.00000000e+00],\n        [ 7.77906490e-01,  1.22464680e-16],\n        [ 7.77906490e-01, -1.00000000e+00],\n        [ 7.77906490e-01, -2.44929360e-16],\n        [ 7.77906490e-01,  0.00000000e+00]]])"
     },
     "execution_count": 217,
     "metadata": {},
     "output_type": "execute_result"
    }
   ],
   "source": [
    "#NORMALIZING DATA  Scaling  using the mean and std deviation : the second option is  to make sure that we normalize the data before preprocessing.\n",
    "\n",
    "temp_training_mean = np.mean(X_data[:, :, 0])\n",
    "temp_training_std = np.std(X_data[:, :, 0])\n",
    "\n",
    "\n",
    "def normalize_prices(x_data_frame):\n",
    "    prices_array  = x_data_frame[:, :, 0]    \n",
    "    x_data_frame[:, :, 0] = (prices_array - temp_training_mean) / temp_training_std \n",
    "    return x_data_frame\n",
    "\n",
    "normalized_data = normalize_prices(X_data)\n",
    "\n",
    "normalized_data\n",
    "\n",
    "\n",
    "    "
   ],
   "metadata": {
    "collapsed": false,
    "ExecuteTime": {
     "end_time": "2023-11-01T17:10:28.914562084Z",
     "start_time": "2023-11-01T17:10:28.700300962Z"
    }
   },
   "id": "717652f0ea16fdd8"
  },
  {
   "cell_type": "code",
   "execution_count": 218,
   "outputs": [
    {
     "name": "stdout",
     "output_type": "stream",
     "text": [
      "Model: \"sequential_10\"\n",
      "_________________________________________________________________\n",
      " Layer (type)                Output Shape              Param #   \n",
      "=================================================================\n",
      " lstm_20 (LSTM)              (None, 100)               41200     \n",
      "                                                                 \n",
      " dense_20 (Dense)            (None, 32)                3232      \n",
      "                                                                 \n",
      " dense_21 (Dense)            (None, 1)                 33        \n",
      "                                                                 \n",
      "=================================================================\n",
      "Total params: 44465 (173.69 KB)\n",
      "Trainable params: 44465 (173.69 KB)\n",
      "Non-trainable params: 0 (0.00 Byte)\n",
      "_________________________________________________________________\n"
     ]
    }
   ],
   "source": [
    "#Model Creation and Model Compilation.\n",
    "dropout_rate = 0.2\n",
    "input_shape=(normalized_data.shape[1], normalized_data.shape[2])\n",
    "\n",
    "nsc_lstm_model = Sequential([Input(input_shape),\n",
    "                    LSTM(units=100, return_sequences=True),\n",
    "                    Dropout(rate=dropout_rate),\n",
    "                    LSTM(units=100, return_sequences=False),\n",
    "                    Dropout(rate= dropout_rate),\n",
    "                    Dense(units=32, activation='relu'),\n",
    "                    Dense(units = 1)])\n",
    "\n",
    "nsc_lstm_model.compile(loss=MeanSquaredError(), \n",
    "              optimizer=Adam(learning_rate=0.0001),\n",
    "              metrics=[RootMeanSquaredError()])\n",
    "\n",
    "nsc_lstm_model.summary()\n"
   ],
   "metadata": {
    "collapsed": false,
    "ExecuteTime": {
     "end_time": "2023-11-01T17:10:29.298624599Z",
     "start_time": "2023-11-01T17:10:28.744156693Z"
    }
   },
   "id": "d0a9f340473242ca"
  },
  {
   "cell_type": "code",
   "execution_count": 219,
   "outputs": [
    {
     "data": {
      "text/plain": "((77, 5, 2), (77,), (9, 5, 2), (9,), (11, 5, 2), (11,))"
     },
     "execution_count": 219,
     "metadata": {},
     "output_type": "execute_result"
    }
   ],
   "source": [
    "\n",
    "#++++++++++++++++++++++++++++++++++++++++++   SPLITTING DATA +++++++++++++++++++++++++++++++++++++++++++++++++++++++++++++++++++++++++#\n",
    "\n",
    "def dynamic_data_split(X, y, train_ratio, val_ratio, test_ratio):\n",
    "    \"\"\"\n",
    "    Splits data and labels into training, validation, and test sets.\n",
    "\n",
    "    Args:\n",
    "        X (a 3D numpy.ndarray): Data.\n",
    "        y (numpy.ndarray): Labels.\n",
    "        train_ratio (float): Ratio for training data.\n",
    "        val_ratio (float): Ratio for validation data.\n",
    "        test_ratio (float): Ratio for test data.\n",
    "\n",
    "    Returns:\n",
    "        tuple: (X_train, y_train, X_val, y_val, X_test, y_test).\n",
    "    \"\"\"\n",
    "    total_samples = X.shape[0]\n",
    "\n",
    "    train_samples = int(train_ratio * total_samples)\n",
    "    val_samples = int(val_ratio * total_samples)\n",
    "\n",
    "    X_train, y_train = X[:train_samples], y[:train_samples]\n",
    "    X_val, y_val = X[train_samples:train_samples + val_samples], y[train_samples:train_samples + val_samples]\n",
    "    X_test, y_test = X[train_samples + val_samples:], y[train_samples + val_samples:]\n",
    "\n",
    "    return X_train, y_train, X_val, y_val, X_test, y_test\n",
    "\n",
    "\n",
    "train_ratio = 0.8\n",
    "val_ratio = 0.1\n",
    "test_ratio = 0.1\n",
    "\n",
    "X_train, y_train, X_val, y_val, X_test, y_test = dynamic_data_split(normalized_data,Y_classes , train_ratio, val_ratio= val_ratio,test_ratio= test_ratio)\n",
    "\n",
    "X_train.shape,y_train.shape, X_val.shape,y_val.shape, X_test.shape, y_test.shape\n"
   ],
   "metadata": {
    "collapsed": false,
    "ExecuteTime": {
     "end_time": "2023-11-01T17:10:29.333246606Z",
     "start_time": "2023-11-01T17:10:29.185879593Z"
    }
   },
   "id": "89d72568201aa28"
  },
  {
   "cell_type": "code",
   "execution_count": 220,
   "outputs": [
    {
     "name": "stdout",
     "output_type": "stream",
     "text": [
      "Epoch 1/10\n",
      "1/3 [=========>....................] - ETA: 6s - loss: 172.3184 - root_mean_squared_error: 13.1270INFO:tensorflow:Assets written to: nsc_model/assets\n"
     ]
    },
    {
     "name": "stderr",
     "output_type": "stream",
     "text": [
      "INFO:tensorflow:Assets written to: nsc_model/assets\n"
     ]
    },
    {
     "name": "stdout",
     "output_type": "stream",
     "text": [
      "3/3 [==============================] - 6s 2s/step - loss: 173.0906 - root_mean_squared_error: 13.1564 - val_loss: 147.0724 - val_root_mean_squared_error: 12.1273\n",
      "Epoch 2/10\n",
      "1/3 [=========>....................] - ETA: 0s - loss: 173.3066 - root_mean_squared_error: 13.1646INFO:tensorflow:Assets written to: nsc_model/assets\n"
     ]
    },
    {
     "name": "stderr",
     "output_type": "stream",
     "text": [
      "INFO:tensorflow:Assets written to: nsc_model/assets\n"
     ]
    },
    {
     "name": "stdout",
     "output_type": "stream",
     "text": [
      "3/3 [==============================] - 3s 1s/step - loss: 172.8283 - root_mean_squared_error: 13.1464 - val_loss: 146.5336 - val_root_mean_squared_error: 12.1051\n",
      "Epoch 3/10\n",
      "1/3 [=========>....................] - ETA: 0s - loss: 171.7030 - root_mean_squared_error: 13.1036INFO:tensorflow:Assets written to: nsc_model/assets\n"
     ]
    },
    {
     "name": "stderr",
     "output_type": "stream",
     "text": [
      "INFO:tensorflow:Assets written to: nsc_model/assets\n"
     ]
    },
    {
     "name": "stdout",
     "output_type": "stream",
     "text": [
      "3/3 [==============================] - 3s 1s/step - loss: 172.5723 - root_mean_squared_error: 13.1367 - val_loss: 145.9850 - val_root_mean_squared_error: 12.0824\n",
      "Epoch 4/10\n",
      "1/3 [=========>....................] - ETA: 0s - loss: 174.1738 - root_mean_squared_error: 13.1975INFO:tensorflow:Assets written to: nsc_model/assets\n"
     ]
    },
    {
     "name": "stderr",
     "output_type": "stream",
     "text": [
      "INFO:tensorflow:Assets written to: nsc_model/assets\n"
     ]
    },
    {
     "name": "stdout",
     "output_type": "stream",
     "text": [
      "3/3 [==============================] - 3s 2s/step - loss: 172.3354 - root_mean_squared_error: 13.1277 - val_loss: 145.4675 - val_root_mean_squared_error: 12.0610\n",
      "Epoch 5/10\n",
      "1/3 [=========>....................] - ETA: 0s - loss: 171.5044 - root_mean_squared_error: 13.0960INFO:tensorflow:Assets written to: nsc_model/assets\n"
     ]
    },
    {
     "name": "stderr",
     "output_type": "stream",
     "text": [
      "INFO:tensorflow:Assets written to: nsc_model/assets\n"
     ]
    },
    {
     "name": "stdout",
     "output_type": "stream",
     "text": [
      "3/3 [==============================] - 3s 1s/step - loss: 172.1084 - root_mean_squared_error: 13.1190 - val_loss: 144.9263 - val_root_mean_squared_error: 12.0385\n",
      "Epoch 6/10\n",
      "1/3 [=========>....................] - ETA: 0s - loss: 172.8835 - root_mean_squared_error: 13.1485INFO:tensorflow:Assets written to: nsc_model/assets\n"
     ]
    },
    {
     "name": "stderr",
     "output_type": "stream",
     "text": [
      "INFO:tensorflow:Assets written to: nsc_model/assets\n"
     ]
    },
    {
     "name": "stdout",
     "output_type": "stream",
     "text": [
      "3/3 [==============================] - 3s 1s/step - loss: 171.8953 - root_mean_squared_error: 13.1109 - val_loss: 144.4079 - val_root_mean_squared_error: 12.0170\n",
      "Epoch 7/10\n",
      "1/3 [=========>....................] - ETA: 0s - loss: 171.2566 - root_mean_squared_error: 13.0865INFO:tensorflow:Assets written to: nsc_model/assets\n"
     ]
    },
    {
     "name": "stderr",
     "output_type": "stream",
     "text": [
      "INFO:tensorflow:Assets written to: nsc_model/assets\n"
     ]
    },
    {
     "name": "stdout",
     "output_type": "stream",
     "text": [
      "3/3 [==============================] - 3s 1s/step - loss: 171.6881 - root_mean_squared_error: 13.1030 - val_loss: 143.9068 - val_root_mean_squared_error: 11.9961\n",
      "Epoch 8/10\n",
      "1/3 [=========>....................] - ETA: 0s - loss: 177.4244 - root_mean_squared_error: 13.3201INFO:tensorflow:Assets written to: nsc_model/assets\n"
     ]
    },
    {
     "name": "stderr",
     "output_type": "stream",
     "text": [
      "INFO:tensorflow:Assets written to: nsc_model/assets\n"
     ]
    },
    {
     "name": "stdout",
     "output_type": "stream",
     "text": [
      "3/3 [==============================] - 3s 1s/step - loss: 171.4896 - root_mean_squared_error: 13.0954 - val_loss: 143.4451 - val_root_mean_squared_error: 11.9769\n",
      "Epoch 9/10\n",
      "1/3 [=========>....................] - ETA: 0s - loss: 170.0525 - root_mean_squared_error: 13.0404INFO:tensorflow:Assets written to: nsc_model/assets\n"
     ]
    },
    {
     "name": "stderr",
     "output_type": "stream",
     "text": [
      "INFO:tensorflow:Assets written to: nsc_model/assets\n"
     ]
    },
    {
     "name": "stdout",
     "output_type": "stream",
     "text": [
      "3/3 [==============================] - 3s 2s/step - loss: 171.2978 - root_mean_squared_error: 13.0881 - val_loss: 142.9456 - val_root_mean_squared_error: 11.9560\n",
      "Epoch 10/10\n",
      "1/3 [=========>....................] - ETA: 0s - loss: 171.5947 - root_mean_squared_error: 13.0994INFO:tensorflow:Assets written to: nsc_model/assets\n"
     ]
    },
    {
     "name": "stderr",
     "output_type": "stream",
     "text": [
      "INFO:tensorflow:Assets written to: nsc_model/assets\n"
     ]
    },
    {
     "name": "stdout",
     "output_type": "stream",
     "text": [
      "3/3 [==============================] - 3s 1s/step - loss: 171.1152 - root_mean_squared_error: 13.0811 - val_loss: 142.4572 - val_root_mean_squared_error: 11.9355\n"
     ]
    },
    {
     "data": {
      "text/plain": "<keras.src.callbacks.History at 0x7fbe45751ae0>"
     },
     "execution_count": 220,
     "metadata": {},
     "output_type": "execute_result"
    }
   ],
   "source": [
    "__nsc_model_checkpoint = ModelCheckpoint('nsc_model/', save_best_only=True)\n",
    "\n",
    "nsc_lstm_model.fit(X_train, y_train, validation_data=(X_val, y_val), epochs=10, callbacks=[__nsc_model_checkpoint])\n"
   ],
   "metadata": {
    "collapsed": false,
    "ExecuteTime": {
     "end_time": "2023-11-01T17:11:02.204169842Z",
     "start_time": "2023-11-01T17:10:29.227813816Z"
    }
   },
   "id": "498f42a9e3910ada"
  }
 ],
 "metadata": {
  "kernelspec": {
   "display_name": "Python 3 (ipykernel)",
   "language": "python",
   "name": "python3"
  },
  "language_info": {
   "codemirror_mode": {
    "name": "ipython",
    "version": 3
   },
   "file_extension": ".py",
   "mimetype": "text/x-python",
   "name": "python",
   "nbconvert_exporter": "python",
   "pygments_lexer": "ipython3",
   "version": "3.10.12"
  }
 },
 "nbformat": 4,
 "nbformat_minor": 5
}
