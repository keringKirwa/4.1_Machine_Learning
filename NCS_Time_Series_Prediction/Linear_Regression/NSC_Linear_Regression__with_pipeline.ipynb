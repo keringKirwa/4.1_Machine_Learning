{
 "cells": [
  {
   "cell_type": "code",
   "execution_count": 222,
   "id": "initial_id",
   "metadata": {
    "collapsed": true,
    "ExecuteTime": {
     "end_time": "2023-11-11T14:25:37.726442917Z",
     "start_time": "2023-11-11T14:25:37.484984138Z"
    }
   },
   "outputs": [],
   "source": [
    "from sklearn.metrics import accuracy_score\n",
    "from sklearn.model_selection import train_test_split\n",
    "from sklearn.preprocessing import StandardScaler, OneHotEncoder\n",
    "from sklearn.linear_model import LogisticRegression\n",
    "from sklearn.pipeline import Pipeline\n",
    "from sklearn.compose import ColumnTransformer\n",
    "from sklearn.model_selection import train_test_split\n",
    "import pandas as pd\n",
    "import numpy as np\n",
    "\n",
    "np.random.seed(42)\n",
    "\n",
    "import os\n",
    "from sklearn.preprocessing import MinMaxScaler\n",
    "import matplotlib.pyplot as plt\n",
    "\n",
    "from keras.optimizers import Adam\n",
    "from keras.losses import  MeanSquaredError\n",
    "from keras.metrics import  RootMeanSquaredError\n",
    "\n",
    "#SAVING AND LOADING MODEL"
   ]
  },
  {
   "cell_type": "code",
   "execution_count": 223,
   "outputs": [
    {
     "data": {
      "text/plain": "           Date  Code                        Name   12m Low  12m High  \\\n0      3-Jan-22  EGAD                 Eaagads Ltd        10        15   \n1      3-Jan-22  KUKZ                  Kakuzi Plc       355       427   \n2      3-Jan-22  KAPC     Kapchorua Tea Kenya Plc        80       101   \n3      3-Jan-22  LIMT              Limuru Tea Plc       260       360   \n4      3-Jan-22  SASN                  Sasini Plc     16.75      22.6   \n...         ...   ...                         ...       ...       ...   \n6727  31-May-22   MSC    Mumias Sugar Company Ltd      0.27      0.27   \n6728  31-May-22  UNGA              Unga Group Ltd      26.1      36.4   \n6729  31-May-22  SCOM               Safaricom Plc      25.5     45.25   \n6730  31-May-22  FAHR  Stanlib Fahari Income-REIT         5      7.48   \n6731  31-May-22   GLD            ABSA NewGold ETF  1,780.00  2,135.00   \n\n       Day Low  Day High Day Price  Previous Change Change%      Volume  \\\n0         13.5      13.8      13.5      13.5      -       -       4,000   \n1          385       385       385       385      -       -           -   \n2         99.5      99.5      99.5      95.5      4   4.19%         100   \n3          320       320       320       320      -       -           -   \n4         18.7      18.7      18.7      18.7      -       -           -   \n...        ...       ...       ...       ...    ...     ...         ...   \n6727      0.27      0.27      0.27      0.27      -       -           -   \n6728        29        29        29        30     -1   3.33%       2,100   \n6729     25.95     26.45        26     26.25  -0.25   0.95%  20,079,900   \n6730       5.5       5.6      5.56      5.58  -0.02   0.36%      11,700   \n6731  2,135.00  2,135.00  2,135.00  2,135.00      -       -           -   \n\n     Adjusted Price  \n0                 -  \n1                 -  \n2                 -  \n3                 -  \n4                 -  \n...             ...  \n6727              -  \n6728              -  \n6729              -  \n6730              -  \n6731              -  \n\n[6732 rows x 13 columns]",
      "text/html": "<div>\n<style scoped>\n    .dataframe tbody tr th:only-of-type {\n        vertical-align: middle;\n    }\n\n    .dataframe tbody tr th {\n        vertical-align: top;\n    }\n\n    .dataframe thead th {\n        text-align: right;\n    }\n</style>\n<table border=\"1\" class=\"dataframe\">\n  <thead>\n    <tr style=\"text-align: right;\">\n      <th></th>\n      <th>Date</th>\n      <th>Code</th>\n      <th>Name</th>\n      <th>12m Low</th>\n      <th>12m High</th>\n      <th>Day Low</th>\n      <th>Day High</th>\n      <th>Day Price</th>\n      <th>Previous</th>\n      <th>Change</th>\n      <th>Change%</th>\n      <th>Volume</th>\n      <th>Adjusted Price</th>\n    </tr>\n  </thead>\n  <tbody>\n    <tr>\n      <th>0</th>\n      <td>3-Jan-22</td>\n      <td>EGAD</td>\n      <td>Eaagads Ltd</td>\n      <td>10</td>\n      <td>15</td>\n      <td>13.5</td>\n      <td>13.8</td>\n      <td>13.5</td>\n      <td>13.5</td>\n      <td>-</td>\n      <td>-</td>\n      <td>4,000</td>\n      <td>-</td>\n    </tr>\n    <tr>\n      <th>1</th>\n      <td>3-Jan-22</td>\n      <td>KUKZ</td>\n      <td>Kakuzi Plc</td>\n      <td>355</td>\n      <td>427</td>\n      <td>385</td>\n      <td>385</td>\n      <td>385</td>\n      <td>385</td>\n      <td>-</td>\n      <td>-</td>\n      <td>-</td>\n      <td>-</td>\n    </tr>\n    <tr>\n      <th>2</th>\n      <td>3-Jan-22</td>\n      <td>KAPC</td>\n      <td>Kapchorua Tea Kenya Plc</td>\n      <td>80</td>\n      <td>101</td>\n      <td>99.5</td>\n      <td>99.5</td>\n      <td>99.5</td>\n      <td>95.5</td>\n      <td>4</td>\n      <td>4.19%</td>\n      <td>100</td>\n      <td>-</td>\n    </tr>\n    <tr>\n      <th>3</th>\n      <td>3-Jan-22</td>\n      <td>LIMT</td>\n      <td>Limuru Tea Plc</td>\n      <td>260</td>\n      <td>360</td>\n      <td>320</td>\n      <td>320</td>\n      <td>320</td>\n      <td>320</td>\n      <td>-</td>\n      <td>-</td>\n      <td>-</td>\n      <td>-</td>\n    </tr>\n    <tr>\n      <th>4</th>\n      <td>3-Jan-22</td>\n      <td>SASN</td>\n      <td>Sasini Plc</td>\n      <td>16.75</td>\n      <td>22.6</td>\n      <td>18.7</td>\n      <td>18.7</td>\n      <td>18.7</td>\n      <td>18.7</td>\n      <td>-</td>\n      <td>-</td>\n      <td>-</td>\n      <td>-</td>\n    </tr>\n    <tr>\n      <th>...</th>\n      <td>...</td>\n      <td>...</td>\n      <td>...</td>\n      <td>...</td>\n      <td>...</td>\n      <td>...</td>\n      <td>...</td>\n      <td>...</td>\n      <td>...</td>\n      <td>...</td>\n      <td>...</td>\n      <td>...</td>\n      <td>...</td>\n    </tr>\n    <tr>\n      <th>6727</th>\n      <td>31-May-22</td>\n      <td>MSC</td>\n      <td>Mumias Sugar Company Ltd</td>\n      <td>0.27</td>\n      <td>0.27</td>\n      <td>0.27</td>\n      <td>0.27</td>\n      <td>0.27</td>\n      <td>0.27</td>\n      <td>-</td>\n      <td>-</td>\n      <td>-</td>\n      <td>-</td>\n    </tr>\n    <tr>\n      <th>6728</th>\n      <td>31-May-22</td>\n      <td>UNGA</td>\n      <td>Unga Group Ltd</td>\n      <td>26.1</td>\n      <td>36.4</td>\n      <td>29</td>\n      <td>29</td>\n      <td>29</td>\n      <td>30</td>\n      <td>-1</td>\n      <td>3.33%</td>\n      <td>2,100</td>\n      <td>-</td>\n    </tr>\n    <tr>\n      <th>6729</th>\n      <td>31-May-22</td>\n      <td>SCOM</td>\n      <td>Safaricom Plc</td>\n      <td>25.5</td>\n      <td>45.25</td>\n      <td>25.95</td>\n      <td>26.45</td>\n      <td>26</td>\n      <td>26.25</td>\n      <td>-0.25</td>\n      <td>0.95%</td>\n      <td>20,079,900</td>\n      <td>-</td>\n    </tr>\n    <tr>\n      <th>6730</th>\n      <td>31-May-22</td>\n      <td>FAHR</td>\n      <td>Stanlib Fahari Income-REIT</td>\n      <td>5</td>\n      <td>7.48</td>\n      <td>5.5</td>\n      <td>5.6</td>\n      <td>5.56</td>\n      <td>5.58</td>\n      <td>-0.02</td>\n      <td>0.36%</td>\n      <td>11,700</td>\n      <td>-</td>\n    </tr>\n    <tr>\n      <th>6731</th>\n      <td>31-May-22</td>\n      <td>GLD</td>\n      <td>ABSA NewGold ETF</td>\n      <td>1,780.00</td>\n      <td>2,135.00</td>\n      <td>2,135.00</td>\n      <td>2,135.00</td>\n      <td>2,135.00</td>\n      <td>2,135.00</td>\n      <td>-</td>\n      <td>-</td>\n      <td>-</td>\n      <td>-</td>\n    </tr>\n  </tbody>\n</table>\n<p>6732 rows × 13 columns</p>\n</div>"
     },
     "execution_count": 223,
     "metadata": {},
     "output_type": "execute_result"
    }
   ],
   "source": [
    "df = pd.read_csv('../NSE_data_all_stocks_2022_jan_to_may (1).csv')\n",
    "df\n"
   ],
   "metadata": {
    "collapsed": false,
    "ExecuteTime": {
     "end_time": "2023-11-11T14:25:37.918856708Z",
     "start_time": "2023-11-11T14:25:37.502103929Z"
    }
   },
   "id": "c7b1de2cb734f19f"
  },
  {
   "cell_type": "code",
   "execution_count": 224,
   "outputs": [
    {
     "data": {
      "text/plain": "   Code  Day Price  Previous  Day High   Day Low  12m High  12m Low\n0  TPSE      15.25  1.970978  1.981008  2.034167       0.0      0.0\n1  TPSE      15.25  1.970978  1.981008  2.034167       0.0      0.0",
      "text/html": "<div>\n<style scoped>\n    .dataframe tbody tr th:only-of-type {\n        vertical-align: middle;\n    }\n\n    .dataframe tbody tr th {\n        vertical-align: top;\n    }\n\n    .dataframe thead th {\n        text-align: right;\n    }\n</style>\n<table border=\"1\" class=\"dataframe\">\n  <thead>\n    <tr style=\"text-align: right;\">\n      <th></th>\n      <th>Code</th>\n      <th>Day Price</th>\n      <th>Previous</th>\n      <th>Day High</th>\n      <th>Day Low</th>\n      <th>12m High</th>\n      <th>12m Low</th>\n    </tr>\n  </thead>\n  <tbody>\n    <tr>\n      <th>0</th>\n      <td>TPSE</td>\n      <td>15.25</td>\n      <td>1.970978</td>\n      <td>1.981008</td>\n      <td>2.034167</td>\n      <td>0.0</td>\n      <td>0.0</td>\n    </tr>\n    <tr>\n      <th>1</th>\n      <td>TPSE</td>\n      <td>15.25</td>\n      <td>1.970978</td>\n      <td>1.981008</td>\n      <td>2.034167</td>\n      <td>0.0</td>\n      <td>0.0</td>\n    </tr>\n  </tbody>\n</table>\n</div>"
     },
     "metadata": {},
     "output_type": "display_data"
    },
    {
     "data": {
      "text/plain": "     Day Price  Previous  Day High   Day Low  12m High  12m Low\n0        15.25  1.970978  1.981008  2.034167       0.0      0.0\n1        15.25  1.970978  1.981008  2.034167       0.0      0.0\n2        15.25  1.970978  1.981008  2.034167       0.0      0.0\n3        15.25  1.970978  1.981008  2.034167       0.0      0.0\n4        15.25  1.970978  1.981008  2.034167       0.0      0.0\n..         ...       ...       ...       ...       ...      ...\n97       12.40 -0.757119 -0.493231 -0.319863       0.0      0.0\n98       11.90 -0.421353 -0.840492 -1.063241       0.0      0.0\n99       11.90 -0.841060 -0.883900 -1.063241       0.0      0.0\n100      11.95 -0.841060 -0.883900 -0.691552       0.0      0.0\n101      11.50 -0.799090 -0.883900 -1.063241       0.0      0.0\n\n[102 rows x 6 columns]",
      "text/html": "<div>\n<style scoped>\n    .dataframe tbody tr th:only-of-type {\n        vertical-align: middle;\n    }\n\n    .dataframe tbody tr th {\n        vertical-align: top;\n    }\n\n    .dataframe thead th {\n        text-align: right;\n    }\n</style>\n<table border=\"1\" class=\"dataframe\">\n  <thead>\n    <tr style=\"text-align: right;\">\n      <th></th>\n      <th>Day Price</th>\n      <th>Previous</th>\n      <th>Day High</th>\n      <th>Day Low</th>\n      <th>12m High</th>\n      <th>12m Low</th>\n    </tr>\n  </thead>\n  <tbody>\n    <tr>\n      <th>0</th>\n      <td>15.25</td>\n      <td>1.970978</td>\n      <td>1.981008</td>\n      <td>2.034167</td>\n      <td>0.0</td>\n      <td>0.0</td>\n    </tr>\n    <tr>\n      <th>1</th>\n      <td>15.25</td>\n      <td>1.970978</td>\n      <td>1.981008</td>\n      <td>2.034167</td>\n      <td>0.0</td>\n      <td>0.0</td>\n    </tr>\n    <tr>\n      <th>2</th>\n      <td>15.25</td>\n      <td>1.970978</td>\n      <td>1.981008</td>\n      <td>2.034167</td>\n      <td>0.0</td>\n      <td>0.0</td>\n    </tr>\n    <tr>\n      <th>3</th>\n      <td>15.25</td>\n      <td>1.970978</td>\n      <td>1.981008</td>\n      <td>2.034167</td>\n      <td>0.0</td>\n      <td>0.0</td>\n    </tr>\n    <tr>\n      <th>4</th>\n      <td>15.25</td>\n      <td>1.970978</td>\n      <td>1.981008</td>\n      <td>2.034167</td>\n      <td>0.0</td>\n      <td>0.0</td>\n    </tr>\n    <tr>\n      <th>...</th>\n      <td>...</td>\n      <td>...</td>\n      <td>...</td>\n      <td>...</td>\n      <td>...</td>\n      <td>...</td>\n    </tr>\n    <tr>\n      <th>97</th>\n      <td>12.40</td>\n      <td>-0.757119</td>\n      <td>-0.493231</td>\n      <td>-0.319863</td>\n      <td>0.0</td>\n      <td>0.0</td>\n    </tr>\n    <tr>\n      <th>98</th>\n      <td>11.90</td>\n      <td>-0.421353</td>\n      <td>-0.840492</td>\n      <td>-1.063241</td>\n      <td>0.0</td>\n      <td>0.0</td>\n    </tr>\n    <tr>\n      <th>99</th>\n      <td>11.90</td>\n      <td>-0.841060</td>\n      <td>-0.883900</td>\n      <td>-1.063241</td>\n      <td>0.0</td>\n      <td>0.0</td>\n    </tr>\n    <tr>\n      <th>100</th>\n      <td>11.95</td>\n      <td>-0.841060</td>\n      <td>-0.883900</td>\n      <td>-0.691552</td>\n      <td>0.0</td>\n      <td>0.0</td>\n    </tr>\n    <tr>\n      <th>101</th>\n      <td>11.50</td>\n      <td>-0.799090</td>\n      <td>-0.883900</td>\n      <td>-1.063241</td>\n      <td>0.0</td>\n      <td>0.0</td>\n    </tr>\n  </tbody>\n</table>\n<p>102 rows × 6 columns</p>\n</div>"
     },
     "execution_count": 224,
     "metadata": {},
     "output_type": "execute_result"
    }
   ],
   "source": [
    "#Custom Data cleaner \n",
    "import random\n",
    "from sklearn.base import BaseEstimator, TransformerMixin\n",
    "from sklearn.preprocessing import StandardScaler   \n",
    "\n",
    "nsc_scaler = StandardScaler()\n",
    "\n",
    "class NSEDataPreProcessor(BaseEstimator, TransformerMixin):\n",
    "    \n",
    "    def __init__(self,company_code ,to_type_cast, to_scale, to_return):\n",
    "        self.company_code = company_code        \n",
    "        self.to_type_cast= to_type_cast \n",
    "        self.to_return= to_return \n",
    "        self.to_scale=to_scale  #same as  columns_to_type_cast but has the company code.\n",
    "        \n",
    "        \n",
    "    def __type_cast_and_scale_xyz_df(self, xyz_data_frame):\n",
    "        for column_name in self.to_type_cast:\n",
    "            xyz_data_frame[column_name] = pd.to_numeric(xyz_data_frame[column_name], errors='coerce')\n",
    "        xyz_data_frame[self.to_scale] = nsc_scaler.fit_transform(xyz_data_frame[self.to_scale])\n",
    "        \n",
    "        \n",
    "        return xyz_data_frame[self.to_return]\n",
    "    \n",
    "    def fit(self, X, y=None):\n",
    "        return self      \n",
    "\n",
    "    def transform(self, X):  \n",
    "        \n",
    "        \"\"\"\n",
    "        X - NSC dataFrame\n",
    "        Selects the data for one company , then names it xyz_company_data_frame \n",
    "        NB: Scaler always return columns that are assignable to the dataframe.        \n",
    "        \"\"\"        \n",
    "        \n",
    "        xyz_company_data_frame = X[X['Code'] == self.company_code].reset_index(drop=True)\n",
    "        type_converted_xyz_company_df = self.__type_cast_and_scale_xyz_df(\n",
    "            xyz_company_data_frame       \n",
    "        )\n",
    "        \n",
    "        return type_converted_xyz_company_df\n",
    "    \n",
    "# 'Code','Day Price','Day High', 'Day High', '12m High', '12m Low' , 'Day Price','Day High', 'Day High', '12m High', '12m Low'\n",
    "\n",
    "random_company_code = random.choice(df.Code)\n",
    "\n",
    "#TPSE, UMME  giving the best results .\n",
    "    \n",
    "__nse_dat_preprocessor = NSEDataPreProcessor(\n",
    "    company_code= 'TPSE',\n",
    "    to_type_cast=['Day Price','Day High', 'Day Low', '12m High', '12m Low'],\n",
    "    to_scale=[ 'Previous','Day High', 'Day Low', '12m High', '12m Low'],\n",
    "    to_return=['Code','Day Price','Previous','Day High', 'Day Low', '12m High', '12m Low'], \n",
    ")\n",
    "xyz_preprocessed_df = __nse_dat_preprocessor.fit_transform(\n",
    "    df,    \n",
    ")\n",
    "display(xyz_preprocessed_df.head(2)) #Show the company being worked on .\n",
    "\n",
    "preprocessed_df = xyz_preprocessed_df.drop(columns=['Code'])\n",
    "preprocessed_df\n",
    "    "
   ],
   "metadata": {
    "collapsed": false,
    "ExecuteTime": {
     "end_time": "2023-11-11T14:25:37.930390879Z",
     "start_time": "2023-11-11T14:25:37.592379291Z"
    }
   },
   "id": "7fa2528d0a3fb486"
  },
  {
   "cell_type": "code",
   "execution_count": 225,
   "outputs": [
    {
     "data": {
      "text/plain": "0      15.25\n1      15.25\n2      15.25\n3      15.25\n4      15.25\n       ...  \n97     12.40\n98     11.90\n99     11.90\n100    11.95\n101    11.50\nName: Day Price, Length: 102, dtype: float64"
     },
     "execution_count": 225,
     "metadata": {},
     "output_type": "execute_result"
    }
   ],
   "source": [
    "x_features = ['Previous','Day High', 'Day Low', '12m High', '12m Low']\n",
    "x_single_feature =  'Day Price'\n",
    "y_classes = 'Day Price'\n",
    "\n",
    "X = preprocessed_df[x_single_feature]\n",
    "day_price_df = preprocessed_df[x_single_feature]\n",
    "day_price_df\n"
   ],
   "metadata": {
    "collapsed": false,
    "ExecuteTime": {
     "end_time": "2023-11-11T14:25:37.931267634Z",
     "start_time": "2023-11-11T14:25:37.624026101Z"
    }
   },
   "id": "9bb5f34401babfe2"
  },
  {
   "cell_type": "markdown",
   "source": [
    "# Using previous 5 days to  make predictions for the sixth day ."
   ],
   "metadata": {
    "collapsed": false
   },
   "id": "fff58f0ac211859a"
  },
  {
   "cell_type": "code",
   "execution_count": 226,
   "outputs": [
    {
     "name": "stdout",
     "output_type": "stream",
     "text": [
      "X_Data shape :  (97, 5)\n",
      "Y_Data shape :  (97,)\n"
     ]
    },
    {
     "data": {
      "text/plain": "     Day1   Day2   Day3   Day4   Day5  day_six_dayPrice\n0   15.25  15.25  15.25  15.25  15.25             15.25\n1   15.25  15.25  15.25  15.25  15.25             15.00\n2   15.25  15.25  15.25  15.25  15.00             15.00\n3   15.25  15.25  15.25  15.00  15.00             15.00\n4   15.25  15.25  15.00  15.00  15.00             14.55\n..    ...    ...    ...    ...    ...               ...\n92  12.45  12.45  12.00  12.00  12.00             12.40\n93  12.45  12.00  12.00  12.00  12.40             11.90\n94  12.00  12.00  12.00  12.40  11.90             11.90\n95  12.00  12.00  12.40  11.90  11.90             11.95\n96  12.00  12.40  11.90  11.90  11.95             11.50\n\n[97 rows x 6 columns]",
      "text/html": "<div>\n<style scoped>\n    .dataframe tbody tr th:only-of-type {\n        vertical-align: middle;\n    }\n\n    .dataframe tbody tr th {\n        vertical-align: top;\n    }\n\n    .dataframe thead th {\n        text-align: right;\n    }\n</style>\n<table border=\"1\" class=\"dataframe\">\n  <thead>\n    <tr style=\"text-align: right;\">\n      <th></th>\n      <th>Day1</th>\n      <th>Day2</th>\n      <th>Day3</th>\n      <th>Day4</th>\n      <th>Day5</th>\n      <th>day_six_dayPrice</th>\n    </tr>\n  </thead>\n  <tbody>\n    <tr>\n      <th>0</th>\n      <td>15.25</td>\n      <td>15.25</td>\n      <td>15.25</td>\n      <td>15.25</td>\n      <td>15.25</td>\n      <td>15.25</td>\n    </tr>\n    <tr>\n      <th>1</th>\n      <td>15.25</td>\n      <td>15.25</td>\n      <td>15.25</td>\n      <td>15.25</td>\n      <td>15.25</td>\n      <td>15.00</td>\n    </tr>\n    <tr>\n      <th>2</th>\n      <td>15.25</td>\n      <td>15.25</td>\n      <td>15.25</td>\n      <td>15.25</td>\n      <td>15.00</td>\n      <td>15.00</td>\n    </tr>\n    <tr>\n      <th>3</th>\n      <td>15.25</td>\n      <td>15.25</td>\n      <td>15.25</td>\n      <td>15.00</td>\n      <td>15.00</td>\n      <td>15.00</td>\n    </tr>\n    <tr>\n      <th>4</th>\n      <td>15.25</td>\n      <td>15.25</td>\n      <td>15.00</td>\n      <td>15.00</td>\n      <td>15.00</td>\n      <td>14.55</td>\n    </tr>\n    <tr>\n      <th>...</th>\n      <td>...</td>\n      <td>...</td>\n      <td>...</td>\n      <td>...</td>\n      <td>...</td>\n      <td>...</td>\n    </tr>\n    <tr>\n      <th>92</th>\n      <td>12.45</td>\n      <td>12.45</td>\n      <td>12.00</td>\n      <td>12.00</td>\n      <td>12.00</td>\n      <td>12.40</td>\n    </tr>\n    <tr>\n      <th>93</th>\n      <td>12.45</td>\n      <td>12.00</td>\n      <td>12.00</td>\n      <td>12.00</td>\n      <td>12.40</td>\n      <td>11.90</td>\n    </tr>\n    <tr>\n      <th>94</th>\n      <td>12.00</td>\n      <td>12.00</td>\n      <td>12.00</td>\n      <td>12.40</td>\n      <td>11.90</td>\n      <td>11.90</td>\n    </tr>\n    <tr>\n      <th>95</th>\n      <td>12.00</td>\n      <td>12.00</td>\n      <td>12.40</td>\n      <td>11.90</td>\n      <td>11.90</td>\n      <td>11.95</td>\n    </tr>\n    <tr>\n      <th>96</th>\n      <td>12.00</td>\n      <td>12.40</td>\n      <td>11.90</td>\n      <td>11.90</td>\n      <td>11.95</td>\n      <td>11.50</td>\n    </tr>\n  </tbody>\n</table>\n<p>97 rows × 6 columns</p>\n</div>"
     },
     "execution_count": 226,
     "metadata": {},
     "output_type": "execute_result"
    }
   ],
   "source": [
    "def __generate_x_y_from_nsc_df(__data_frame , time_step=5):\n",
    "    data_array = __data_frame.to_numpy()\n",
    "    X = []\n",
    "    y = []\n",
    "    \n",
    "    for i in range(len(data_array)-time_step):   \n",
    "        row = [a for a in data_array[i:i+time_step]]\n",
    "        label = data_array[i+ time_step]\n",
    "        X.append(row)\n",
    "        y.append(label)\n",
    "    return np.array(X), np.array(y)\n",
    "\n",
    "features , targets = __generate_x_y_from_nsc_df(day_price_df , time_step=5)\n",
    "\n",
    "print(\"X_Data shape : \",features.shape)\n",
    "print(\"Y_Data shape : \",targets.shape)\n",
    "\n",
    "\n",
    "column_names = ['Day1', 'Day2', 'Day3','Day4', 'Day5']\n",
    "\n",
    "\n",
    "# Create a DataFrame with column names\n",
    "df = pd.DataFrame(features, columns=column_names)\n",
    "\n",
    "df['day_six_dayPrice'] = pd.Series(data= targets)\n",
    "df\n"
   ],
   "metadata": {
    "collapsed": false,
    "ExecuteTime": {
     "end_time": "2023-11-11T14:25:37.932029196Z",
     "start_time": "2023-11-11T14:25:37.638709086Z"
    }
   },
   "id": "e395e9dfc9a6c58c"
  },
  {
   "cell_type": "markdown",
   "source": [
    "# Data Splitting : test and train data generation "
   ],
   "metadata": {
    "collapsed": false
   },
   "id": "de4a56df0516f18b"
  },
  {
   "cell_type": "code",
   "execution_count": 227,
   "outputs": [
    {
     "data": {
      "text/plain": "((77, 5), (77,), (20, 5), (20,))"
     },
     "execution_count": 227,
     "metadata": {},
     "output_type": "execute_result"
    }
   ],
   "source": [
    "def dynamic_data_split(X, y, ratio_train):\n",
    "    \"\"\"\n",
    "    Splits data and labels into training, validation, and test sets.\n",
    "\n",
    "    Args:\n",
    "        X (a 2D numpy.ndarray): Data.\n",
    "        y (numpy.ndarray): Labels.\n",
    "        ratio_train (float): Ratio for training data.\n",
    "\n",
    "    Returns:\n",
    "        tuple: (X_train, y_train, X_val, y_val, X_test, y_test).\n",
    "    \"\"\"\n",
    "    total_samples = X.shape[0]\n",
    "\n",
    "    train_samples = int(ratio_train * total_samples)  \n",
    "    \n",
    "    X_train, y_train = X[:train_samples], y[:train_samples]\n",
    "    X_test, y_test = X[train_samples:], y[train_samples:]\n",
    "\n",
    "    return X_train, y_train, X_test, y_test\n",
    "\n",
    "\n",
    "train_ratio = 0.8\n",
    "test_ratio = 0.2\n",
    "\n",
    "features_train, targets_train, features_test, targets_test = dynamic_data_split(features,targets , train_ratio)\n",
    "\n",
    "features_train.shape,targets_train.shape, features_test.shape, targets_test.shape"
   ],
   "metadata": {
    "collapsed": false,
    "ExecuteTime": {
     "end_time": "2023-11-11T14:25:37.933794114Z",
     "start_time": "2023-11-11T14:25:37.684493146Z"
    }
   },
   "id": "2026e4fa415de371"
  },
  {
   "cell_type": "code",
   "execution_count": 228,
   "outputs": [],
   "source": [
    "import numpy as np\n",
    "import pandas as pd\n",
    "from sklearn.model_selection import cross_val_score\n",
    "from sklearn.linear_model import LinearRegression\n",
    "from sklearn.model_selection import GridSearchCV, RandomizedSearchCV\n",
    "from sklearn.datasets import make_regression\n",
    "import xgboost"
   ],
   "metadata": {
    "collapsed": false,
    "ExecuteTime": {
     "end_time": "2023-11-11T14:25:37.933976781Z",
     "start_time": "2023-11-11T14:25:37.732894666Z"
    }
   },
   "id": "e52da784f3e93104"
  },
  {
   "cell_type": "markdown",
   "source": [
    "# Cross Validating Linear Regression model and XGBoost Regression.\n",
    "### -------->>>> Allows us get a quick estimate on which model performs better on our dataset.\n",
    "## 1.Linear Regressor"
   ],
   "metadata": {
    "collapsed": false
   },
   "id": "fbc143424e26df80"
  },
  {
   "cell_type": "code",
   "execution_count": 229,
   "outputs": [
    {
     "name": "stdout",
     "output_type": "stream",
     "text": [
      "Linear Regression Cross-Validation Scores: [-0.51828255 -0.17242521 -0.13913003 -0.104693   -0.1590361 ]\n",
      "\n",
      "Average Performance Metric: -0.22\n"
     ]
    }
   ],
   "source": [
    "model = LinearRegression()\n",
    "\n",
    "# Perform k-fold cross-validation for the L. regression model (let's say k=5)\n",
    "cross_val_scores = cross_val_score(model, features, targets, cv=5, scoring='neg_mean_squared_error')\n",
    "\n",
    "print(\"Linear Regression Cross-Validation Scores:\", end=' ')\n",
    "print(cross_val_scores)\n",
    "\n",
    "average_score = np.mean(cross_val_scores)\n",
    "print(f\"\\nAverage Performance Metric: {average_score:.2f}\")\n"
   ],
   "metadata": {
    "collapsed": false,
    "ExecuteTime": {
     "end_time": "2023-11-11T14:25:37.934229074Z",
     "start_time": "2023-11-11T14:25:37.733135413Z"
    }
   },
   "id": "27991c6803a4c8bc"
  },
  {
   "cell_type": "markdown",
   "source": [
    "## 2. Extreme Gradient Boosting Regressor"
   ],
   "metadata": {
    "collapsed": false
   },
   "id": "3a57c6849944af8c"
  },
  {
   "cell_type": "code",
   "execution_count": 230,
   "outputs": [
    {
     "name": "stdout",
     "output_type": "stream",
     "text": [
      "Gradient Boosting Regressor Cross-Validation Scores: [-1.0550983  -0.35816781 -0.35275916 -0.13476207 -0.1505617 ]\n",
      "\n",
      "Average Performance Metric: -0.41\n"
     ]
    }
   ],
   "source": [
    "\n",
    "model = xgboost.XGBRegressor(objective='reg:squarederror')  # Specifies regression objective\n",
    "\n",
    "cross_val_scores = cross_val_score(model, features, targets, cv=5, scoring='neg_mean_squared_error')\n",
    "\n",
    "print(\"Gradient Boosting Regressor Cross-Validation Scores:\", end=' ')\n",
    "print(cross_val_scores)\n",
    "\n",
    "average_score = np.mean(cross_val_scores)\n",
    "print(f\"\\nAverage Performance Metric: {average_score:.2f}\")\n"
   ],
   "metadata": {
    "collapsed": false,
    "ExecuteTime": {
     "end_time": "2023-11-11T14:25:39.337730057Z",
     "start_time": "2023-11-11T14:25:37.733412533Z"
    }
   },
   "id": "bc227d3bc93abacf"
  },
  {
   "cell_type": "code",
   "execution_count": null,
   "outputs": [
    {
     "name": "stderr",
     "output_type": "stream",
     "text": [
      "/home/kering/Desktop/MachineLearningProjects/KnowledgeBasedSystemsML/KnowledgeBasedSystemsVenv/lib/python3.10/site-packages/xgboost/core.py:160: UserWarning: [17:25:38] WARNING: /workspace/src/learner.cc:742: \n",
      "Parameters: { \"max_depth\", \"min_child_weight\" } are not used.\n",
      "\n",
      "  warnings.warn(smsg, UserWarning)\n",
      "/home/kering/Desktop/MachineLearningProjects/KnowledgeBasedSystemsML/KnowledgeBasedSystemsVenv/lib/python3.10/site-packages/xgboost/core.py:160: UserWarning: [17:25:38] WARNING: /workspace/src/learner.cc:742: \n",
      "Parameters: { \"max_depth\", \"min_child_weight\" } are not used.\n",
      "\n",
      "  warnings.warn(smsg, UserWarning)\n",
      "/home/kering/Desktop/MachineLearningProjects/KnowledgeBasedSystemsML/KnowledgeBasedSystemsVenv/lib/python3.10/site-packages/xgboost/core.py:160: UserWarning: [17:25:38] WARNING: /workspace/src/learner.cc:742: \n",
      "Parameters: { \"max_depth\", \"min_child_weight\" } are not used.\n",
      "\n",
      "  warnings.warn(smsg, UserWarning)\n",
      "/home/kering/Desktop/MachineLearningProjects/KnowledgeBasedSystemsML/KnowledgeBasedSystemsVenv/lib/python3.10/site-packages/xgboost/core.py:160: UserWarning: [17:25:38] WARNING: /workspace/src/learner.cc:742: \n",
      "Parameters: { \"max_depth\", \"min_child_weight\" } are not used.\n",
      "\n",
      "  warnings.warn(smsg, UserWarning)\n",
      "/home/kering/Desktop/MachineLearningProjects/KnowledgeBasedSystemsML/KnowledgeBasedSystemsVenv/lib/python3.10/site-packages/xgboost/core.py:160: UserWarning: [17:25:38] WARNING: /workspace/src/learner.cc:742: \n",
      "Parameters: { \"max_depth\", \"min_child_weight\" } are not used.\n",
      "\n",
      "  warnings.warn(smsg, UserWarning)\n",
      "/home/kering/Desktop/MachineLearningProjects/KnowledgeBasedSystemsML/KnowledgeBasedSystemsVenv/lib/python3.10/site-packages/xgboost/core.py:160: UserWarning: [17:25:38] WARNING: /workspace/src/learner.cc:742: \n",
      "Parameters: { \"max_depth\", \"min_child_weight\" } are not used.\n",
      "\n",
      "  warnings.warn(smsg, UserWarning)\n",
      "/home/kering/Desktop/MachineLearningProjects/KnowledgeBasedSystemsML/KnowledgeBasedSystemsVenv/lib/python3.10/site-packages/xgboost/core.py:160: UserWarning: [17:25:38] WARNING: /workspace/src/learner.cc:742: \n",
      "Parameters: { \"max_depth\", \"min_child_weight\" } are not used.\n",
      "\n",
      "  warnings.warn(smsg, UserWarning)\n",
      "/home/kering/Desktop/MachineLearningProjects/KnowledgeBasedSystemsML/KnowledgeBasedSystemsVenv/lib/python3.10/site-packages/xgboost/core.py:160: UserWarning: [17:25:38] WARNING: /workspace/src/learner.cc:742: \n",
      "Parameters: { \"max_depth\", \"min_child_weight\" } are not used.\n",
      "\n",
      "  warnings.warn(smsg, UserWarning)\n",
      "/home/kering/Desktop/MachineLearningProjects/KnowledgeBasedSystemsML/KnowledgeBasedSystemsVenv/lib/python3.10/site-packages/xgboost/core.py:160: UserWarning: [17:25:38] WARNING: /workspace/src/learner.cc:742: \n",
      "Parameters: { \"max_depth\", \"min_child_weight\" } are not used.\n",
      "\n",
      "  warnings.warn(smsg, UserWarning)\n",
      "/home/kering/Desktop/MachineLearningProjects/KnowledgeBasedSystemsML/KnowledgeBasedSystemsVenv/lib/python3.10/site-packages/xgboost/core.py:160: UserWarning: [17:25:38] WARNING: /workspace/src/learner.cc:742: \n",
      "Parameters: { \"max_depth\", \"min_child_weight\" } are not used.\n",
      "\n",
      "  warnings.warn(smsg, UserWarning)\n",
      "/home/kering/Desktop/MachineLearningProjects/KnowledgeBasedSystemsML/KnowledgeBasedSystemsVenv/lib/python3.10/site-packages/xgboost/core.py:160: UserWarning: [17:25:38] WARNING: /workspace/src/learner.cc:742: \n",
      "Parameters: { \"max_depth\", \"min_child_weight\" } are not used.\n",
      "\n",
      "  warnings.warn(smsg, UserWarning)\n",
      "/home/kering/Desktop/MachineLearningProjects/KnowledgeBasedSystemsML/KnowledgeBasedSystemsVenv/lib/python3.10/site-packages/xgboost/core.py:160: UserWarning: [17:25:38] WARNING: /workspace/src/learner.cc:742: \n",
      "Parameters: { \"max_depth\", \"min_child_weight\" } are not used.\n",
      "\n",
      "  warnings.warn(smsg, UserWarning)\n",
      "/home/kering/Desktop/MachineLearningProjects/KnowledgeBasedSystemsML/KnowledgeBasedSystemsVenv/lib/python3.10/site-packages/xgboost/core.py:160: UserWarning: [17:25:38] WARNING: /workspace/src/learner.cc:742: \n",
      "Parameters: { \"max_depth\", \"min_child_weight\" } are not used.\n",
      "\n",
      "  warnings.warn(smsg, UserWarning)\n",
      "/home/kering/Desktop/MachineLearningProjects/KnowledgeBasedSystemsML/KnowledgeBasedSystemsVenv/lib/python3.10/site-packages/xgboost/core.py:160: UserWarning: [17:25:38] WARNING: /workspace/src/learner.cc:742: \n",
      "Parameters: { \"max_depth\", \"min_child_weight\" } are not used.\n",
      "\n",
      "  warnings.warn(smsg, UserWarning)\n",
      "/home/kering/Desktop/MachineLearningProjects/KnowledgeBasedSystemsML/KnowledgeBasedSystemsVenv/lib/python3.10/site-packages/xgboost/core.py:160: UserWarning: [17:25:38] WARNING: /workspace/src/learner.cc:742: \n",
      "Parameters: { \"max_depth\", \"min_child_weight\" } are not used.\n",
      "\n",
      "  warnings.warn(smsg, UserWarning)\n",
      "/home/kering/Desktop/MachineLearningProjects/KnowledgeBasedSystemsML/KnowledgeBasedSystemsVenv/lib/python3.10/site-packages/xgboost/core.py:160: UserWarning: [17:25:39] WARNING: /workspace/src/learner.cc:742: \n",
      "Parameters: { \"max_depth\", \"min_child_weight\" } are not used.\n",
      "\n",
      "  warnings.warn(smsg, UserWarning)\n",
      "/home/kering/Desktop/MachineLearningProjects/KnowledgeBasedSystemsML/KnowledgeBasedSystemsVenv/lib/python3.10/site-packages/xgboost/core.py:160: UserWarning: [17:25:39] WARNING: /workspace/src/learner.cc:742: \n",
      "Parameters: { \"max_depth\", \"min_child_weight\" } are not used.\n",
      "\n",
      "  warnings.warn(smsg, UserWarning)\n",
      "/home/kering/Desktop/MachineLearningProjects/KnowledgeBasedSystemsML/KnowledgeBasedSystemsVenv/lib/python3.10/site-packages/xgboost/core.py:160: UserWarning: [17:25:39] WARNING: /workspace/src/learner.cc:742: \n",
      "Parameters: { \"max_depth\", \"min_child_weight\" } are not used.\n",
      "\n",
      "  warnings.warn(smsg, UserWarning)\n",
      "/home/kering/Desktop/MachineLearningProjects/KnowledgeBasedSystemsML/KnowledgeBasedSystemsVenv/lib/python3.10/site-packages/xgboost/core.py:160: UserWarning: [17:25:39] WARNING: /workspace/src/learner.cc:742: \n",
      "Parameters: { \"max_depth\", \"min_child_weight\" } are not used.\n",
      "\n",
      "  warnings.warn(smsg, UserWarning)\n",
      "/home/kering/Desktop/MachineLearningProjects/KnowledgeBasedSystemsML/KnowledgeBasedSystemsVenv/lib/python3.10/site-packages/xgboost/core.py:160: UserWarning: [17:25:39] WARNING: /workspace/src/learner.cc:742: \n",
      "Parameters: { \"max_depth\", \"min_child_weight\" } are not used.\n",
      "\n",
      "  warnings.warn(smsg, UserWarning)\n",
      "/home/kering/Desktop/MachineLearningProjects/KnowledgeBasedSystemsML/KnowledgeBasedSystemsVenv/lib/python3.10/site-packages/xgboost/core.py:160: UserWarning: [17:25:40] WARNING: /workspace/src/learner.cc:742: \n",
      "Parameters: { \"max_depth\", \"min_child_weight\" } are not used.\n",
      "\n",
      "  warnings.warn(smsg, UserWarning)\n",
      "/home/kering/Desktop/MachineLearningProjects/KnowledgeBasedSystemsML/KnowledgeBasedSystemsVenv/lib/python3.10/site-packages/xgboost/core.py:160: UserWarning: [17:25:40] WARNING: /workspace/src/learner.cc:742: \n",
      "Parameters: { \"max_depth\", \"min_child_weight\" } are not used.\n",
      "\n",
      "  warnings.warn(smsg, UserWarning)\n",
      "/home/kering/Desktop/MachineLearningProjects/KnowledgeBasedSystemsML/KnowledgeBasedSystemsVenv/lib/python3.10/site-packages/xgboost/core.py:160: UserWarning: [17:25:40] WARNING: /workspace/src/learner.cc:742: \n",
      "Parameters: { \"max_depth\", \"min_child_weight\" } are not used.\n",
      "\n",
      "  warnings.warn(smsg, UserWarning)\n",
      "/home/kering/Desktop/MachineLearningProjects/KnowledgeBasedSystemsML/KnowledgeBasedSystemsVenv/lib/python3.10/site-packages/xgboost/core.py:160: UserWarning: [17:25:40] WARNING: /workspace/src/learner.cc:742: \n",
      "Parameters: { \"max_depth\", \"min_child_weight\" } are not used.\n",
      "\n",
      "  warnings.warn(smsg, UserWarning)\n",
      "/home/kering/Desktop/MachineLearningProjects/KnowledgeBasedSystemsML/KnowledgeBasedSystemsVenv/lib/python3.10/site-packages/xgboost/core.py:160: UserWarning: [17:25:40] WARNING: /workspace/src/learner.cc:742: \n",
      "Parameters: { \"max_depth\", \"min_child_weight\" } are not used.\n",
      "\n",
      "  warnings.warn(smsg, UserWarning)\n",
      "/home/kering/Desktop/MachineLearningProjects/KnowledgeBasedSystemsML/KnowledgeBasedSystemsVenv/lib/python3.10/site-packages/xgboost/core.py:160: UserWarning: [17:25:40] WARNING: /workspace/src/learner.cc:742: \n",
      "Parameters: { \"max_depth\", \"min_child_weight\" } are not used.\n",
      "\n",
      "  warnings.warn(smsg, UserWarning)\n",
      "/home/kering/Desktop/MachineLearningProjects/KnowledgeBasedSystemsML/KnowledgeBasedSystemsVenv/lib/python3.10/site-packages/xgboost/core.py:160: UserWarning: [17:25:40] WARNING: /workspace/src/learner.cc:742: \n",
      "Parameters: { \"max_depth\", \"min_child_weight\" } are not used.\n",
      "\n",
      "  warnings.warn(smsg, UserWarning)\n",
      "/home/kering/Desktop/MachineLearningProjects/KnowledgeBasedSystemsML/KnowledgeBasedSystemsVenv/lib/python3.10/site-packages/xgboost/core.py:160: UserWarning: [17:25:40] WARNING: /workspace/src/learner.cc:742: \n",
      "Parameters: { \"max_depth\", \"min_child_weight\" } are not used.\n",
      "\n",
      "  warnings.warn(smsg, UserWarning)\n",
      "/home/kering/Desktop/MachineLearningProjects/KnowledgeBasedSystemsML/KnowledgeBasedSystemsVenv/lib/python3.10/site-packages/xgboost/core.py:160: UserWarning: [17:25:40] WARNING: /workspace/src/learner.cc:742: \n",
      "Parameters: { \"max_depth\", \"min_child_weight\" } are not used.\n",
      "\n",
      "  warnings.warn(smsg, UserWarning)\n",
      "/home/kering/Desktop/MachineLearningProjects/KnowledgeBasedSystemsML/KnowledgeBasedSystemsVenv/lib/python3.10/site-packages/xgboost/core.py:160: UserWarning: [17:25:40] WARNING: /workspace/src/learner.cc:742: \n",
      "Parameters: { \"max_depth\", \"min_child_weight\" } are not used.\n",
      "\n",
      "  warnings.warn(smsg, UserWarning)\n",
      "/home/kering/Desktop/MachineLearningProjects/KnowledgeBasedSystemsML/KnowledgeBasedSystemsVenv/lib/python3.10/site-packages/xgboost/core.py:160: UserWarning: [17:25:40] WARNING: /workspace/src/learner.cc:742: \n",
      "Parameters: { \"max_depth\", \"min_child_weight\" } are not used.\n",
      "\n",
      "  warnings.warn(smsg, UserWarning)\n",
      "/home/kering/Desktop/MachineLearningProjects/KnowledgeBasedSystemsML/KnowledgeBasedSystemsVenv/lib/python3.10/site-packages/xgboost/core.py:160: UserWarning: [17:25:40] WARNING: /workspace/src/learner.cc:742: \n",
      "Parameters: { \"max_depth\", \"min_child_weight\" } are not used.\n",
      "\n",
      "  warnings.warn(smsg, UserWarning)\n",
      "/home/kering/Desktop/MachineLearningProjects/KnowledgeBasedSystemsML/KnowledgeBasedSystemsVenv/lib/python3.10/site-packages/xgboost/core.py:160: UserWarning: [17:25:40] WARNING: /workspace/src/learner.cc:742: \n",
      "Parameters: { \"max_depth\", \"min_child_weight\" } are not used.\n",
      "\n",
      "  warnings.warn(smsg, UserWarning)\n",
      "/home/kering/Desktop/MachineLearningProjects/KnowledgeBasedSystemsML/KnowledgeBasedSystemsVenv/lib/python3.10/site-packages/xgboost/core.py:160: UserWarning: [17:25:40] WARNING: /workspace/src/learner.cc:742: \n",
      "Parameters: { \"max_depth\", \"min_child_weight\" } are not used.\n",
      "\n",
      "  warnings.warn(smsg, UserWarning)\n",
      "/home/kering/Desktop/MachineLearningProjects/KnowledgeBasedSystemsML/KnowledgeBasedSystemsVenv/lib/python3.10/site-packages/xgboost/core.py:160: UserWarning: [17:25:40] WARNING: /workspace/src/learner.cc:742: \n",
      "Parameters: { \"max_depth\", \"min_child_weight\" } are not used.\n",
      "\n",
      "  warnings.warn(smsg, UserWarning)\n",
      "/home/kering/Desktop/MachineLearningProjects/KnowledgeBasedSystemsML/KnowledgeBasedSystemsVenv/lib/python3.10/site-packages/xgboost/core.py:160: UserWarning: [17:25:40] WARNING: /workspace/src/learner.cc:742: \n",
      "Parameters: { \"max_depth\", \"min_child_weight\" } are not used.\n",
      "\n",
      "  warnings.warn(smsg, UserWarning)\n",
      "/home/kering/Desktop/MachineLearningProjects/KnowledgeBasedSystemsML/KnowledgeBasedSystemsVenv/lib/python3.10/site-packages/xgboost/core.py:160: UserWarning: [17:25:40] WARNING: /workspace/src/learner.cc:742: \n",
      "Parameters: { \"max_depth\", \"min_child_weight\" } are not used.\n",
      "\n",
      "  warnings.warn(smsg, UserWarning)\n",
      "/home/kering/Desktop/MachineLearningProjects/KnowledgeBasedSystemsML/KnowledgeBasedSystemsVenv/lib/python3.10/site-packages/xgboost/core.py:160: UserWarning: [17:25:40] WARNING: /workspace/src/learner.cc:742: \n",
      "Parameters: { \"max_depth\", \"min_child_weight\" } are not used.\n",
      "\n",
      "  warnings.warn(smsg, UserWarning)\n",
      "/home/kering/Desktop/MachineLearningProjects/KnowledgeBasedSystemsML/KnowledgeBasedSystemsVenv/lib/python3.10/site-packages/xgboost/core.py:160: UserWarning: [17:25:40] WARNING: /workspace/src/learner.cc:742: \n",
      "Parameters: { \"max_depth\", \"min_child_weight\" } are not used.\n",
      "\n",
      "  warnings.warn(smsg, UserWarning)\n",
      "/home/kering/Desktop/MachineLearningProjects/KnowledgeBasedSystemsML/KnowledgeBasedSystemsVenv/lib/python3.10/site-packages/xgboost/core.py:160: UserWarning: [17:25:41] WARNING: /workspace/src/learner.cc:742: \n",
      "Parameters: { \"max_depth\", \"min_child_weight\" } are not used.\n",
      "\n",
      "  warnings.warn(smsg, UserWarning)\n"
     ]
    }
   ],
   "source": [
    "base_model = xgboost.XGBRegressor(objective='reg:squarederror', random_state=42)\n",
    "hyper_parameter_grid ={\n",
    "    'n_estimators': [100, 200, 300,500,1000],\n",
    "    'learning_rate': [0.01,0.15, 0.1, 0.2],\n",
    "    'booster':['gbtree','gblinear'],\n",
    "    'max_depth': [3, 5,7,15],\n",
    "    'min_child_weight': [1, 3,5,7,9,10],\n",
    "\n",
    "}\n",
    "grid_search =RandomizedSearchCV(\n",
    "    estimator=base_model, \n",
    "    param_distributions= hyper_parameter_grid,\n",
    "    cv=5,\n",
    "    n_iter=100, \n",
    "    scoring='neg_mean_squared_error', \n",
    "    n_jobs=-1\n",
    ")\n",
    "# grid_search =GridSearchCV(estimator=base_model, param_grid= hyper_parameter_grid, cv=5, scoring='neg_mean_squared_error', n_jobs=-1)\n",
    "\n",
    "grid_search.fit(features_train, targets_train)\n"
   ],
   "metadata": {
    "collapsed": false,
    "is_executing": true,
    "ExecuteTime": {
     "start_time": "2023-11-11T14:25:38.473925054Z"
    }
   },
   "id": "b26f65d1f80c9c78"
  },
  {
   "cell_type": "code",
   "execution_count": null,
   "outputs": [],
   "source": [
    "best_params = grid_search.best_params_\n",
    "best_params"
   ],
   "metadata": {
    "collapsed": false,
    "is_executing": true
   },
   "id": "3a94529aae1cf71b"
  },
  {
   "cell_type": "code",
   "execution_count": null,
   "outputs": [],
   "source": [
    "grid_search_cv_best_results = {\n",
    "    'colsample_bytree': 1.0,\n",
    "    'learning_rate': 0.01,\n",
    "    'max_depth': 5,\n",
    "    'min_child_weight': 5,\n",
    "    'n_estimators': 300,\n",
    "    'subsample': 1.0\n",
    "}\n",
    "final_model = xgboost.XGBRegressor(objective='reg:squarederror', random_state=42, ** grid_search_cv_best_results)\n",
    "final_model.fit(features_train, targets_train)"
   ],
   "metadata": {
    "collapsed": false,
    "is_executing": true
   },
   "id": "5e5b322acd88a003"
  },
  {
   "cell_type": "code",
   "execution_count": null,
   "outputs": [],
   "source": [
    "import pandas as pd\n",
    "\n",
    "predicted_stock_prices = final_model.predict(features_test)\n",
    "resultDf = pd.DataFrame(data = {\n",
    "    'Actual':targets_test,\n",
    "    'Predictions':predicted_stock_prices.flatten(),    \n",
    "})\n",
    "resultDf"
   ],
   "metadata": {
    "collapsed": false,
    "is_executing": true
   },
   "id": "50dade0dbf0f671d"
  },
  {
   "cell_type": "code",
   "execution_count": null,
   "outputs": [],
   "source": [
    "import matplotlib.pyplot as plt \n",
    "plt.plot(targets_test, color = 'red', label = 'Actual Stock Price')\n",
    "plt.plot(predicted_stock_prices, color = 'green', label = 'Predicted Stock Price')\n",
    "plt.title(random_company_code + ' Stock Price Prediction')\n",
    "plt.xlabel('Time')\n",
    "plt.ylabel('Stock Price')\n",
    "plt.legend()\n",
    "plt.show()\n"
   ],
   "metadata": {
    "collapsed": false,
    "is_executing": true
   },
   "id": "c177b7c75585ea82"
  }
 ],
 "metadata": {
  "kernelspec": {
   "display_name": "Python 3",
   "language": "python",
   "name": "python3"
  },
  "language_info": {
   "codemirror_mode": {
    "name": "ipython",
    "version": 2
   },
   "file_extension": ".py",
   "mimetype": "text/x-python",
   "name": "python",
   "nbconvert_exporter": "python",
   "pygments_lexer": "ipython2",
   "version": "2.7.6"
  }
 },
 "nbformat": 4,
 "nbformat_minor": 5
}
