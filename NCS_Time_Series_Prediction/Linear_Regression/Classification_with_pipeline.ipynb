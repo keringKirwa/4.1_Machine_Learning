{
 "cells": [
  {
   "cell_type": "markdown",
   "source": [
    "# The binary classification task"
   ],
   "metadata": {
    "collapsed": false
   },
   "id": "3da43e9373095a93"
  },
  {
   "cell_type": "code",
   "execution_count": 556,
   "outputs": [],
   "source": [
    "import pandas as pd\n",
    "import numpy as np\n",
    "np.random.seed(42)"
   ],
   "metadata": {
    "collapsed": false,
    "ExecuteTime": {
     "end_time": "2023-11-13T13:57:21.277562167Z",
     "start_time": "2023-11-13T13:57:21.158152970Z"
    }
   },
   "id": "9ff009812bab8f3b"
  },
  {
   "cell_type": "code",
   "execution_count": 557,
   "outputs": [
    {
     "data": {
      "text/plain": "           Date  Code                        Name   12m Low  12m High  \\\n0      3-Jan-22  EGAD                 Eaagads Ltd        10        15   \n1      3-Jan-22  KUKZ                  Kakuzi Plc       355       427   \n2      3-Jan-22  KAPC     Kapchorua Tea Kenya Plc        80       101   \n3      3-Jan-22  LIMT              Limuru Tea Plc       260       360   \n4      3-Jan-22  SASN                  Sasini Plc     16.75      22.6   \n...         ...   ...                         ...       ...       ...   \n6727  31-May-22   MSC    Mumias Sugar Company Ltd      0.27      0.27   \n6728  31-May-22  UNGA              Unga Group Ltd      26.1      36.4   \n6729  31-May-22  SCOM               Safaricom Plc      25.5     45.25   \n6730  31-May-22  FAHR  Stanlib Fahari Income-REIT         5      7.48   \n6731  31-May-22   GLD            ABSA NewGold ETF  1,780.00  2,135.00   \n\n       Day Low  Day High Day Price  Previous Change Change%      Volume  \\\n0         13.5      13.8      13.5      13.5      -       -       4,000   \n1          385       385       385       385      -       -           -   \n2         99.5      99.5      99.5      95.5      4   4.19%         100   \n3          320       320       320       320      -       -           -   \n4         18.7      18.7      18.7      18.7      -       -           -   \n...        ...       ...       ...       ...    ...     ...         ...   \n6727      0.27      0.27      0.27      0.27      -       -           -   \n6728        29        29        29        30     -1   3.33%       2,100   \n6729     25.95     26.45        26     26.25  -0.25   0.95%  20,079,900   \n6730       5.5       5.6      5.56      5.58  -0.02   0.36%      11,700   \n6731  2,135.00  2,135.00  2,135.00  2,135.00      -       -           -   \n\n     Adjusted Price  \n0                 -  \n1                 -  \n2                 -  \n3                 -  \n4                 -  \n...             ...  \n6727              -  \n6728              -  \n6729              -  \n6730              -  \n6731              -  \n\n[6732 rows x 13 columns]",
      "text/html": "<div>\n<style scoped>\n    .dataframe tbody tr th:only-of-type {\n        vertical-align: middle;\n    }\n\n    .dataframe tbody tr th {\n        vertical-align: top;\n    }\n\n    .dataframe thead th {\n        text-align: right;\n    }\n</style>\n<table border=\"1\" class=\"dataframe\">\n  <thead>\n    <tr style=\"text-align: right;\">\n      <th></th>\n      <th>Date</th>\n      <th>Code</th>\n      <th>Name</th>\n      <th>12m Low</th>\n      <th>12m High</th>\n      <th>Day Low</th>\n      <th>Day High</th>\n      <th>Day Price</th>\n      <th>Previous</th>\n      <th>Change</th>\n      <th>Change%</th>\n      <th>Volume</th>\n      <th>Adjusted Price</th>\n    </tr>\n  </thead>\n  <tbody>\n    <tr>\n      <th>0</th>\n      <td>3-Jan-22</td>\n      <td>EGAD</td>\n      <td>Eaagads Ltd</td>\n      <td>10</td>\n      <td>15</td>\n      <td>13.5</td>\n      <td>13.8</td>\n      <td>13.5</td>\n      <td>13.5</td>\n      <td>-</td>\n      <td>-</td>\n      <td>4,000</td>\n      <td>-</td>\n    </tr>\n    <tr>\n      <th>1</th>\n      <td>3-Jan-22</td>\n      <td>KUKZ</td>\n      <td>Kakuzi Plc</td>\n      <td>355</td>\n      <td>427</td>\n      <td>385</td>\n      <td>385</td>\n      <td>385</td>\n      <td>385</td>\n      <td>-</td>\n      <td>-</td>\n      <td>-</td>\n      <td>-</td>\n    </tr>\n    <tr>\n      <th>2</th>\n      <td>3-Jan-22</td>\n      <td>KAPC</td>\n      <td>Kapchorua Tea Kenya Plc</td>\n      <td>80</td>\n      <td>101</td>\n      <td>99.5</td>\n      <td>99.5</td>\n      <td>99.5</td>\n      <td>95.5</td>\n      <td>4</td>\n      <td>4.19%</td>\n      <td>100</td>\n      <td>-</td>\n    </tr>\n    <tr>\n      <th>3</th>\n      <td>3-Jan-22</td>\n      <td>LIMT</td>\n      <td>Limuru Tea Plc</td>\n      <td>260</td>\n      <td>360</td>\n      <td>320</td>\n      <td>320</td>\n      <td>320</td>\n      <td>320</td>\n      <td>-</td>\n      <td>-</td>\n      <td>-</td>\n      <td>-</td>\n    </tr>\n    <tr>\n      <th>4</th>\n      <td>3-Jan-22</td>\n      <td>SASN</td>\n      <td>Sasini Plc</td>\n      <td>16.75</td>\n      <td>22.6</td>\n      <td>18.7</td>\n      <td>18.7</td>\n      <td>18.7</td>\n      <td>18.7</td>\n      <td>-</td>\n      <td>-</td>\n      <td>-</td>\n      <td>-</td>\n    </tr>\n    <tr>\n      <th>...</th>\n      <td>...</td>\n      <td>...</td>\n      <td>...</td>\n      <td>...</td>\n      <td>...</td>\n      <td>...</td>\n      <td>...</td>\n      <td>...</td>\n      <td>...</td>\n      <td>...</td>\n      <td>...</td>\n      <td>...</td>\n      <td>...</td>\n    </tr>\n    <tr>\n      <th>6727</th>\n      <td>31-May-22</td>\n      <td>MSC</td>\n      <td>Mumias Sugar Company Ltd</td>\n      <td>0.27</td>\n      <td>0.27</td>\n      <td>0.27</td>\n      <td>0.27</td>\n      <td>0.27</td>\n      <td>0.27</td>\n      <td>-</td>\n      <td>-</td>\n      <td>-</td>\n      <td>-</td>\n    </tr>\n    <tr>\n      <th>6728</th>\n      <td>31-May-22</td>\n      <td>UNGA</td>\n      <td>Unga Group Ltd</td>\n      <td>26.1</td>\n      <td>36.4</td>\n      <td>29</td>\n      <td>29</td>\n      <td>29</td>\n      <td>30</td>\n      <td>-1</td>\n      <td>3.33%</td>\n      <td>2,100</td>\n      <td>-</td>\n    </tr>\n    <tr>\n      <th>6729</th>\n      <td>31-May-22</td>\n      <td>SCOM</td>\n      <td>Safaricom Plc</td>\n      <td>25.5</td>\n      <td>45.25</td>\n      <td>25.95</td>\n      <td>26.45</td>\n      <td>26</td>\n      <td>26.25</td>\n      <td>-0.25</td>\n      <td>0.95%</td>\n      <td>20,079,900</td>\n      <td>-</td>\n    </tr>\n    <tr>\n      <th>6730</th>\n      <td>31-May-22</td>\n      <td>FAHR</td>\n      <td>Stanlib Fahari Income-REIT</td>\n      <td>5</td>\n      <td>7.48</td>\n      <td>5.5</td>\n      <td>5.6</td>\n      <td>5.56</td>\n      <td>5.58</td>\n      <td>-0.02</td>\n      <td>0.36%</td>\n      <td>11,700</td>\n      <td>-</td>\n    </tr>\n    <tr>\n      <th>6731</th>\n      <td>31-May-22</td>\n      <td>GLD</td>\n      <td>ABSA NewGold ETF</td>\n      <td>1,780.00</td>\n      <td>2,135.00</td>\n      <td>2,135.00</td>\n      <td>2,135.00</td>\n      <td>2,135.00</td>\n      <td>2,135.00</td>\n      <td>-</td>\n      <td>-</td>\n      <td>-</td>\n      <td>-</td>\n    </tr>\n  </tbody>\n</table>\n<p>6732 rows × 13 columns</p>\n</div>"
     },
     "execution_count": 557,
     "metadata": {},
     "output_type": "execute_result"
    }
   ],
   "source": [
    "df = pd.read_csv('../NSE_data_all_stocks_2022_jan_to_may (1).csv')\n",
    "df"
   ],
   "metadata": {
    "collapsed": false,
    "ExecuteTime": {
     "end_time": "2023-11-13T13:57:21.306395019Z",
     "start_time": "2023-11-13T13:57:21.175163102Z"
    }
   },
   "id": "1cc1f53ef3c64554"
  },
  {
   "cell_type": "code",
   "execution_count": 558,
   "outputs": [
    {
     "data": {
      "text/plain": "   Code  Day Price  Previous  Day High   Day Low  12m High   12m Low\n0  EQTY      52.75  0.981321  1.460874  0.573653       0.0 -0.729344\n1  EQTY      53.25  0.981321  1.080603  1.276508       0.0 -0.729344",
      "text/html": "<div>\n<style scoped>\n    .dataframe tbody tr th:only-of-type {\n        vertical-align: middle;\n    }\n\n    .dataframe tbody tr th {\n        vertical-align: top;\n    }\n\n    .dataframe thead th {\n        text-align: right;\n    }\n</style>\n<table border=\"1\" class=\"dataframe\">\n  <thead>\n    <tr style=\"text-align: right;\">\n      <th></th>\n      <th>Code</th>\n      <th>Day Price</th>\n      <th>Previous</th>\n      <th>Day High</th>\n      <th>Day Low</th>\n      <th>12m High</th>\n      <th>12m Low</th>\n    </tr>\n  </thead>\n  <tbody>\n    <tr>\n      <th>0</th>\n      <td>EQTY</td>\n      <td>52.75</td>\n      <td>0.981321</td>\n      <td>1.460874</td>\n      <td>0.573653</td>\n      <td>0.0</td>\n      <td>-0.729344</td>\n    </tr>\n    <tr>\n      <th>1</th>\n      <td>EQTY</td>\n      <td>53.25</td>\n      <td>0.981321</td>\n      <td>1.080603</td>\n      <td>1.276508</td>\n      <td>0.0</td>\n      <td>-0.729344</td>\n    </tr>\n  </tbody>\n</table>\n</div>"
     },
     "metadata": {},
     "output_type": "display_data"
    },
    {
     "data": {
      "text/plain": "     Day Price  Previous  Day High   Day Low  12m High   12m Low\n0        52.75  0.981321  1.460874  0.573653       0.0 -0.729344\n1        53.25  0.981321  1.080603  1.276508       0.0 -0.729344\n2        53.00  1.161088  0.985535  1.276508       0.0 -0.729344\n3        53.00  1.071204  0.985535  1.276508       0.0 -0.729344\n4        53.00  1.071204  0.985535  1.276508       0.0 -0.729344\n..         ...       ...       ...       ...       ...       ...\n97       42.00 -2.883687 -2.550983 -2.677049       0.0  1.524992\n98       42.90 -2.883687 -2.531970 -2.589192       0.0  1.524992\n99       44.00 -2.560105 -2.151699 -2.062051       0.0  1.524992\n100      45.20 -2.164615 -1.771428 -1.570053       0.0  1.524992\n101      45.50 -1.733173 -1.771428 -1.534910       0.0  1.524992\n\n[102 rows x 6 columns]",
      "text/html": "<div>\n<style scoped>\n    .dataframe tbody tr th:only-of-type {\n        vertical-align: middle;\n    }\n\n    .dataframe tbody tr th {\n        vertical-align: top;\n    }\n\n    .dataframe thead th {\n        text-align: right;\n    }\n</style>\n<table border=\"1\" class=\"dataframe\">\n  <thead>\n    <tr style=\"text-align: right;\">\n      <th></th>\n      <th>Day Price</th>\n      <th>Previous</th>\n      <th>Day High</th>\n      <th>Day Low</th>\n      <th>12m High</th>\n      <th>12m Low</th>\n    </tr>\n  </thead>\n  <tbody>\n    <tr>\n      <th>0</th>\n      <td>52.75</td>\n      <td>0.981321</td>\n      <td>1.460874</td>\n      <td>0.573653</td>\n      <td>0.0</td>\n      <td>-0.729344</td>\n    </tr>\n    <tr>\n      <th>1</th>\n      <td>53.25</td>\n      <td>0.981321</td>\n      <td>1.080603</td>\n      <td>1.276508</td>\n      <td>0.0</td>\n      <td>-0.729344</td>\n    </tr>\n    <tr>\n      <th>2</th>\n      <td>53.00</td>\n      <td>1.161088</td>\n      <td>0.985535</td>\n      <td>1.276508</td>\n      <td>0.0</td>\n      <td>-0.729344</td>\n    </tr>\n    <tr>\n      <th>3</th>\n      <td>53.00</td>\n      <td>1.071204</td>\n      <td>0.985535</td>\n      <td>1.276508</td>\n      <td>0.0</td>\n      <td>-0.729344</td>\n    </tr>\n    <tr>\n      <th>4</th>\n      <td>53.00</td>\n      <td>1.071204</td>\n      <td>0.985535</td>\n      <td>1.276508</td>\n      <td>0.0</td>\n      <td>-0.729344</td>\n    </tr>\n    <tr>\n      <th>...</th>\n      <td>...</td>\n      <td>...</td>\n      <td>...</td>\n      <td>...</td>\n      <td>...</td>\n      <td>...</td>\n    </tr>\n    <tr>\n      <th>97</th>\n      <td>42.00</td>\n      <td>-2.883687</td>\n      <td>-2.550983</td>\n      <td>-2.677049</td>\n      <td>0.0</td>\n      <td>1.524992</td>\n    </tr>\n    <tr>\n      <th>98</th>\n      <td>42.90</td>\n      <td>-2.883687</td>\n      <td>-2.531970</td>\n      <td>-2.589192</td>\n      <td>0.0</td>\n      <td>1.524992</td>\n    </tr>\n    <tr>\n      <th>99</th>\n      <td>44.00</td>\n      <td>-2.560105</td>\n      <td>-2.151699</td>\n      <td>-2.062051</td>\n      <td>0.0</td>\n      <td>1.524992</td>\n    </tr>\n    <tr>\n      <th>100</th>\n      <td>45.20</td>\n      <td>-2.164615</td>\n      <td>-1.771428</td>\n      <td>-1.570053</td>\n      <td>0.0</td>\n      <td>1.524992</td>\n    </tr>\n    <tr>\n      <th>101</th>\n      <td>45.50</td>\n      <td>-1.733173</td>\n      <td>-1.771428</td>\n      <td>-1.534910</td>\n      <td>0.0</td>\n      <td>1.524992</td>\n    </tr>\n  </tbody>\n</table>\n<p>102 rows × 6 columns</p>\n</div>"
     },
     "execution_count": 558,
     "metadata": {},
     "output_type": "execute_result"
    }
   ],
   "source": [
    "#Custom Data cleaner \n",
    "import random\n",
    "from sklearn.base import BaseEstimator, TransformerMixin\n",
    "from sklearn.preprocessing import StandardScaler   \n",
    "nsc_scaler = StandardScaler()\n",
    "\n",
    "class NSEDataPreProcessor(BaseEstimator, TransformerMixin):\n",
    "    \n",
    "    def __init__(self,company_code ,columns_to_type_cast, columns_to_scale, columns_to_return):\n",
    "        self.company_code = company_code        \n",
    "        self.to_type_cast= columns_to_type_cast \n",
    "        self.to_return= columns_to_return\n",
    "        self.to_scale=columns_to_scale  #same as  columns_to_type_cast but has the company code.\n",
    "        \n",
    "        \n",
    "    def __type_cast_and_scale_xyz_df(self, xyz_data_frame):\n",
    "        for column_name in self.to_type_cast:\n",
    "            xyz_data_frame[column_name] = pd.to_numeric(xyz_data_frame[column_name], errors='coerce')\n",
    "        xyz_data_frame[self.to_scale] = nsc_scaler.fit_transform(xyz_data_frame[self.to_scale])\n",
    "        \n",
    "        \n",
    "        return xyz_data_frame[self.to_return]\n",
    "    \n",
    "    def fit(self, X, y=None):\n",
    "        return self      \n",
    "\n",
    "    def transform(self, X):  \n",
    "        \n",
    "        \"\"\"\n",
    "        X - NSC dataFrame\n",
    "        Selects the data for one company , then names it xyz_company_data_frame \n",
    "        NB: Scaler always return columns that are assignable to the dataframe.        \n",
    "        \"\"\"        \n",
    "        \n",
    "        xyz_company_data_frame = X[X['Code'] == self.company_code].reset_index(drop=True)\n",
    "        type_converted_xyz_company_df = self.__type_cast_and_scale_xyz_df(\n",
    "            xyz_company_data_frame       \n",
    "        )\n",
    "        \n",
    "        return type_converted_xyz_company_df\n",
    "    \n",
    "# 'Code','Day Price','Day High', 'Day High', '12m High', '12m Low' , 'Day Price','Day High', 'Day High', '12m High', '12m Low'\n",
    "\n",
    "random_company_code = random.choice(df.Code)\n",
    "\n",
    "#TPSE, UMME  giving the best results .\n",
    "    \n",
    "__nse_dat_preprocessor = NSEDataPreProcessor(\n",
    "    company_code= random_company_code,\n",
    "    columns_to_type_cast=['Day Price','Day High', 'Day Low', '12m High', '12m Low'],\n",
    "    columns_to_scale=[ 'Previous','Day High', 'Day Low', '12m High', '12m Low'],\n",
    "    columns_to_return=['Code','Day Price','Previous','Day High', 'Day Low', '12m High', '12m Low'], \n",
    ")\n",
    "xyz_preprocessed_df = __nse_dat_preprocessor.fit_transform(\n",
    "    df,    \n",
    ")\n",
    "display(xyz_preprocessed_df.head(2)) #Show the company being worked on .\n",
    "\n",
    "preprocessed_df = xyz_preprocessed_df.drop(columns=['Code'])\n",
    "preprocessed_df\n",
    "    "
   ],
   "metadata": {
    "collapsed": false,
    "ExecuteTime": {
     "end_time": "2023-11-13T13:57:21.480782200Z",
     "start_time": "2023-11-13T13:57:21.266705874Z"
    }
   },
   "id": "a8f99b36e15aa69b"
  },
  {
   "cell_type": "code",
   "execution_count": 559,
   "outputs": [
    {
     "data": {
      "text/plain": "0      52.75\n1      53.25\n2      53.00\n3      53.00\n4      53.00\n       ...  \n97     42.00\n98     42.90\n99     44.00\n100    45.20\n101    45.50\nName: Day Price, Length: 102, dtype: float64"
     },
     "execution_count": 559,
     "metadata": {},
     "output_type": "execute_result"
    }
   ],
   "source": [
    "x_features = ['Previous','Day High', 'Day Low', '12m High', '12m Low']\n",
    "x_single_feature =  'Day Price'\n",
    "y_classes = 'Day Price'\n",
    "\n",
    "X = preprocessed_df[x_single_feature]\n",
    "day_price_series = preprocessed_df[x_single_feature]\n",
    "day_price_series\n"
   ],
   "metadata": {
    "collapsed": false,
    "ExecuteTime": {
     "end_time": "2023-11-13T13:57:21.481205827Z",
     "start_time": "2023-11-13T13:57:21.291214297Z"
    }
   },
   "id": "b0cc51cb2acd1bb7"
  },
  {
   "cell_type": "markdown",
   "source": [
    "## Calculating Returns : The percentage change in stock price over the specified time period\n",
    "### returns = ((currentDayPrice * previousDayPrice)*100)/previousDayPrice"
   ],
   "metadata": {
    "collapsed": false
   },
   "id": "51ca7f8adeb129d0"
  },
  {
   "cell_type": "code",
   "execution_count": 560,
   "outputs": [
    {
     "data": {
      "text/plain": "     Price    Return  Label\n0    52.75       NaN      0\n1    53.25  0.947867      1\n2    53.00 -0.469484     -1\n3    53.00  0.000000      0\n4    53.00  0.000000      0\n..     ...       ...    ...\n97   42.00  0.000000      0\n98   42.90  2.142857      1\n99   44.00  2.564103      1\n100  45.20  2.727273      1\n101  45.50  0.663717      1\n\n[102 rows x 3 columns]",
      "text/html": "<div>\n<style scoped>\n    .dataframe tbody tr th:only-of-type {\n        vertical-align: middle;\n    }\n\n    .dataframe tbody tr th {\n        vertical-align: top;\n    }\n\n    .dataframe thead th {\n        text-align: right;\n    }\n</style>\n<table border=\"1\" class=\"dataframe\">\n  <thead>\n    <tr style=\"text-align: right;\">\n      <th></th>\n      <th>Price</th>\n      <th>Return</th>\n      <th>Label</th>\n    </tr>\n  </thead>\n  <tbody>\n    <tr>\n      <th>0</th>\n      <td>52.75</td>\n      <td>NaN</td>\n      <td>0</td>\n    </tr>\n    <tr>\n      <th>1</th>\n      <td>53.25</td>\n      <td>0.947867</td>\n      <td>1</td>\n    </tr>\n    <tr>\n      <th>2</th>\n      <td>53.00</td>\n      <td>-0.469484</td>\n      <td>-1</td>\n    </tr>\n    <tr>\n      <th>3</th>\n      <td>53.00</td>\n      <td>0.000000</td>\n      <td>0</td>\n    </tr>\n    <tr>\n      <th>4</th>\n      <td>53.00</td>\n      <td>0.000000</td>\n      <td>0</td>\n    </tr>\n    <tr>\n      <th>...</th>\n      <td>...</td>\n      <td>...</td>\n      <td>...</td>\n    </tr>\n    <tr>\n      <th>97</th>\n      <td>42.00</td>\n      <td>0.000000</td>\n      <td>0</td>\n    </tr>\n    <tr>\n      <th>98</th>\n      <td>42.90</td>\n      <td>2.142857</td>\n      <td>1</td>\n    </tr>\n    <tr>\n      <th>99</th>\n      <td>44.00</td>\n      <td>2.564103</td>\n      <td>1</td>\n    </tr>\n    <tr>\n      <th>100</th>\n      <td>45.20</td>\n      <td>2.727273</td>\n      <td>1</td>\n    </tr>\n    <tr>\n      <th>101</th>\n      <td>45.50</td>\n      <td>0.663717</td>\n      <td>1</td>\n    </tr>\n  </tbody>\n</table>\n<p>102 rows × 3 columns</p>\n</div>"
     },
     "execution_count": 560,
     "metadata": {},
     "output_type": "execute_result"
    }
   ],
   "source": [
    "import pandas as pd\n",
    "\n",
    "def calculate_returns_and_label(data, prediction_horizon=1, positive_threshold=0, negative_threshold=0):\n",
    "    \"\"\"\n",
    "    Calculate returns based on the given prediction horizon and label as positive, negative, or no change.\n",
    "\n",
    "    Parameters:\n",
    "    - data: Pandas Series with stock prices.\n",
    "    - prediction_horizon: Time horizon for calculating returns (default: 1).\n",
    "    - positive_threshold: Threshold for positive return (default: 0).\n",
    "    - negative_threshold: Threshold for negative return (default: 0).\n",
    "\n",
    "    Returns:\n",
    "    - Pandas DataFrame with columns 'Price', 'Return', and 'Label'.\n",
    "    \"\"\"\n",
    "    \n",
    "    returns = data.pct_change(prediction_horizon) * 100\n",
    "    result_df = pd.DataFrame({'Price': data, 'Return': returns})\n",
    "    \n",
    "    result_df['Label'] = 0  # Initializes all labels as 0 : if there is no change in the prices , then 0 is set as the  label.\n",
    "    result_df.loc[result_df['Return'] > positive_threshold, 'Label'] = 1  \n",
    "    result_df.loc[result_df['Return'] < negative_threshold, 'Label'] = -1    \n",
    "\n",
    "    return result_df\n",
    "\n",
    "# day_price_df.describe() gives the stats description of the dataframe : examples ; mean ,  median ,  std deviation ... dataframe.info() on the the r hand gives the data types of the data.\n",
    "\n",
    "result_df = calculate_returns_and_label(day_price_series)\n",
    "result_df\n"
   ],
   "metadata": {
    "collapsed": false,
    "ExecuteTime": {
     "end_time": "2023-11-13T13:57:21.481654334Z",
     "start_time": "2023-11-13T13:57:21.334773216Z"
    }
   },
   "id": "1a5fc4cb4403fa59"
  },
  {
   "cell_type": "code",
   "execution_count": 561,
   "outputs": [
    {
     "name": "stdout",
     "output_type": "stream",
     "text": [
      "X_Data shape :  (98, 4)\n",
      "Y_Data shape :  (98,)\n"
     ]
    },
    {
     "data": {
      "text/plain": "    Day1  Day2  Day3  Day4  day5_dayPriceLabel\n0      0     1    -1     0                   0\n1      1    -1     0     0                  -1\n2     -1     0     0    -1                  -1\n3      0     0    -1    -1                  -1\n4      0    -1    -1    -1                  -1\n..   ...   ...   ...   ...                 ...\n93    -1    -1    -1    -1                   0\n94    -1    -1    -1     0                   1\n95    -1    -1     0     1                   1\n96    -1     0     1     1                   1\n97     0     1     1     1                   1\n\n[98 rows x 5 columns]",
      "text/html": "<div>\n<style scoped>\n    .dataframe tbody tr th:only-of-type {\n        vertical-align: middle;\n    }\n\n    .dataframe tbody tr th {\n        vertical-align: top;\n    }\n\n    .dataframe thead th {\n        text-align: right;\n    }\n</style>\n<table border=\"1\" class=\"dataframe\">\n  <thead>\n    <tr style=\"text-align: right;\">\n      <th></th>\n      <th>Day1</th>\n      <th>Day2</th>\n      <th>Day3</th>\n      <th>Day4</th>\n      <th>day5_dayPriceLabel</th>\n    </tr>\n  </thead>\n  <tbody>\n    <tr>\n      <th>0</th>\n      <td>0</td>\n      <td>1</td>\n      <td>-1</td>\n      <td>0</td>\n      <td>0</td>\n    </tr>\n    <tr>\n      <th>1</th>\n      <td>1</td>\n      <td>-1</td>\n      <td>0</td>\n      <td>0</td>\n      <td>-1</td>\n    </tr>\n    <tr>\n      <th>2</th>\n      <td>-1</td>\n      <td>0</td>\n      <td>0</td>\n      <td>-1</td>\n      <td>-1</td>\n    </tr>\n    <tr>\n      <th>3</th>\n      <td>0</td>\n      <td>0</td>\n      <td>-1</td>\n      <td>-1</td>\n      <td>-1</td>\n    </tr>\n    <tr>\n      <th>4</th>\n      <td>0</td>\n      <td>-1</td>\n      <td>-1</td>\n      <td>-1</td>\n      <td>-1</td>\n    </tr>\n    <tr>\n      <th>...</th>\n      <td>...</td>\n      <td>...</td>\n      <td>...</td>\n      <td>...</td>\n      <td>...</td>\n    </tr>\n    <tr>\n      <th>93</th>\n      <td>-1</td>\n      <td>-1</td>\n      <td>-1</td>\n      <td>-1</td>\n      <td>0</td>\n    </tr>\n    <tr>\n      <th>94</th>\n      <td>-1</td>\n      <td>-1</td>\n      <td>-1</td>\n      <td>0</td>\n      <td>1</td>\n    </tr>\n    <tr>\n      <th>95</th>\n      <td>-1</td>\n      <td>-1</td>\n      <td>0</td>\n      <td>1</td>\n      <td>1</td>\n    </tr>\n    <tr>\n      <th>96</th>\n      <td>-1</td>\n      <td>0</td>\n      <td>1</td>\n      <td>1</td>\n      <td>1</td>\n    </tr>\n    <tr>\n      <th>97</th>\n      <td>0</td>\n      <td>1</td>\n      <td>1</td>\n      <td>1</td>\n      <td>1</td>\n    </tr>\n  </tbody>\n</table>\n<p>98 rows × 5 columns</p>\n</div>"
     },
     "execution_count": 561,
     "metadata": {},
     "output_type": "execute_result"
    }
   ],
   "source": [
    "import utils.x_y_generator as generator\n",
    "\n",
    "features , targets = generator.__generate_x_y_from_nsc_df(time_step=4, __data_frame= result_df['Label'])\n",
    "\n",
    "print(\"X_Data shape : \",features.shape)\n",
    "print(\"Y_Data shape : \",targets.shape)\n",
    "\n",
    "column_names = ['Day1', 'Day2', 'Day3','Day4']\n",
    "df = pd.DataFrame(features, columns=column_names)\n",
    "\n",
    "df['day5_dayPriceLabel'] = pd.Series(data= targets)\n",
    "df\n"
   ],
   "metadata": {
    "collapsed": false,
    "ExecuteTime": {
     "end_time": "2023-11-13T13:57:21.582233846Z",
     "start_time": "2023-11-13T13:57:21.378665365Z"
    }
   },
   "id": "eb1cbfe299d646f"
  },
  {
   "cell_type": "code",
   "execution_count": 562,
   "outputs": [
    {
     "data": {
      "text/plain": "((78, 4), (78,), (20, 4), (20,))"
     },
     "execution_count": 562,
     "metadata": {},
     "output_type": "execute_result"
    }
   ],
   "source": [
    "import utils.data_splitter as splitter\n",
    "\n",
    "features_train, targets_train, features_test, targets_test = splitter.__dynamic_data_split(features,targets, ratio_train=0.8)\n",
    "\n",
    "features_train.shape,targets_train.shape, features_test.shape, targets_test.shape\n",
    "\n"
   ],
   "metadata": {
    "collapsed": false,
    "ExecuteTime": {
     "end_time": "2023-11-13T13:57:21.582712045Z",
     "start_time": "2023-11-13T13:57:21.378877186Z"
    }
   },
   "id": "155aa1ad76aa9951"
  },
  {
   "cell_type": "code",
   "execution_count": 563,
   "outputs": [
    {
     "name": "stdout",
     "output_type": "stream",
     "text": [
      "Accuracy: 0.45\n",
      "Precision (RandomForestClassifier): 0.45\n"
     ]
    }
   ],
   "source": [
    "from sklearn.ensemble import RandomForestClassifier\n",
    "from sklearn.model_selection import train_test_split\n",
    "from sklearn.metrics import accuracy_score\n",
    "from sklearn.metrics import precision_score, recall_score\n",
    "\n",
    "\n",
    "# Initialize the RandomForestClassifier\n",
    "classifier = RandomForestClassifier(n_estimators=100, random_state=42)\n",
    "\n",
    "# Train the classifier on the training data\n",
    "classifier.fit(features_train, targets_train)\n",
    "\n",
    "# Make predictions on the test set\n",
    "rf_predictions = classifier.predict(features_test)\n",
    "\n",
    "# Evaluate the accuracy of the model\n",
    "accuracy = accuracy_score(targets_test, rf_predictions)\n",
    "print(f\"Accuracy: {accuracy}\")\n",
    "\n",
    "precision_rf = precision_score(targets_test, rf_predictions, average='micro')  # assuming binary classification\n",
    "print(f\"Precision (RandomForestClassifier): {precision_rf}\")\n",
    "\n",
    "\n"
   ],
   "metadata": {
    "collapsed": false,
    "ExecuteTime": {
     "end_time": "2023-11-13T13:57:21.703063832Z",
     "start_time": "2023-11-13T13:57:21.395101527Z"
    }
   },
   "id": "e457f4135d3ced02"
  },
  {
   "cell_type": "code",
   "execution_count": 564,
   "outputs": [
    {
     "name": "stdout",
     "output_type": "stream",
     "text": [
      "Accuracy: 0.5\n",
      "Precision for each class:\n",
      "Class 0: 0.5384615384615384\n",
      "Class 1: 0.0\n",
      "Class 2: 0.42857142857142855\n"
     ]
    },
    {
     "name": "stderr",
     "output_type": "stream",
     "text": [
      "/home/kering/Desktop/MachineLearningProjects/KnowledgeBasedSystemsML/KnowledgeBasedSystemsVenv/lib/python3.10/site-packages/sklearn/metrics/_classification.py:1469: UndefinedMetricWarning: Precision is ill-defined and being set to 0.0 in labels with no predicted samples. Use `zero_division` parameter to control this behavior.\n",
      "  _warn_prf(average, modifier, msg_start, len(result))\n",
      "/home/kering/Desktop/MachineLearningProjects/KnowledgeBasedSystemsML/KnowledgeBasedSystemsVenv/lib/python3.10/site-packages/sklearn/metrics/_classification.py:1469: UndefinedMetricWarning: Precision and F-score are ill-defined and being set to 0.0 in labels with no predicted samples. Use `zero_division` parameter to control this behavior.\n",
      "  _warn_prf(average, modifier, msg_start, len(result))\n",
      "/home/kering/Desktop/MachineLearningProjects/KnowledgeBasedSystemsML/KnowledgeBasedSystemsVenv/lib/python3.10/site-packages/sklearn/metrics/_classification.py:1469: UndefinedMetricWarning: Precision and F-score are ill-defined and being set to 0.0 in labels with no predicted samples. Use `zero_division` parameter to control this behavior.\n",
      "  _warn_prf(average, modifier, msg_start, len(result))\n",
      "/home/kering/Desktop/MachineLearningProjects/KnowledgeBasedSystemsML/KnowledgeBasedSystemsVenv/lib/python3.10/site-packages/sklearn/metrics/_classification.py:1469: UndefinedMetricWarning: Precision and F-score are ill-defined and being set to 0.0 in labels with no predicted samples. Use `zero_division` parameter to control this behavior.\n",
      "  _warn_prf(average, modifier, msg_start, len(result))\n"
     ]
    }
   ],
   "source": [
    "from sklearn.svm import SVC\n",
    "from sklearn.model_selection import train_test_split\n",
    "from sklearn.metrics import accuracy_score, precision_score, classification_report\n",
    "\n",
    "\n",
    "svm_classifier = SVC(kernel='linear', C=1.0, random_state=42)\n",
    "\n",
    "svm_classifier.fit(features_train, targets_train)\n",
    "\n",
    "\n",
    "svm_predictions = svm_classifier.predict(features_test)\n",
    "\n",
    "accuracy = accuracy_score(targets_test, svm_predictions)\n",
    "print(f\"Accuracy: {accuracy}\")\n",
    "\n",
    "\n",
    "precision_per_class = precision_score(targets_test, svm_predictions, average=None)\n",
    "\n",
    "print(\"Precision for each class:\")\n",
    "for i, precision in enumerate(precision_per_class):\n",
    "    print(f\"Class {i}: {precision}\")\n",
    "\n",
    "\n",
    "classification_report_str = classification_report(targets_test, svm_predictions)\n",
    "\n"
   ],
   "metadata": {
    "collapsed": false,
    "ExecuteTime": {
     "end_time": "2023-11-13T13:57:21.773904982Z",
     "start_time": "2023-11-13T13:57:21.635874673Z"
    }
   },
   "id": "73771e072a340d21"
  },
  {
   "cell_type": "code",
   "execution_count": 565,
   "outputs": [
    {
     "name": "stdout",
     "output_type": "stream",
     "text": [
      "Fitting 5 folds for each of 45 candidates, totalling 225 fits\n",
      "[CV] END .....................C=0.1, degree=1, kernel=linear; total time=   0.0s\n",
      "[CV] END .....................C=0.1, degree=1, kernel=linear; total time=   0.0s\n",
      "[CV] END .....................C=0.1, degree=1, kernel=linear; total time=   0.0s\n",
      "[CV] END .....................C=0.1, degree=1, kernel=linear; total time=   0.0s\n",
      "[CV] END .....................C=0.1, degree=1, kernel=linear; total time=   0.0s\n",
      "[CV] END ........................C=0.1, degree=1, kernel=rbf; total time=   0.0s\n",
      "[CV] END ........................C=0.1, degree=1, kernel=rbf; total time=   0.0s\n",
      "[CV] END ........................C=0.1, degree=1, kernel=rbf; total time=   0.0s\n",
      "[CV] END ........................C=0.1, degree=1, kernel=rbf; total time=   0.0s\n",
      "[CV] END ........................C=0.1, degree=1, kernel=rbf; total time=   0.0s\n",
      "[CV] END .......................C=0.1, degree=1, kernel=poly; total time=   0.0s\n",
      "[CV] END .......................C=0.1, degree=1, kernel=poly; total time=   0.0s\n",
      "[CV] END .......................C=0.1, degree=1, kernel=poly; total time=   0.0s\n",
      "[CV] END .......................C=0.1, degree=1, kernel=poly; total time=   0.0s\n",
      "[CV] END .......................C=0.1, degree=1, kernel=poly; total time=   0.0s\n",
      "[CV] END .....................C=0.1, degree=2, kernel=linear; total time=   0.0s\n",
      "[CV] END .....................C=0.1, degree=2, kernel=linear; total time=   0.0s\n",
      "[CV] END .....................C=0.1, degree=2, kernel=linear; total time=   0.0s\n",
      "[CV] END .....................C=0.1, degree=2, kernel=linear; total time=   0.0s\n",
      "[CV] END .....................C=0.1, degree=2, kernel=linear; total time=   0.0s\n",
      "[CV] END ........................C=0.1, degree=2, kernel=rbf; total time=   0.0s\n",
      "[CV] END ........................C=0.1, degree=2, kernel=rbf; total time=   0.0s\n",
      "[CV] END ........................C=0.1, degree=2, kernel=rbf; total time=   0.0s\n",
      "[CV] END ........................C=0.1, degree=2, kernel=rbf; total time=   0.0s\n",
      "[CV] END ........................C=0.1, degree=2, kernel=rbf; total time=   0.0s\n",
      "[CV] END .......................C=0.1, degree=2, kernel=poly; total time=   0.0s\n",
      "[CV] END .......................C=0.1, degree=2, kernel=poly; total time=   0.0s\n",
      "[CV] END .......................C=0.1, degree=2, kernel=poly; total time=   0.0s\n",
      "[CV] END .......................C=0.1, degree=2, kernel=poly; total time=   0.0s\n",
      "[CV] END .......................C=0.1, degree=2, kernel=poly; total time=   0.0s\n",
      "[CV] END .....................C=0.1, degree=3, kernel=linear; total time=   0.0s\n",
      "[CV] END .....................C=0.1, degree=3, kernel=linear; total time=   0.0s\n",
      "[CV] END .....................C=0.1, degree=3, kernel=linear; total time=   0.0s\n",
      "[CV] END .....................C=0.1, degree=3, kernel=linear; total time=   0.0s\n",
      "[CV] END .....................C=0.1, degree=3, kernel=linear; total time=   0.0s\n",
      "[CV] END ........................C=0.1, degree=3, kernel=rbf; total time=   0.0s\n",
      "[CV] END ........................C=0.1, degree=3, kernel=rbf; total time=   0.0s\n",
      "[CV] END ........................C=0.1, degree=3, kernel=rbf; total time=   0.0s\n",
      "[CV] END ........................C=0.1, degree=3, kernel=rbf; total time=   0.0s\n",
      "[CV] END ........................C=0.1, degree=3, kernel=rbf; total time=   0.0s\n",
      "[CV] END .......................C=0.1, degree=3, kernel=poly; total time=   0.0s\n",
      "[CV] END .......................C=0.1, degree=3, kernel=poly; total time=   0.0s\n",
      "[CV] END .......................C=0.1, degree=3, kernel=poly; total time=   0.0s\n",
      "[CV] END .......................C=0.1, degree=3, kernel=poly; total time=   0.0s\n",
      "[CV] END .......................C=0.1, degree=3, kernel=poly; total time=   0.0s\n",
      "[CV] END .....................C=0.1, degree=4, kernel=linear; total time=   0.0s\n",
      "[CV] END .....................C=0.1, degree=4, kernel=linear; total time=   0.0s\n",
      "[CV] END .....................C=0.1, degree=4, kernel=linear; total time=   0.0s\n",
      "[CV] END .....................C=0.1, degree=4, kernel=linear; total time=   0.0s\n",
      "[CV] END .....................C=0.1, degree=4, kernel=linear; total time=   0.0s\n",
      "[CV] END ........................C=0.1, degree=4, kernel=rbf; total time=   0.0s\n",
      "[CV] END ........................C=0.1, degree=4, kernel=rbf; total time=   0.0s\n",
      "[CV] END ........................C=0.1, degree=4, kernel=rbf; total time=   0.0s\n",
      "[CV] END ........................C=0.1, degree=4, kernel=rbf; total time=   0.0s\n",
      "[CV] END ........................C=0.1, degree=4, kernel=rbf; total time=   0.0s\n",
      "[CV] END .......................C=0.1, degree=4, kernel=poly; total time=   0.0s\n",
      "[CV] END .......................C=0.1, degree=4, kernel=poly; total time=   0.0s\n",
      "[CV] END .......................C=0.1, degree=4, kernel=poly; total time=   0.0s\n",
      "[CV] END .......................C=0.1, degree=4, kernel=poly; total time=   0.0s\n",
      "[CV] END .......................C=0.1, degree=4, kernel=poly; total time=   0.0s\n",
      "[CV] END ....................C=0.1, degree=10, kernel=linear; total time=   0.0s\n",
      "[CV] END ....................C=0.1, degree=10, kernel=linear; total time=   0.0s\n",
      "[CV] END ....................C=0.1, degree=10, kernel=linear; total time=   0.0s\n",
      "[CV] END ....................C=0.1, degree=10, kernel=linear; total time=   0.0s\n",
      "[CV] END ....................C=0.1, degree=10, kernel=linear; total time=   0.0s\n",
      "[CV] END .......................C=0.1, degree=10, kernel=rbf; total time=   0.0s\n",
      "[CV] END .......................C=0.1, degree=10, kernel=rbf; total time=   0.0s\n",
      "[CV] END .......................C=0.1, degree=10, kernel=rbf; total time=   0.0s\n",
      "[CV] END .......................C=0.1, degree=10, kernel=rbf; total time=   0.0s\n",
      "[CV] END .......................C=0.1, degree=10, kernel=rbf; total time=   0.0s\n",
      "[CV] END ......................C=0.1, degree=10, kernel=poly; total time=   0.0s\n",
      "[CV] END ......................C=0.1, degree=10, kernel=poly; total time=   0.0s\n",
      "[CV] END ......................C=0.1, degree=10, kernel=poly; total time=   0.0s\n",
      "[CV] END ......................C=0.1, degree=10, kernel=poly; total time=   0.0s\n",
      "[CV] END ......................C=0.1, degree=10, kernel=poly; total time=   0.0s\n",
      "[CV] END .......................C=1, degree=1, kernel=linear; total time=   0.0s\n",
      "[CV] END .......................C=1, degree=1, kernel=linear; total time=   0.0s\n",
      "[CV] END .......................C=1, degree=1, kernel=linear; total time=   0.0s\n",
      "[CV] END .......................C=1, degree=1, kernel=linear; total time=   0.0s\n",
      "[CV] END .......................C=1, degree=1, kernel=linear; total time=   0.0s\n",
      "[CV] END ..........................C=1, degree=1, kernel=rbf; total time=   0.0s\n",
      "[CV] END ..........................C=1, degree=1, kernel=rbf; total time=   0.0s\n",
      "[CV] END ..........................C=1, degree=1, kernel=rbf; total time=   0.0s\n",
      "[CV] END ..........................C=1, degree=1, kernel=rbf; total time=   0.0s\n",
      "[CV] END ..........................C=1, degree=1, kernel=rbf; total time=   0.0s\n",
      "[CV] END .........................C=1, degree=1, kernel=poly; total time=   0.0s\n",
      "[CV] END .........................C=1, degree=1, kernel=poly; total time=   0.0s\n",
      "[CV] END .........................C=1, degree=1, kernel=poly; total time=   0.0s\n",
      "[CV] END .........................C=1, degree=1, kernel=poly; total time=   0.0s\n",
      "[CV] END .........................C=1, degree=1, kernel=poly; total time=   0.0s\n",
      "[CV] END .......................C=1, degree=2, kernel=linear; total time=   0.0s\n",
      "[CV] END .......................C=1, degree=2, kernel=linear; total time=   0.0s\n",
      "[CV] END .......................C=1, degree=2, kernel=linear; total time=   0.0s\n",
      "[CV] END .......................C=1, degree=2, kernel=linear; total time=   0.0s\n",
      "[CV] END .......................C=1, degree=2, kernel=linear; total time=   0.0s\n",
      "[CV] END ..........................C=1, degree=2, kernel=rbf; total time=   0.0s\n",
      "[CV] END ..........................C=1, degree=2, kernel=rbf; total time=   0.0s\n",
      "[CV] END ..........................C=1, degree=2, kernel=rbf; total time=   0.0s\n",
      "[CV] END ..........................C=1, degree=2, kernel=rbf; total time=   0.0s\n",
      "[CV] END ..........................C=1, degree=2, kernel=rbf; total time=   0.0s\n",
      "[CV] END .........................C=1, degree=2, kernel=poly; total time=   0.0s\n",
      "[CV] END .........................C=1, degree=2, kernel=poly; total time=   0.0s\n",
      "[CV] END .........................C=1, degree=2, kernel=poly; total time=   0.0s\n",
      "[CV] END .........................C=1, degree=2, kernel=poly; total time=   0.0s\n",
      "[CV] END .........................C=1, degree=2, kernel=poly; total time=   0.0s\n",
      "[CV] END .......................C=1, degree=3, kernel=linear; total time=   0.0s\n",
      "[CV] END .......................C=1, degree=3, kernel=linear; total time=   0.0s\n",
      "[CV] END .......................C=1, degree=3, kernel=linear; total time=   0.0s\n",
      "[CV] END .......................C=1, degree=3, kernel=linear; total time=   0.0s\n",
      "[CV] END .......................C=1, degree=3, kernel=linear; total time=   0.0s\n",
      "[CV] END ..........................C=1, degree=3, kernel=rbf; total time=   0.0s\n",
      "[CV] END ..........................C=1, degree=3, kernel=rbf; total time=   0.0s\n",
      "[CV] END ..........................C=1, degree=3, kernel=rbf; total time=   0.0s\n",
      "[CV] END ..........................C=1, degree=3, kernel=rbf; total time=   0.0s\n",
      "[CV] END ..........................C=1, degree=3, kernel=rbf; total time=   0.0s\n",
      "[CV] END .........................C=1, degree=3, kernel=poly; total time=   0.0s\n",
      "[CV] END .........................C=1, degree=3, kernel=poly; total time=   0.0s\n",
      "[CV] END .........................C=1, degree=3, kernel=poly; total time=   0.0s\n",
      "[CV] END .........................C=1, degree=3, kernel=poly; total time=   0.0s\n",
      "[CV] END .........................C=1, degree=3, kernel=poly; total time=   0.0s\n",
      "[CV] END .......................C=1, degree=4, kernel=linear; total time=   0.0s\n",
      "[CV] END .......................C=1, degree=4, kernel=linear; total time=   0.0s\n",
      "[CV] END .......................C=1, degree=4, kernel=linear; total time=   0.0s\n",
      "[CV] END .......................C=1, degree=4, kernel=linear; total time=   0.0s\n",
      "[CV] END .......................C=1, degree=4, kernel=linear; total time=   0.0s\n",
      "[CV] END ..........................C=1, degree=4, kernel=rbf; total time=   0.0s\n",
      "[CV] END ..........................C=1, degree=4, kernel=rbf; total time=   0.0s\n",
      "[CV] END ..........................C=1, degree=4, kernel=rbf; total time=   0.0s\n",
      "[CV] END ..........................C=1, degree=4, kernel=rbf; total time=   0.0s\n",
      "[CV] END ..........................C=1, degree=4, kernel=rbf; total time=   0.0s\n",
      "[CV] END .........................C=1, degree=4, kernel=poly; total time=   0.0s\n",
      "[CV] END .........................C=1, degree=4, kernel=poly; total time=   0.0s\n",
      "[CV] END .........................C=1, degree=4, kernel=poly; total time=   0.0s\n",
      "[CV] END .........................C=1, degree=4, kernel=poly; total time=   0.0s\n",
      "[CV] END .........................C=1, degree=4, kernel=poly; total time=   0.0s\n",
      "[CV] END ......................C=1, degree=10, kernel=linear; total time=   0.0s\n",
      "[CV] END ......................C=1, degree=10, kernel=linear; total time=   0.0s\n",
      "[CV] END ......................C=1, degree=10, kernel=linear; total time=   0.0s\n",
      "[CV] END ......................C=1, degree=10, kernel=linear; total time=   0.0s\n",
      "[CV] END ......................C=1, degree=10, kernel=linear; total time=   0.0s\n",
      "[CV] END .........................C=1, degree=10, kernel=rbf; total time=   0.0s\n",
      "[CV] END .........................C=1, degree=10, kernel=rbf; total time=   0.0s\n",
      "[CV] END .........................C=1, degree=10, kernel=rbf; total time=   0.0s\n",
      "[CV] END .........................C=1, degree=10, kernel=rbf; total time=   0.0s\n",
      "[CV] END .........................C=1, degree=10, kernel=rbf; total time=   0.0s\n",
      "[CV] END ........................C=1, degree=10, kernel=poly; total time=   0.0s\n",
      "[CV] END ........................C=1, degree=10, kernel=poly; total time=   0.0s\n",
      "[CV] END ........................C=1, degree=10, kernel=poly; total time=   0.0s\n",
      "[CV] END ........................C=1, degree=10, kernel=poly; total time=   0.0s\n",
      "[CV] END ........................C=1, degree=10, kernel=poly; total time=   0.0s\n",
      "[CV] END ......................C=10, degree=1, kernel=linear; total time=   0.0s\n",
      "[CV] END ......................C=10, degree=1, kernel=linear; total time=   0.0s\n",
      "[CV] END ......................C=10, degree=1, kernel=linear; total time=   0.0s\n",
      "[CV] END ......................C=10, degree=1, kernel=linear; total time=   0.0s\n",
      "[CV] END ......................C=10, degree=1, kernel=linear; total time=   0.0s\n",
      "[CV] END .........................C=10, degree=1, kernel=rbf; total time=   0.0s\n",
      "[CV] END .........................C=10, degree=1, kernel=rbf; total time=   0.0s\n",
      "[CV] END .........................C=10, degree=1, kernel=rbf; total time=   0.0s\n",
      "[CV] END .........................C=10, degree=1, kernel=rbf; total time=   0.0s\n",
      "[CV] END .........................C=10, degree=1, kernel=rbf; total time=   0.0s\n",
      "[CV] END ........................C=10, degree=1, kernel=poly; total time=   0.0s\n",
      "[CV] END ........................C=10, degree=1, kernel=poly; total time=   0.0s\n",
      "[CV] END ........................C=10, degree=1, kernel=poly; total time=   0.0s\n",
      "[CV] END ........................C=10, degree=1, kernel=poly; total time=   0.0s\n",
      "[CV] END ........................C=10, degree=1, kernel=poly; total time=   0.0s\n",
      "[CV] END ......................C=10, degree=2, kernel=linear; total time=   0.0s\n",
      "[CV] END ......................C=10, degree=2, kernel=linear; total time=   0.0s\n",
      "[CV] END ......................C=10, degree=2, kernel=linear; total time=   0.0s\n",
      "[CV] END ......................C=10, degree=2, kernel=linear; total time=   0.0s\n",
      "[CV] END ......................C=10, degree=2, kernel=linear; total time=   0.0s\n",
      "[CV] END .........................C=10, degree=2, kernel=rbf; total time=   0.0s\n",
      "[CV] END .........................C=10, degree=2, kernel=rbf; total time=   0.0s\n",
      "[CV] END .........................C=10, degree=2, kernel=rbf; total time=   0.0s\n",
      "[CV] END .........................C=10, degree=2, kernel=rbf; total time=   0.0s\n",
      "[CV] END .........................C=10, degree=2, kernel=rbf; total time=   0.0s\n",
      "[CV] END ........................C=10, degree=2, kernel=poly; total time=   0.0s\n",
      "[CV] END ........................C=10, degree=2, kernel=poly; total time=   0.0s\n",
      "[CV] END ........................C=10, degree=2, kernel=poly; total time=   0.0s\n",
      "[CV] END ........................C=10, degree=2, kernel=poly; total time=   0.0s\n",
      "[CV] END ........................C=10, degree=2, kernel=poly; total time=   0.0s\n",
      "[CV] END ......................C=10, degree=3, kernel=linear; total time=   0.0s\n",
      "[CV] END ......................C=10, degree=3, kernel=linear; total time=   0.0s\n",
      "[CV] END ......................C=10, degree=3, kernel=linear; total time=   0.0s\n",
      "[CV] END ......................C=10, degree=3, kernel=linear; total time=   0.0s\n",
      "[CV] END ......................C=10, degree=3, kernel=linear; total time=   0.0s\n",
      "[CV] END .........................C=10, degree=3, kernel=rbf; total time=   0.0s\n",
      "[CV] END .........................C=10, degree=3, kernel=rbf; total time=   0.0s\n",
      "[CV] END .........................C=10, degree=3, kernel=rbf; total time=   0.0s\n",
      "[CV] END .........................C=10, degree=3, kernel=rbf; total time=   0.0s\n",
      "[CV] END .........................C=10, degree=3, kernel=rbf; total time=   0.0s\n",
      "[CV] END ........................C=10, degree=3, kernel=poly; total time=   0.0s\n",
      "[CV] END ........................C=10, degree=3, kernel=poly; total time=   0.0s\n",
      "[CV] END ........................C=10, degree=3, kernel=poly; total time=   0.0s\n",
      "[CV] END ........................C=10, degree=3, kernel=poly; total time=   0.0s\n",
      "[CV] END ........................C=10, degree=3, kernel=poly; total time=   0.0s\n",
      "[CV] END ......................C=10, degree=4, kernel=linear; total time=   0.0s\n",
      "[CV] END ......................C=10, degree=4, kernel=linear; total time=   0.0s\n",
      "[CV] END ......................C=10, degree=4, kernel=linear; total time=   0.0s\n",
      "[CV] END ......................C=10, degree=4, kernel=linear; total time=   0.0s\n",
      "[CV] END ......................C=10, degree=4, kernel=linear; total time=   0.0s\n",
      "[CV] END .........................C=10, degree=4, kernel=rbf; total time=   0.0s\n",
      "[CV] END .........................C=10, degree=4, kernel=rbf; total time=   0.0s\n",
      "[CV] END .........................C=10, degree=4, kernel=rbf; total time=   0.0s\n",
      "[CV] END .........................C=10, degree=4, kernel=rbf; total time=   0.0s\n",
      "[CV] END .........................C=10, degree=4, kernel=rbf; total time=   0.0s\n",
      "[CV] END ........................C=10, degree=4, kernel=poly; total time=   0.0s\n",
      "[CV] END ........................C=10, degree=4, kernel=poly; total time=   0.0s\n",
      "[CV] END ........................C=10, degree=4, kernel=poly; total time=   0.0s\n",
      "[CV] END ........................C=10, degree=4, kernel=poly; total time=   0.0s\n",
      "[CV] END ........................C=10, degree=4, kernel=poly; total time=   0.0s\n",
      "[CV] END .....................C=10, degree=10, kernel=linear; total time=   0.0s\n",
      "[CV] END .....................C=10, degree=10, kernel=linear; total time=   0.0s\n",
      "[CV] END .....................C=10, degree=10, kernel=linear; total time=   0.0s\n",
      "[CV] END .....................C=10, degree=10, kernel=linear; total time=   0.0s\n",
      "[CV] END .....................C=10, degree=10, kernel=linear; total time=   0.0s\n",
      "[CV] END ........................C=10, degree=10, kernel=rbf; total time=   0.0s\n",
      "[CV] END ........................C=10, degree=10, kernel=rbf; total time=   0.0s\n",
      "[CV] END ........................C=10, degree=10, kernel=rbf; total time=   0.0s\n",
      "[CV] END ........................C=10, degree=10, kernel=rbf; total time=   0.0s\n",
      "[CV] END ........................C=10, degree=10, kernel=rbf; total time=   0.0s\n",
      "[CV] END .......................C=10, degree=10, kernel=poly; total time=   0.0s\n",
      "[CV] END .......................C=10, degree=10, kernel=poly; total time=   0.0s\n",
      "[CV] END .......................C=10, degree=10, kernel=poly; total time=   0.0s\n",
      "[CV] END .......................C=10, degree=10, kernel=poly; total time=   0.0s\n",
      "[CV] END .......................C=10, degree=10, kernel=poly; total time=   0.0s\n",
      "Best Parameters: {'C': 1, 'degree': 2, 'kernel': 'poly'}\n",
      "Recall of the Best Model for the EQTY is: 0.45\n"
     ]
    }
   ],
   "source": [
    "from sklearn.model_selection import GridSearchCV\n",
    "from sklearn.metrics import recall_score\n",
    "svm_classifier = SVC(random_state=42)\n",
    "\n",
    "# Define a parameter grid to search\n",
    "param_grid = {\n",
    "    'C': [0.1, 1, 10],\n",
    "    'kernel': ['linear', 'rbf', 'poly'],\n",
    "    'degree': [1,2, 3, 4,10],\n",
    "}\n",
    "\n",
    "# Initialize GridSearchCV\n",
    "grid_search = GridSearchCV(svm_classifier, param_grid, cv=5, scoring='accuracy', verbose=2)\n",
    "\n",
    "# Perform grid search\n",
    "grid_search.fit(features_train, targets_train)\n",
    "\n",
    "# Get the best parameters\n",
    "best_params = grid_search.best_params_\n",
    "print(f\"Best Parameters: {best_params}\")\n",
    "\n",
    "# Use the best model for predictions\n",
    "best_svm_classifier = grid_search.best_estimator_\n",
    "svm_predictions = best_svm_classifier.predict(features_test)\n",
    "\n",
    "# Evaluate the performance of the best model\n",
    "recall = recall_score(targets_test, svm_predictions, average='micro')\n",
    "print(f\"Recall of the Best Model for the {random_company_code } is: {recall}\")\n"
   ],
   "metadata": {
    "collapsed": false,
    "ExecuteTime": {
     "end_time": "2023-11-13T13:57:22.672219576Z",
     "start_time": "2023-11-13T13:57:21.668444154Z"
    }
   },
   "id": "bf225a2fe1cfd3e2"
  }
 ],
 "metadata": {
  "kernelspec": {
   "display_name": "Python 3",
   "language": "python",
   "name": "python3"
  },
  "language_info": {
   "codemirror_mode": {
    "name": "ipython",
    "version": 2
   },
   "file_extension": ".py",
   "mimetype": "text/x-python",
   "name": "python",
   "nbconvert_exporter": "python",
   "pygments_lexer": "ipython2",
   "version": "2.7.6"
  }
 },
 "nbformat": 4,
 "nbformat_minor": 5
}
