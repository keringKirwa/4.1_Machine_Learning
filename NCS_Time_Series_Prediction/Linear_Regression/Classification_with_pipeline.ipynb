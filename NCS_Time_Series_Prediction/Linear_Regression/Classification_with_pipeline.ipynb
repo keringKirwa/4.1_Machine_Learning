{
 "cells": [
  {
   "cell_type": "markdown",
   "source": [
    "# The binary classification task"
   ],
   "metadata": {
    "collapsed": false
   },
   "id": "3da43e9373095a93"
  },
  {
   "cell_type": "code",
   "execution_count": 275,
   "outputs": [],
   "source": [
    "import pandas as pd\n",
    "import numpy as np\n",
    "np.random.seed(42)"
   ],
   "metadata": {
    "collapsed": false,
    "ExecuteTime": {
     "end_time": "2023-11-13T13:43:41.113781850Z",
     "start_time": "2023-11-13T13:43:40.965826704Z"
    }
   },
   "id": "9ff009812bab8f3b"
  },
  {
   "cell_type": "code",
   "execution_count": 276,
   "outputs": [
    {
     "data": {
      "text/plain": "           Date  Code                        Name   12m Low  12m High  \\\n0      3-Jan-22  EGAD                 Eaagads Ltd        10        15   \n1      3-Jan-22  KUKZ                  Kakuzi Plc       355       427   \n2      3-Jan-22  KAPC     Kapchorua Tea Kenya Plc        80       101   \n3      3-Jan-22  LIMT              Limuru Tea Plc       260       360   \n4      3-Jan-22  SASN                  Sasini Plc     16.75      22.6   \n...         ...   ...                         ...       ...       ...   \n6727  31-May-22   MSC    Mumias Sugar Company Ltd      0.27      0.27   \n6728  31-May-22  UNGA              Unga Group Ltd      26.1      36.4   \n6729  31-May-22  SCOM               Safaricom Plc      25.5     45.25   \n6730  31-May-22  FAHR  Stanlib Fahari Income-REIT         5      7.48   \n6731  31-May-22   GLD            ABSA NewGold ETF  1,780.00  2,135.00   \n\n       Day Low  Day High Day Price  Previous Change Change%      Volume  \\\n0         13.5      13.8      13.5      13.5      -       -       4,000   \n1          385       385       385       385      -       -           -   \n2         99.5      99.5      99.5      95.5      4   4.19%         100   \n3          320       320       320       320      -       -           -   \n4         18.7      18.7      18.7      18.7      -       -           -   \n...        ...       ...       ...       ...    ...     ...         ...   \n6727      0.27      0.27      0.27      0.27      -       -           -   \n6728        29        29        29        30     -1   3.33%       2,100   \n6729     25.95     26.45        26     26.25  -0.25   0.95%  20,079,900   \n6730       5.5       5.6      5.56      5.58  -0.02   0.36%      11,700   \n6731  2,135.00  2,135.00  2,135.00  2,135.00      -       -           -   \n\n     Adjusted Price  \n0                 -  \n1                 -  \n2                 -  \n3                 -  \n4                 -  \n...             ...  \n6727              -  \n6728              -  \n6729              -  \n6730              -  \n6731              -  \n\n[6732 rows x 13 columns]",
      "text/html": "<div>\n<style scoped>\n    .dataframe tbody tr th:only-of-type {\n        vertical-align: middle;\n    }\n\n    .dataframe tbody tr th {\n        vertical-align: top;\n    }\n\n    .dataframe thead th {\n        text-align: right;\n    }\n</style>\n<table border=\"1\" class=\"dataframe\">\n  <thead>\n    <tr style=\"text-align: right;\">\n      <th></th>\n      <th>Date</th>\n      <th>Code</th>\n      <th>Name</th>\n      <th>12m Low</th>\n      <th>12m High</th>\n      <th>Day Low</th>\n      <th>Day High</th>\n      <th>Day Price</th>\n      <th>Previous</th>\n      <th>Change</th>\n      <th>Change%</th>\n      <th>Volume</th>\n      <th>Adjusted Price</th>\n    </tr>\n  </thead>\n  <tbody>\n    <tr>\n      <th>0</th>\n      <td>3-Jan-22</td>\n      <td>EGAD</td>\n      <td>Eaagads Ltd</td>\n      <td>10</td>\n      <td>15</td>\n      <td>13.5</td>\n      <td>13.8</td>\n      <td>13.5</td>\n      <td>13.5</td>\n      <td>-</td>\n      <td>-</td>\n      <td>4,000</td>\n      <td>-</td>\n    </tr>\n    <tr>\n      <th>1</th>\n      <td>3-Jan-22</td>\n      <td>KUKZ</td>\n      <td>Kakuzi Plc</td>\n      <td>355</td>\n      <td>427</td>\n      <td>385</td>\n      <td>385</td>\n      <td>385</td>\n      <td>385</td>\n      <td>-</td>\n      <td>-</td>\n      <td>-</td>\n      <td>-</td>\n    </tr>\n    <tr>\n      <th>2</th>\n      <td>3-Jan-22</td>\n      <td>KAPC</td>\n      <td>Kapchorua Tea Kenya Plc</td>\n      <td>80</td>\n      <td>101</td>\n      <td>99.5</td>\n      <td>99.5</td>\n      <td>99.5</td>\n      <td>95.5</td>\n      <td>4</td>\n      <td>4.19%</td>\n      <td>100</td>\n      <td>-</td>\n    </tr>\n    <tr>\n      <th>3</th>\n      <td>3-Jan-22</td>\n      <td>LIMT</td>\n      <td>Limuru Tea Plc</td>\n      <td>260</td>\n      <td>360</td>\n      <td>320</td>\n      <td>320</td>\n      <td>320</td>\n      <td>320</td>\n      <td>-</td>\n      <td>-</td>\n      <td>-</td>\n      <td>-</td>\n    </tr>\n    <tr>\n      <th>4</th>\n      <td>3-Jan-22</td>\n      <td>SASN</td>\n      <td>Sasini Plc</td>\n      <td>16.75</td>\n      <td>22.6</td>\n      <td>18.7</td>\n      <td>18.7</td>\n      <td>18.7</td>\n      <td>18.7</td>\n      <td>-</td>\n      <td>-</td>\n      <td>-</td>\n      <td>-</td>\n    </tr>\n    <tr>\n      <th>...</th>\n      <td>...</td>\n      <td>...</td>\n      <td>...</td>\n      <td>...</td>\n      <td>...</td>\n      <td>...</td>\n      <td>...</td>\n      <td>...</td>\n      <td>...</td>\n      <td>...</td>\n      <td>...</td>\n      <td>...</td>\n      <td>...</td>\n    </tr>\n    <tr>\n      <th>6727</th>\n      <td>31-May-22</td>\n      <td>MSC</td>\n      <td>Mumias Sugar Company Ltd</td>\n      <td>0.27</td>\n      <td>0.27</td>\n      <td>0.27</td>\n      <td>0.27</td>\n      <td>0.27</td>\n      <td>0.27</td>\n      <td>-</td>\n      <td>-</td>\n      <td>-</td>\n      <td>-</td>\n    </tr>\n    <tr>\n      <th>6728</th>\n      <td>31-May-22</td>\n      <td>UNGA</td>\n      <td>Unga Group Ltd</td>\n      <td>26.1</td>\n      <td>36.4</td>\n      <td>29</td>\n      <td>29</td>\n      <td>29</td>\n      <td>30</td>\n      <td>-1</td>\n      <td>3.33%</td>\n      <td>2,100</td>\n      <td>-</td>\n    </tr>\n    <tr>\n      <th>6729</th>\n      <td>31-May-22</td>\n      <td>SCOM</td>\n      <td>Safaricom Plc</td>\n      <td>25.5</td>\n      <td>45.25</td>\n      <td>25.95</td>\n      <td>26.45</td>\n      <td>26</td>\n      <td>26.25</td>\n      <td>-0.25</td>\n      <td>0.95%</td>\n      <td>20,079,900</td>\n      <td>-</td>\n    </tr>\n    <tr>\n      <th>6730</th>\n      <td>31-May-22</td>\n      <td>FAHR</td>\n      <td>Stanlib Fahari Income-REIT</td>\n      <td>5</td>\n      <td>7.48</td>\n      <td>5.5</td>\n      <td>5.6</td>\n      <td>5.56</td>\n      <td>5.58</td>\n      <td>-0.02</td>\n      <td>0.36%</td>\n      <td>11,700</td>\n      <td>-</td>\n    </tr>\n    <tr>\n      <th>6731</th>\n      <td>31-May-22</td>\n      <td>GLD</td>\n      <td>ABSA NewGold ETF</td>\n      <td>1,780.00</td>\n      <td>2,135.00</td>\n      <td>2,135.00</td>\n      <td>2,135.00</td>\n      <td>2,135.00</td>\n      <td>2,135.00</td>\n      <td>-</td>\n      <td>-</td>\n      <td>-</td>\n      <td>-</td>\n    </tr>\n  </tbody>\n</table>\n<p>6732 rows × 13 columns</p>\n</div>"
     },
     "execution_count": 276,
     "metadata": {},
     "output_type": "execute_result"
    }
   ],
   "source": [
    "df = pd.read_csv('../NSE_data_all_stocks_2022_jan_to_may (1).csv')\n",
    "df"
   ],
   "metadata": {
    "collapsed": false,
    "ExecuteTime": {
     "end_time": "2023-11-13T13:43:41.151514736Z",
     "start_time": "2023-11-13T13:43:40.997679813Z"
    }
   },
   "id": "1cc1f53ef3c64554"
  },
  {
   "cell_type": "code",
   "execution_count": 277,
   "outputs": [
    {
     "data": {
      "text/plain": "   Code  Day Price  Previous  Day High   Day Low      12m High       12m Low\n0  CABL       1.23  0.955454  2.055462  0.998230 -8.881784e-16 -5.551115e-16\n1  CABL       1.22  1.317297  1.817486  1.222749 -8.881784e-16 -5.551115e-16",
      "text/html": "<div>\n<style scoped>\n    .dataframe tbody tr th:only-of-type {\n        vertical-align: middle;\n    }\n\n    .dataframe tbody tr th {\n        vertical-align: top;\n    }\n\n    .dataframe thead th {\n        text-align: right;\n    }\n</style>\n<table border=\"1\" class=\"dataframe\">\n  <thead>\n    <tr style=\"text-align: right;\">\n      <th></th>\n      <th>Code</th>\n      <th>Day Price</th>\n      <th>Previous</th>\n      <th>Day High</th>\n      <th>Day Low</th>\n      <th>12m High</th>\n      <th>12m Low</th>\n    </tr>\n  </thead>\n  <tbody>\n    <tr>\n      <th>0</th>\n      <td>CABL</td>\n      <td>1.23</td>\n      <td>0.955454</td>\n      <td>2.055462</td>\n      <td>0.998230</td>\n      <td>-8.881784e-16</td>\n      <td>-5.551115e-16</td>\n    </tr>\n    <tr>\n      <th>1</th>\n      <td>CABL</td>\n      <td>1.22</td>\n      <td>1.317297</td>\n      <td>1.817486</td>\n      <td>1.222749</td>\n      <td>-8.881784e-16</td>\n      <td>-5.551115e-16</td>\n    </tr>\n  </tbody>\n</table>\n</div>"
     },
     "metadata": {},
     "output_type": "display_data"
    },
    {
     "data": {
      "text/plain": "     Day Price  Previous  Day High   Day Low      12m High       12m Low\n0         1.23  0.955454  2.055462  0.998230 -8.881784e-16 -5.551115e-16\n1         1.22  1.317297  1.817486  1.222749 -8.881784e-16 -5.551115e-16\n2         1.22  1.196682  1.579510  1.110490 -8.881784e-16 -5.551115e-16\n3         1.27  1.196682  1.579510  1.784047 -8.881784e-16 -5.551115e-16\n4         1.21  1.799754  1.222545  1.222749 -8.881784e-16 -5.551115e-16\n..         ...       ...       ...       ...           ...           ...\n97        1.00 -1.577445 -0.800254 -1.022443 -8.881784e-16 -5.551115e-16\n98        1.00 -1.456831 -1.752159 -1.583741 -8.881784e-16 -5.551115e-16\n99        1.00 -1.456831 -1.157218 -1.471481 -8.881784e-16 -5.551115e-16\n100       1.00 -1.456831 -1.752159 -1.246962 -8.881784e-16 -5.551115e-16\n101       1.00 -1.456831 -1.752159 -1.359222 -8.881784e-16 -5.551115e-16\n\n[102 rows x 6 columns]",
      "text/html": "<div>\n<style scoped>\n    .dataframe tbody tr th:only-of-type {\n        vertical-align: middle;\n    }\n\n    .dataframe tbody tr th {\n        vertical-align: top;\n    }\n\n    .dataframe thead th {\n        text-align: right;\n    }\n</style>\n<table border=\"1\" class=\"dataframe\">\n  <thead>\n    <tr style=\"text-align: right;\">\n      <th></th>\n      <th>Day Price</th>\n      <th>Previous</th>\n      <th>Day High</th>\n      <th>Day Low</th>\n      <th>12m High</th>\n      <th>12m Low</th>\n    </tr>\n  </thead>\n  <tbody>\n    <tr>\n      <th>0</th>\n      <td>1.23</td>\n      <td>0.955454</td>\n      <td>2.055462</td>\n      <td>0.998230</td>\n      <td>-8.881784e-16</td>\n      <td>-5.551115e-16</td>\n    </tr>\n    <tr>\n      <th>1</th>\n      <td>1.22</td>\n      <td>1.317297</td>\n      <td>1.817486</td>\n      <td>1.222749</td>\n      <td>-8.881784e-16</td>\n      <td>-5.551115e-16</td>\n    </tr>\n    <tr>\n      <th>2</th>\n      <td>1.22</td>\n      <td>1.196682</td>\n      <td>1.579510</td>\n      <td>1.110490</td>\n      <td>-8.881784e-16</td>\n      <td>-5.551115e-16</td>\n    </tr>\n    <tr>\n      <th>3</th>\n      <td>1.27</td>\n      <td>1.196682</td>\n      <td>1.579510</td>\n      <td>1.784047</td>\n      <td>-8.881784e-16</td>\n      <td>-5.551115e-16</td>\n    </tr>\n    <tr>\n      <th>4</th>\n      <td>1.21</td>\n      <td>1.799754</td>\n      <td>1.222545</td>\n      <td>1.222749</td>\n      <td>-8.881784e-16</td>\n      <td>-5.551115e-16</td>\n    </tr>\n    <tr>\n      <th>...</th>\n      <td>...</td>\n      <td>...</td>\n      <td>...</td>\n      <td>...</td>\n      <td>...</td>\n      <td>...</td>\n    </tr>\n    <tr>\n      <th>97</th>\n      <td>1.00</td>\n      <td>-1.577445</td>\n      <td>-0.800254</td>\n      <td>-1.022443</td>\n      <td>-8.881784e-16</td>\n      <td>-5.551115e-16</td>\n    </tr>\n    <tr>\n      <th>98</th>\n      <td>1.00</td>\n      <td>-1.456831</td>\n      <td>-1.752159</td>\n      <td>-1.583741</td>\n      <td>-8.881784e-16</td>\n      <td>-5.551115e-16</td>\n    </tr>\n    <tr>\n      <th>99</th>\n      <td>1.00</td>\n      <td>-1.456831</td>\n      <td>-1.157218</td>\n      <td>-1.471481</td>\n      <td>-8.881784e-16</td>\n      <td>-5.551115e-16</td>\n    </tr>\n    <tr>\n      <th>100</th>\n      <td>1.00</td>\n      <td>-1.456831</td>\n      <td>-1.752159</td>\n      <td>-1.246962</td>\n      <td>-8.881784e-16</td>\n      <td>-5.551115e-16</td>\n    </tr>\n    <tr>\n      <th>101</th>\n      <td>1.00</td>\n      <td>-1.456831</td>\n      <td>-1.752159</td>\n      <td>-1.359222</td>\n      <td>-8.881784e-16</td>\n      <td>-5.551115e-16</td>\n    </tr>\n  </tbody>\n</table>\n<p>102 rows × 6 columns</p>\n</div>"
     },
     "execution_count": 277,
     "metadata": {},
     "output_type": "execute_result"
    }
   ],
   "source": [
    "#Custom Data cleaner \n",
    "import random\n",
    "from sklearn.base import BaseEstimator, TransformerMixin\n",
    "from sklearn.preprocessing import StandardScaler   \n",
    "nsc_scaler = StandardScaler()\n",
    "\n",
    "class NSEDataPreProcessor(BaseEstimator, TransformerMixin):\n",
    "    \n",
    "    def __init__(self,company_code ,columns_to_type_cast, columns_to_scale, columns_to_return):\n",
    "        self.company_code = company_code        \n",
    "        self.to_type_cast= columns_to_type_cast \n",
    "        self.to_return= columns_to_return\n",
    "        self.to_scale=columns_to_scale  #same as  columns_to_type_cast but has the company code.\n",
    "        \n",
    "        \n",
    "    def __type_cast_and_scale_xyz_df(self, xyz_data_frame):\n",
    "        for column_name in self.to_type_cast:\n",
    "            xyz_data_frame[column_name] = pd.to_numeric(xyz_data_frame[column_name], errors='coerce')\n",
    "        xyz_data_frame[self.to_scale] = nsc_scaler.fit_transform(xyz_data_frame[self.to_scale])\n",
    "        \n",
    "        \n",
    "        return xyz_data_frame[self.to_return]\n",
    "    \n",
    "    def fit(self, X, y=None):\n",
    "        return self      \n",
    "\n",
    "    def transform(self, X):  \n",
    "        \n",
    "        \"\"\"\n",
    "        X - NSC dataFrame\n",
    "        Selects the data for one company , then names it xyz_company_data_frame \n",
    "        NB: Scaler always return columns that are assignable to the dataframe.        \n",
    "        \"\"\"        \n",
    "        \n",
    "        xyz_company_data_frame = X[X['Code'] == self.company_code].reset_index(drop=True)\n",
    "        type_converted_xyz_company_df = self.__type_cast_and_scale_xyz_df(\n",
    "            xyz_company_data_frame       \n",
    "        )\n",
    "        \n",
    "        return type_converted_xyz_company_df\n",
    "    \n",
    "# 'Code','Day Price','Day High', 'Day High', '12m High', '12m Low' , 'Day Price','Day High', 'Day High', '12m High', '12m Low'\n",
    "\n",
    "random_company_code = random.choice(df.Code)\n",
    "\n",
    "#TPSE, UMME  giving the best results .\n",
    "    \n",
    "__nse_dat_preprocessor = NSEDataPreProcessor(\n",
    "    company_code= random_company_code,\n",
    "    columns_to_type_cast=['Day Price','Day High', 'Day Low', '12m High', '12m Low'],\n",
    "    columns_to_scale=[ 'Previous','Day High', 'Day Low', '12m High', '12m Low'],\n",
    "    columns_to_return=['Code','Day Price','Previous','Day High', 'Day Low', '12m High', '12m Low'], \n",
    ")\n",
    "xyz_preprocessed_df = __nse_dat_preprocessor.fit_transform(\n",
    "    df,    \n",
    ")\n",
    "display(xyz_preprocessed_df.head(2)) #Show the company being worked on .\n",
    "\n",
    "preprocessed_df = xyz_preprocessed_df.drop(columns=['Code'])\n",
    "preprocessed_df\n",
    "    "
   ],
   "metadata": {
    "collapsed": false,
    "ExecuteTime": {
     "end_time": "2023-11-13T13:43:41.183777839Z",
     "start_time": "2023-11-13T13:43:41.122803839Z"
    }
   },
   "id": "a8f99b36e15aa69b"
  },
  {
   "cell_type": "code",
   "execution_count": 278,
   "outputs": [
    {
     "data": {
      "text/plain": "0      1.23\n1      1.22\n2      1.22\n3      1.27\n4      1.21\n       ... \n97     1.00\n98     1.00\n99     1.00\n100    1.00\n101    1.00\nName: Day Price, Length: 102, dtype: float64"
     },
     "execution_count": 278,
     "metadata": {},
     "output_type": "execute_result"
    }
   ],
   "source": [
    "x_features = ['Previous','Day High', 'Day Low', '12m High', '12m Low']\n",
    "x_single_feature =  'Day Price'\n",
    "y_classes = 'Day Price'\n",
    "\n",
    "X = preprocessed_df[x_single_feature]\n",
    "day_price_series = preprocessed_df[x_single_feature]\n",
    "day_price_series\n"
   ],
   "metadata": {
    "collapsed": false,
    "ExecuteTime": {
     "end_time": "2023-11-13T13:43:41.184451361Z",
     "start_time": "2023-11-13T13:43:41.153132600Z"
    }
   },
   "id": "b0cc51cb2acd1bb7"
  },
  {
   "cell_type": "markdown",
   "source": [
    "## Calculating Returns : The percentage change in stock price over the specified time period\n",
    "### returns = ((currentDayPrice * previousDayPrice)*100)/previousDayPrice"
   ],
   "metadata": {
    "collapsed": false
   },
   "id": "51ca7f8adeb129d0"
  },
  {
   "cell_type": "code",
   "execution_count": 279,
   "outputs": [
    {
     "data": {
      "text/plain": "     Price    Return  Label\n0     1.23       NaN      0\n1     1.22 -0.813008     -1\n2     1.22  0.000000      0\n3     1.27  4.098361      1\n4     1.21 -4.724409     -1\n..     ...       ...    ...\n97    1.00  1.010101      1\n98    1.00  0.000000      0\n99    1.00  0.000000      0\n100   1.00  0.000000      0\n101   1.00  0.000000      0\n\n[102 rows x 3 columns]",
      "text/html": "<div>\n<style scoped>\n    .dataframe tbody tr th:only-of-type {\n        vertical-align: middle;\n    }\n\n    .dataframe tbody tr th {\n        vertical-align: top;\n    }\n\n    .dataframe thead th {\n        text-align: right;\n    }\n</style>\n<table border=\"1\" class=\"dataframe\">\n  <thead>\n    <tr style=\"text-align: right;\">\n      <th></th>\n      <th>Price</th>\n      <th>Return</th>\n      <th>Label</th>\n    </tr>\n  </thead>\n  <tbody>\n    <tr>\n      <th>0</th>\n      <td>1.23</td>\n      <td>NaN</td>\n      <td>0</td>\n    </tr>\n    <tr>\n      <th>1</th>\n      <td>1.22</td>\n      <td>-0.813008</td>\n      <td>-1</td>\n    </tr>\n    <tr>\n      <th>2</th>\n      <td>1.22</td>\n      <td>0.000000</td>\n      <td>0</td>\n    </tr>\n    <tr>\n      <th>3</th>\n      <td>1.27</td>\n      <td>4.098361</td>\n      <td>1</td>\n    </tr>\n    <tr>\n      <th>4</th>\n      <td>1.21</td>\n      <td>-4.724409</td>\n      <td>-1</td>\n    </tr>\n    <tr>\n      <th>...</th>\n      <td>...</td>\n      <td>...</td>\n      <td>...</td>\n    </tr>\n    <tr>\n      <th>97</th>\n      <td>1.00</td>\n      <td>1.010101</td>\n      <td>1</td>\n    </tr>\n    <tr>\n      <th>98</th>\n      <td>1.00</td>\n      <td>0.000000</td>\n      <td>0</td>\n    </tr>\n    <tr>\n      <th>99</th>\n      <td>1.00</td>\n      <td>0.000000</td>\n      <td>0</td>\n    </tr>\n    <tr>\n      <th>100</th>\n      <td>1.00</td>\n      <td>0.000000</td>\n      <td>0</td>\n    </tr>\n    <tr>\n      <th>101</th>\n      <td>1.00</td>\n      <td>0.000000</td>\n      <td>0</td>\n    </tr>\n  </tbody>\n</table>\n<p>102 rows × 3 columns</p>\n</div>"
     },
     "execution_count": 279,
     "metadata": {},
     "output_type": "execute_result"
    }
   ],
   "source": [
    "import pandas as pd\n",
    "\n",
    "def calculate_returns_and_label(data, prediction_horizon=1, positive_threshold=0, negative_threshold=0):\n",
    "    \"\"\"\n",
    "    Calculate returns based on the given prediction horizon and label as positive, negative, or no change.\n",
    "\n",
    "    Parameters:\n",
    "    - data: Pandas Series with stock prices.\n",
    "    - prediction_horizon: Time horizon for calculating returns (default: 1).\n",
    "    - positive_threshold: Threshold for positive return (default: 0).\n",
    "    - negative_threshold: Threshold for negative return (default: 0).\n",
    "\n",
    "    Returns:\n",
    "    - Pandas DataFrame with columns 'Price', 'Return', and 'Label'.\n",
    "    \"\"\"\n",
    "    \n",
    "    returns = data.pct_change(prediction_horizon) * 100\n",
    "    result_df = pd.DataFrame({'Price': data, 'Return': returns})\n",
    "    \n",
    "    result_df['Label'] = 0  # Initializes all labels as 0 : if there is no change in the prices , then 0 is set as the  label.\n",
    "    result_df.loc[result_df['Return'] > positive_threshold, 'Label'] = 1  \n",
    "    result_df.loc[result_df['Return'] < negative_threshold, 'Label'] = -1    \n",
    "\n",
    "    return result_df\n",
    "\n",
    "# day_price_df.describe() gives the stats description of the dataframe : examples ; mean ,  median ,  std deviation ... dataframe.info() on the the r hand gives the data types of the data.\n",
    "\n",
    "result_df = calculate_returns_and_label(day_price_series)\n",
    "result_df\n"
   ],
   "metadata": {
    "collapsed": false,
    "ExecuteTime": {
     "end_time": "2023-11-13T13:43:41.383552892Z",
     "start_time": "2023-11-13T13:43:41.175398184Z"
    }
   },
   "id": "1a5fc4cb4403fa59"
  },
  {
   "cell_type": "code",
   "execution_count": 280,
   "outputs": [
    {
     "name": "stdout",
     "output_type": "stream",
     "text": [
      "X_Data shape :  (98, 4)\n",
      "Y_Data shape :  (98,)\n"
     ]
    },
    {
     "data": {
      "text/plain": "    Day1  Day2  Day3  Day4  day5_dayPriceLabel\n0      0    -1     0     1                  -1\n1     -1     0     1    -1                  -1\n2      0     1    -1    -1                   1\n3      1    -1    -1     1                   0\n4     -1    -1     1     0                  -1\n..   ...   ...   ...   ...                 ...\n93    -1    -1     1    -1                   1\n94    -1     1    -1     1                   0\n95     1    -1     1     0                   0\n96    -1     1     0     0                   0\n97     1     0     0     0                   0\n\n[98 rows x 5 columns]",
      "text/html": "<div>\n<style scoped>\n    .dataframe tbody tr th:only-of-type {\n        vertical-align: middle;\n    }\n\n    .dataframe tbody tr th {\n        vertical-align: top;\n    }\n\n    .dataframe thead th {\n        text-align: right;\n    }\n</style>\n<table border=\"1\" class=\"dataframe\">\n  <thead>\n    <tr style=\"text-align: right;\">\n      <th></th>\n      <th>Day1</th>\n      <th>Day2</th>\n      <th>Day3</th>\n      <th>Day4</th>\n      <th>day5_dayPriceLabel</th>\n    </tr>\n  </thead>\n  <tbody>\n    <tr>\n      <th>0</th>\n      <td>0</td>\n      <td>-1</td>\n      <td>0</td>\n      <td>1</td>\n      <td>-1</td>\n    </tr>\n    <tr>\n      <th>1</th>\n      <td>-1</td>\n      <td>0</td>\n      <td>1</td>\n      <td>-1</td>\n      <td>-1</td>\n    </tr>\n    <tr>\n      <th>2</th>\n      <td>0</td>\n      <td>1</td>\n      <td>-1</td>\n      <td>-1</td>\n      <td>1</td>\n    </tr>\n    <tr>\n      <th>3</th>\n      <td>1</td>\n      <td>-1</td>\n      <td>-1</td>\n      <td>1</td>\n      <td>0</td>\n    </tr>\n    <tr>\n      <th>4</th>\n      <td>-1</td>\n      <td>-1</td>\n      <td>1</td>\n      <td>0</td>\n      <td>-1</td>\n    </tr>\n    <tr>\n      <th>...</th>\n      <td>...</td>\n      <td>...</td>\n      <td>...</td>\n      <td>...</td>\n      <td>...</td>\n    </tr>\n    <tr>\n      <th>93</th>\n      <td>-1</td>\n      <td>-1</td>\n      <td>1</td>\n      <td>-1</td>\n      <td>1</td>\n    </tr>\n    <tr>\n      <th>94</th>\n      <td>-1</td>\n      <td>1</td>\n      <td>-1</td>\n      <td>1</td>\n      <td>0</td>\n    </tr>\n    <tr>\n      <th>95</th>\n      <td>1</td>\n      <td>-1</td>\n      <td>1</td>\n      <td>0</td>\n      <td>0</td>\n    </tr>\n    <tr>\n      <th>96</th>\n      <td>-1</td>\n      <td>1</td>\n      <td>0</td>\n      <td>0</td>\n      <td>0</td>\n    </tr>\n    <tr>\n      <th>97</th>\n      <td>1</td>\n      <td>0</td>\n      <td>0</td>\n      <td>0</td>\n      <td>0</td>\n    </tr>\n  </tbody>\n</table>\n<p>98 rows × 5 columns</p>\n</div>"
     },
     "execution_count": 280,
     "metadata": {},
     "output_type": "execute_result"
    }
   ],
   "source": [
    "import utils.x_y_generator as generator\n",
    "\n",
    "features , targets = generator.__generate_x_y_from_nsc_df(time_step=4, __data_frame= result_df['Label'])\n",
    "\n",
    "print(\"X_Data shape : \",features.shape)\n",
    "print(\"Y_Data shape : \",targets.shape)\n",
    "\n",
    "column_names = ['Day1', 'Day2', 'Day3','Day4']\n",
    "df = pd.DataFrame(features, columns=column_names)\n",
    "\n",
    "df['day5_dayPriceLabel'] = pd.Series(data= targets)\n",
    "df\n"
   ],
   "metadata": {
    "collapsed": false,
    "ExecuteTime": {
     "end_time": "2023-11-13T13:43:41.384326422Z",
     "start_time": "2023-11-13T13:43:41.222824233Z"
    }
   },
   "id": "eb1cbfe299d646f"
  },
  {
   "cell_type": "code",
   "execution_count": 281,
   "outputs": [
    {
     "data": {
      "text/plain": "((78, 4), (78,), (20, 4), (20,))"
     },
     "execution_count": 281,
     "metadata": {},
     "output_type": "execute_result"
    }
   ],
   "source": [
    "import utils.data_splitter as splitter\n",
    "\n",
    "features_train, targets_train, features_test, targets_test = splitter.__dynamic_data_split(features,targets, ratio_train=0.8)\n",
    "\n",
    "features_train.shape,targets_train.shape, features_test.shape, targets_test.shape\n",
    "\n"
   ],
   "metadata": {
    "collapsed": false,
    "ExecuteTime": {
     "end_time": "2023-11-13T13:43:41.394724345Z",
     "start_time": "2023-11-13T13:43:41.266765092Z"
    }
   },
   "id": "155aa1ad76aa9951"
  },
  {
   "cell_type": "code",
   "execution_count": 282,
   "outputs": [
    {
     "name": "stdout",
     "output_type": "stream",
     "text": [
      "Accuracy: 0.4\n"
     ]
    }
   ],
   "source": [
    "from sklearn.ensemble import RandomForestClassifier\n",
    "from sklearn.model_selection import train_test_split\n",
    "from sklearn.metrics import accuracy_score\n",
    "\n",
    "\n",
    "# Initialize the RandomForestClassifier\n",
    "classifier = RandomForestClassifier(n_estimators=100, random_state=42)\n",
    "\n",
    "# Train the classifier on the training data\n",
    "classifier.fit(features_train, targets_train)\n",
    "\n",
    "# Make predictions on the test set\n",
    "rf_predictions = classifier.predict(features_test)\n",
    "\n",
    "# Evaluate the accuracy of the model\n",
    "accuracy = accuracy_score(targets_test, rf_predictions)\n",
    "print(f\"Accuracy: {accuracy}\")\n",
    "\n",
    "\n"
   ],
   "metadata": {
    "collapsed": false,
    "ExecuteTime": {
     "end_time": "2023-11-13T13:43:41.639730689Z",
     "start_time": "2023-11-13T13:43:41.266912580Z"
    }
   },
   "id": "e457f4135d3ced02"
  },
  {
   "cell_type": "code",
   "execution_count": 283,
   "outputs": [
    {
     "name": "stdout",
     "output_type": "stream",
     "text": [
      "Gradient Boosting Classifier Accuracy: 0.4\n",
      "Precision (RandomForestClassifier): 0.4\n",
      "Precision (GradientBoostingClassifier): 0.4\n"
     ]
    }
   ],
   "source": [
    "from sklearn.ensemble import GradientBoostingClassifier\n",
    "from sklearn.metrics import precision_score, recall_score\n",
    "\n",
    "gb_classifier = GradientBoostingClassifier(n_estimators=100)\n",
    "\n",
    "gb_classifier.fit(features_train, targets_train)\n",
    "\n",
    "gb_predictions = gb_classifier.predict(features_test)\n",
    "\n",
    "gb_accuracy = accuracy_score(targets_test, gb_predictions)\n",
    "print(f\"Gradient Boosting Classifier Accuracy: {gb_accuracy}\")\n",
    "\n",
    "precision_rf = precision_score(targets_test, rf_predictions, average='micro')  # assuming binary classification\n",
    "print(f\"Precision (RandomForestClassifier): {precision_rf}\")\n",
    "\n",
    "precision_gb = precision_score(targets_test, gb_predictions, average='micro')  # assuming binary classification\n",
    "print(f\"Precision (GradientBoostingClassifier): {precision_gb}\")\n"
   ],
   "metadata": {
    "collapsed": false,
    "ExecuteTime": {
     "end_time": "2023-11-13T13:43:42.004586181Z",
     "start_time": "2023-11-13T13:43:41.498402879Z"
    }
   },
   "id": "19f260b667b91fb6"
  }
 ],
 "metadata": {
  "kernelspec": {
   "display_name": "Python 3",
   "language": "python",
   "name": "python3"
  },
  "language_info": {
   "codemirror_mode": {
    "name": "ipython",
    "version": 2
   },
   "file_extension": ".py",
   "mimetype": "text/x-python",
   "name": "python",
   "nbconvert_exporter": "python",
   "pygments_lexer": "ipython2",
   "version": "2.7.6"
  }
 },
 "nbformat": 4,
 "nbformat_minor": 5
}
