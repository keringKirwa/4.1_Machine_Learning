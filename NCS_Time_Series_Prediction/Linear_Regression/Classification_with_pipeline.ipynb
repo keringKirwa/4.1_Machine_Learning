{
 "cells": [
  {
   "cell_type": "markdown",
   "source": [
    "# The binary classification task"
   ],
   "metadata": {
    "collapsed": false
   },
   "id": "3da43e9373095a93"
  },
  {
   "cell_type": "code",
   "execution_count": 523,
   "outputs": [],
   "source": [
    "import pandas as pd\n",
    "import numpy as np\n",
    "np.random.seed(42)"
   ],
   "metadata": {
    "collapsed": false,
    "ExecuteTime": {
     "end_time": "2023-11-15T19:52:27.163930652Z",
     "start_time": "2023-11-15T19:52:27.098988337Z"
    }
   },
   "id": "9ff009812bab8f3b"
  },
  {
   "cell_type": "code",
   "execution_count": 524,
   "outputs": [
    {
     "data": {
      "text/plain": "           Date  Code                        Name   12m Low  12m High  \\\n0      3-Jan-22  EGAD                 Eaagads Ltd        10        15   \n1      3-Jan-22  KUKZ                  Kakuzi Plc       355       427   \n2      3-Jan-22  KAPC     Kapchorua Tea Kenya Plc        80       101   \n3      3-Jan-22  LIMT              Limuru Tea Plc       260       360   \n4      3-Jan-22  SASN                  Sasini Plc     16.75      22.6   \n...         ...   ...                         ...       ...       ...   \n6727  31-May-22   MSC    Mumias Sugar Company Ltd      0.27      0.27   \n6728  31-May-22  UNGA              Unga Group Ltd      26.1      36.4   \n6729  31-May-22  SCOM               Safaricom Plc      25.5     45.25   \n6730  31-May-22  FAHR  Stanlib Fahari Income-REIT         5      7.48   \n6731  31-May-22   GLD            ABSA NewGold ETF  1,780.00  2,135.00   \n\n       Day Low  Day High Day Price  Previous Change Change%      Volume  \\\n0         13.5      13.8      13.5      13.5      -       -       4,000   \n1          385       385       385       385      -       -           -   \n2         99.5      99.5      99.5      95.5      4   4.19%         100   \n3          320       320       320       320      -       -           -   \n4         18.7      18.7      18.7      18.7      -       -           -   \n...        ...       ...       ...       ...    ...     ...         ...   \n6727      0.27      0.27      0.27      0.27      -       -           -   \n6728        29        29        29        30     -1   3.33%       2,100   \n6729     25.95     26.45        26     26.25  -0.25   0.95%  20,079,900   \n6730       5.5       5.6      5.56      5.58  -0.02   0.36%      11,700   \n6731  2,135.00  2,135.00  2,135.00  2,135.00      -       -           -   \n\n     Adjusted Price  \n0                 -  \n1                 -  \n2                 -  \n3                 -  \n4                 -  \n...             ...  \n6727              -  \n6728              -  \n6729              -  \n6730              -  \n6731              -  \n\n[6732 rows x 13 columns]",
      "text/html": "<div>\n<style scoped>\n    .dataframe tbody tr th:only-of-type {\n        vertical-align: middle;\n    }\n\n    .dataframe tbody tr th {\n        vertical-align: top;\n    }\n\n    .dataframe thead th {\n        text-align: right;\n    }\n</style>\n<table border=\"1\" class=\"dataframe\">\n  <thead>\n    <tr style=\"text-align: right;\">\n      <th></th>\n      <th>Date</th>\n      <th>Code</th>\n      <th>Name</th>\n      <th>12m Low</th>\n      <th>12m High</th>\n      <th>Day Low</th>\n      <th>Day High</th>\n      <th>Day Price</th>\n      <th>Previous</th>\n      <th>Change</th>\n      <th>Change%</th>\n      <th>Volume</th>\n      <th>Adjusted Price</th>\n    </tr>\n  </thead>\n  <tbody>\n    <tr>\n      <th>0</th>\n      <td>3-Jan-22</td>\n      <td>EGAD</td>\n      <td>Eaagads Ltd</td>\n      <td>10</td>\n      <td>15</td>\n      <td>13.5</td>\n      <td>13.8</td>\n      <td>13.5</td>\n      <td>13.5</td>\n      <td>-</td>\n      <td>-</td>\n      <td>4,000</td>\n      <td>-</td>\n    </tr>\n    <tr>\n      <th>1</th>\n      <td>3-Jan-22</td>\n      <td>KUKZ</td>\n      <td>Kakuzi Plc</td>\n      <td>355</td>\n      <td>427</td>\n      <td>385</td>\n      <td>385</td>\n      <td>385</td>\n      <td>385</td>\n      <td>-</td>\n      <td>-</td>\n      <td>-</td>\n      <td>-</td>\n    </tr>\n    <tr>\n      <th>2</th>\n      <td>3-Jan-22</td>\n      <td>KAPC</td>\n      <td>Kapchorua Tea Kenya Plc</td>\n      <td>80</td>\n      <td>101</td>\n      <td>99.5</td>\n      <td>99.5</td>\n      <td>99.5</td>\n      <td>95.5</td>\n      <td>4</td>\n      <td>4.19%</td>\n      <td>100</td>\n      <td>-</td>\n    </tr>\n    <tr>\n      <th>3</th>\n      <td>3-Jan-22</td>\n      <td>LIMT</td>\n      <td>Limuru Tea Plc</td>\n      <td>260</td>\n      <td>360</td>\n      <td>320</td>\n      <td>320</td>\n      <td>320</td>\n      <td>320</td>\n      <td>-</td>\n      <td>-</td>\n      <td>-</td>\n      <td>-</td>\n    </tr>\n    <tr>\n      <th>4</th>\n      <td>3-Jan-22</td>\n      <td>SASN</td>\n      <td>Sasini Plc</td>\n      <td>16.75</td>\n      <td>22.6</td>\n      <td>18.7</td>\n      <td>18.7</td>\n      <td>18.7</td>\n      <td>18.7</td>\n      <td>-</td>\n      <td>-</td>\n      <td>-</td>\n      <td>-</td>\n    </tr>\n    <tr>\n      <th>...</th>\n      <td>...</td>\n      <td>...</td>\n      <td>...</td>\n      <td>...</td>\n      <td>...</td>\n      <td>...</td>\n      <td>...</td>\n      <td>...</td>\n      <td>...</td>\n      <td>...</td>\n      <td>...</td>\n      <td>...</td>\n      <td>...</td>\n    </tr>\n    <tr>\n      <th>6727</th>\n      <td>31-May-22</td>\n      <td>MSC</td>\n      <td>Mumias Sugar Company Ltd</td>\n      <td>0.27</td>\n      <td>0.27</td>\n      <td>0.27</td>\n      <td>0.27</td>\n      <td>0.27</td>\n      <td>0.27</td>\n      <td>-</td>\n      <td>-</td>\n      <td>-</td>\n      <td>-</td>\n    </tr>\n    <tr>\n      <th>6728</th>\n      <td>31-May-22</td>\n      <td>UNGA</td>\n      <td>Unga Group Ltd</td>\n      <td>26.1</td>\n      <td>36.4</td>\n      <td>29</td>\n      <td>29</td>\n      <td>29</td>\n      <td>30</td>\n      <td>-1</td>\n      <td>3.33%</td>\n      <td>2,100</td>\n      <td>-</td>\n    </tr>\n    <tr>\n      <th>6729</th>\n      <td>31-May-22</td>\n      <td>SCOM</td>\n      <td>Safaricom Plc</td>\n      <td>25.5</td>\n      <td>45.25</td>\n      <td>25.95</td>\n      <td>26.45</td>\n      <td>26</td>\n      <td>26.25</td>\n      <td>-0.25</td>\n      <td>0.95%</td>\n      <td>20,079,900</td>\n      <td>-</td>\n    </tr>\n    <tr>\n      <th>6730</th>\n      <td>31-May-22</td>\n      <td>FAHR</td>\n      <td>Stanlib Fahari Income-REIT</td>\n      <td>5</td>\n      <td>7.48</td>\n      <td>5.5</td>\n      <td>5.6</td>\n      <td>5.56</td>\n      <td>5.58</td>\n      <td>-0.02</td>\n      <td>0.36%</td>\n      <td>11,700</td>\n      <td>-</td>\n    </tr>\n    <tr>\n      <th>6731</th>\n      <td>31-May-22</td>\n      <td>GLD</td>\n      <td>ABSA NewGold ETF</td>\n      <td>1,780.00</td>\n      <td>2,135.00</td>\n      <td>2,135.00</td>\n      <td>2,135.00</td>\n      <td>2,135.00</td>\n      <td>2,135.00</td>\n      <td>-</td>\n      <td>-</td>\n      <td>-</td>\n      <td>-</td>\n    </tr>\n  </tbody>\n</table>\n<p>6732 rows × 13 columns</p>\n</div>"
     },
     "execution_count": 524,
     "metadata": {},
     "output_type": "execute_result"
    }
   ],
   "source": [
    "df = pd.read_csv('../NSE_data_all_stocks_2022_jan_to_may (1).csv')\n",
    "df"
   ],
   "metadata": {
    "collapsed": false,
    "ExecuteTime": {
     "end_time": "2023-11-15T19:52:27.212087168Z",
     "start_time": "2023-11-15T19:52:27.147795638Z"
    }
   },
   "id": "1cc1f53ef3c64554"
  },
  {
   "cell_type": "code",
   "execution_count": 525,
   "outputs": [
    {
     "data": {
      "text/plain": "   Code  Day Price  Previous  Day High   Day Low  12m High   12m Low\n0  EABL      165.5     165.0  1.623216  0.577051       0.0  0.735372\n1  EABL      165.0     165.5  1.265554  1.736839       0.0  0.735372",
      "text/html": "<div>\n<style scoped>\n    .dataframe tbody tr th:only-of-type {\n        vertical-align: middle;\n    }\n\n    .dataframe tbody tr th {\n        vertical-align: top;\n    }\n\n    .dataframe thead th {\n        text-align: right;\n    }\n</style>\n<table border=\"1\" class=\"dataframe\">\n  <thead>\n    <tr style=\"text-align: right;\">\n      <th></th>\n      <th>Code</th>\n      <th>Day Price</th>\n      <th>Previous</th>\n      <th>Day High</th>\n      <th>Day Low</th>\n      <th>12m High</th>\n      <th>12m Low</th>\n    </tr>\n  </thead>\n  <tbody>\n    <tr>\n      <th>0</th>\n      <td>EABL</td>\n      <td>165.5</td>\n      <td>165.0</td>\n      <td>1.623216</td>\n      <td>0.577051</td>\n      <td>0.0</td>\n      <td>0.735372</td>\n    </tr>\n    <tr>\n      <th>1</th>\n      <td>EABL</td>\n      <td>165.0</td>\n      <td>165.5</td>\n      <td>1.265554</td>\n      <td>1.736839</td>\n      <td>0.0</td>\n      <td>0.735372</td>\n    </tr>\n  </tbody>\n</table>\n</div>"
     },
     "metadata": {},
     "output_type": "display_data"
    },
    {
     "data": {
      "text/plain": "     Day Price  Previous  Day High   Day Low  12m High   12m Low\n0       165.50    165.00  1.623216  0.577051       0.0  0.735372\n1       165.00    165.50  1.265554  1.736839       0.0  0.735372\n2       163.75    165.00  1.265554  1.092512       0.0  0.735372\n3       160.75    163.75  1.265554  1.092512       0.0  0.735372\n4       164.75    160.75  1.265554  1.640190       0.0  0.735372\n..         ...       ...       ...       ...       ...       ...\n97      141.00    141.00 -1.595749 -1.420361       0.0 -1.394191\n98      141.00    141.00 -1.476528 -1.484793       0.0 -1.394191\n99      141.00    141.00 -1.476528 -1.355928       0.0 -1.394191\n100     141.50    141.00 -1.476528 -1.355928       0.0 -1.394191\n101     141.00    141.50 -1.565944 -1.420361       0.0 -1.394191\n\n[102 rows x 6 columns]",
      "text/html": "<div>\n<style scoped>\n    .dataframe tbody tr th:only-of-type {\n        vertical-align: middle;\n    }\n\n    .dataframe tbody tr th {\n        vertical-align: top;\n    }\n\n    .dataframe thead th {\n        text-align: right;\n    }\n</style>\n<table border=\"1\" class=\"dataframe\">\n  <thead>\n    <tr style=\"text-align: right;\">\n      <th></th>\n      <th>Day Price</th>\n      <th>Previous</th>\n      <th>Day High</th>\n      <th>Day Low</th>\n      <th>12m High</th>\n      <th>12m Low</th>\n    </tr>\n  </thead>\n  <tbody>\n    <tr>\n      <th>0</th>\n      <td>165.50</td>\n      <td>165.00</td>\n      <td>1.623216</td>\n      <td>0.577051</td>\n      <td>0.0</td>\n      <td>0.735372</td>\n    </tr>\n    <tr>\n      <th>1</th>\n      <td>165.00</td>\n      <td>165.50</td>\n      <td>1.265554</td>\n      <td>1.736839</td>\n      <td>0.0</td>\n      <td>0.735372</td>\n    </tr>\n    <tr>\n      <th>2</th>\n      <td>163.75</td>\n      <td>165.00</td>\n      <td>1.265554</td>\n      <td>1.092512</td>\n      <td>0.0</td>\n      <td>0.735372</td>\n    </tr>\n    <tr>\n      <th>3</th>\n      <td>160.75</td>\n      <td>163.75</td>\n      <td>1.265554</td>\n      <td>1.092512</td>\n      <td>0.0</td>\n      <td>0.735372</td>\n    </tr>\n    <tr>\n      <th>4</th>\n      <td>164.75</td>\n      <td>160.75</td>\n      <td>1.265554</td>\n      <td>1.640190</td>\n      <td>0.0</td>\n      <td>0.735372</td>\n    </tr>\n    <tr>\n      <th>...</th>\n      <td>...</td>\n      <td>...</td>\n      <td>...</td>\n      <td>...</td>\n      <td>...</td>\n      <td>...</td>\n    </tr>\n    <tr>\n      <th>97</th>\n      <td>141.00</td>\n      <td>141.00</td>\n      <td>-1.595749</td>\n      <td>-1.420361</td>\n      <td>0.0</td>\n      <td>-1.394191</td>\n    </tr>\n    <tr>\n      <th>98</th>\n      <td>141.00</td>\n      <td>141.00</td>\n      <td>-1.476528</td>\n      <td>-1.484793</td>\n      <td>0.0</td>\n      <td>-1.394191</td>\n    </tr>\n    <tr>\n      <th>99</th>\n      <td>141.00</td>\n      <td>141.00</td>\n      <td>-1.476528</td>\n      <td>-1.355928</td>\n      <td>0.0</td>\n      <td>-1.394191</td>\n    </tr>\n    <tr>\n      <th>100</th>\n      <td>141.50</td>\n      <td>141.00</td>\n      <td>-1.476528</td>\n      <td>-1.355928</td>\n      <td>0.0</td>\n      <td>-1.394191</td>\n    </tr>\n    <tr>\n      <th>101</th>\n      <td>141.00</td>\n      <td>141.50</td>\n      <td>-1.565944</td>\n      <td>-1.420361</td>\n      <td>0.0</td>\n      <td>-1.394191</td>\n    </tr>\n  </tbody>\n</table>\n<p>102 rows × 6 columns</p>\n</div>"
     },
     "execution_count": 525,
     "metadata": {},
     "output_type": "execute_result"
    }
   ],
   "source": [
    "#Custom Data cleaner \n",
    "import random\n",
    "from sklearn.base import BaseEstimator, TransformerMixin\n",
    "from sklearn.preprocessing import StandardScaler   \n",
    "nsc_scaler = StandardScaler()\n",
    "\n",
    "class NSEDataPreProcessor(BaseEstimator, TransformerMixin):\n",
    "    \n",
    "    def __init__(self,company_code ,columns_to_type_cast, columns_to_scale, columns_to_return):\n",
    "        self.company_code = company_code        \n",
    "        self.to_type_cast= columns_to_type_cast \n",
    "        self.to_return= columns_to_return\n",
    "        self.to_scale=columns_to_scale  #same as  columns_to_type_cast but has the company code.\n",
    "        \n",
    "        \n",
    "    def __type_cast_and_scale_xyz_df(self, xyz_data_frame):\n",
    "        for column_name in self.to_type_cast:\n",
    "            xyz_data_frame[column_name] = pd.to_numeric(xyz_data_frame[column_name], errors='coerce')\n",
    "        xyz_data_frame[self.to_scale] = nsc_scaler.fit_transform(xyz_data_frame[self.to_scale])\n",
    "        \n",
    "        \n",
    "        return xyz_data_frame[self.to_return]\n",
    "    \n",
    "    def fit(self, X, y=None):\n",
    "        return self      \n",
    "\n",
    "    def transform(self, X):  \n",
    "        xyz_company_data_frame = X[X['Code'] == self.company_code].reset_index(drop=True)\n",
    "        type_converted_xyz_company_df = self.__type_cast_and_scale_xyz_df(\n",
    "            xyz_company_data_frame       \n",
    "        )        \n",
    "        return type_converted_xyz_company_df\n",
    "    \n",
    "random_company_code = random.choice(df.Code)\n",
    "\n",
    "#TPSE, UMME  giving the best results .\n",
    "    \n",
    "__nse_dat_preprocessor = NSEDataPreProcessor(\n",
    "    company_code= random_company_code,\n",
    "    columns_to_type_cast=['Previous','Day Price','Day High', 'Day Low', '12m High', '12m Low'],\n",
    "    columns_to_scale=[ 'Day High', 'Day Low', '12m High', '12m Low'],\n",
    "    columns_to_return=['Code','Day Price','Previous','Day High', 'Day Low', '12m High', '12m Low'], \n",
    ")\n",
    "xyz_preprocessed_df = __nse_dat_preprocessor.fit_transform(\n",
    "    df,    \n",
    ")\n",
    "display(xyz_preprocessed_df.head(2)) #Show the company being worked on .\n",
    "\n",
    "preprocessed_df = xyz_preprocessed_df.drop(columns=['Code'])\n",
    "preprocessed_df\n",
    "    "
   ],
   "metadata": {
    "collapsed": false,
    "ExecuteTime": {
     "end_time": "2023-11-15T19:52:27.375678234Z",
     "start_time": "2023-11-15T19:52:27.174747647Z"
    }
   },
   "id": "a8f99b36e15aa69b"
  },
  {
   "cell_type": "code",
   "execution_count": 526,
   "outputs": [
    {
     "data": {
      "text/plain": "     Day Price  Previous\n0       165.50    165.00\n1       165.00    165.50\n2       163.75    165.00\n3       160.75    163.75\n4       164.75    160.75\n..         ...       ...\n97      141.00    141.00\n98      141.00    141.00\n99      141.00    141.00\n100     141.50    141.00\n101     141.00    141.50\n\n[102 rows x 2 columns]",
      "text/html": "<div>\n<style scoped>\n    .dataframe tbody tr th:only-of-type {\n        vertical-align: middle;\n    }\n\n    .dataframe tbody tr th {\n        vertical-align: top;\n    }\n\n    .dataframe thead th {\n        text-align: right;\n    }\n</style>\n<table border=\"1\" class=\"dataframe\">\n  <thead>\n    <tr style=\"text-align: right;\">\n      <th></th>\n      <th>Day Price</th>\n      <th>Previous</th>\n    </tr>\n  </thead>\n  <tbody>\n    <tr>\n      <th>0</th>\n      <td>165.50</td>\n      <td>165.00</td>\n    </tr>\n    <tr>\n      <th>1</th>\n      <td>165.00</td>\n      <td>165.50</td>\n    </tr>\n    <tr>\n      <th>2</th>\n      <td>163.75</td>\n      <td>165.00</td>\n    </tr>\n    <tr>\n      <th>3</th>\n      <td>160.75</td>\n      <td>163.75</td>\n    </tr>\n    <tr>\n      <th>4</th>\n      <td>164.75</td>\n      <td>160.75</td>\n    </tr>\n    <tr>\n      <th>...</th>\n      <td>...</td>\n      <td>...</td>\n    </tr>\n    <tr>\n      <th>97</th>\n      <td>141.00</td>\n      <td>141.00</td>\n    </tr>\n    <tr>\n      <th>98</th>\n      <td>141.00</td>\n      <td>141.00</td>\n    </tr>\n    <tr>\n      <th>99</th>\n      <td>141.00</td>\n      <td>141.00</td>\n    </tr>\n    <tr>\n      <th>100</th>\n      <td>141.50</td>\n      <td>141.00</td>\n    </tr>\n    <tr>\n      <th>101</th>\n      <td>141.00</td>\n      <td>141.50</td>\n    </tr>\n  </tbody>\n</table>\n<p>102 rows × 2 columns</p>\n</div>"
     },
     "execution_count": 526,
     "metadata": {},
     "output_type": "execute_result"
    }
   ],
   "source": [
    "x_features = ['Previous','Day High', 'Day Low', '12m High', '12m Low']\n",
    "x_single_feature =  'Day Price'\n",
    "y_classes = 'Day Price'\n",
    "\n",
    "X = preprocessed_df[x_single_feature]\n",
    "day_price_df = preprocessed_df[['Day Price','Previous' ]]\n",
    "day_price_df\n"
   ],
   "metadata": {
    "collapsed": false,
    "ExecuteTime": {
     "end_time": "2023-11-15T19:52:27.376427006Z",
     "start_time": "2023-11-15T19:52:27.263880660Z"
    }
   },
   "id": "b0cc51cb2acd1bb7"
  },
  {
   "cell_type": "markdown",
   "source": [
    "## Calculating Returns : The percentage change in stock price over the specified time period\n",
    "### returns = ((currentDayPrice * previousDayPrice)*100)/previousDayPrice"
   ],
   "metadata": {
    "collapsed": false
   },
   "id": "51ca7f8adeb129d0"
  },
  {
   "cell_type": "code",
   "execution_count": 527,
   "outputs": [
    {
     "data": {
      "text/plain": "     Day Price  Previous    EMA_LONG   EMA_SHORT  Signal\n4       164.75    160.75  164.000000  162.604167      -1\n5       163.25    164.75  164.250000  163.677083      -1\n6       161.00    163.25  163.916667  163.463542      -1\n7       160.00    161.00  162.944444  162.231771      -1\n8       151.50    160.00  161.962963  161.115885      -1\n..         ...       ...         ...         ...     ...\n97      141.00    141.00  141.198872  141.159404      -1\n98      141.00    141.00  141.132581  141.079702      -1\n99      141.00    141.00  141.088388  141.039851      -1\n100     141.50    141.00  141.058925  141.019925      -1\n101     141.00    141.50  141.205950  141.259963       1\n\n[98 rows x 5 columns]",
      "text/html": "<div>\n<style scoped>\n    .dataframe tbody tr th:only-of-type {\n        vertical-align: middle;\n    }\n\n    .dataframe tbody tr th {\n        vertical-align: top;\n    }\n\n    .dataframe thead th {\n        text-align: right;\n    }\n</style>\n<table border=\"1\" class=\"dataframe\">\n  <thead>\n    <tr style=\"text-align: right;\">\n      <th></th>\n      <th>Day Price</th>\n      <th>Previous</th>\n      <th>EMA_LONG</th>\n      <th>EMA_SHORT</th>\n      <th>Signal</th>\n    </tr>\n  </thead>\n  <tbody>\n    <tr>\n      <th>4</th>\n      <td>164.75</td>\n      <td>160.75</td>\n      <td>164.000000</td>\n      <td>162.604167</td>\n      <td>-1</td>\n    </tr>\n    <tr>\n      <th>5</th>\n      <td>163.25</td>\n      <td>164.75</td>\n      <td>164.250000</td>\n      <td>163.677083</td>\n      <td>-1</td>\n    </tr>\n    <tr>\n      <th>6</th>\n      <td>161.00</td>\n      <td>163.25</td>\n      <td>163.916667</td>\n      <td>163.463542</td>\n      <td>-1</td>\n    </tr>\n    <tr>\n      <th>7</th>\n      <td>160.00</td>\n      <td>161.00</td>\n      <td>162.944444</td>\n      <td>162.231771</td>\n      <td>-1</td>\n    </tr>\n    <tr>\n      <th>8</th>\n      <td>151.50</td>\n      <td>160.00</td>\n      <td>161.962963</td>\n      <td>161.115885</td>\n      <td>-1</td>\n    </tr>\n    <tr>\n      <th>...</th>\n      <td>...</td>\n      <td>...</td>\n      <td>...</td>\n      <td>...</td>\n      <td>...</td>\n    </tr>\n    <tr>\n      <th>97</th>\n      <td>141.00</td>\n      <td>141.00</td>\n      <td>141.198872</td>\n      <td>141.159404</td>\n      <td>-1</td>\n    </tr>\n    <tr>\n      <th>98</th>\n      <td>141.00</td>\n      <td>141.00</td>\n      <td>141.132581</td>\n      <td>141.079702</td>\n      <td>-1</td>\n    </tr>\n    <tr>\n      <th>99</th>\n      <td>141.00</td>\n      <td>141.00</td>\n      <td>141.088388</td>\n      <td>141.039851</td>\n      <td>-1</td>\n    </tr>\n    <tr>\n      <th>100</th>\n      <td>141.50</td>\n      <td>141.00</td>\n      <td>141.058925</td>\n      <td>141.019925</td>\n      <td>-1</td>\n    </tr>\n    <tr>\n      <th>101</th>\n      <td>141.00</td>\n      <td>141.50</td>\n      <td>141.205950</td>\n      <td>141.259963</td>\n      <td>1</td>\n    </tr>\n  </tbody>\n</table>\n<p>98 rows × 5 columns</p>\n</div>"
     },
     "execution_count": 527,
     "metadata": {},
     "output_type": "execute_result"
    }
   ],
   "source": [
    "import pandas_ta as ta\n",
    "\n",
    "day_price_df = day_price_df.copy()\n",
    "\n",
    "day_price_df.loc[:, 'EMA_LONG'] = ta.ema(day_price_df['Previous'], length=5)\n",
    "day_price_df.loc[:, 'EMA_SHORT'] = ta.ema(day_price_df['Previous'], length=3)\n",
    "day_price_df['Signal'] = 0  # Initializing the with a default value (e.g., 0 for no signal)\n",
    "\n",
    "\n",
    "day_price_df.loc[day_price_df['EMA_SHORT'] > day_price_df['EMA_LONG'], 'Signal'] = 1\n",
    "\n",
    "day_price_df.loc[day_price_df['EMA_SHORT'] < day_price_df['EMA_LONG'], 'Signal'] = -1\n",
    "\n",
    "\n",
    "day_price_df = day_price_df.dropna()\n",
    "\n",
    "day_price_df"
   ],
   "metadata": {
    "collapsed": false,
    "ExecuteTime": {
     "end_time": "2023-11-15T19:52:27.493228820Z",
     "start_time": "2023-11-15T19:52:27.312516394Z"
    }
   },
   "id": "9a817eaff52a7a8"
  },
  {
   "cell_type": "code",
   "execution_count": 528,
   "outputs": [
    {
     "data": {
      "text/plain": "       EMA_LONG   EMA_SHORT\n4    164.000000  162.604167\n5    164.250000  163.677083\n6    163.916667  163.463542\n7    162.944444  162.231771\n8    161.962963  161.115885\n..          ...         ...\n97   141.198872  141.159404\n98   141.132581  141.079702\n99   141.088388  141.039851\n100  141.058925  141.019925\n101  141.205950  141.259963\n\n[98 rows x 2 columns]",
      "text/html": "<div>\n<style scoped>\n    .dataframe tbody tr th:only-of-type {\n        vertical-align: middle;\n    }\n\n    .dataframe tbody tr th {\n        vertical-align: top;\n    }\n\n    .dataframe thead th {\n        text-align: right;\n    }\n</style>\n<table border=\"1\" class=\"dataframe\">\n  <thead>\n    <tr style=\"text-align: right;\">\n      <th></th>\n      <th>EMA_LONG</th>\n      <th>EMA_SHORT</th>\n    </tr>\n  </thead>\n  <tbody>\n    <tr>\n      <th>4</th>\n      <td>164.000000</td>\n      <td>162.604167</td>\n    </tr>\n    <tr>\n      <th>5</th>\n      <td>164.250000</td>\n      <td>163.677083</td>\n    </tr>\n    <tr>\n      <th>6</th>\n      <td>163.916667</td>\n      <td>163.463542</td>\n    </tr>\n    <tr>\n      <th>7</th>\n      <td>162.944444</td>\n      <td>162.231771</td>\n    </tr>\n    <tr>\n      <th>8</th>\n      <td>161.962963</td>\n      <td>161.115885</td>\n    </tr>\n    <tr>\n      <th>...</th>\n      <td>...</td>\n      <td>...</td>\n    </tr>\n    <tr>\n      <th>97</th>\n      <td>141.198872</td>\n      <td>141.159404</td>\n    </tr>\n    <tr>\n      <th>98</th>\n      <td>141.132581</td>\n      <td>141.079702</td>\n    </tr>\n    <tr>\n      <th>99</th>\n      <td>141.088388</td>\n      <td>141.039851</td>\n    </tr>\n    <tr>\n      <th>100</th>\n      <td>141.058925</td>\n      <td>141.019925</td>\n    </tr>\n    <tr>\n      <th>101</th>\n      <td>141.205950</td>\n      <td>141.259963</td>\n    </tr>\n  </tbody>\n</table>\n<p>98 rows × 2 columns</p>\n</div>"
     },
     "execution_count": 528,
     "metadata": {},
     "output_type": "execute_result"
    }
   ],
   "source": [
    "X = day_price_df[['EMA_LONG', 'EMA_SHORT']]\n",
    "y = day_price_df['Signal']\n",
    "X"
   ],
   "metadata": {
    "collapsed": false,
    "ExecuteTime": {
     "end_time": "2023-11-15T19:52:27.494275708Z",
     "start_time": "2023-11-15T19:52:27.314189704Z"
    }
   },
   "id": "3fbff01953e1103a"
  },
  {
   "cell_type": "code",
   "execution_count": 529,
   "outputs": [
    {
     "data": {
      "text/plain": "(78, 2)"
     },
     "execution_count": 529,
     "metadata": {},
     "output_type": "execute_result"
    }
   ],
   "source": [
    "from sklearn.model_selection import train_test_split\n",
    "\n",
    "\n",
    "from sklearn.model_selection import TimeSeriesSplit\n",
    "\n",
    "X=X.values\n",
    "y=y.values\n",
    "\n",
    "tscv = TimeSeriesSplit(n_splits=10)\n",
    "\n",
    "generalized_test_indices = []\n",
    "for i, (train_indices, test_indices) in enumerate(tscv.split(X)):\n",
    "    \n",
    "    random_test_index = np.random.choice(test_indices)\n",
    "    generalized_test_indices.append(random_test_index)\n",
    "\n",
    "\n",
    "generalized_train_indices = np.setdiff1d(np.arange(len(X)), generalized_test_indices)\n",
    "\n",
    "X_train, X_test = X[generalized_train_indices], X[generalized_test_indices]\n",
    "y_train, y_test = y[generalized_train_indices], y[generalized_test_indices] \n",
    "    \n",
    "X_train.shape, y_test.shape\n",
    "\n",
    "X_train, X_test, y_train, y_test = train_test_split(X, y, test_size=0.2, random_state=42)\n",
    "X_train.shape"
   ],
   "metadata": {
    "collapsed": false,
    "ExecuteTime": {
     "end_time": "2023-11-15T19:52:27.494596219Z",
     "start_time": "2023-11-15T19:52:27.355907863Z"
    }
   },
   "id": "c182cae240637b42"
  },
  {
   "cell_type": "code",
   "execution_count": 530,
   "outputs": [
    {
     "data": {
      "text/plain": "    Actual  Predicted\n0        1          1\n1       -1         -1\n2       -1         -1\n3        1          1\n4       -1          1\n5       -1         -1\n6        1         -1\n7        1         -1\n8       -1         -1\n9       -1         -1\n10       1         -1\n11      -1         -1\n12      -1         -1\n13      -1          1\n14      -1         -1\n15      -1         -1\n16       1          1\n17      -1         -1\n18      -1         -1\n19      -1         -1",
      "text/html": "<div>\n<style scoped>\n    .dataframe tbody tr th:only-of-type {\n        vertical-align: middle;\n    }\n\n    .dataframe tbody tr th {\n        vertical-align: top;\n    }\n\n    .dataframe thead th {\n        text-align: right;\n    }\n</style>\n<table border=\"1\" class=\"dataframe\">\n  <thead>\n    <tr style=\"text-align: right;\">\n      <th></th>\n      <th>Actual</th>\n      <th>Predicted</th>\n    </tr>\n  </thead>\n  <tbody>\n    <tr>\n      <th>0</th>\n      <td>1</td>\n      <td>1</td>\n    </tr>\n    <tr>\n      <th>1</th>\n      <td>-1</td>\n      <td>-1</td>\n    </tr>\n    <tr>\n      <th>2</th>\n      <td>-1</td>\n      <td>-1</td>\n    </tr>\n    <tr>\n      <th>3</th>\n      <td>1</td>\n      <td>1</td>\n    </tr>\n    <tr>\n      <th>4</th>\n      <td>-1</td>\n      <td>1</td>\n    </tr>\n    <tr>\n      <th>5</th>\n      <td>-1</td>\n      <td>-1</td>\n    </tr>\n    <tr>\n      <th>6</th>\n      <td>1</td>\n      <td>-1</td>\n    </tr>\n    <tr>\n      <th>7</th>\n      <td>1</td>\n      <td>-1</td>\n    </tr>\n    <tr>\n      <th>8</th>\n      <td>-1</td>\n      <td>-1</td>\n    </tr>\n    <tr>\n      <th>9</th>\n      <td>-1</td>\n      <td>-1</td>\n    </tr>\n    <tr>\n      <th>10</th>\n      <td>1</td>\n      <td>-1</td>\n    </tr>\n    <tr>\n      <th>11</th>\n      <td>-1</td>\n      <td>-1</td>\n    </tr>\n    <tr>\n      <th>12</th>\n      <td>-1</td>\n      <td>-1</td>\n    </tr>\n    <tr>\n      <th>13</th>\n      <td>-1</td>\n      <td>1</td>\n    </tr>\n    <tr>\n      <th>14</th>\n      <td>-1</td>\n      <td>-1</td>\n    </tr>\n    <tr>\n      <th>15</th>\n      <td>-1</td>\n      <td>-1</td>\n    </tr>\n    <tr>\n      <th>16</th>\n      <td>1</td>\n      <td>1</td>\n    </tr>\n    <tr>\n      <th>17</th>\n      <td>-1</td>\n      <td>-1</td>\n    </tr>\n    <tr>\n      <th>18</th>\n      <td>-1</td>\n      <td>-1</td>\n    </tr>\n    <tr>\n      <th>19</th>\n      <td>-1</td>\n      <td>-1</td>\n    </tr>\n  </tbody>\n</table>\n</div>"
     },
     "execution_count": 530,
     "metadata": {},
     "output_type": "execute_result"
    }
   ],
   "source": [
    "from sklearn.ensemble import RandomForestClassifier\n",
    "\n",
    "model = RandomForestClassifier(random_state=42)\n",
    "model.fit(X_train, y_train)\n",
    "predictions = model.predict(X_test)\n",
    "\n",
    "results=pd.DataFrame({\n",
    "    \"Actual\": y_test,\n",
    "    \"Predicted\":predictions\n",
    "})\n",
    "\n",
    "results\n",
    "\n"
   ],
   "metadata": {
    "collapsed": false,
    "ExecuteTime": {
     "end_time": "2023-11-15T19:52:27.831428169Z",
     "start_time": "2023-11-15T19:52:27.399800925Z"
    }
   },
   "id": "766890a411f519d1"
  },
  {
   "cell_type": "code",
   "execution_count": 531,
   "outputs": [
    {
     "name": "stdout",
     "output_type": "stream",
     "text": [
      "Accuracy: 0.75\n",
      "Recall: 0.75\n",
      "Precision: 0.75\n",
      "Confusion Matrix:\n"
     ]
    },
    {
     "data": {
      "text/plain": "array([[12,  2],\n       [ 3,  3]])"
     },
     "execution_count": 531,
     "metadata": {},
     "output_type": "execute_result"
    }
   ],
   "source": [
    "from sklearn.metrics import  accuracy_score,recall_score, precision_score, confusion_matrix\n",
    "\n",
    "\n",
    "print(\"Accuracy:\", accuracy_score(y_test, predictions, ))\n",
    "print(\"Recall:\", precision_score(y_test, predictions, average='micro'))\n",
    "print(\"Precision:\", recall_score(y_test, predictions, average= 'micro'))\n",
    "\n",
    "conf_matrix = confusion_matrix(y_test, predictions)\n",
    "print(\"Confusion Matrix:\")\n",
    "conf_matrix\n"
   ],
   "metadata": {
    "collapsed": false,
    "ExecuteTime": {
     "end_time": "2023-11-15T19:52:27.832436998Z",
     "start_time": "2023-11-15T19:52:27.597711386Z"
    }
   },
   "id": "7a49d50d8ea32f2f"
  }
 ],
 "metadata": {
  "kernelspec": {
   "display_name": "Python 3",
   "language": "python",
   "name": "python3"
  },
  "language_info": {
   "codemirror_mode": {
    "name": "ipython",
    "version": 2
   },
   "file_extension": ".py",
   "mimetype": "text/x-python",
   "name": "python",
   "nbconvert_exporter": "python",
   "pygments_lexer": "ipython2",
   "version": "2.7.6"
  }
 },
 "nbformat": 4,
 "nbformat_minor": 5
}
