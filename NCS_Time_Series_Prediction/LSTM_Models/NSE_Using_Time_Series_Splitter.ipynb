{
 "cells": [
  {
   "cell_type": "code",
   "execution_count": 123,
   "id": "initial_id",
   "metadata": {
    "collapsed": true,
    "ExecuteTime": {
     "end_time": "2023-11-10T10:12:23.552481754Z",
     "start_time": "2023-11-10T10:12:23.193621440Z"
    }
   },
   "outputs": [],
   "source": [
    "from sklearn.model_selection import train_test_split\n",
    "import tensorflow as tf\n",
    "from keras.models import Sequential\n",
    "from keras.layers import LSTM, Dense, Input, InputLayer, Dropout\n",
    "\n",
    "import pandas as pd\n",
    "import numpy as np\n",
    "\n",
    "np.random.seed(42)\n",
    "\n",
    "import os\n",
    "import tensorflow as tf\n",
    "\n",
    "from keras.utils import plot_model\n",
    "\n",
    "#DATA NORMALIZATION(STANDARDISATION)\n",
    "from sklearn.preprocessing import MinMaxScaler\n",
    "\n",
    "#DATA PLOTTING\n",
    "import matplotlib.pyplot as plt\n",
    "\n",
    "#FOR PERFORMANCE METRICS ANALYSIS.\n",
    "from keras.optimizers import Adam\n",
    "from keras.losses import  MeanSquaredError\n",
    "from keras.metrics import  RootMeanSquaredError\n",
    "\n",
    "#SAVING AND LOADING MODEL\n",
    "from keras.callbacks import ModelCheckpoint, History\n",
    "from keras.models import load_model\n"
   ]
  },
  {
   "cell_type": "code",
   "execution_count": 124,
   "outputs": [
    {
     "data": {
      "text/plain": "           Date  Code                        Name   12m Low  12m High  \\\n0      3-Jan-22  EGAD                 Eaagads Ltd        10        15   \n1      3-Jan-22  KUKZ                  Kakuzi Plc       355       427   \n2      3-Jan-22  KAPC     Kapchorua Tea Kenya Plc        80       101   \n3      3-Jan-22  LIMT              Limuru Tea Plc       260       360   \n4      3-Jan-22  SASN                  Sasini Plc     16.75      22.6   \n...         ...   ...                         ...       ...       ...   \n6727  31-May-22   MSC    Mumias Sugar Company Ltd      0.27      0.27   \n6728  31-May-22  UNGA              Unga Group Ltd      26.1      36.4   \n6729  31-May-22  SCOM               Safaricom Plc      25.5     45.25   \n6730  31-May-22  FAHR  Stanlib Fahari Income-REIT         5      7.48   \n6731  31-May-22   GLD            ABSA NewGold ETF  1,780.00  2,135.00   \n\n       Day Low  Day High Day Price  Previous Change Change%      Volume  \\\n0         13.5      13.8      13.5      13.5      -       -       4,000   \n1          385       385       385       385      -       -           -   \n2         99.5      99.5      99.5      95.5      4   4.19%         100   \n3          320       320       320       320      -       -           -   \n4         18.7      18.7      18.7      18.7      -       -           -   \n...        ...       ...       ...       ...    ...     ...         ...   \n6727      0.27      0.27      0.27      0.27      -       -           -   \n6728        29        29        29        30     -1   3.33%       2,100   \n6729     25.95     26.45        26     26.25  -0.25   0.95%  20,079,900   \n6730       5.5       5.6      5.56      5.58  -0.02   0.36%      11,700   \n6731  2,135.00  2,135.00  2,135.00  2,135.00      -       -           -   \n\n     Adjusted Price  \n0                 -  \n1                 -  \n2                 -  \n3                 -  \n4                 -  \n...             ...  \n6727              -  \n6728              -  \n6729              -  \n6730              -  \n6731              -  \n\n[6732 rows x 13 columns]",
      "text/html": "<div>\n<style scoped>\n    .dataframe tbody tr th:only-of-type {\n        vertical-align: middle;\n    }\n\n    .dataframe tbody tr th {\n        vertical-align: top;\n    }\n\n    .dataframe thead th {\n        text-align: right;\n    }\n</style>\n<table border=\"1\" class=\"dataframe\">\n  <thead>\n    <tr style=\"text-align: right;\">\n      <th></th>\n      <th>Date</th>\n      <th>Code</th>\n      <th>Name</th>\n      <th>12m Low</th>\n      <th>12m High</th>\n      <th>Day Low</th>\n      <th>Day High</th>\n      <th>Day Price</th>\n      <th>Previous</th>\n      <th>Change</th>\n      <th>Change%</th>\n      <th>Volume</th>\n      <th>Adjusted Price</th>\n    </tr>\n  </thead>\n  <tbody>\n    <tr>\n      <th>0</th>\n      <td>3-Jan-22</td>\n      <td>EGAD</td>\n      <td>Eaagads Ltd</td>\n      <td>10</td>\n      <td>15</td>\n      <td>13.5</td>\n      <td>13.8</td>\n      <td>13.5</td>\n      <td>13.5</td>\n      <td>-</td>\n      <td>-</td>\n      <td>4,000</td>\n      <td>-</td>\n    </tr>\n    <tr>\n      <th>1</th>\n      <td>3-Jan-22</td>\n      <td>KUKZ</td>\n      <td>Kakuzi Plc</td>\n      <td>355</td>\n      <td>427</td>\n      <td>385</td>\n      <td>385</td>\n      <td>385</td>\n      <td>385</td>\n      <td>-</td>\n      <td>-</td>\n      <td>-</td>\n      <td>-</td>\n    </tr>\n    <tr>\n      <th>2</th>\n      <td>3-Jan-22</td>\n      <td>KAPC</td>\n      <td>Kapchorua Tea Kenya Plc</td>\n      <td>80</td>\n      <td>101</td>\n      <td>99.5</td>\n      <td>99.5</td>\n      <td>99.5</td>\n      <td>95.5</td>\n      <td>4</td>\n      <td>4.19%</td>\n      <td>100</td>\n      <td>-</td>\n    </tr>\n    <tr>\n      <th>3</th>\n      <td>3-Jan-22</td>\n      <td>LIMT</td>\n      <td>Limuru Tea Plc</td>\n      <td>260</td>\n      <td>360</td>\n      <td>320</td>\n      <td>320</td>\n      <td>320</td>\n      <td>320</td>\n      <td>-</td>\n      <td>-</td>\n      <td>-</td>\n      <td>-</td>\n    </tr>\n    <tr>\n      <th>4</th>\n      <td>3-Jan-22</td>\n      <td>SASN</td>\n      <td>Sasini Plc</td>\n      <td>16.75</td>\n      <td>22.6</td>\n      <td>18.7</td>\n      <td>18.7</td>\n      <td>18.7</td>\n      <td>18.7</td>\n      <td>-</td>\n      <td>-</td>\n      <td>-</td>\n      <td>-</td>\n    </tr>\n    <tr>\n      <th>...</th>\n      <td>...</td>\n      <td>...</td>\n      <td>...</td>\n      <td>...</td>\n      <td>...</td>\n      <td>...</td>\n      <td>...</td>\n      <td>...</td>\n      <td>...</td>\n      <td>...</td>\n      <td>...</td>\n      <td>...</td>\n      <td>...</td>\n    </tr>\n    <tr>\n      <th>6727</th>\n      <td>31-May-22</td>\n      <td>MSC</td>\n      <td>Mumias Sugar Company Ltd</td>\n      <td>0.27</td>\n      <td>0.27</td>\n      <td>0.27</td>\n      <td>0.27</td>\n      <td>0.27</td>\n      <td>0.27</td>\n      <td>-</td>\n      <td>-</td>\n      <td>-</td>\n      <td>-</td>\n    </tr>\n    <tr>\n      <th>6728</th>\n      <td>31-May-22</td>\n      <td>UNGA</td>\n      <td>Unga Group Ltd</td>\n      <td>26.1</td>\n      <td>36.4</td>\n      <td>29</td>\n      <td>29</td>\n      <td>29</td>\n      <td>30</td>\n      <td>-1</td>\n      <td>3.33%</td>\n      <td>2,100</td>\n      <td>-</td>\n    </tr>\n    <tr>\n      <th>6729</th>\n      <td>31-May-22</td>\n      <td>SCOM</td>\n      <td>Safaricom Plc</td>\n      <td>25.5</td>\n      <td>45.25</td>\n      <td>25.95</td>\n      <td>26.45</td>\n      <td>26</td>\n      <td>26.25</td>\n      <td>-0.25</td>\n      <td>0.95%</td>\n      <td>20,079,900</td>\n      <td>-</td>\n    </tr>\n    <tr>\n      <th>6730</th>\n      <td>31-May-22</td>\n      <td>FAHR</td>\n      <td>Stanlib Fahari Income-REIT</td>\n      <td>5</td>\n      <td>7.48</td>\n      <td>5.5</td>\n      <td>5.6</td>\n      <td>5.56</td>\n      <td>5.58</td>\n      <td>-0.02</td>\n      <td>0.36%</td>\n      <td>11,700</td>\n      <td>-</td>\n    </tr>\n    <tr>\n      <th>6731</th>\n      <td>31-May-22</td>\n      <td>GLD</td>\n      <td>ABSA NewGold ETF</td>\n      <td>1,780.00</td>\n      <td>2,135.00</td>\n      <td>2,135.00</td>\n      <td>2,135.00</td>\n      <td>2,135.00</td>\n      <td>2,135.00</td>\n      <td>-</td>\n      <td>-</td>\n      <td>-</td>\n      <td>-</td>\n    </tr>\n  </tbody>\n</table>\n<p>6732 rows × 13 columns</p>\n</div>"
     },
     "execution_count": 124,
     "metadata": {},
     "output_type": "execute_result"
    }
   ],
   "source": [
    "nsc_data_frame = pd.read_csv(\"NSE_data_all_stocks_2022_jan_to_may (1).csv\")\n",
    "nsc_data_frame"
   ],
   "metadata": {
    "collapsed": false,
    "ExecuteTime": {
     "end_time": "2023-11-10T10:12:23.554575453Z",
     "start_time": "2023-11-10T10:12:23.193785474Z"
    }
   },
   "id": "3a5f800fb2e42b78"
  },
  {
   "cell_type": "code",
   "execution_count": 125,
   "outputs": [],
   "source": [
    "#DATA  CLEANING  # nsc_data_frame.set_index(nsc_data_frame.Date, inplace=True) to update the index  of the dataframe.\n",
    "\n",
    "date_format = '%d-%b-%y'\n",
    "nsc_data_frame.Date = pd.to_datetime(nsc_data_frame['Date'], format=date_format)\n",
    "\n",
    "nsc_data_frame['Day_Name'] = nsc_data_frame['Date'].dt.day_name()\n",
    "\n",
    "nsc_data_frame = nsc_data_frame.drop(columns=['Change', 'Change%', 'Volume', 'Adjusted Price'])\n"
   ],
   "metadata": {
    "collapsed": false,
    "ExecuteTime": {
     "end_time": "2023-11-10T10:12:23.554827807Z",
     "start_time": "2023-11-10T10:12:23.221461973Z"
    }
   },
   "id": "672a032c93586d2a"
  },
  {
   "cell_type": "code",
   "execution_count": 126,
   "outputs": [
    {
     "data": {
      "text/plain": "<Figure size 640x480 with 1 Axes>",
      "image/png": "[encoded data removed]"
     },
     "metadata": {},
     "output_type": "display_data"
    }
   ],
   "source": [
    "# min_value = egad_data_frame['Day_Of_The_Week'].min()  ------ >> display(egad_data_frame.info())\n",
    "\n",
    "# SELECT THE 2ND COLUMN AND PLOT THE DAY PRICE AGAINST TIME\n",
    "\n",
    "plt.subplot(1, 2, 2)  \n",
    "price_column = pd.to_numeric(nsc_data_frame['Day Price'], errors='coerce')\n",
    "price_column[:50].plot()\n",
    "plt.title('Day Price Over Time')\n",
    "\n",
    "plt.tight_layout()  # To improve subplot spacing\n",
    "plt.show()\n",
    "\n",
    "# preprocessed_df['Date'] =pd.to_datetime(preprocessed_df['Date'])  plt.plot(preprocessed_df['Date'], preprocessed_df['Day Price'])\n"
   ],
   "metadata": {
    "collapsed": false,
    "ExecuteTime": {
     "end_time": "2023-11-10T10:12:23.834971564Z",
     "start_time": "2023-11-10T10:12:23.261693096Z"
    }
   },
   "id": "e096f6f304a253e3"
  },
  {
   "cell_type": "code",
   "execution_count": 141,
   "outputs": [
    {
     "ename": "IndentationError",
     "evalue": "expected an indented block after function definition on line 9 (3570395091.py, line 11)",
     "output_type": "error",
     "traceback": [
      "\u001B[0;36m  Cell \u001B[0;32mIn[141], line 11\u001B[0;36m\u001B[0m\n\u001B[0;31m    nsc_scaler = StandardScaler()\u001B[0m\n\u001B[0m    ^\u001B[0m\n\u001B[0;31mIndentationError\u001B[0m\u001B[0;31m:\u001B[0m expected an indented block after function definition on line 9\n"
     ]
    }
   ],
   "source": [
    "#Custom Data cleaner \n",
    "import random\n",
    "from sklearn.base import BaseEstimator, TransformerMixin\n",
    "from sklearn.preprocessing import StandardScaler\n",
    "from sklearn.pipeline import Pipeline\n",
    "from sklearn.compose import ColumnTransformer\n",
    "import pandas as pd\n",
    "   \n",
    "\n",
    "nsc_scaler = StandardScaler()\n",
    "\n",
    "class NSCDataPreProcessor(BaseEstimator, TransformerMixin):\n",
    "    \n",
    "    def __init__(self,company_code ,to_type_cast, to_scale, to_return):\n",
    "        self.company_code = company_code        \n",
    "        self.to_type_cast= to_type_cast \n",
    "        self.to_return= to_return \n",
    "        self.to_scale=to_scale  #same as  columns_to_type_cast but has the company code.\n",
    "        \n",
    "        \n",
    "    def __type_cast_and_scale_xyz_df(self, xyz_data_frame):\n",
    "        for column_name in self.to_type_cast:\n",
    "            xyz_data_frame[column_name] = pd.to_numeric(xyz_data_frame[column_name], errors='coerce')\n",
    "        xyz_data_frame[self.to_scale] = nsc_scaler.fit_transform(xyz_data_frame[self.to_scale])\n",
    "        \n",
    "        \n",
    "        return xyz_data_frame[self.to_return]\n",
    "    \n",
    "    def fit(self, X, y=None):\n",
    "        return self\n",
    "       \n",
    "\n",
    "    def transform(self, X):   \n",
    "        \"\"\"\n",
    "        X - NSC dataFrame\n",
    "        Selects the data for one company , then names it xyz_company_data_frame \n",
    "        NB: Scaler always return columns that are assignable to the dataframe.        \n",
    "        \"\"\"        \n",
    "        \n",
    "        xyz_company_data_frame = nsc_data_frame[nsc_data_frame['Code'] == self.company_code].reset_index(drop=True)\n",
    "        type_converted_xyz_company_df = self.__type_cast_and_scale_xyz_df(\n",
    "            xyz_company_data_frame       \n",
    "        )\n",
    "        \n",
    "        return type_converted_xyz_company_df\n",
    "    \n",
    "# 'Code','Day Price','Day High', 'Day High', '12m High', '12m Low' , 'Day Price','Day High', 'Day High', '12m High', '12m Low'\n",
    "\n",
    "random_company_code = random.choice(nsc_data_frame.Code)\n",
    "    \n",
    "__data_scaler = NSCDataPreProcessor(\n",
    "    company_code= 'ABSA',\n",
    "    to_type_cast=['Day Price','Day High', 'Day Low', '12m High', '12m Low'],\n",
    "    to_scale=[ 'Previous','Day High', 'Day Low', '12m High', '12m Low'],\n",
    "    to_return=['Code','Day Price','Previous','Day High', 'Day Low', '12m High', '12m Low'], \n",
    ")\n",
    "\n",
    "pipeline = Pipeline(\n",
    "    (\"\", NSCDataPreProcessor(), [\"Day price\", \"previous\"] )\n",
    "    ()\n",
    ")\n",
    "\n",
    "xyz_preprocessed_df = __data_scaler.fit_transform(\n",
    "    nsc_data_frame,    \n",
    ")\n",
    "display(xyz_preprocessed_df)\n",
    "\n",
    "preprocessed_df = xyz_preprocessed_df.drop(columns=['Code'])\n",
    "preprocessed_df\n",
    "    "
   ],
   "metadata": {
    "collapsed": false,
    "ExecuteTime": {
     "end_time": "2023-11-10T10:34:20.366825041Z",
     "start_time": "2023-11-10T10:34:20.273696906Z"
    }
   },
   "id": "40ca1c50997aee24"
  },
  {
   "cell_type": "code",
   "execution_count": 128,
   "outputs": [
    {
     "data": {
      "text/plain": "     Day Price\n0        11.75\n1        11.80\n2        11.75\n3        11.80\n4        11.80\n..         ...\n97        9.96\n98       10.10\n99       10.05\n100      10.20\n101      10.25\n\n[102 rows x 1 columns]",
      "text/html": "<div>\n<style scoped>\n    .dataframe tbody tr th:only-of-type {\n        vertical-align: middle;\n    }\n\n    .dataframe tbody tr th {\n        vertical-align: top;\n    }\n\n    .dataframe thead th {\n        text-align: right;\n    }\n</style>\n<table border=\"1\" class=\"dataframe\">\n  <thead>\n    <tr style=\"text-align: right;\">\n      <th></th>\n      <th>Day Price</th>\n    </tr>\n  </thead>\n  <tbody>\n    <tr>\n      <th>0</th>\n      <td>11.75</td>\n    </tr>\n    <tr>\n      <th>1</th>\n      <td>11.80</td>\n    </tr>\n    <tr>\n      <th>2</th>\n      <td>11.75</td>\n    </tr>\n    <tr>\n      <th>3</th>\n      <td>11.80</td>\n    </tr>\n    <tr>\n      <th>4</th>\n      <td>11.80</td>\n    </tr>\n    <tr>\n      <th>...</th>\n      <td>...</td>\n    </tr>\n    <tr>\n      <th>97</th>\n      <td>9.96</td>\n    </tr>\n    <tr>\n      <th>98</th>\n      <td>10.10</td>\n    </tr>\n    <tr>\n      <th>99</th>\n      <td>10.05</td>\n    </tr>\n    <tr>\n      <th>100</th>\n      <td>10.20</td>\n    </tr>\n    <tr>\n      <th>101</th>\n      <td>10.25</td>\n    </tr>\n  </tbody>\n</table>\n<p>102 rows × 1 columns</p>\n</div>"
     },
     "metadata": {},
     "output_type": "display_data"
    },
    {
     "data": {
      "text/plain": "     Previous  Day High   Day Low      12m High   12m Low\n0    0.268895  0.146652  0.148262 -1.776357e-15 -0.593737\n1    0.156442  0.090920  0.256050 -1.776357e-15 -0.593737\n2    0.212668  0.035188  0.148262 -1.776357e-15 -0.593737\n3    0.156442  0.146652  0.256050 -1.776357e-15 -0.593737\n4    0.212668  0.202384  0.148262 -1.776357e-15 -0.593737\n..        ...       ...       ...           ...       ...\n97  -1.923936 -1.915434 -1.770369 -1.776357e-15  2.122727\n98  -1.856464 -1.413846 -1.684139 -1.776357e-15  2.122727\n99  -1.699030 -1.413846 -1.684139 -1.776357e-15  2.122727\n100 -1.755256 -1.413846 -1.576350 -1.776357e-15  2.761895\n101 -1.586577 -1.413846 -1.360774 -1.776357e-15  2.761895\n\n[102 rows x 5 columns]",
      "text/html": "<div>\n<style scoped>\n    .dataframe tbody tr th:only-of-type {\n        vertical-align: middle;\n    }\n\n    .dataframe tbody tr th {\n        vertical-align: top;\n    }\n\n    .dataframe thead th {\n        text-align: right;\n    }\n</style>\n<table border=\"1\" class=\"dataframe\">\n  <thead>\n    <tr style=\"text-align: right;\">\n      <th></th>\n      <th>Previous</th>\n      <th>Day High</th>\n      <th>Day Low</th>\n      <th>12m High</th>\n      <th>12m Low</th>\n    </tr>\n  </thead>\n  <tbody>\n    <tr>\n      <th>0</th>\n      <td>0.268895</td>\n      <td>0.146652</td>\n      <td>0.148262</td>\n      <td>-1.776357e-15</td>\n      <td>-0.593737</td>\n    </tr>\n    <tr>\n      <th>1</th>\n      <td>0.156442</td>\n      <td>0.090920</td>\n      <td>0.256050</td>\n      <td>-1.776357e-15</td>\n      <td>-0.593737</td>\n    </tr>\n    <tr>\n      <th>2</th>\n      <td>0.212668</td>\n      <td>0.035188</td>\n      <td>0.148262</td>\n      <td>-1.776357e-15</td>\n      <td>-0.593737</td>\n    </tr>\n    <tr>\n      <th>3</th>\n      <td>0.156442</td>\n      <td>0.146652</td>\n      <td>0.256050</td>\n      <td>-1.776357e-15</td>\n      <td>-0.593737</td>\n    </tr>\n    <tr>\n      <th>4</th>\n      <td>0.212668</td>\n      <td>0.202384</td>\n      <td>0.148262</td>\n      <td>-1.776357e-15</td>\n      <td>-0.593737</td>\n    </tr>\n    <tr>\n      <th>...</th>\n      <td>...</td>\n      <td>...</td>\n      <td>...</td>\n      <td>...</td>\n      <td>...</td>\n    </tr>\n    <tr>\n      <th>97</th>\n      <td>-1.923936</td>\n      <td>-1.915434</td>\n      <td>-1.770369</td>\n      <td>-1.776357e-15</td>\n      <td>2.122727</td>\n    </tr>\n    <tr>\n      <th>98</th>\n      <td>-1.856464</td>\n      <td>-1.413846</td>\n      <td>-1.684139</td>\n      <td>-1.776357e-15</td>\n      <td>2.122727</td>\n    </tr>\n    <tr>\n      <th>99</th>\n      <td>-1.699030</td>\n      <td>-1.413846</td>\n      <td>-1.684139</td>\n      <td>-1.776357e-15</td>\n      <td>2.122727</td>\n    </tr>\n    <tr>\n      <th>100</th>\n      <td>-1.755256</td>\n      <td>-1.413846</td>\n      <td>-1.576350</td>\n      <td>-1.776357e-15</td>\n      <td>2.761895</td>\n    </tr>\n    <tr>\n      <th>101</th>\n      <td>-1.586577</td>\n      <td>-1.413846</td>\n      <td>-1.360774</td>\n      <td>-1.776357e-15</td>\n      <td>2.761895</td>\n    </tr>\n  </tbody>\n</table>\n<p>102 rows × 5 columns</p>\n</div>"
     },
     "execution_count": 128,
     "metadata": {},
     "output_type": "execute_result"
    }
   ],
   "source": [
    "output_var = pd.DataFrame(preprocessed_df['Day Price'])\n",
    "features = ['Previous','Day High', 'Day Low', '12m High', '12m Low']\n",
    "\n",
    "feature_transform =  preprocessed_df[features]\n",
    "feature_transform= pd.DataFrame(columns=features, data=feature_transform, index=preprocessed_df.index)\n",
    "display(output_var)\n",
    "\n",
    "feature_transform\n"
   ],
   "metadata": {
    "collapsed": false,
    "ExecuteTime": {
     "end_time": "2023-11-10T10:12:23.933166358Z",
     "start_time": "2023-11-10T10:12:23.758641834Z"
    }
   },
   "id": "31afb5276cb497d3"
  },
  {
   "cell_type": "code",
   "execution_count": 129,
   "outputs": [
    {
     "data": {
      "text/plain": "(1, 5)"
     },
     "execution_count": 129,
     "metadata": {},
     "output_type": "execute_result"
    }
   ],
   "source": [
    "from sklearn.model_selection import TimeSeriesSplit\n",
    "time_series_split= TimeSeriesSplit(n_splits=10) #number of splits to be 10, indicating that 10% of the data will serve as the test set\n",
    "\n",
    "\n",
    "for train_index, test_index in time_series_split.split(feature_transform):\n",
    "        X_train, X_test = feature_transform[:len(train_index)], feature_transform[len(train_index): (len(train_index)+len(test_index))]\n",
    "        y_train, y_test = output_var[:len(train_index)].values.ravel(), output_var[len(train_index): (len(train_index)+len(test_index))].values.ravel()\n",
    "\n",
    "trainX =np.array(X_train)\n",
    "testX =np.array(X_test)\n",
    "X_train = trainX.reshape(X_train.shape[0], 1, X_train.shape[1])\n",
    "X_test = testX.reshape(X_test.shape[0], 1, X_test.shape[1])\n",
    "input_shape = (X_train.shape[1],X_train.shape[2])\n",
    "input_shape"
   ],
   "metadata": {
    "collapsed": false,
    "ExecuteTime": {
     "end_time": "2023-11-10T10:12:23.933793972Z",
     "start_time": "2023-11-10T10:12:23.784694493Z"
    }
   },
   "id": "cbe1d67a23814e13"
  },
  {
   "cell_type": "code",
   "execution_count": 130,
   "outputs": [],
   "source": [
    "from sklearn.model_selection import GridSearchCV, cross_val_score\n",
    "from keras.models import Sequential\n",
    "from keras.layers import LSTM, Dense, Dropout\n",
    "from sklearn.model_selection import GridSearchCV, RandomizedSearchCV , TimeSeriesSplit\n",
    "from sklearn.base import BaseEstimator, RegressorMixin"
   ],
   "metadata": {
    "collapsed": false,
    "ExecuteTime": {
     "end_time": "2023-11-10T10:12:23.934005423Z",
     "start_time": "2023-11-10T10:12:23.825715268Z"
    }
   },
   "id": "6c53d31fb60de42d"
  },
  {
   "cell_type": "code",
   "execution_count": 131,
   "outputs": [],
   "source": [
    "#Since the following class is based on scikit-learn mixins, you can use scikit-learn's tools for hyperparameter tuning (e.g., GridSearchCV or RandomizedSearchCV) to find the best set of hyperparameters for your LSTM model."
   ],
   "metadata": {
    "collapsed": false,
    "ExecuteTime": {
     "end_time": "2023-11-10T10:12:23.934119499Z",
     "start_time": "2023-11-10T10:12:23.825950043Z"
    }
   },
   "id": "3340b3c4049384e9"
  },
  {
   "cell_type": "code",
   "execution_count": 132,
   "outputs": [],
   "source": [
    "class KerasLSTMRegressor(BaseEstimator, RegressorMixin):\n",
    "\n",
    "    #  RegressorMixin provides the default implementation  of the score function .The BaseEstimator is the base class for all scikit-learn estimators provides the fit(X,y) and the predict() methods \n",
    "\n",
    "    def __init__(self, activation='relu', dropout_rate=0.2, num_units=100, learning_rate=0.001, epochs=10, batch_size=32):\n",
    "        self.activation = activation\n",
    "        self.dropout_rate = dropout_rate\n",
    "        self.num_units = num_units\n",
    "        self.learning_rate = learning_rate\n",
    "        self.epochs = epochs\n",
    "        self.batch_size = batch_size\n",
    "\n",
    "    def create_lstm_model(self):\n",
    "        \"\"\"\n",
    "            Creates and then compiles the model making it ready for fit and predict.\n",
    "        \"\"\"\n",
    "        model = Sequential()\n",
    "        model.add(LSTM(self.num_units, input_shape=input_shape, activation=self.activation, return_sequences=True))\n",
    "        model.add(Dropout(self.dropout_rate))\n",
    "        model.add(LSTM(self.num_units, activation=self.activation, return_sequences=False))\n",
    "        model.add(Dropout(self.dropout_rate))\n",
    "        model.add(Dense(1))\n",
    "        optimizer = Adam(learning_rate=self.learning_rate)\n",
    "\n",
    "        model.compile(loss=MeanSquaredError(), optimizer=optimizer, metrics=[RootMeanSquaredError()])\n",
    "\n",
    "        return model\n",
    "\n",
    "    def fit(self, X, y):\n",
    "        \"\"\"\n",
    "        X- the features to be used  for training the model to get the best parameters.\n",
    "        y-the classes\n",
    "        returns the trained estimator itself \n",
    "\n",
    "        \"\"\"\n",
    "\n",
    "        self.model = self.create_lstm_model()\n",
    "        self.model.fit(X, y, epochs=self.epochs, batch_size=self.batch_size, verbose=0)\n",
    "        return self\n",
    "\n",
    "    def predict(self, X):\n",
    "        return self.model.predict(X)\n",
    "\n",
    "    def score(self, X, y):\n",
    "        predictions = self.predict(X)\n",
    "        return -np.mean((y - predictions) ** 2)  # We negate the results since GridSearchCV seeks to maximize it\n",
    "\n",
    "param_grid = {\n",
    "    'activation': ['relu', 'tanh'],\n",
    "    'dropout_rate': [0.1, 0.2, 0.3],\n",
    "    'num_units': [50,150,200,300],\n",
    "    'learning_rate': [0.1, 0.001, 0.0001]\n",
    "}\n",
    "\n",
    "n_splits = 5  \n",
    "time_series_split = TimeSeriesSplit(n_splits=n_splits)\n",
    "\n",
    "custom_estimator = KerasLSTMRegressor()\n",
    "\n",
    "# To note : The RandomizedSearchCV trains the KerasLSTMRegressor estimator used the predict() function to make predictions on the model performance, then keep track of its performance.\n",
    "\n",
    "grid  = RandomizedSearchCV(estimator=custom_estimator, param_distributions=param_grid, n_iter=10, cv=time_series_split, verbose=1, scoring='neg_mean_squared_error', random_state=42)\n",
    "\n",
    "grid_result = grid.fit(X_train, y_train)\n",
    "print(\"Best: %f using %s\" % (grid_result.best_score_, grid_result.best_params_))\n"
   ],
   "metadata": {
    "collapsed": false,
    "ExecuteTime": {
     "end_time": "2023-11-10T10:12:24.023114087Z",
     "start_time": "2023-11-10T10:12:23.873612535Z"
    }
   },
   "id": "84ca7d9385ac2154"
  },
  {
   "cell_type": "code",
   "execution_count": 133,
   "outputs": [],
   "source": [
    "# best_params =  grid_result.best_params_\n",
    "# neurons_count =  best_params.get(\"num_units\")\n",
    "# lr =  best_params.get(\"learning_rate\")\n",
    "# dr =  best_params.get(\"dropout_rate\")\n",
    "# af =  best_params.get(\"activation\")\n"
   ],
   "metadata": {
    "collapsed": false,
    "ExecuteTime": {
     "end_time": "2023-11-10T10:12:24.023373198Z",
     "start_time": "2023-11-10T10:12:23.873837299Z"
    }
   },
   "id": "cc64466750909e9f"
  },
  {
   "cell_type": "code",
   "execution_count": 134,
   "outputs": [],
   "source": [
    "neurons_count =  150\n",
    "lr = 0.01\n",
    "dr =  0.3\n",
    "af =  'tanh'"
   ],
   "metadata": {
    "collapsed": false,
    "ExecuteTime": {
     "end_time": "2023-11-10T10:12:24.023523850Z",
     "start_time": "2023-11-10T10:12:23.873984346Z"
    }
   },
   "id": "c64eb0f90654f67"
  },
  {
   "cell_type": "code",
   "execution_count": 135,
   "outputs": [],
   "source": [
    "def create_NSC_LSTM_model(activation=af, dropout_rate = dr, num_units=neurons_count, learning_rate=lr):\n",
    "    model = Sequential()\n",
    "    model.add(LSTM(num_units, input_shape=input_shape, activation=activation, return_sequences=True))\n",
    "    model.add(Dropout(dropout_rate))\n",
    "    model.add(LSTM(num_units, activation=activation, return_sequences=False))\n",
    "    model.add(Dropout(dropout_rate))\n",
    "    model.add(Dense(1))\n",
    "\n",
    "    optimizer = Adam(learning_rate=learning_rate)\n",
    "\n",
    "    model.compile(loss=MeanSquaredError(), optimizer=optimizer, metrics=[RootMeanSquaredError()])\n",
    "\n",
    "    return model\n",
    "\n",
    "lstm = create_NSC_LSTM_model()"
   ],
   "metadata": {
    "collapsed": false,
    "ExecuteTime": {
     "end_time": "2023-11-10T10:12:24.740352787Z",
     "start_time": "2023-11-10T10:12:23.874066180Z"
    }
   },
   "id": "99be5b0508ce7898"
  },
  {
   "cell_type": "code",
   "execution_count": 136,
   "outputs": [
    {
     "name": "stdout",
     "output_type": "stream",
     "text": [
      "Epoch 1/150\n",
      "12/12 [==============================] - 5s 8ms/step - loss: 110.8662 - root_mean_squared_error: 10.5293\n",
      "Epoch 2/150\n",
      "12/12 [==============================] - 0s 7ms/step - loss: 36.3455 - root_mean_squared_error: 6.0287\n",
      "Epoch 3/150\n",
      "12/12 [==============================] - 0s 7ms/step - loss: 17.4030 - root_mean_squared_error: 4.1717\n",
      "Epoch 4/150\n",
      "12/12 [==============================] - 0s 8ms/step - loss: 15.4328 - root_mean_squared_error: 3.9285\n",
      "Epoch 5/150\n",
      "12/12 [==============================] - 0s 7ms/step - loss: 14.0500 - root_mean_squared_error: 3.7483\n",
      "Epoch 6/150\n",
      "12/12 [==============================] - 0s 7ms/step - loss: 13.2637 - root_mean_squared_error: 3.6419\n",
      "Epoch 7/150\n",
      "12/12 [==============================] - 0s 8ms/step - loss: 12.9018 - root_mean_squared_error: 3.5919\n",
      "Epoch 8/150\n",
      "12/12 [==============================] - 0s 7ms/step - loss: 12.4531 - root_mean_squared_error: 3.5289\n",
      "Epoch 9/150\n",
      "12/12 [==============================] - 0s 7ms/step - loss: 11.8279 - root_mean_squared_error: 3.4392\n",
      "Epoch 10/150\n",
      "12/12 [==============================] - 0s 7ms/step - loss: 11.1052 - root_mean_squared_error: 3.3324\n",
      "Epoch 11/150\n",
      "12/12 [==============================] - 0s 9ms/step - loss: 10.5859 - root_mean_squared_error: 3.2536\n",
      "Epoch 12/150\n",
      "12/12 [==============================] - 0s 8ms/step - loss: 9.5382 - root_mean_squared_error: 3.0884\n",
      "Epoch 13/150\n",
      "12/12 [==============================] - 0s 7ms/step - loss: 9.1864 - root_mean_squared_error: 3.0309\n",
      "Epoch 14/150\n",
      "12/12 [==============================] - 0s 7ms/step - loss: 7.9968 - root_mean_squared_error: 2.8279\n",
      "Epoch 15/150\n",
      "12/12 [==============================] - 0s 7ms/step - loss: 7.2139 - root_mean_squared_error: 2.6859\n",
      "Epoch 16/150\n",
      "12/12 [==============================] - 0s 7ms/step - loss: 6.9379 - root_mean_squared_error: 2.6340\n",
      "Epoch 17/150\n",
      "12/12 [==============================] - 0s 7ms/step - loss: 6.6299 - root_mean_squared_error: 2.5749\n",
      "Epoch 18/150\n",
      "12/12 [==============================] - 0s 7ms/step - loss: 6.7412 - root_mean_squared_error: 2.5964\n",
      "Epoch 19/150\n",
      "12/12 [==============================] - 0s 7ms/step - loss: 5.4033 - root_mean_squared_error: 2.3245\n",
      "Epoch 20/150\n",
      "12/12 [==============================] - 0s 7ms/step - loss: 5.9732 - root_mean_squared_error: 2.4440\n",
      "Epoch 21/150\n",
      "12/12 [==============================] - 0s 7ms/step - loss: 5.0263 - root_mean_squared_error: 2.2419\n",
      "Epoch 22/150\n",
      "12/12 [==============================] - 0s 7ms/step - loss: 5.2544 - root_mean_squared_error: 2.2923\n",
      "Epoch 23/150\n",
      "12/12 [==============================] - 0s 7ms/step - loss: 3.9702 - root_mean_squared_error: 1.9925\n",
      "Epoch 24/150\n",
      "12/12 [==============================] - 0s 7ms/step - loss: 4.7137 - root_mean_squared_error: 2.1711\n",
      "Epoch 25/150\n",
      "12/12 [==============================] - 0s 8ms/step - loss: 3.4122 - root_mean_squared_error: 1.8472\n",
      "Epoch 26/150\n",
      "12/12 [==============================] - 0s 8ms/step - loss: 5.0343 - root_mean_squared_error: 2.2437\n",
      "Epoch 27/150\n",
      "12/12 [==============================] - 0s 8ms/step - loss: 4.0613 - root_mean_squared_error: 2.0153\n",
      "Epoch 28/150\n",
      "12/12 [==============================] - 0s 7ms/step - loss: 3.7219 - root_mean_squared_error: 1.9292\n",
      "Epoch 29/150\n",
      "12/12 [==============================] - 0s 7ms/step - loss: 3.2655 - root_mean_squared_error: 1.8071\n",
      "Epoch 30/150\n",
      "12/12 [==============================] - 0s 8ms/step - loss: 3.2729 - root_mean_squared_error: 1.8091\n",
      "Epoch 31/150\n",
      "12/12 [==============================] - 0s 8ms/step - loss: 2.0681 - root_mean_squared_error: 1.4381\n",
      "Epoch 32/150\n",
      "12/12 [==============================] - 0s 7ms/step - loss: 2.8321 - root_mean_squared_error: 1.6829\n",
      "Epoch 33/150\n",
      "12/12 [==============================] - 0s 8ms/step - loss: 2.8065 - root_mean_squared_error: 1.6753\n",
      "Epoch 34/150\n",
      "12/12 [==============================] - 0s 8ms/step - loss: 1.9073 - root_mean_squared_error: 1.3811\n",
      "Epoch 35/150\n",
      "12/12 [==============================] - 0s 8ms/step - loss: 2.0991 - root_mean_squared_error: 1.4488\n",
      "Epoch 36/150\n",
      "12/12 [==============================] - 0s 8ms/step - loss: 1.9526 - root_mean_squared_error: 1.3974\n",
      "Epoch 37/150\n",
      "12/12 [==============================] - 0s 8ms/step - loss: 3.0957 - root_mean_squared_error: 1.7594\n",
      "Epoch 38/150\n",
      "12/12 [==============================] - 0s 7ms/step - loss: 2.4329 - root_mean_squared_error: 1.5598\n",
      "Epoch 39/150\n",
      "12/12 [==============================] - 0s 7ms/step - loss: 1.6190 - root_mean_squared_error: 1.2724\n",
      "Epoch 40/150\n",
      "12/12 [==============================] - 0s 7ms/step - loss: 2.3101 - root_mean_squared_error: 1.5199\n",
      "Epoch 41/150\n",
      "12/12 [==============================] - 0s 7ms/step - loss: 2.4181 - root_mean_squared_error: 1.5550\n",
      "Epoch 42/150\n",
      "12/12 [==============================] - 0s 7ms/step - loss: 1.7296 - root_mean_squared_error: 1.3151\n",
      "Epoch 43/150\n",
      "12/12 [==============================] - 0s 7ms/step - loss: 1.4937 - root_mean_squared_error: 1.2222\n",
      "Epoch 44/150\n",
      "12/12 [==============================] - 0s 8ms/step - loss: 1.1927 - root_mean_squared_error: 1.0921\n",
      "Epoch 45/150\n",
      "12/12 [==============================] - 0s 8ms/step - loss: 1.3381 - root_mean_squared_error: 1.1567\n",
      "Epoch 46/150\n",
      "12/12 [==============================] - 0s 7ms/step - loss: 2.0289 - root_mean_squared_error: 1.4244\n",
      "Epoch 47/150\n",
      "12/12 [==============================] - 0s 7ms/step - loss: 1.6822 - root_mean_squared_error: 1.2970\n",
      "Epoch 48/150\n",
      "12/12 [==============================] - 0s 7ms/step - loss: 0.6792 - root_mean_squared_error: 0.8241\n",
      "Epoch 49/150\n",
      "12/12 [==============================] - 0s 8ms/step - loss: 0.8575 - root_mean_squared_error: 0.9260\n",
      "Epoch 50/150\n",
      "12/12 [==============================] - 0s 8ms/step - loss: 0.9474 - root_mean_squared_error: 0.9734\n",
      "Epoch 51/150\n",
      "12/12 [==============================] - 0s 11ms/step - loss: 2.2461 - root_mean_squared_error: 1.4987\n",
      "Epoch 52/150\n",
      "12/12 [==============================] - 0s 8ms/step - loss: 0.8152 - root_mean_squared_error: 0.9029\n",
      "Epoch 53/150\n",
      "12/12 [==============================] - 0s 8ms/step - loss: 2.2429 - root_mean_squared_error: 1.4976\n",
      "Epoch 54/150\n",
      "12/12 [==============================] - 0s 7ms/step - loss: 1.5387 - root_mean_squared_error: 1.2405\n",
      "Epoch 55/150\n",
      "12/12 [==============================] - 0s 8ms/step - loss: 1.3358 - root_mean_squared_error: 1.1558\n",
      "Epoch 56/150\n",
      "12/12 [==============================] - 0s 7ms/step - loss: 0.7401 - root_mean_squared_error: 0.8603\n",
      "Epoch 57/150\n",
      "12/12 [==============================] - 0s 7ms/step - loss: 1.7230 - root_mean_squared_error: 1.3126\n",
      "Epoch 58/150\n",
      "12/12 [==============================] - 0s 8ms/step - loss: 1.5936 - root_mean_squared_error: 1.2624\n",
      "Epoch 59/150\n",
      "12/12 [==============================] - 0s 8ms/step - loss: 1.0370 - root_mean_squared_error: 1.0183\n",
      "Epoch 60/150\n",
      "12/12 [==============================] - 0s 8ms/step - loss: 0.7947 - root_mean_squared_error: 0.8915\n",
      "Epoch 61/150\n",
      "12/12 [==============================] - 0s 7ms/step - loss: 1.1415 - root_mean_squared_error: 1.0684\n",
      "Epoch 62/150\n",
      "12/12 [==============================] - 0s 7ms/step - loss: 2.5898 - root_mean_squared_error: 1.6093\n",
      "Epoch 63/150\n",
      "12/12 [==============================] - 0s 7ms/step - loss: 1.0308 - root_mean_squared_error: 1.0153\n",
      "Epoch 64/150\n",
      "12/12 [==============================] - 0s 7ms/step - loss: 1.1020 - root_mean_squared_error: 1.0498\n",
      "Epoch 65/150\n",
      "12/12 [==============================] - 0s 7ms/step - loss: 0.8720 - root_mean_squared_error: 0.9338\n",
      "Epoch 66/150\n",
      "12/12 [==============================] - 0s 7ms/step - loss: 0.9746 - root_mean_squared_error: 0.9872\n",
      "Epoch 67/150\n",
      "12/12 [==============================] - 0s 7ms/step - loss: 0.9621 - root_mean_squared_error: 0.9808\n",
      "Epoch 68/150\n",
      "12/12 [==============================] - 0s 7ms/step - loss: 1.1259 - root_mean_squared_error: 1.0611\n",
      "Epoch 69/150\n",
      "12/12 [==============================] - 0s 7ms/step - loss: 0.9006 - root_mean_squared_error: 0.9490\n",
      "Epoch 70/150\n",
      "12/12 [==============================] - 0s 7ms/step - loss: 1.1803 - root_mean_squared_error: 1.0864\n",
      "Epoch 71/150\n",
      "12/12 [==============================] - 0s 7ms/step - loss: 0.8832 - root_mean_squared_error: 0.9398\n",
      "Epoch 72/150\n",
      "12/12 [==============================] - 0s 7ms/step - loss: 0.9721 - root_mean_squared_error: 0.9860\n",
      "Epoch 73/150\n",
      "12/12 [==============================] - 0s 8ms/step - loss: 1.7517 - root_mean_squared_error: 1.3235\n",
      "Epoch 74/150\n",
      "12/12 [==============================] - 0s 9ms/step - loss: 0.5042 - root_mean_squared_error: 0.7101\n",
      "Epoch 75/150\n",
      "12/12 [==============================] - 0s 7ms/step - loss: 1.2721 - root_mean_squared_error: 1.1279\n",
      "Epoch 76/150\n",
      "12/12 [==============================] - 0s 7ms/step - loss: 0.8883 - root_mean_squared_error: 0.9425\n",
      "Epoch 77/150\n",
      "12/12 [==============================] - 0s 7ms/step - loss: 1.1658 - root_mean_squared_error: 1.0797\n",
      "Epoch 78/150\n",
      "12/12 [==============================] - 0s 7ms/step - loss: 0.8202 - root_mean_squared_error: 0.9057\n",
      "Epoch 79/150\n",
      "12/12 [==============================] - 0s 7ms/step - loss: 0.9528 - root_mean_squared_error: 0.9761\n",
      "Epoch 80/150\n",
      "12/12 [==============================] - 0s 7ms/step - loss: 0.9022 - root_mean_squared_error: 0.9499\n",
      "Epoch 81/150\n",
      "12/12 [==============================] - 0s 7ms/step - loss: 0.9434 - root_mean_squared_error: 0.9713\n",
      "Epoch 82/150\n",
      "12/12 [==============================] - 0s 7ms/step - loss: 0.8604 - root_mean_squared_error: 0.9276\n",
      "Epoch 83/150\n",
      "12/12 [==============================] - 0s 8ms/step - loss: 0.7576 - root_mean_squared_error: 0.8704\n",
      "Epoch 84/150\n",
      "12/12 [==============================] - 0s 8ms/step - loss: 1.6348 - root_mean_squared_error: 1.2786\n",
      "Epoch 85/150\n",
      "12/12 [==============================] - 0s 7ms/step - loss: 0.8349 - root_mean_squared_error: 0.9137\n",
      "Epoch 86/150\n",
      "12/12 [==============================] - 0s 7ms/step - loss: 0.6935 - root_mean_squared_error: 0.8328\n",
      "Epoch 87/150\n",
      "12/12 [==============================] - 0s 7ms/step - loss: 0.8749 - root_mean_squared_error: 0.9354\n",
      "Epoch 88/150\n",
      "12/12 [==============================] - 0s 6ms/step - loss: 0.9922 - root_mean_squared_error: 0.9961\n",
      "Epoch 89/150\n",
      "12/12 [==============================] - 0s 7ms/step - loss: 0.8461 - root_mean_squared_error: 0.9198\n",
      "Epoch 90/150\n",
      "12/12 [==============================] - 0s 7ms/step - loss: 1.2519 - root_mean_squared_error: 1.1189\n",
      "Epoch 91/150\n",
      "12/12 [==============================] - 0s 7ms/step - loss: 1.1413 - root_mean_squared_error: 1.0683\n",
      "Epoch 92/150\n",
      "12/12 [==============================] - 0s 7ms/step - loss: 1.0900 - root_mean_squared_error: 1.0440\n",
      "Epoch 93/150\n",
      "12/12 [==============================] - 0s 7ms/step - loss: 0.6960 - root_mean_squared_error: 0.8342\n",
      "Epoch 94/150\n",
      "12/12 [==============================] - 0s 7ms/step - loss: 0.8076 - root_mean_squared_error: 0.8987\n",
      "Epoch 95/150\n",
      "12/12 [==============================] - 0s 7ms/step - loss: 1.0195 - root_mean_squared_error: 1.0097\n",
      "Epoch 96/150\n",
      "12/12 [==============================] - 0s 7ms/step - loss: 1.2696 - root_mean_squared_error: 1.1268\n",
      "Epoch 97/150\n",
      "12/12 [==============================] - 0s 7ms/step - loss: 0.9011 - root_mean_squared_error: 0.9492\n",
      "Epoch 98/150\n",
      "12/12 [==============================] - 0s 7ms/step - loss: 1.5257 - root_mean_squared_error: 1.2352\n",
      "Epoch 99/150\n",
      "12/12 [==============================] - 0s 8ms/step - loss: 0.8200 - root_mean_squared_error: 0.9055\n",
      "Epoch 100/150\n",
      "12/12 [==============================] - 0s 7ms/step - loss: 0.9336 - root_mean_squared_error: 0.9663\n",
      "Epoch 101/150\n",
      "12/12 [==============================] - 0s 7ms/step - loss: 0.8454 - root_mean_squared_error: 0.9194\n",
      "Epoch 102/150\n",
      "12/12 [==============================] - 0s 8ms/step - loss: 1.1242 - root_mean_squared_error: 1.0603\n",
      "Epoch 103/150\n",
      "12/12 [==============================] - 0s 9ms/step - loss: 1.1753 - root_mean_squared_error: 1.0841\n",
      "Epoch 104/150\n",
      "12/12 [==============================] - 0s 8ms/step - loss: 0.9617 - root_mean_squared_error: 0.9807\n",
      "Epoch 105/150\n",
      "12/12 [==============================] - 0s 7ms/step - loss: 0.8291 - root_mean_squared_error: 0.9105\n",
      "Epoch 106/150\n",
      "12/12 [==============================] - 0s 7ms/step - loss: 0.7249 - root_mean_squared_error: 0.8514\n",
      "Epoch 107/150\n",
      "12/12 [==============================] - 0s 7ms/step - loss: 0.8193 - root_mean_squared_error: 0.9051\n",
      "Epoch 108/150\n",
      "12/12 [==============================] - 0s 8ms/step - loss: 1.2513 - root_mean_squared_error: 1.1186\n",
      "Epoch 109/150\n",
      "12/12 [==============================] - 0s 7ms/step - loss: 1.2943 - root_mean_squared_error: 1.1377\n",
      "Epoch 110/150\n",
      "12/12 [==============================] - 0s 7ms/step - loss: 0.9006 - root_mean_squared_error: 0.9490\n",
      "Epoch 111/150\n",
      "12/12 [==============================] - 0s 7ms/step - loss: 1.0396 - root_mean_squared_error: 1.0196\n",
      "Epoch 112/150\n",
      "12/12 [==============================] - 0s 7ms/step - loss: 1.7786 - root_mean_squared_error: 1.3337\n",
      "Epoch 113/150\n",
      "12/12 [==============================] - 0s 7ms/step - loss: 0.9724 - root_mean_squared_error: 0.9861\n",
      "Epoch 114/150\n",
      "12/12 [==============================] - 0s 7ms/step - loss: 0.7676 - root_mean_squared_error: 0.8761\n",
      "Epoch 115/150\n",
      "12/12 [==============================] - 0s 7ms/step - loss: 1.0200 - root_mean_squared_error: 1.0099\n",
      "Epoch 116/150\n",
      "12/12 [==============================] - 0s 7ms/step - loss: 1.1210 - root_mean_squared_error: 1.0588\n",
      "Epoch 117/150\n",
      "12/12 [==============================] - 0s 7ms/step - loss: 0.8515 - root_mean_squared_error: 0.9228\n",
      "Epoch 118/150\n",
      "12/12 [==============================] - 0s 7ms/step - loss: 1.5104 - root_mean_squared_error: 1.2290\n",
      "Epoch 119/150\n",
      "12/12 [==============================] - 0s 7ms/step - loss: 1.3577 - root_mean_squared_error: 1.1652\n",
      "Epoch 120/150\n",
      "12/12 [==============================] - 0s 7ms/step - loss: 1.1080 - root_mean_squared_error: 1.0526\n",
      "Epoch 121/150\n",
      "12/12 [==============================] - 0s 7ms/step - loss: 0.9847 - root_mean_squared_error: 0.9923\n",
      "Epoch 122/150\n",
      "12/12 [==============================] - 0s 7ms/step - loss: 1.5576 - root_mean_squared_error: 1.2480\n",
      "Epoch 123/150\n",
      "12/12 [==============================] - 0s 7ms/step - loss: 1.0815 - root_mean_squared_error: 1.0400\n",
      "Epoch 124/150\n",
      "12/12 [==============================] - 0s 7ms/step - loss: 0.8005 - root_mean_squared_error: 0.8947\n",
      "Epoch 125/150\n",
      "12/12 [==============================] - 0s 7ms/step - loss: 1.3148 - root_mean_squared_error: 1.1467\n",
      "Epoch 126/150\n",
      "12/12 [==============================] - 0s 9ms/step - loss: 0.8984 - root_mean_squared_error: 0.9478\n",
      "Epoch 127/150\n",
      "12/12 [==============================] - 0s 9ms/step - loss: 1.3910 - root_mean_squared_error: 1.1794\n",
      "Epoch 128/150\n",
      "12/12 [==============================] - 0s 8ms/step - loss: 0.8516 - root_mean_squared_error: 0.9228\n",
      "Epoch 129/150\n",
      "12/12 [==============================] - 0s 8ms/step - loss: 0.7999 - root_mean_squared_error: 0.8944\n",
      "Epoch 130/150\n",
      "12/12 [==============================] - 0s 8ms/step - loss: 0.6975 - root_mean_squared_error: 0.8352\n",
      "Epoch 131/150\n",
      "12/12 [==============================] - 0s 7ms/step - loss: 1.3410 - root_mean_squared_error: 1.1580\n",
      "Epoch 132/150\n",
      "12/12 [==============================] - 0s 7ms/step - loss: 0.7486 - root_mean_squared_error: 0.8652\n",
      "Epoch 133/150\n",
      "12/12 [==============================] - 0s 7ms/step - loss: 1.2606 - root_mean_squared_error: 1.1228\n",
      "Epoch 134/150\n",
      "12/12 [==============================] - 0s 9ms/step - loss: 1.1355 - root_mean_squared_error: 1.0656\n",
      "Epoch 135/150\n",
      "12/12 [==============================] - 0s 9ms/step - loss: 0.9485 - root_mean_squared_error: 0.9739\n",
      "Epoch 136/150\n",
      "12/12 [==============================] - 0s 8ms/step - loss: 0.8874 - root_mean_squared_error: 0.9420\n",
      "Epoch 137/150\n",
      "12/12 [==============================] - 0s 7ms/step - loss: 0.7707 - root_mean_squared_error: 0.8779\n",
      "Epoch 138/150\n",
      "12/12 [==============================] - 0s 7ms/step - loss: 1.3180 - root_mean_squared_error: 1.1480\n",
      "Epoch 139/150\n",
      "12/12 [==============================] - 0s 6ms/step - loss: 1.3065 - root_mean_squared_error: 1.1430\n",
      "Epoch 140/150\n",
      "12/12 [==============================] - 0s 7ms/step - loss: 0.9406 - root_mean_squared_error: 0.9698\n",
      "Epoch 141/150\n",
      "12/12 [==============================] - 0s 7ms/step - loss: 0.8560 - root_mean_squared_error: 0.9252\n",
      "Epoch 142/150\n",
      "12/12 [==============================] - 0s 7ms/step - loss: 0.5975 - root_mean_squared_error: 0.7730\n",
      "Epoch 143/150\n",
      "12/12 [==============================] - 0s 7ms/step - loss: 0.5763 - root_mean_squared_error: 0.7591\n",
      "Epoch 144/150\n",
      "12/12 [==============================] - 0s 7ms/step - loss: 0.9476 - root_mean_squared_error: 0.9735\n",
      "Epoch 145/150\n",
      "12/12 [==============================] - 0s 8ms/step - loss: 0.6803 - root_mean_squared_error: 0.8248\n",
      "Epoch 146/150\n",
      "12/12 [==============================] - 0s 9ms/step - loss: 1.1034 - root_mean_squared_error: 1.0504\n",
      "Epoch 147/150\n",
      "12/12 [==============================] - 0s 8ms/step - loss: 1.0858 - root_mean_squared_error: 1.0420\n",
      "Epoch 148/150\n",
      "12/12 [==============================] - 0s 9ms/step - loss: 0.8376 - root_mean_squared_error: 0.9152\n",
      "Epoch 149/150\n",
      "12/12 [==============================] - 0s 7ms/step - loss: 0.8759 - root_mean_squared_error: 0.9359\n",
      "Epoch 150/150\n",
      "12/12 [==============================] - 0s 7ms/step - loss: 0.9934 - root_mean_squared_error: 0.9967\n"
     ]
    }
   ],
   "source": [
    "history=lstm.fit(X_train, y_train, epochs=150, batch_size=8, verbose=1, shuffle=False)"
   ],
   "metadata": {
    "collapsed": false,
    "ExecuteTime": {
     "end_time": "2023-11-10T10:12:43.440214736Z",
     "start_time": "2023-11-10T10:12:24.522044772Z"
    }
   },
   "id": "d7bacda7849be226"
  },
  {
   "cell_type": "code",
   "execution_count": 137,
   "outputs": [
    {
     "name": "stdout",
     "output_type": "stream",
     "text": [
      "WARNING:tensorflow:5 out of the last 5 calls to <function Model.make_predict_function.<locals>.predict_function at 0x7f09ba4f4e50> triggered tf.function retracing. Tracing is expensive and the excessive number of tracings could be due to (1) creating @tf.function repeatedly in a loop, (2) passing tensors with different shapes, (3) passing Python objects instead of tensors. For (1), please define your @tf.function outside of the loop. For (2), @tf.function has reduce_retracing=True option that can avoid unnecessary retracing. For (3), please refer to https://www.tensorflow.org/guide/function#controlling_retracing and https://www.tensorflow.org/api_docs/python/tf/function for  more details.\n",
      "1/1 [==============================] - 1s 775ms/step\n",
      "(9, 1, 5)\n",
      "(9,)\n"
     ]
    },
    {
     "data": {
      "text/plain": "<Figure size 640x480 with 1 Axes>",
      "image/png": "[encoded data removed]"
     },
     "metadata": {},
     "output_type": "display_data"
    }
   ],
   "source": [
    "predicted_stock_prices= lstm.predict(X_test)\n",
    "\n",
    "print(X_test.shape)\n",
    "print(y_test.shape)\n",
    "\n",
    "plt.plot(y_test, color = 'red', label = 'Actual Stock Price')\n",
    "plt.plot(predicted_stock_prices, color = 'green', label = 'Predicted Stock Price')\n",
    "plt.title(random_company_code + ' Stock Price Prediction')\n",
    "plt.xlabel('Time')\n",
    "plt.ylabel('Stock Price')\n",
    "plt.legend()\n",
    "plt.show()\n",
    "\n",
    "\n",
    "#TPSE, UMME  giving the best results .\n",
    "\n"
   ],
   "metadata": {
    "collapsed": false,
    "ExecuteTime": {
     "end_time": "2023-11-10T10:12:44.655232927Z",
     "start_time": "2023-11-10T10:12:43.435707862Z"
    }
   },
   "id": "e72e5c083ca2df2c"
  },
  {
   "cell_type": "code",
   "execution_count": 138,
   "outputs": [
    {
     "data": {
      "text/plain": "   Actual Stock Prices  Predicted Stock Prices\n0                 9.74                9.564847\n1                 9.76                9.564884\n2                 9.82                9.564837\n3                 9.90                9.564781\n4                 9.96                9.564612\n5                10.10                9.564009\n6                10.05                9.563759\n7                10.20                9.564068\n8                10.25                9.563482",
      "text/html": "<div>\n<style scoped>\n    .dataframe tbody tr th:only-of-type {\n        vertical-align: middle;\n    }\n\n    .dataframe tbody tr th {\n        vertical-align: top;\n    }\n\n    .dataframe thead th {\n        text-align: right;\n    }\n</style>\n<table border=\"1\" class=\"dataframe\">\n  <thead>\n    <tr style=\"text-align: right;\">\n      <th></th>\n      <th>Actual Stock Prices</th>\n      <th>Predicted Stock Prices</th>\n    </tr>\n  </thead>\n  <tbody>\n    <tr>\n      <th>0</th>\n      <td>9.74</td>\n      <td>9.564847</td>\n    </tr>\n    <tr>\n      <th>1</th>\n      <td>9.76</td>\n      <td>9.564884</td>\n    </tr>\n    <tr>\n      <th>2</th>\n      <td>9.82</td>\n      <td>9.564837</td>\n    </tr>\n    <tr>\n      <th>3</th>\n      <td>9.90</td>\n      <td>9.564781</td>\n    </tr>\n    <tr>\n      <th>4</th>\n      <td>9.96</td>\n      <td>9.564612</td>\n    </tr>\n    <tr>\n      <th>5</th>\n      <td>10.10</td>\n      <td>9.564009</td>\n    </tr>\n    <tr>\n      <th>6</th>\n      <td>10.05</td>\n      <td>9.563759</td>\n    </tr>\n    <tr>\n      <th>7</th>\n      <td>10.20</td>\n      <td>9.564068</td>\n    </tr>\n    <tr>\n      <th>8</th>\n      <td>10.25</td>\n      <td>9.563482</td>\n    </tr>\n  </tbody>\n</table>\n</div>"
     },
     "execution_count": 138,
     "metadata": {},
     "output_type": "execute_result"
    }
   ],
   "source": [
    "actual_stock_prices = y_test.flatten()\n",
    "predicted_stock_prices = predicted_stock_prices.flatten()\n",
    "\n",
    "test_df = pd.DataFrame(data={'Actual Stock Prices':actual_stock_prices,'Predicted Stock Prices':predicted_stock_prices})\n",
    "test_df"
   ],
   "metadata": {
    "collapsed": false,
    "ExecuteTime": {
     "end_time": "2023-11-10T10:12:44.675208839Z",
     "start_time": "2023-11-10T10:12:44.660738840Z"
    }
   },
   "id": "dfc1789e5186298d"
  },
  {
   "cell_type": "code",
   "execution_count": 139,
   "outputs": [
    {
     "data": {
      "text/plain": "   Actual_Price_Binaries  Pred_Price_Binaries\n0                     10                   10\n1                     10                   10\n2                     10                   10\n3                     10                   10\n4                     10                   10\n5                     10                   10\n6                     10                   10\n7                     10                   10\n8                     10                   10",
      "text/html": "<div>\n<style scoped>\n    .dataframe tbody tr th:only-of-type {\n        vertical-align: middle;\n    }\n\n    .dataframe tbody tr th {\n        vertical-align: top;\n    }\n\n    .dataframe thead th {\n        text-align: right;\n    }\n</style>\n<table border=\"1\" class=\"dataframe\">\n  <thead>\n    <tr style=\"text-align: right;\">\n      <th></th>\n      <th>Actual_Price_Binaries</th>\n      <th>Pred_Price_Binaries</th>\n    </tr>\n  </thead>\n  <tbody>\n    <tr>\n      <th>0</th>\n      <td>10</td>\n      <td>10</td>\n    </tr>\n    <tr>\n      <th>1</th>\n      <td>10</td>\n      <td>10</td>\n    </tr>\n    <tr>\n      <th>2</th>\n      <td>10</td>\n      <td>10</td>\n    </tr>\n    <tr>\n      <th>3</th>\n      <td>10</td>\n      <td>10</td>\n    </tr>\n    <tr>\n      <th>4</th>\n      <td>10</td>\n      <td>10</td>\n    </tr>\n    <tr>\n      <th>5</th>\n      <td>10</td>\n      <td>10</td>\n    </tr>\n    <tr>\n      <th>6</th>\n      <td>10</td>\n      <td>10</td>\n    </tr>\n    <tr>\n      <th>7</th>\n      <td>10</td>\n      <td>10</td>\n    </tr>\n    <tr>\n      <th>8</th>\n      <td>10</td>\n      <td>10</td>\n    </tr>\n  </tbody>\n</table>\n</div>"
     },
     "metadata": {},
     "output_type": "display_data"
    },
    {
     "data": {
      "text/plain": "   0\n0  9",
      "text/html": "<div>\n<style scoped>\n    .dataframe tbody tr th:only-of-type {\n        vertical-align: middle;\n    }\n\n    .dataframe tbody tr th {\n        vertical-align: top;\n    }\n\n    .dataframe thead th {\n        text-align: right;\n    }\n</style>\n<table border=\"1\" class=\"dataframe\">\n  <thead>\n    <tr style=\"text-align: right;\">\n      <th></th>\n      <th>0</th>\n    </tr>\n  </thead>\n  <tbody>\n    <tr>\n      <th>0</th>\n      <td>9</td>\n    </tr>\n  </tbody>\n</table>\n</div>"
     },
     "execution_count": 139,
     "metadata": {},
     "output_type": "execute_result"
    }
   ],
   "source": [
    "import numpy as np\n",
    "from sklearn.metrics import precision_score, recall_score, f1_score, confusion_matrix\n",
    "\n",
    "\n",
    "rounded_actual_stock_prices = np.round(actual_stock_prices).astype(int)\n",
    "rounded_predicted_stock_prices =  np.round(predicted_stock_prices).astype(int)\n",
    "\n",
    "binary_pred_df = pd.DataFrame(data = {\n",
    "    'Actual_Price_Binaries': rounded_actual_stock_prices,\n",
    "    'Pred_Price_Binaries': rounded_predicted_stock_prices\n",
    "    \n",
    "})\n",
    "\n",
    "\n",
    "display(binary_pred_df)\n",
    "\n",
    "\n",
    "conf_mat = confusion_matrix(rounded_actual_stock_prices, rounded_actual_stock_prices)\n",
    "\n",
    "conf_mat_df = pd.DataFrame(conf_mat)\n",
    "conf_mat_df\n"
   ],
   "metadata": {
    "collapsed": false,
    "ExecuteTime": {
     "end_time": "2023-11-10T10:12:44.761147433Z",
     "start_time": "2023-11-10T10:12:44.670250084Z"
    }
   },
   "id": "ce0ed04a9c4198b1"
  },
  {
   "cell_type": "code",
   "execution_count": 140,
   "outputs": [
    {
     "name": "stdout",
     "output_type": "stream",
     "text": [
      "[ 9.74  9.76  9.82  9.9   9.96 10.1  10.05 10.2  10.25]\n",
      "[9.564847  9.564884  9.5648365 9.564781  9.564612  9.564009  9.563759\n",
      " 9.564068  9.563482 ]\n"
     ]
    }
   ],
   "source": [
    "print(actual_stock_prices)\n",
    "print(predicted_stock_prices)"
   ],
   "metadata": {
    "collapsed": false,
    "ExecuteTime": {
     "end_time": "2023-11-10T10:12:44.761511349Z",
     "start_time": "2023-11-10T10:12:44.692094342Z"
    }
   },
   "id": "350562b94f183155"
  }
 ],
 "metadata": {
  "kernelspec": {
   "display_name": "Python 3",
   "language": "python",
   "name": "python3"
  },
  "language_info": {
   "codemirror_mode": {
    "name": "ipython",
    "version": 2
   },
   "file_extension": ".py",
   "mimetype": "text/x-python",
   "name": "python",
   "nbconvert_exporter": "python",
   "pygments_lexer": "ipython2",
   "version": "2.7.6"
  }
 },
 "nbformat": 4,
 "nbformat_minor": 5
}
