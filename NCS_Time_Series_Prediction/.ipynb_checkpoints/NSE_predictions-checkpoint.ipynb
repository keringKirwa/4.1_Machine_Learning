{
 "cells": [
  {
   "cell_type": "code",
   "execution_count": 1,
   "id": "initial_id",
   "metadata": {
    "collapsed": true,
    "ExecuteTime": {
     "end_time": "2023-11-01T11:47:59.072057902Z",
     "start_time": "2023-11-01T11:47:52.097249630Z"
    }
   },
   "outputs": [
    {
     "name": "stderr",
     "output_type": "stream",
     "text": [
      "2023-11-01 14:47:53.908892: I tensorflow/tsl/cuda/cudart_stub.cc:28] Could not find cuda drivers on your machine, GPU will not be used.\n",
      "2023-11-01 14:47:54.315817: E tensorflow/compiler/xla/stream_executor/cuda/cuda_dnn.cc:9342] Unable to register cuDNN factory: Attempting to register factory for plugin cuDNN when one has already been registered\n",
      "2023-11-01 14:47:54.315880: E tensorflow/compiler/xla/stream_executor/cuda/cuda_fft.cc:609] Unable to register cuFFT factory: Attempting to register factory for plugin cuFFT when one has already been registered\n",
      "2023-11-01 14:47:54.317871: E tensorflow/compiler/xla/stream_executor/cuda/cuda_blas.cc:1518] Unable to register cuBLAS factory: Attempting to register factory for plugin cuBLAS when one has already been registered\n",
      "2023-11-01 14:47:54.522380: I tensorflow/tsl/cuda/cudart_stub.cc:28] Could not find cuda drivers on your machine, GPU will not be used.\n",
      "2023-11-01 14:47:54.524151: I tensorflow/core/platform/cpu_feature_guard.cc:182] This TensorFlow binary is optimized to use available CPU instructions in performance-critical operations.\n",
      "To enable the following instructions: AVX2 FMA, in other operations, rebuild TensorFlow with the appropriate compiler flags.\n",
      "2023-11-01 14:47:56.640410: W tensorflow/compiler/tf2tensorrt/utils/py_utils.cc:38] TF-TRT Warning: Could not find TensorRT\n"
     ]
    }
   ],
   "source": [
    "from sklearn.model_selection import train_test_split\n",
    "import tensorflow as tf\n",
    "from keras.models import Sequential\n",
    "from keras.layers import LSTM, Dense, Input, InputLayer, Dropout\n",
    "\n",
    "import pandas as pd\n",
    "import numpy as np\n",
    "import os\n",
    "import tensorflow as tf\n",
    "\n",
    "#DATA NORMALIZATION(STANDARDISATION)\n",
    "from sklearn.preprocessing import MinMaxScaler\n",
    "\n",
    "#DATA PLOTTING\n",
    "import matplotlib.pyplot as plt\n",
    "\n",
    "#FOR PERFORMANCE METRICS ANALYSIS.\n",
    "from keras.optimizers import Adam\n",
    "from keras.losses import  MeanSquaredError\n",
    "from keras.metrics import  RootMeanSquaredError\n",
    "\n",
    "#SAVING AND LOADING MODEL\n",
    "from keras.callbacks import ModelCheckpoint\n",
    "from keras.models import load_model\n"
   ]
  },
  {
   "cell_type": "code",
   "execution_count": null,
   "outputs": [],
   "source": [
    "model = Sequential([Input((3, 1)),\n",
    "                    LSTM(units=100, return_sequences=True),\n",
    "                    Dropout(noise_shape=0.2),\n",
    "                    LSTM(units=100, return_sequences=False),\n",
    "                    Dropout(noise_shape=0.2),\n",
    "                    Dense(units=32, activation='relu'),\n",
    "                    Dense(units = 1)])\n",
    "\n",
    "model.compile(loss=MeanSquaredError(), \n",
    "              optimizer=Adam(learning_rate=0.0001),\n",
    "              metrics=[RootMeanSquaredError()])"
   ],
   "metadata": {
    "collapsed": false
   },
   "id": "d22dcc50c6e19998"
  },
  {
   "cell_type": "code",
   "execution_count": null,
   "outputs": [],
   "source": [
    "#DATA  CLEANING \n"
   ],
   "metadata": {
    "collapsed": false
   },
   "id": "1065491407967dc4"
  },
  {
   "cell_type": "code",
   "execution_count": null,
   "outputs": [],
   "source": [
    "#COSINE AND SINE FOR DATES\n",
    "\n",
    "# Sample date in the \"3-Jan-22\" format\n",
    "date_str = \"3-Jan-22\"\n",
    "\n",
    "# Convert the date string to a pandas datetime object\n",
    "date = pd.to_datetime(date_str, format=\"%d-%b-%y\")\n",
    "\n",
    "# Calculate the day of the year as a fraction (ranging from 0 to 1)\n",
    "day_of_year = (date.dt.dayofyear - 1) / 365  # Subtract 1 to make it 0-based\n",
    "\n",
    "# Calculate the sine and cosine components\n",
    "sine_signal = np.sin(2 * np.pi * day_of_year)\n",
    "cosine_signal = np.cos(2 * np.pi * day_of_year)\n",
    "\n",
    "print(\"Sine Signal:\", sine_signal)\n",
    "print(\"Cosine Signal:\", cosine_signal)\n"
   ],
   "metadata": {
    "collapsed": false
   },
   "id": "60cfdea9bb803f29"
  }
 ],
 "metadata": {
  "kernelspec": {
   "display_name": "Python 3",
   "language": "python",
   "name": "python3"
  },
  "language_info": {
   "codemirror_mode": {
    "name": "ipython",
    "version": 2
   },
   "file_extension": ".py",
   "mimetype": "text/x-python",
   "name": "python",
   "nbconvert_exporter": "python",
   "pygments_lexer": "ipython2",
   "version": "2.7.6"
  }
 },
 "nbformat": 4,
 "nbformat_minor": 5
}
