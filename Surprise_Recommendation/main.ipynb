{
 "cells": [
  {
   "cell_type": "code",
   "execution_count": 2,
   "outputs": [
    {
     "data": {
      "text/plain": "   item user  rating\n0     1    A     1.0\n1     2    A     2.0\n2     1    B     2.0\n3     2    B     4.0\n4     1    C     2.5\n5     2    C     4.0\n6     1    D     4.5\n7     2    D     5.0\n8     1    E     3.0",
      "text/html": "<div>\n<style scoped>\n    .dataframe tbody tr th:only-of-type {\n        vertical-align: middle;\n    }\n\n    .dataframe tbody tr th {\n        vertical-align: top;\n    }\n\n    .dataframe thead th {\n        text-align: right;\n    }\n</style>\n<table border=\"1\" class=\"dataframe\">\n  <thead>\n    <tr style=\"text-align: right;\">\n      <th></th>\n      <th>item</th>\n      <th>user</th>\n      <th>rating</th>\n    </tr>\n  </thead>\n  <tbody>\n    <tr>\n      <th>0</th>\n      <td>1</td>\n      <td>A</td>\n      <td>1.0</td>\n    </tr>\n    <tr>\n      <th>1</th>\n      <td>2</td>\n      <td>A</td>\n      <td>2.0</td>\n    </tr>\n    <tr>\n      <th>2</th>\n      <td>1</td>\n      <td>B</td>\n      <td>2.0</td>\n    </tr>\n    <tr>\n      <th>3</th>\n      <td>2</td>\n      <td>B</td>\n      <td>4.0</td>\n    </tr>\n    <tr>\n      <th>4</th>\n      <td>1</td>\n      <td>C</td>\n      <td>2.5</td>\n    </tr>\n    <tr>\n      <th>5</th>\n      <td>2</td>\n      <td>C</td>\n      <td>4.0</td>\n    </tr>\n    <tr>\n      <th>6</th>\n      <td>1</td>\n      <td>D</td>\n      <td>4.5</td>\n    </tr>\n    <tr>\n      <th>7</th>\n      <td>2</td>\n      <td>D</td>\n      <td>5.0</td>\n    </tr>\n    <tr>\n      <th>8</th>\n      <td>1</td>\n      <td>E</td>\n      <td>3.0</td>\n    </tr>\n  </tbody>\n</table>\n</div>"
     },
     "execution_count": 2,
     "metadata": {},
     "output_type": "execute_result"
    }
   ],
   "source": [
    "import  pandas as pd\n",
    "ratings_dict = {\n",
    "    \"item\": [1, 2, 1, 2, 1, 2, 1, 2, 1],\n",
    "    \"user\": ['A', 'A', 'B', 'B', 'C', 'C', 'D', 'D', 'E'],\n",
    "    \"rating\": [1, 2, 2, 4, 2.5, 4, 4.5, 5, 3],\n",
    "}\n",
    "\n",
    "df = pd.DataFrame(ratings_dict)\n",
    "df"
   ],
   "metadata": {
    "collapsed": false,
    "ExecuteTime": {
     "end_time": "2023-11-02T07:08:42.659274661Z",
     "start_time": "2023-11-02T07:08:42.596149250Z"
    }
   },
   "id": "69c750bad6d176e7"
  },
  {
   "cell_type": "code",
   "execution_count": 4,
   "outputs": [
    {
     "ename": "AttributeError",
     "evalue": "'list' object has no attribute 'itertuples'",
     "output_type": "error",
     "traceback": [
      "\u001B[0;31m---------------------------------------------------------------------------\u001B[0m",
      "\u001B[0;31mAttributeError\u001B[0m                            Traceback (most recent call last)",
      "Cell \u001B[0;32mIn[4], line 19\u001B[0m\n\u001B[1;32m     15\u001B[0m \u001B[38;5;66;03m# Define the Reader to parse(interpret) the dataset\u001B[39;00m\n\u001B[1;32m     17\u001B[0m reader \u001B[38;5;241m=\u001B[39m Reader(rating_scale\u001B[38;5;241m=\u001B[39m(\u001B[38;5;241m1\u001B[39m, \u001B[38;5;241m5\u001B[39m))\n\u001B[0;32m---> 19\u001B[0m dataset \u001B[38;5;241m=\u001B[39m \u001B[43mDataset\u001B[49m\u001B[38;5;241;43m.\u001B[39;49m\u001B[43mload_from_df\u001B[49m\u001B[43m(\u001B[49m\u001B[43mdata\u001B[49m\u001B[43m,\u001B[49m\u001B[43m \u001B[49m\u001B[43mreader\u001B[49m\u001B[43m)\u001B[49m\n\u001B[1;32m     21\u001B[0m \u001B[38;5;66;03m# Choose the algorithm (SVD in this case)\u001B[39;00m\n\u001B[1;32m     22\u001B[0m algorithm \u001B[38;5;241m=\u001B[39m SVD()\n",
      "File \u001B[0;32m~/Desktop/MachineLearningProjects/KnowledgeBasedSystemsML/KnowledgeBasedSystemsVenv/lib/python3.10/site-packages/surprise/dataset.py:167\u001B[0m, in \u001B[0;36mDataset.load_from_df\u001B[0;34m(cls, df, reader)\u001B[0m\n\u001B[1;32m    150\u001B[0m \u001B[38;5;129m@classmethod\u001B[39m\n\u001B[1;32m    151\u001B[0m \u001B[38;5;28;01mdef\u001B[39;00m \u001B[38;5;21mload_from_df\u001B[39m(\u001B[38;5;28mcls\u001B[39m, df, reader):\n\u001B[1;32m    152\u001B[0m \u001B[38;5;250m    \u001B[39m\u001B[38;5;124;03m\"\"\"Load a dataset from a pandas dataframe.\u001B[39;00m\n\u001B[1;32m    153\u001B[0m \n\u001B[1;32m    154\u001B[0m \u001B[38;5;124;03m    Use this if you want to use a custom dataset that is stored in a pandas\u001B[39;00m\n\u001B[0;32m   (...)\u001B[0m\n\u001B[1;32m    164\u001B[0m \u001B[38;5;124;03m            specified.\u001B[39;00m\n\u001B[1;32m    165\u001B[0m \u001B[38;5;124;03m    \"\"\"\u001B[39;00m\n\u001B[0;32m--> 167\u001B[0m     \u001B[38;5;28;01mreturn\u001B[39;00m \u001B[43mDatasetAutoFolds\u001B[49m\u001B[43m(\u001B[49m\u001B[43mreader\u001B[49m\u001B[38;5;241;43m=\u001B[39;49m\u001B[43mreader\u001B[49m\u001B[43m,\u001B[49m\u001B[43m \u001B[49m\u001B[43mdf\u001B[49m\u001B[38;5;241;43m=\u001B[39;49m\u001B[43mdf\u001B[49m\u001B[43m)\u001B[49m\n",
      "File \u001B[0;32m~/Desktop/MachineLearningProjects/KnowledgeBasedSystemsML/KnowledgeBasedSystemsVenv/lib/python3.10/site-packages/surprise/dataset.py:264\u001B[0m, in \u001B[0;36mDatasetAutoFolds.__init__\u001B[0;34m(self, ratings_file, reader, df)\u001B[0m\n\u001B[1;32m    260\u001B[0m \u001B[38;5;28;01melif\u001B[39;00m df \u001B[38;5;129;01mis\u001B[39;00m \u001B[38;5;129;01mnot\u001B[39;00m \u001B[38;5;28;01mNone\u001B[39;00m:\n\u001B[1;32m    261\u001B[0m     \u001B[38;5;28mself\u001B[39m\u001B[38;5;241m.\u001B[39mdf \u001B[38;5;241m=\u001B[39m df\n\u001B[1;32m    262\u001B[0m     \u001B[38;5;28mself\u001B[39m\u001B[38;5;241m.\u001B[39mraw_ratings \u001B[38;5;241m=\u001B[39m [\n\u001B[1;32m    263\u001B[0m         (uid, iid, \u001B[38;5;28mfloat\u001B[39m(r), \u001B[38;5;28;01mNone\u001B[39;00m)\n\u001B[0;32m--> 264\u001B[0m         \u001B[38;5;28;01mfor\u001B[39;00m (uid, iid, r) \u001B[38;5;129;01min\u001B[39;00m \u001B[38;5;28;43mself\u001B[39;49m\u001B[38;5;241;43m.\u001B[39;49m\u001B[43mdf\u001B[49m\u001B[38;5;241;43m.\u001B[39;49m\u001B[43mitertuples\u001B[49m(index\u001B[38;5;241m=\u001B[39m\u001B[38;5;28;01mFalse\u001B[39;00m)\n\u001B[1;32m    265\u001B[0m     ]\n\u001B[1;32m    266\u001B[0m \u001B[38;5;28;01melse\u001B[39;00m:\n\u001B[1;32m    267\u001B[0m     \u001B[38;5;28;01mraise\u001B[39;00m \u001B[38;5;167;01mValueError\u001B[39;00m(\u001B[38;5;124m\"\u001B[39m\u001B[38;5;124mMust specify ratings file or dataframe.\u001B[39m\u001B[38;5;124m\"\u001B[39m)\n",
      "\u001B[0;31mAttributeError\u001B[0m: 'list' object has no attribute 'itertuples'"
     ]
    }
   ],
   "source": [
    "from surprise import Dataset, Reader, SVD\n",
    "from surprise.model_selection import cross_validate\n",
    "\n",
    "# Sample movie ratings dataset (user, movie, rating)\n",
    "data = [\n",
    "    ('User1', 'Movie1', 4),\n",
    "    ('User1', 'Movie2', 3),\n",
    "    ('User1', 'Movie3', 5),\n",
    "    ('User2', 'Movie1', 3),\n",
    "    ('User2', 'Movie2', 4),\n",
    "    ('User2', 'Movie4', 5),\n",
    "    # Add more ratings here\n",
    "]\n",
    "\n",
    "# Define the Reader to parse(interpret) the dataset\n",
    "\n",
    "reader = Reader(rating_scale=(1, 5))\n",
    "\n",
    "dataset = Dataset.load_from_df(data, reader)\n",
    "\n",
    "# Choose the algorithm (SVD in this case)\n",
    "algorithm = SVD()\n",
    "\n",
    "# Perform cross-validation to evaluate the model \n",
    "cross_validate(algorithm, dataset, measures=['RMSE', 'MAE'], cv=5, verbose=True)\n",
    "\n",
    "# Train the model on the entire dataset\n",
    "trainset = dataset.build_full_trainset()\n",
    "algorithm.fit(trainset)\n",
    "\n",
    "# Make recommendations for a specific user (e.g., 'User1')\n",
    "user_id = 'User1'\n",
    "\n",
    "# Get a list of all movie IDs\n",
    "all_movie_ids = dataset.build_full_trainset().all_items()\n",
    "\n",
    "display(all_movie_ids)\n",
    "\n",
    "# Filter out movies the user has already rated\n",
    "movies_rated_by_user = [r[0] for r in dataset.raw_ratings if r[1] == user_id]\n",
    "movies_to_predict = [movie_id for movie_id in all_movie_ids if movie_id not in movies_rated_by_user]\n",
    "\n",
    "# Predict ratings for the unwatched movies\n",
    "user_ratings = [(movie_id, algorithm.predict(user_id, movie_id).est) for movie_id in movies_to_predict]\n",
    "\n",
    "# Sort the ratings in descending order to get top recommendations\n",
    "user_ratings.sort(key=lambda x: x[1], reverse=True)\n",
    "\n",
    "# Get the top N recommendations (e.g., top 5)\n",
    "top_n = user_ratings[:5]\n",
    "\n",
    "# Print the top N recommendations\n",
    "print(f\"Top 5 movie recommendations for user {user_id}:\")\n",
    "for i, (movie_id, rating) in enumerate(top_n, 1):\n",
    "    print(f\"{i}. Movie ID: {movie_id}, Estimated Rating: {rating}\")\n"
   ],
   "metadata": {
    "collapsed": false,
    "ExecuteTime": {
     "end_time": "2023-11-02T09:46:06.733331357Z",
     "start_time": "2023-11-02T09:46:06.635912548Z"
    }
   },
   "id": "55cca8d0393c1fad"
  }
 ],
 "metadata": {
  "kernelspec": {
   "display_name": "Python 3",
   "language": "python",
   "name": "python3"
  },
  "language_info": {
   "codemirror_mode": {
    "name": "ipython",
    "version": 2
   },
   "file_extension": ".py",
   "mimetype": "text/x-python",
   "name": "python",
   "nbconvert_exporter": "python",
   "pygments_lexer": "ipython2",
   "version": "2.7.6"
  }
 },
 "nbformat": 4,
 "nbformat_minor": 5
}
