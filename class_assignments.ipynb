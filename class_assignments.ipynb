{
 "cells": [
  {
   "cell_type": "code",
   "execution_count": null,
   "outputs": [],
   "source": [
    "from sklearn import  metrics\n",
    "\n",
    "data = [[80, 951, 75, 171],\n",
    "        [82, 1110, 68, 175], \n",
    "        [70, 1200, 76, 168],\n",
    "        [69, 1400, 72, 170],\n",
    "        [70, 1000, 80, 160], \n",
    "        [65, 1800, 72, 150],\n",
    "        [80, 1220, 68, 140], \n",
    "        [62, 1121, 71, 139]\n",
    "        ]\n",
    "comments = ['good','good','good','good','bad', 'bad', 'good','bad']\n",
    "jacinta = [70, 820, 65, 149]\n",
    "accuracies = []\n",
    "for d in data:\n",
    "    a = metrics.accuracy_score(np.array(d),np.array(jacinta))\n",
    "    accuracies.append(a)\n",
    "\n",
    "print(accuracies)\n",
    "\n",
    "d_dif = []\n",
    "for d in data:\n",
    "    total = 0\n",
    "    for i in range(len(d)):\n",
    "        sq = jacinta[i] - d[i]\n",
    "        total = total + (sq*sq)\n",
    "    d_dif.append(sum)\n",
    "    \n",
    "def min_f(arr):\n",
    "    m = arr[0]\n",
    "    for i in arr:\n",
    "        if i < m:\n",
    "            m = i\n",
    "    return m\n",
    "\n",
    "print(d_dif)\n",
    "min = min_f(d_dif)\n",
    "print(min)\n",
    "print(comments[d_dif.index(min)])"
   ],
   "metadata": {
    "collapsed": false
   },
   "id": "dd914490b94d271c"
  },
  {
   "cell_type": "code",
   "execution_count": null,
   "outputs": [],
   "source": [
    "# True labels and predicted labels from your model\n",
    "true_labels = [0, 1, 1, 0, 1, 0, 0, 1]\n",
    "predicted_labels = [0, 1, 0, 1, 1, 0, 1, 1]\n",
    "\n",
    "# Calculate the performance metrics precision, recall, and F1-score\n",
    "accuracy = metrics.accuracy_score(true_labels, predicted_labels)\n",
    "precision = metrics.precision_score(true_labels, predicted_labels)\n",
    "recall = metrics.recall_score(true_labels, predicted_labels)\n",
    "f1_score = metrics.f1_score(true_labels, predicted_labels)\n",
    "\n",
    "print(f\"Accuracy: {accuracy}\")\n",
    "\n",
    "print(f\"Precision: {precision}\")\n",
    "print(f\"Recall: {recall}\")\n",
    "print(f\"F1-Score: {f1_score}\")\n",
    "\n",
    "# Compute the confusion matrix\n",
    "confusion_matrix = metrics.confusion_matrix(true_labels, predicted_labels)\n",
    "print(\"Confusion Matrix:\")\n",
    "confusion_matrix\n"
   ],
   "metadata": {
    "collapsed": false
   },
   "id": "d20ab8c28b9fa766"
  },
  {
   "cell_type": "code",
   "execution_count": null,
   "id": "initial_id",
   "metadata": {
    "collapsed": true
   },
   "outputs": [],
   "source": [
    "from sklearn.naive_bayes import GaussianNB\n",
    "from sklearn import metrics, datasets\n",
    "\n",
    "nb= GaussianNB()\n",
    "iris = datasets.load_iris()\n",
    "\n",
    "(iris_train_ftrs, iris_test_ftrs,\n",
    "iris_train_tgt, iris_test_tgt) = train_test_split(iris.data,\n",
    "iris.target,\n",
    "test_size=.25)\n",
    "\n",
    "fit= nb.fit(iris_train_ftrs, iris_train_tgt)\n",
    "preds = fit.predict(iris_test_ftrs)\n",
    "print(\"NB accuracy:\",\n",
    "metrics.accuracy_score(iris_test_tgt, preds))\n"
   ]
  }
 ],
 "metadata": {
  "kernelspec": {
   "display_name": "Python 3",
   "language": "python",
   "name": "python3"
  },
  "language_info": {
   "codemirror_mode": {
    "name": "ipython",
    "version": 2
   },
   "file_extension": ".py",
   "mimetype": "text/x-python",
   "name": "python",
   "nbconvert_exporter": "python",
   "pygments_lexer": "ipython2",
   "version": "2.7.6"
  }
 },
 "nbformat": 4,
 "nbformat_minor": 5
}
