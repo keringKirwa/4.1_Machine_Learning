{
 "cells": [
  {
   "cell_type": "code",
   "execution_count": 48,
   "id": "initial_id",
   "metadata": {
    "collapsed": true,
    "ExecuteTime": {
     "end_time": "2023-10-11T10:09:30.085063622Z",
     "start_time": "2023-10-11T10:09:30.076857691Z"
    }
   },
   "outputs": [],
   "source": [
    "import numpy as np\n",
    "import pandas as pd \n",
    "from sklearn.model_selection import train_test_split\n",
    "from sklearn.impute import SimpleImputer\n",
    "from sklearn.base import BaseEstimator, TransformerMixin\n",
    "from sklearn.metrics import accuracy_score\n",
    "from sklearn.model_selection import train_test_split\n",
    "from sklearn.preprocessing import MinMaxScaler, OneHotEncoder\n",
    "from sklearn.linear_model import LogisticRegression\n",
    "from sklearn.pipeline import Pipeline\n",
    "from sklearn.compose import ColumnTransformer\n"
   ]
  },
  {
   "cell_type": "code",
   "execution_count": 63,
   "outputs": [
    {
     "data": {
      "text/plain": "   Alternate  Bar Friday Hungry Patron Price Raining Reservation     Type  \\\n0        Yes   No     No    Yes   Some   $$$      No         Yes   French   \n1        Yes   No     No    Yes   Full     $      No          No     Thai   \n2         No  Yes     No     No   Some     $      No          No   Burger   \n3        Yes   No    Yes    Yes   Full     $     Yes          No     Thai   \n4        Yes   No    Yes     No   Full   $$$      No         Yes   French   \n5         No  Yes     No    Yes   Some    $$     Yes         Yes  Italian   \n6         No  Yes     No     No   None     $     Yes          No   Burger   \n7         No   No     No    Yes   Some    $$     Yes         Yes     Thai   \n8         No  Yes    Yes     No   Full     $     Yes          No   Burger   \n9        Yes  Yes    Yes    Yes   Full   $$$      No         Yes  Italian   \n10        No   No     No     No   None     $      No          No     Thai   \n11       Yes  Yes    Yes    Yes   Full   $$$      No          No   Burger   \n\n   Estimated_Time  \n0            0-10  \n1           30-60  \n2            0-10  \n3           10-30  \n4             >60  \n5            0-10  \n6            0-10  \n7            0-10  \n8             >60  \n9           10-30  \n10           0-10  \n11          30-60  ",
      "text/html": "<div>\n<style scoped>\n    .dataframe tbody tr th:only-of-type {\n        vertical-align: middle;\n    }\n\n    .dataframe tbody tr th {\n        vertical-align: top;\n    }\n\n    .dataframe thead th {\n        text-align: right;\n    }\n</style>\n<table border=\"1\" class=\"dataframe\">\n  <thead>\n    <tr style=\"text-align: right;\">\n      <th></th>\n      <th>Alternate</th>\n      <th>Bar</th>\n      <th>Friday</th>\n      <th>Hungry</th>\n      <th>Patron</th>\n      <th>Price</th>\n      <th>Raining</th>\n      <th>Reservation</th>\n      <th>Type</th>\n      <th>Estimated_Time</th>\n    </tr>\n  </thead>\n  <tbody>\n    <tr>\n      <th>0</th>\n      <td>Yes</td>\n      <td>No</td>\n      <td>No</td>\n      <td>Yes</td>\n      <td>Some</td>\n      <td>$$$</td>\n      <td>No</td>\n      <td>Yes</td>\n      <td>French</td>\n      <td>0-10</td>\n    </tr>\n    <tr>\n      <th>1</th>\n      <td>Yes</td>\n      <td>No</td>\n      <td>No</td>\n      <td>Yes</td>\n      <td>Full</td>\n      <td>$</td>\n      <td>No</td>\n      <td>No</td>\n      <td>Thai</td>\n      <td>30-60</td>\n    </tr>\n    <tr>\n      <th>2</th>\n      <td>No</td>\n      <td>Yes</td>\n      <td>No</td>\n      <td>No</td>\n      <td>Some</td>\n      <td>$</td>\n      <td>No</td>\n      <td>No</td>\n      <td>Burger</td>\n      <td>0-10</td>\n    </tr>\n    <tr>\n      <th>3</th>\n      <td>Yes</td>\n      <td>No</td>\n      <td>Yes</td>\n      <td>Yes</td>\n      <td>Full</td>\n      <td>$</td>\n      <td>Yes</td>\n      <td>No</td>\n      <td>Thai</td>\n      <td>10-30</td>\n    </tr>\n    <tr>\n      <th>4</th>\n      <td>Yes</td>\n      <td>No</td>\n      <td>Yes</td>\n      <td>No</td>\n      <td>Full</td>\n      <td>$$$</td>\n      <td>No</td>\n      <td>Yes</td>\n      <td>French</td>\n      <td>&gt;60</td>\n    </tr>\n    <tr>\n      <th>5</th>\n      <td>No</td>\n      <td>Yes</td>\n      <td>No</td>\n      <td>Yes</td>\n      <td>Some</td>\n      <td>$$</td>\n      <td>Yes</td>\n      <td>Yes</td>\n      <td>Italian</td>\n      <td>0-10</td>\n    </tr>\n    <tr>\n      <th>6</th>\n      <td>No</td>\n      <td>Yes</td>\n      <td>No</td>\n      <td>No</td>\n      <td>None</td>\n      <td>$</td>\n      <td>Yes</td>\n      <td>No</td>\n      <td>Burger</td>\n      <td>0-10</td>\n    </tr>\n    <tr>\n      <th>7</th>\n      <td>No</td>\n      <td>No</td>\n      <td>No</td>\n      <td>Yes</td>\n      <td>Some</td>\n      <td>$$</td>\n      <td>Yes</td>\n      <td>Yes</td>\n      <td>Thai</td>\n      <td>0-10</td>\n    </tr>\n    <tr>\n      <th>8</th>\n      <td>No</td>\n      <td>Yes</td>\n      <td>Yes</td>\n      <td>No</td>\n      <td>Full</td>\n      <td>$</td>\n      <td>Yes</td>\n      <td>No</td>\n      <td>Burger</td>\n      <td>&gt;60</td>\n    </tr>\n    <tr>\n      <th>9</th>\n      <td>Yes</td>\n      <td>Yes</td>\n      <td>Yes</td>\n      <td>Yes</td>\n      <td>Full</td>\n      <td>$$$</td>\n      <td>No</td>\n      <td>Yes</td>\n      <td>Italian</td>\n      <td>10-30</td>\n    </tr>\n    <tr>\n      <th>10</th>\n      <td>No</td>\n      <td>No</td>\n      <td>No</td>\n      <td>No</td>\n      <td>None</td>\n      <td>$</td>\n      <td>No</td>\n      <td>No</td>\n      <td>Thai</td>\n      <td>0-10</td>\n    </tr>\n    <tr>\n      <th>11</th>\n      <td>Yes</td>\n      <td>Yes</td>\n      <td>Yes</td>\n      <td>Yes</td>\n      <td>Full</td>\n      <td>$$$</td>\n      <td>No</td>\n      <td>No</td>\n      <td>Burger</td>\n      <td>30-60</td>\n    </tr>\n  </tbody>\n</table>\n</div>"
     },
     "execution_count": 63,
     "metadata": {},
     "output_type": "execute_result"
    }
   ],
   "source": [
    "from data import restaurant_data\n",
    "\n",
    "classes = ['Yes', 'No', 'Yes', 'Yes', 'No', 'Yes', 'No', 'Yes', 'No', 'No', 'No', 'Yes']\n",
    "col_labels= ['Alternate', 'Bar', 'Friday', 'Hungry', 'Patron', 'Price', 'Raining', 'Reservation', 'Type', 'Estimated_Time']\n",
    "\n",
    "dataFrame = pd.DataFrame(restaurant_data).transpose()\n",
    "df=dataFrame.copy()\n",
    "df.columns=col_labels\n",
    "df"
   ],
   "metadata": {
    "collapsed": false,
    "ExecuteTime": {
     "end_time": "2023-10-11T10:18:14.425313077Z",
     "start_time": "2023-10-11T10:18:14.382669262Z"
    }
   },
   "id": "7df29af12c18964d"
  },
  {
   "cell_type": "code",
   "execution_count": null,
   "outputs": [],
   "source": [],
   "metadata": {
    "collapsed": false
   },
   "id": "9b7b89bc6944a1e0"
  },
  {
   "cell_type": "code",
   "execution_count": 64,
   "outputs": [
    {
     "data": {
      "text/plain": "    Alternate  Bar  Friday  Hungry  Price  Raining  Reservation  Patron_Full  \\\n2           0    1       0       0    100        0            0            0   \n7           0    0       0       1    200        1            1            0   \n6           0    1       0       0    100        1            0            0   \n11          1    1       1       1    300        0            0            1   \n5           0    1       0       1    200        1            1            0   \n8           0    1       1       0    100        1            0            1   \n9           1    1       1       1    300        0            1            1   \n4           1    0       1       0    300        0            1            1   \n3           1    0       1       1    100        1            0            1   \n1           1    0       0       1    100        0            0            1   \n\n    Patron_None  Patron_Some  Type_Burger  Type_French  Type_Italian  \\\n2             0            1            1            0             0   \n7             0            1            0            0             0   \n6             1            0            1            0             0   \n11            0            0            1            0             0   \n5             0            1            0            0             1   \n8             0            0            1            0             0   \n9             0            0            0            0             1   \n4             0            0            0            1             0   \n3             0            0            0            0             0   \n1             0            0            0            0             0   \n\n    Type_Thai  Estimated_Time_extra_long  Estimated_Time_long  \\\n2           0                          0                    0   \n7           1                          0                    0   \n6           0                          0                    0   \n11          0                          0                    1   \n5           0                          0                    0   \n8           0                          1                    0   \n9           0                          0                    0   \n4           0                          1                    0   \n3           1                          0                    0   \n1           1                          0                    1   \n\n    Estimated_Time_medium  Estimated_Time_short  \n2                       0                     1  \n7                       0                     1  \n6                       0                     1  \n11                      0                     0  \n5                       0                     1  \n8                       0                     0  \n9                       1                     0  \n4                       0                     0  \n3                       1                     0  \n1                       0                     0  ",
      "text/html": "<div>\n<style scoped>\n    .dataframe tbody tr th:only-of-type {\n        vertical-align: middle;\n    }\n\n    .dataframe tbody tr th {\n        vertical-align: top;\n    }\n\n    .dataframe thead th {\n        text-align: right;\n    }\n</style>\n<table border=\"1\" class=\"dataframe\">\n  <thead>\n    <tr style=\"text-align: right;\">\n      <th></th>\n      <th>Alternate</th>\n      <th>Bar</th>\n      <th>Friday</th>\n      <th>Hungry</th>\n      <th>Price</th>\n      <th>Raining</th>\n      <th>Reservation</th>\n      <th>Patron_Full</th>\n      <th>Patron_None</th>\n      <th>Patron_Some</th>\n      <th>Type_Burger</th>\n      <th>Type_French</th>\n      <th>Type_Italian</th>\n      <th>Type_Thai</th>\n      <th>Estimated_Time_extra_long</th>\n      <th>Estimated_Time_long</th>\n      <th>Estimated_Time_medium</th>\n      <th>Estimated_Time_short</th>\n    </tr>\n  </thead>\n  <tbody>\n    <tr>\n      <th>2</th>\n      <td>0</td>\n      <td>1</td>\n      <td>0</td>\n      <td>0</td>\n      <td>100</td>\n      <td>0</td>\n      <td>0</td>\n      <td>0</td>\n      <td>0</td>\n      <td>1</td>\n      <td>1</td>\n      <td>0</td>\n      <td>0</td>\n      <td>0</td>\n      <td>0</td>\n      <td>0</td>\n      <td>0</td>\n      <td>1</td>\n    </tr>\n    <tr>\n      <th>7</th>\n      <td>0</td>\n      <td>0</td>\n      <td>0</td>\n      <td>1</td>\n      <td>200</td>\n      <td>1</td>\n      <td>1</td>\n      <td>0</td>\n      <td>0</td>\n      <td>1</td>\n      <td>0</td>\n      <td>0</td>\n      <td>0</td>\n      <td>1</td>\n      <td>0</td>\n      <td>0</td>\n      <td>0</td>\n      <td>1</td>\n    </tr>\n    <tr>\n      <th>6</th>\n      <td>0</td>\n      <td>1</td>\n      <td>0</td>\n      <td>0</td>\n      <td>100</td>\n      <td>1</td>\n      <td>0</td>\n      <td>0</td>\n      <td>1</td>\n      <td>0</td>\n      <td>1</td>\n      <td>0</td>\n      <td>0</td>\n      <td>0</td>\n      <td>0</td>\n      <td>0</td>\n      <td>0</td>\n      <td>1</td>\n    </tr>\n    <tr>\n      <th>11</th>\n      <td>1</td>\n      <td>1</td>\n      <td>1</td>\n      <td>1</td>\n      <td>300</td>\n      <td>0</td>\n      <td>0</td>\n      <td>1</td>\n      <td>0</td>\n      <td>0</td>\n      <td>1</td>\n      <td>0</td>\n      <td>0</td>\n      <td>0</td>\n      <td>0</td>\n      <td>1</td>\n      <td>0</td>\n      <td>0</td>\n    </tr>\n    <tr>\n      <th>5</th>\n      <td>0</td>\n      <td>1</td>\n      <td>0</td>\n      <td>1</td>\n      <td>200</td>\n      <td>1</td>\n      <td>1</td>\n      <td>0</td>\n      <td>0</td>\n      <td>1</td>\n      <td>0</td>\n      <td>0</td>\n      <td>1</td>\n      <td>0</td>\n      <td>0</td>\n      <td>0</td>\n      <td>0</td>\n      <td>1</td>\n    </tr>\n    <tr>\n      <th>8</th>\n      <td>0</td>\n      <td>1</td>\n      <td>1</td>\n      <td>0</td>\n      <td>100</td>\n      <td>1</td>\n      <td>0</td>\n      <td>1</td>\n      <td>0</td>\n      <td>0</td>\n      <td>1</td>\n      <td>0</td>\n      <td>0</td>\n      <td>0</td>\n      <td>1</td>\n      <td>0</td>\n      <td>0</td>\n      <td>0</td>\n    </tr>\n    <tr>\n      <th>9</th>\n      <td>1</td>\n      <td>1</td>\n      <td>1</td>\n      <td>1</td>\n      <td>300</td>\n      <td>0</td>\n      <td>1</td>\n      <td>1</td>\n      <td>0</td>\n      <td>0</td>\n      <td>0</td>\n      <td>0</td>\n      <td>1</td>\n      <td>0</td>\n      <td>0</td>\n      <td>0</td>\n      <td>1</td>\n      <td>0</td>\n    </tr>\n    <tr>\n      <th>4</th>\n      <td>1</td>\n      <td>0</td>\n      <td>1</td>\n      <td>0</td>\n      <td>300</td>\n      <td>0</td>\n      <td>1</td>\n      <td>1</td>\n      <td>0</td>\n      <td>0</td>\n      <td>0</td>\n      <td>1</td>\n      <td>0</td>\n      <td>0</td>\n      <td>1</td>\n      <td>0</td>\n      <td>0</td>\n      <td>0</td>\n    </tr>\n    <tr>\n      <th>3</th>\n      <td>1</td>\n      <td>0</td>\n      <td>1</td>\n      <td>1</td>\n      <td>100</td>\n      <td>1</td>\n      <td>0</td>\n      <td>1</td>\n      <td>0</td>\n      <td>0</td>\n      <td>0</td>\n      <td>0</td>\n      <td>0</td>\n      <td>1</td>\n      <td>0</td>\n      <td>0</td>\n      <td>1</td>\n      <td>0</td>\n    </tr>\n    <tr>\n      <th>1</th>\n      <td>1</td>\n      <td>0</td>\n      <td>0</td>\n      <td>1</td>\n      <td>100</td>\n      <td>0</td>\n      <td>0</td>\n      <td>1</td>\n      <td>0</td>\n      <td>0</td>\n      <td>0</td>\n      <td>0</td>\n      <td>0</td>\n      <td>1</td>\n      <td>0</td>\n      <td>1</td>\n      <td>0</td>\n      <td>0</td>\n    </tr>\n  </tbody>\n</table>\n</div>"
     },
     "execution_count": 64,
     "metadata": {},
     "output_type": "execute_result"
    }
   ],
   "source": [
    "replacement_mapping = {\n",
    "    \"010\": \"short\",\n",
    "    \"1030\": \"medium\",\n",
    "    \"3060\": \"long\",\n",
    "    \">60\": \"extra_long\"\n",
    "    }\n",
    "\n",
    "#series.values gives  a ndarray . which got no .replace() function.\n",
    "def remove_hyphens(strings_list):\n",
    "    return [s.replace('-', '') for s in strings_list]\n",
    "\n",
    "class OrdinalBinaryEncoder(BaseEstimator, TransformerMixin):\n",
    "       \n",
    "    def __init__(self, dict_values):\n",
    "        self.dict_values= dict_values\n",
    "        \n",
    "    def fit(self, X, y=None):\n",
    "        return self\n",
    "\n",
    "    def transform(self, X): \n",
    "        # X - dataFrame\n",
    "        dictionary_values = self.dict_values\n",
    "        for key in dictionary_values:\n",
    "            if key == \"Estimated_Time\":\n",
    "                estimated_time_column= X[key]               \n",
    "                processed_list = remove_hyphens(strings_list=list(estimated_time_column.values))                \n",
    "                X[key] =  pd.Series(processed_list).replace(replacement_mapping)\n",
    "                continue\n",
    "            X[key] = X[key].replace(\n",
    "                dictionary_values[key]\n",
    "            )   \n",
    "        return pd.get_dummies(X, columns = ['Patron','Type', 'Estimated_Time']).astype(int)\n",
    "          \n",
    "    \n",
    "def generate_yes_no_dict():\n",
    "    return {\n",
    "        \"Yes\":1,\n",
    "        \"No\":0\n",
    "    }\n",
    "\n",
    "dict_values = {\n",
    "    \"Alternate\": generate_yes_no_dict(),\n",
    "    \"Bar\": generate_yes_no_dict(),\n",
    "    \"Friday\": generate_yes_no_dict(),\n",
    "    \"Hungry\": generate_yes_no_dict(),\n",
    "    \"Price\": {\n",
    "        \"$\":100,\n",
    "        \"$$\":200,\n",
    "        \"$$$\":300 },\n",
    "    \n",
    "    \"Raining\":generate_yes_no_dict(),\n",
    "    \"Reservation\": generate_yes_no_dict(),\n",
    "    \"Type\": generate_yes_no_dict(),\n",
    "    \"Estimated_Time\": replacement_mapping\n",
    "}\n",
    "\n",
    "encoder = OrdinalBinaryEncoder(dict_values=dict_values)\n",
    "transformed_data_frame = encoder.fit_transform(df)\n",
    "\n",
    "transformed_data_frame.sample(10)\n",
    "\n",
    "\n"
   ],
   "metadata": {
    "collapsed": false,
    "ExecuteTime": {
     "end_time": "2023-10-11T10:18:17.283006838Z",
     "start_time": "2023-10-11T10:18:17.246986578Z"
    }
   },
   "id": "3ad6909afc095d6b"
  },
  {
   "cell_type": "markdown",
   "source": [],
   "metadata": {
    "collapsed": false
   },
   "id": "c750f7f4201a8940"
  },
  {
   "cell_type": "markdown",
   "source": [
    "#Pipelines are used for transforming some specific single COLUMN or the whole dataframe , else specified by the column transformer for some specific columns to be transformed.The df.dropna() removes rows  that have NAN values in the specified columns."
   ],
   "metadata": {
    "collapsed": false
   },
   "id": "11614b3c4231b39f"
  },
  {
   "cell_type": "code",
   "execution_count": 9,
   "outputs": [
    {
     "ename": "KeyError",
     "evalue": "\"['CustomerID'] not found in axis\"",
     "output_type": "error",
     "traceback": [
      "\u001B[0;31m---------------------------------------------------------------------------\u001B[0m",
      "\u001B[0;31mKeyError\u001B[0m                                  Traceback (most recent call last)",
      "Cell \u001B[0;32mIn[9], line 8\u001B[0m\n\u001B[1;32m      4\u001B[0m     \u001B[38;5;28mprint\u001B[39m(new_instance_df)\n\u001B[1;32m      5\u001B[0m     \u001B[38;5;28;01mreturn\u001B[39;00m model\u001B[38;5;241m.\u001B[39mpredict(new_instance_df)[\u001B[38;5;241m0\u001B[39m]\n\u001B[0;32m----> 8\u001B[0m dataFrame \u001B[38;5;241m=\u001B[39m \u001B[43mdf\u001B[49m\u001B[38;5;241;43m.\u001B[39;49m\u001B[43mdrop\u001B[49m\u001B[43m(\u001B[49m\u001B[38;5;124;43m\"\u001B[39;49m\u001B[38;5;124;43mCustomerID\u001B[39;49m\u001B[38;5;124;43m\"\u001B[39;49m\u001B[43m,\u001B[49m\u001B[43m \u001B[49m\u001B[43maxis\u001B[49m\u001B[38;5;241;43m=\u001B[39;49m\u001B[38;5;241;43m1\u001B[39;49m\u001B[43m)\u001B[49m\n\u001B[1;32m      9\u001B[0m columns_of_interest \u001B[38;5;241m=\u001B[39m [\u001B[38;5;124m'\u001B[39m\u001B[38;5;124mNumberOfDeviceRegistered\u001B[39m\u001B[38;5;124m'\u001B[39m, \u001B[38;5;124m'\u001B[39m\u001B[38;5;124mPreferedOrderCat\u001B[39m\u001B[38;5;124m'\u001B[39m, \u001B[38;5;124m'\u001B[39m\u001B[38;5;124mTenure\u001B[39m\u001B[38;5;124m'\u001B[39m, \u001B[38;5;124m'\u001B[39m\u001B[38;5;124mGender\u001B[39m\u001B[38;5;124m'\u001B[39m, \u001B[38;5;124m'\u001B[39m\u001B[38;5;124mOrderCount\u001B[39m\u001B[38;5;124m'\u001B[39m, \u001B[38;5;124m'\u001B[39m\u001B[38;5;124mChurn\u001B[39m\u001B[38;5;124m'\u001B[39m]\n\u001B[1;32m     11\u001B[0m data_frame_of_interest \u001B[38;5;241m=\u001B[39m df[columns_of_interest]\u001B[38;5;241m.\u001B[39mdropna(subset\u001B[38;5;241m=\u001B[39m[\u001B[38;5;124m'\u001B[39m\u001B[38;5;124mOrderCount\u001B[39m\u001B[38;5;124m'\u001B[39m, \u001B[38;5;124m'\u001B[39m\u001B[38;5;124mTenure\u001B[39m\u001B[38;5;124m'\u001B[39m])\n",
      "File \u001B[0;32m~/Desktop/MachineLearningProjects/KnowledgeBasedSystemsML/KnowledgeBasedSystemsVenv/lib/python3.10/site-packages/pandas/core/frame.py:5347\u001B[0m, in \u001B[0;36mDataFrame.drop\u001B[0;34m(self, labels, axis, index, columns, level, inplace, errors)\u001B[0m\n\u001B[1;32m   5199\u001B[0m \u001B[38;5;28;01mdef\u001B[39;00m \u001B[38;5;21mdrop\u001B[39m(\n\u001B[1;32m   5200\u001B[0m     \u001B[38;5;28mself\u001B[39m,\n\u001B[1;32m   5201\u001B[0m     labels: IndexLabel \u001B[38;5;241m|\u001B[39m \u001B[38;5;28;01mNone\u001B[39;00m \u001B[38;5;241m=\u001B[39m \u001B[38;5;28;01mNone\u001B[39;00m,\n\u001B[0;32m   (...)\u001B[0m\n\u001B[1;32m   5208\u001B[0m     errors: IgnoreRaise \u001B[38;5;241m=\u001B[39m \u001B[38;5;124m\"\u001B[39m\u001B[38;5;124mraise\u001B[39m\u001B[38;5;124m\"\u001B[39m,\n\u001B[1;32m   5209\u001B[0m ) \u001B[38;5;241m-\u001B[39m\u001B[38;5;241m>\u001B[39m DataFrame \u001B[38;5;241m|\u001B[39m \u001B[38;5;28;01mNone\u001B[39;00m:\n\u001B[1;32m   5210\u001B[0m \u001B[38;5;250m    \u001B[39m\u001B[38;5;124;03m\"\"\"\u001B[39;00m\n\u001B[1;32m   5211\u001B[0m \u001B[38;5;124;03m    Drop specified labels from rows or columns.\u001B[39;00m\n\u001B[1;32m   5212\u001B[0m \n\u001B[0;32m   (...)\u001B[0m\n\u001B[1;32m   5345\u001B[0m \u001B[38;5;124;03m            weight  1.0     0.8\u001B[39;00m\n\u001B[1;32m   5346\u001B[0m \u001B[38;5;124;03m    \"\"\"\u001B[39;00m\n\u001B[0;32m-> 5347\u001B[0m     \u001B[38;5;28;01mreturn\u001B[39;00m \u001B[38;5;28;43msuper\u001B[39;49m\u001B[43m(\u001B[49m\u001B[43m)\u001B[49m\u001B[38;5;241;43m.\u001B[39;49m\u001B[43mdrop\u001B[49m\u001B[43m(\u001B[49m\n\u001B[1;32m   5348\u001B[0m \u001B[43m        \u001B[49m\u001B[43mlabels\u001B[49m\u001B[38;5;241;43m=\u001B[39;49m\u001B[43mlabels\u001B[49m\u001B[43m,\u001B[49m\n\u001B[1;32m   5349\u001B[0m \u001B[43m        \u001B[49m\u001B[43maxis\u001B[49m\u001B[38;5;241;43m=\u001B[39;49m\u001B[43maxis\u001B[49m\u001B[43m,\u001B[49m\n\u001B[1;32m   5350\u001B[0m \u001B[43m        \u001B[49m\u001B[43mindex\u001B[49m\u001B[38;5;241;43m=\u001B[39;49m\u001B[43mindex\u001B[49m\u001B[43m,\u001B[49m\n\u001B[1;32m   5351\u001B[0m \u001B[43m        \u001B[49m\u001B[43mcolumns\u001B[49m\u001B[38;5;241;43m=\u001B[39;49m\u001B[43mcolumns\u001B[49m\u001B[43m,\u001B[49m\n\u001B[1;32m   5352\u001B[0m \u001B[43m        \u001B[49m\u001B[43mlevel\u001B[49m\u001B[38;5;241;43m=\u001B[39;49m\u001B[43mlevel\u001B[49m\u001B[43m,\u001B[49m\n\u001B[1;32m   5353\u001B[0m \u001B[43m        \u001B[49m\u001B[43minplace\u001B[49m\u001B[38;5;241;43m=\u001B[39;49m\u001B[43minplace\u001B[49m\u001B[43m,\u001B[49m\n\u001B[1;32m   5354\u001B[0m \u001B[43m        \u001B[49m\u001B[43merrors\u001B[49m\u001B[38;5;241;43m=\u001B[39;49m\u001B[43merrors\u001B[49m\u001B[43m,\u001B[49m\n\u001B[1;32m   5355\u001B[0m \u001B[43m    \u001B[49m\u001B[43m)\u001B[49m\n",
      "File \u001B[0;32m~/Desktop/MachineLearningProjects/KnowledgeBasedSystemsML/KnowledgeBasedSystemsVenv/lib/python3.10/site-packages/pandas/core/generic.py:4711\u001B[0m, in \u001B[0;36mNDFrame.drop\u001B[0;34m(self, labels, axis, index, columns, level, inplace, errors)\u001B[0m\n\u001B[1;32m   4709\u001B[0m \u001B[38;5;28;01mfor\u001B[39;00m axis, labels \u001B[38;5;129;01min\u001B[39;00m axes\u001B[38;5;241m.\u001B[39mitems():\n\u001B[1;32m   4710\u001B[0m     \u001B[38;5;28;01mif\u001B[39;00m labels \u001B[38;5;129;01mis\u001B[39;00m \u001B[38;5;129;01mnot\u001B[39;00m \u001B[38;5;28;01mNone\u001B[39;00m:\n\u001B[0;32m-> 4711\u001B[0m         obj \u001B[38;5;241m=\u001B[39m \u001B[43mobj\u001B[49m\u001B[38;5;241;43m.\u001B[39;49m\u001B[43m_drop_axis\u001B[49m\u001B[43m(\u001B[49m\u001B[43mlabels\u001B[49m\u001B[43m,\u001B[49m\u001B[43m \u001B[49m\u001B[43maxis\u001B[49m\u001B[43m,\u001B[49m\u001B[43m \u001B[49m\u001B[43mlevel\u001B[49m\u001B[38;5;241;43m=\u001B[39;49m\u001B[43mlevel\u001B[49m\u001B[43m,\u001B[49m\u001B[43m \u001B[49m\u001B[43merrors\u001B[49m\u001B[38;5;241;43m=\u001B[39;49m\u001B[43merrors\u001B[49m\u001B[43m)\u001B[49m\n\u001B[1;32m   4713\u001B[0m \u001B[38;5;28;01mif\u001B[39;00m inplace:\n\u001B[1;32m   4714\u001B[0m     \u001B[38;5;28mself\u001B[39m\u001B[38;5;241m.\u001B[39m_update_inplace(obj)\n",
      "File \u001B[0;32m~/Desktop/MachineLearningProjects/KnowledgeBasedSystemsML/KnowledgeBasedSystemsVenv/lib/python3.10/site-packages/pandas/core/generic.py:4753\u001B[0m, in \u001B[0;36mNDFrame._drop_axis\u001B[0;34m(self, labels, axis, level, errors, only_slice)\u001B[0m\n\u001B[1;32m   4751\u001B[0m         new_axis \u001B[38;5;241m=\u001B[39m axis\u001B[38;5;241m.\u001B[39mdrop(labels, level\u001B[38;5;241m=\u001B[39mlevel, errors\u001B[38;5;241m=\u001B[39merrors)\n\u001B[1;32m   4752\u001B[0m     \u001B[38;5;28;01melse\u001B[39;00m:\n\u001B[0;32m-> 4753\u001B[0m         new_axis \u001B[38;5;241m=\u001B[39m \u001B[43maxis\u001B[49m\u001B[38;5;241;43m.\u001B[39;49m\u001B[43mdrop\u001B[49m\u001B[43m(\u001B[49m\u001B[43mlabels\u001B[49m\u001B[43m,\u001B[49m\u001B[43m \u001B[49m\u001B[43merrors\u001B[49m\u001B[38;5;241;43m=\u001B[39;49m\u001B[43merrors\u001B[49m\u001B[43m)\u001B[49m\n\u001B[1;32m   4754\u001B[0m     indexer \u001B[38;5;241m=\u001B[39m axis\u001B[38;5;241m.\u001B[39mget_indexer(new_axis)\n\u001B[1;32m   4756\u001B[0m \u001B[38;5;66;03m# Case for non-unique axis\u001B[39;00m\n\u001B[1;32m   4757\u001B[0m \u001B[38;5;28;01melse\u001B[39;00m:\n",
      "File \u001B[0;32m~/Desktop/MachineLearningProjects/KnowledgeBasedSystemsML/KnowledgeBasedSystemsVenv/lib/python3.10/site-packages/pandas/core/indexes/base.py:6992\u001B[0m, in \u001B[0;36mIndex.drop\u001B[0;34m(self, labels, errors)\u001B[0m\n\u001B[1;32m   6990\u001B[0m \u001B[38;5;28;01mif\u001B[39;00m mask\u001B[38;5;241m.\u001B[39many():\n\u001B[1;32m   6991\u001B[0m     \u001B[38;5;28;01mif\u001B[39;00m errors \u001B[38;5;241m!=\u001B[39m \u001B[38;5;124m\"\u001B[39m\u001B[38;5;124mignore\u001B[39m\u001B[38;5;124m\"\u001B[39m:\n\u001B[0;32m-> 6992\u001B[0m         \u001B[38;5;28;01mraise\u001B[39;00m \u001B[38;5;167;01mKeyError\u001B[39;00m(\u001B[38;5;124mf\u001B[39m\u001B[38;5;124m\"\u001B[39m\u001B[38;5;132;01m{\u001B[39;00mlabels[mask]\u001B[38;5;241m.\u001B[39mtolist()\u001B[38;5;132;01m}\u001B[39;00m\u001B[38;5;124m not found in axis\u001B[39m\u001B[38;5;124m\"\u001B[39m)\n\u001B[1;32m   6993\u001B[0m     indexer \u001B[38;5;241m=\u001B[39m indexer[\u001B[38;5;241m~\u001B[39mmask]\n\u001B[1;32m   6994\u001B[0m \u001B[38;5;28;01mreturn\u001B[39;00m \u001B[38;5;28mself\u001B[39m\u001B[38;5;241m.\u001B[39mdelete(indexer)\n",
      "\u001B[0;31mKeyError\u001B[0m: \"['CustomerID'] not found in axis\""
     ]
    }
   ],
   "source": [
    "from data import instance\n",
    "\n",
    "def predict_churn(customer_details, model):\n",
    "    new_instance_df = pd.DataFrame([customer_details])\n",
    "    print(new_instance_df.shape)\n",
    "    print(new_instance_df)\n",
    "    return model.predict(new_instance_df)[0]\n",
    "\n",
    "dataFrame = df.drop(\"CustomerID\", axis=1)\n",
    "columns_of_interest = ['NumberOfDeviceRegistered', 'PreferedOrderCat', 'Tenure', 'Gender', 'OrderCount', 'Churn']\n",
    "\n",
    "data_frame_of_interest = df[columns_of_interest].dropna(subset=['OrderCount', 'Tenure'])\n",
    "\n",
    "numerical_min_max_scaler = Pipeline([\n",
    "    ('scaler', MinMaxScaler())\n",
    "])\n",
    "__general_encoder = Pipeline([\n",
    "    ('encoder', FeatureEncoder(dict_values= dict_values))\n",
    "])\n",
    "\n",
    "cols = ['Alternate', 'Bar', 'Friday', 'Hungry', 'Patron', 'Price', 'Raining', 'Reservation', 'Type', 'Estimated_Time']\n",
    "\n",
    "__one_hot_encoder = Pipeline([\n",
    "    ('onehot', OneHotEncoder(handle_unknown='ignore'))\n",
    "])\n",
    "\n",
    "column_transformer = ColumnTransformer(\n",
    "    transformers=[        \n",
    "        ('generalEncoder', __general_encoder),\n",
    "        ('numScaler', numerical_min_max_scaler, ['Price']),\n",
    "        ('categoricalTransformer', __one_hot_encoder, [ 'Patron','Type', 'Estimated_Time'])\n",
    "    ]\n",
    ")\n",
    "\n",
    "lr_pipeline = Pipeline([\n",
    "    ('preprocessing', column_transformer),\n",
    "    ('lr_estimator', LogisticRegression())\n",
    "])\n",
    "\n",
    "\n",
    "X = data_frame_of_interest.drop(['Churn'], axis=1)\n",
    "Y = data_frame_of_interest['Churn']\n",
    "X_train, X_test, Y_train, Y_test = train_test_split(\n",
    "    X, \n",
    "    Y, \n",
    "    test_size=0.2,\n",
    "    random_state=42,\n",
    "    random_sate = 42,\n",
    "    shuffle=True\n",
    ")\n",
    "\n",
    "lr_pipeline.fit(X_train, Y_train)\n",
    "y_pred = lr_pipeline.predict(X_test)\n",
    "\n",
    "accuracy = accuracy_score(Y_test, y_pred)\n",
    "\n",
    "print('Accuracy:', accuracy)\n",
    "\n",
    "prediction_for_one_customer = predict_churn(instance, lr_pipeline)\n",
    "lr_pipeline.named_steps[\"logistic_regression\"].predict(instance)\n",
    "print(\"sth very cool here :: \", lr_pipeline.named_steps[\"logistic_regression\"].predict(instance))\n",
    "print(\"Prediction for one Customer: {}\".format(prediction_for_one_customer))\n",
    "\n",
    "    "
   ],
   "metadata": {
    "collapsed": false,
    "ExecuteTime": {
     "end_time": "2023-10-11T05:43:41.180760474Z",
     "start_time": "2023-10-11T05:43:39.079758679Z"
    }
   },
   "id": "46a0304c4f9f6b25"
  },
  {
   "cell_type": "code",
   "execution_count": null,
   "outputs": [],
   "source": [],
   "metadata": {
    "collapsed": false
   },
   "id": "b32c1e076c48ab74"
  },
  {
   "cell_type": "code",
   "execution_count": 54,
   "outputs": [
    {
     "name": "stdout",
     "output_type": "stream",
     "text": [
      "   Category_A  Category_B  Category_C\n",
      "0           1           0           0\n",
      "1           0           1           0\n",
      "2           1           0           0\n",
      "3           0           0           1\n",
      "4           0           1           0\n"
     ]
    }
   ],
   "source": [
    "import pandas as pd\n",
    "\n",
    "\n",
    "# Sample DataFrame\n",
    "data = {'Category': ['A', 'B', 'A', 'C', 'B']}\n",
    "df = pd.DataFrame(data)\n",
    "\n",
    "# Apply one-hot encoding and cast to int\n",
    "df_encoded = pd.get_dummies(df, columns=['Category']).astype(int)\n",
    "\n",
    "# Display the encoded DataFrame\n",
    "print(df_encoded)\n",
    "\n"
   ],
   "metadata": {
    "collapsed": false,
    "ExecuteTime": {
     "end_time": "2023-10-11T10:13:51.134687977Z",
     "start_time": "2023-10-11T10:13:51.086061488Z"
    }
   },
   "id": "f5c922bd70ecde3"
  }
 ],
 "metadata": {
  "kernelspec": {
   "display_name": "Python 3",
   "language": "python",
   "name": "python3"
  },
  "language_info": {
   "codemirror_mode": {
    "name": "ipython",
    "version": 2
   },
   "file_extension": ".py",
   "mimetype": "text/x-python",
   "name": "python",
   "nbconvert_exporter": "python",
   "pygments_lexer": "ipython2",
   "version": "2.7.6"
  }
 },
 "nbformat": 4,
 "nbformat_minor": 5
}
