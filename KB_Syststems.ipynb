{
 "cells": [
  {
   "cell_type": "code",
   "execution_count": 121,
   "id": "initial_id",
   "metadata": {
    "collapsed": true,
    "ExecuteTime": {
     "end_time": "2023-10-11T13:53:47.581049738Z",
     "start_time": "2023-10-11T13:53:47.571531535Z"
    }
   },
   "outputs": [],
   "source": [
    "import numpy as np\n",
    "import pandas as pd \n",
    "from sklearn.model_selection import train_test_split\n",
    "from sklearn.impute import SimpleImputer\n",
    "from sklearn.base import BaseEstimator, TransformerMixin\n",
    "from sklearn.metrics import accuracy_score\n",
    "from sklearn.model_selection import train_test_split\n",
    "from sklearn.preprocessing import MinMaxScaler, OneHotEncoder\n",
    "from sklearn.linear_model import LogisticRegression\n",
    "from sklearn.pipeline import Pipeline\n",
    "from sklearn.compose import ColumnTransformer\n"
   ]
  },
  {
   "cell_type": "code",
   "execution_count": 122,
   "outputs": [
    {
     "data": {
      "text/plain": "   Alternate  Bar Friday Hungry Patron Price Raining Reservation     Type  \\\n0        Yes   No     No    Yes   Some   $$$      No         Yes   French   \n1        Yes   No     No    Yes   Full     $      No          No     Thai   \n2         No  Yes     No     No   Some     $      No          No   Burger   \n3        Yes   No    Yes    Yes   Full     $     Yes          No     Thai   \n4        Yes   No    Yes     No   Full   $$$      No         Yes   French   \n5         No  Yes     No    Yes   Some    $$     Yes         Yes  Italian   \n6         No  Yes     No     No   None     $     Yes          No   Burger   \n7         No   No     No    Yes   Some    $$     Yes         Yes     Thai   \n8         No  Yes    Yes     No   Full     $     Yes          No   Burger   \n9        Yes  Yes    Yes    Yes   Full   $$$      No         Yes  Italian   \n10        No   No     No     No   None     $      No          No     Thai   \n11       Yes  Yes    Yes    Yes   Full   $$$      No          No   Burger   \n\n   Estimated_Time  \n0            0-10  \n1           30-60  \n2            0-10  \n3           10-30  \n4             >60  \n5            0-10  \n6            0-10  \n7            0-10  \n8             >60  \n9           10-30  \n10           0-10  \n11          30-60  ",
      "text/html": "<div>\n<style scoped>\n    .dataframe tbody tr th:only-of-type {\n        vertical-align: middle;\n    }\n\n    .dataframe tbody tr th {\n        vertical-align: top;\n    }\n\n    .dataframe thead th {\n        text-align: right;\n    }\n</style>\n<table border=\"1\" class=\"dataframe\">\n  <thead>\n    <tr style=\"text-align: right;\">\n      <th></th>\n      <th>Alternate</th>\n      <th>Bar</th>\n      <th>Friday</th>\n      <th>Hungry</th>\n      <th>Patron</th>\n      <th>Price</th>\n      <th>Raining</th>\n      <th>Reservation</th>\n      <th>Type</th>\n      <th>Estimated_Time</th>\n    </tr>\n  </thead>\n  <tbody>\n    <tr>\n      <th>0</th>\n      <td>Yes</td>\n      <td>No</td>\n      <td>No</td>\n      <td>Yes</td>\n      <td>Some</td>\n      <td>$$$</td>\n      <td>No</td>\n      <td>Yes</td>\n      <td>French</td>\n      <td>0-10</td>\n    </tr>\n    <tr>\n      <th>1</th>\n      <td>Yes</td>\n      <td>No</td>\n      <td>No</td>\n      <td>Yes</td>\n      <td>Full</td>\n      <td>$</td>\n      <td>No</td>\n      <td>No</td>\n      <td>Thai</td>\n      <td>30-60</td>\n    </tr>\n    <tr>\n      <th>2</th>\n      <td>No</td>\n      <td>Yes</td>\n      <td>No</td>\n      <td>No</td>\n      <td>Some</td>\n      <td>$</td>\n      <td>No</td>\n      <td>No</td>\n      <td>Burger</td>\n      <td>0-10</td>\n    </tr>\n    <tr>\n      <th>3</th>\n      <td>Yes</td>\n      <td>No</td>\n      <td>Yes</td>\n      <td>Yes</td>\n      <td>Full</td>\n      <td>$</td>\n      <td>Yes</td>\n      <td>No</td>\n      <td>Thai</td>\n      <td>10-30</td>\n    </tr>\n    <tr>\n      <th>4</th>\n      <td>Yes</td>\n      <td>No</td>\n      <td>Yes</td>\n      <td>No</td>\n      <td>Full</td>\n      <td>$$$</td>\n      <td>No</td>\n      <td>Yes</td>\n      <td>French</td>\n      <td>&gt;60</td>\n    </tr>\n    <tr>\n      <th>5</th>\n      <td>No</td>\n      <td>Yes</td>\n      <td>No</td>\n      <td>Yes</td>\n      <td>Some</td>\n      <td>$$</td>\n      <td>Yes</td>\n      <td>Yes</td>\n      <td>Italian</td>\n      <td>0-10</td>\n    </tr>\n    <tr>\n      <th>6</th>\n      <td>No</td>\n      <td>Yes</td>\n      <td>No</td>\n      <td>No</td>\n      <td>None</td>\n      <td>$</td>\n      <td>Yes</td>\n      <td>No</td>\n      <td>Burger</td>\n      <td>0-10</td>\n    </tr>\n    <tr>\n      <th>7</th>\n      <td>No</td>\n      <td>No</td>\n      <td>No</td>\n      <td>Yes</td>\n      <td>Some</td>\n      <td>$$</td>\n      <td>Yes</td>\n      <td>Yes</td>\n      <td>Thai</td>\n      <td>0-10</td>\n    </tr>\n    <tr>\n      <th>8</th>\n      <td>No</td>\n      <td>Yes</td>\n      <td>Yes</td>\n      <td>No</td>\n      <td>Full</td>\n      <td>$</td>\n      <td>Yes</td>\n      <td>No</td>\n      <td>Burger</td>\n      <td>&gt;60</td>\n    </tr>\n    <tr>\n      <th>9</th>\n      <td>Yes</td>\n      <td>Yes</td>\n      <td>Yes</td>\n      <td>Yes</td>\n      <td>Full</td>\n      <td>$$$</td>\n      <td>No</td>\n      <td>Yes</td>\n      <td>Italian</td>\n      <td>10-30</td>\n    </tr>\n    <tr>\n      <th>10</th>\n      <td>No</td>\n      <td>No</td>\n      <td>No</td>\n      <td>No</td>\n      <td>None</td>\n      <td>$</td>\n      <td>No</td>\n      <td>No</td>\n      <td>Thai</td>\n      <td>0-10</td>\n    </tr>\n    <tr>\n      <th>11</th>\n      <td>Yes</td>\n      <td>Yes</td>\n      <td>Yes</td>\n      <td>Yes</td>\n      <td>Full</td>\n      <td>$$$</td>\n      <td>No</td>\n      <td>No</td>\n      <td>Burger</td>\n      <td>30-60</td>\n    </tr>\n  </tbody>\n</table>\n</div>"
     },
     "execution_count": 122,
     "metadata": {},
     "output_type": "execute_result"
    }
   ],
   "source": [
    "from data import restaurant_data\n",
    "col_labels= ['Alternate', 'Bar', 'Friday', 'Hungry', 'Patron', 'Price', 'Raining', 'Reservation', 'Type', 'Estimated_Time']\n",
    "\n",
    "dataFrame = pd.DataFrame(restaurant_data).transpose()\n",
    "df=dataFrame.copy()\n",
    "df.columns=col_labels\n",
    "df"
   ],
   "metadata": {
    "collapsed": false,
    "ExecuteTime": {
     "end_time": "2023-10-11T13:53:49.537077992Z",
     "start_time": "2023-10-11T13:53:49.493486005Z"
    }
   },
   "id": "7df29af12c18964d"
  },
  {
   "cell_type": "code",
   "execution_count": 123,
   "outputs": [
    {
     "data": {
      "text/plain": "    Alternate  Bar  Friday  Hungry  Price  Raining  Reservation  Patron_Full  \\\n8           0    1       1       0    100        1            0            1   \n5           0    1       0       1    200        1            1            0   \n10          0    0       0       0    100        0            0            0   \n2           0    1       0       0    100        0            0            0   \n11          1    1       1       1    300        0            0            1   \n\n    Patron_None  Patron_Some  Type_Burger  Type_French  Type_Italian  \\\n8             0            0            1            0             0   \n5             0            1            0            0             1   \n10            1            0            0            0             0   \n2             0            1            1            0             0   \n11            0            0            1            0             0   \n\n    Type_Thai  Estimated_Time_extra_long  Estimated_Time_long  \\\n8           0                          1                    0   \n5           0                          0                    0   \n10          1                          0                    0   \n2           0                          0                    0   \n11          0                          0                    1   \n\n    Estimated_Time_medium  Estimated_Time_short  \n8                       0                     0  \n5                       0                     1  \n10                      0                     1  \n2                       0                     1  \n11                      0                     0  ",
      "text/html": "<div>\n<style scoped>\n    .dataframe tbody tr th:only-of-type {\n        vertical-align: middle;\n    }\n\n    .dataframe tbody tr th {\n        vertical-align: top;\n    }\n\n    .dataframe thead th {\n        text-align: right;\n    }\n</style>\n<table border=\"1\" class=\"dataframe\">\n  <thead>\n    <tr style=\"text-align: right;\">\n      <th></th>\n      <th>Alternate</th>\n      <th>Bar</th>\n      <th>Friday</th>\n      <th>Hungry</th>\n      <th>Price</th>\n      <th>Raining</th>\n      <th>Reservation</th>\n      <th>Patron_Full</th>\n      <th>Patron_None</th>\n      <th>Patron_Some</th>\n      <th>Type_Burger</th>\n      <th>Type_French</th>\n      <th>Type_Italian</th>\n      <th>Type_Thai</th>\n      <th>Estimated_Time_extra_long</th>\n      <th>Estimated_Time_long</th>\n      <th>Estimated_Time_medium</th>\n      <th>Estimated_Time_short</th>\n    </tr>\n  </thead>\n  <tbody>\n    <tr>\n      <th>8</th>\n      <td>0</td>\n      <td>1</td>\n      <td>1</td>\n      <td>0</td>\n      <td>100</td>\n      <td>1</td>\n      <td>0</td>\n      <td>1</td>\n      <td>0</td>\n      <td>0</td>\n      <td>1</td>\n      <td>0</td>\n      <td>0</td>\n      <td>0</td>\n      <td>1</td>\n      <td>0</td>\n      <td>0</td>\n      <td>0</td>\n    </tr>\n    <tr>\n      <th>5</th>\n      <td>0</td>\n      <td>1</td>\n      <td>0</td>\n      <td>1</td>\n      <td>200</td>\n      <td>1</td>\n      <td>1</td>\n      <td>0</td>\n      <td>0</td>\n      <td>1</td>\n      <td>0</td>\n      <td>0</td>\n      <td>1</td>\n      <td>0</td>\n      <td>0</td>\n      <td>0</td>\n      <td>0</td>\n      <td>1</td>\n    </tr>\n    <tr>\n      <th>10</th>\n      <td>0</td>\n      <td>0</td>\n      <td>0</td>\n      <td>0</td>\n      <td>100</td>\n      <td>0</td>\n      <td>0</td>\n      <td>0</td>\n      <td>1</td>\n      <td>0</td>\n      <td>0</td>\n      <td>0</td>\n      <td>0</td>\n      <td>1</td>\n      <td>0</td>\n      <td>0</td>\n      <td>0</td>\n      <td>1</td>\n    </tr>\n    <tr>\n      <th>2</th>\n      <td>0</td>\n      <td>1</td>\n      <td>0</td>\n      <td>0</td>\n      <td>100</td>\n      <td>0</td>\n      <td>0</td>\n      <td>0</td>\n      <td>0</td>\n      <td>1</td>\n      <td>1</td>\n      <td>0</td>\n      <td>0</td>\n      <td>0</td>\n      <td>0</td>\n      <td>0</td>\n      <td>0</td>\n      <td>1</td>\n    </tr>\n    <tr>\n      <th>11</th>\n      <td>1</td>\n      <td>1</td>\n      <td>1</td>\n      <td>1</td>\n      <td>300</td>\n      <td>0</td>\n      <td>0</td>\n      <td>1</td>\n      <td>0</td>\n      <td>0</td>\n      <td>1</td>\n      <td>0</td>\n      <td>0</td>\n      <td>0</td>\n      <td>0</td>\n      <td>1</td>\n      <td>0</td>\n      <td>0</td>\n    </tr>\n  </tbody>\n</table>\n</div>"
     },
     "execution_count": 123,
     "metadata": {},
     "output_type": "execute_result"
    }
   ],
   "source": [
    "replacement_mapping = {\n",
    "    \"010\": \"short\",\n",
    "    \"1030\": \"medium\",\n",
    "    \"3060\": \"long\",\n",
    "    \">60\": \"extra_long\"\n",
    "    }\n",
    "\n",
    "#series.values gives  a ndarray . which got no .replace() function.\n",
    "def remove_hyphens(strings_list):\n",
    "    return [s.replace('-', '') for s in strings_list]\n",
    "\n",
    "class OrdinalBinaryEncoder(BaseEstimator, TransformerMixin):\n",
    "       \n",
    "    def __init__(self, dict_values):\n",
    "        self.dict_values= dict_values\n",
    "        \n",
    "    def fit(self, X, y=None):\n",
    "        return self\n",
    "\n",
    "    def transform(self, X): \n",
    "        # X - dataFrame\n",
    "        dictionary_values = self.dict_values\n",
    "        for key in dictionary_values:\n",
    "            if key == \"Estimated_Time\":\n",
    "                estimated_time_column= X[key]               \n",
    "                processed_list = remove_hyphens(strings_list=list(estimated_time_column.values))                \n",
    "                X[key] =  pd.Series(processed_list).replace(replacement_mapping)\n",
    "                continue\n",
    "            X[key] = X[key].replace(\n",
    "                dictionary_values[key]\n",
    "            )   \n",
    "        return pd.get_dummies(X, columns = ['Patron','Type', 'Estimated_Time']).astype(int)\n",
    "          \n",
    "    \n",
    "def generate_yes_no_dict():\n",
    "    return {\n",
    "        \"Yes\":1,\n",
    "        \"No\":0\n",
    "    }\n",
    "\n",
    "dict_values = {\n",
    "    \"Alternate\": generate_yes_no_dict(),\n",
    "    \"Bar\": generate_yes_no_dict(),\n",
    "    \"Friday\": generate_yes_no_dict(),\n",
    "    \"Hungry\": generate_yes_no_dict(),\n",
    "    \"Price\": {\n",
    "        \"$\":100,\n",
    "        \"$$\":200,\n",
    "        \"$$$\":300 },\n",
    "    \n",
    "    \"Raining\":generate_yes_no_dict(),\n",
    "    \"Reservation\": generate_yes_no_dict(),\n",
    "    \"Type\": generate_yes_no_dict(),\n",
    "    \"Estimated_Time\": replacement_mapping\n",
    "}\n",
    "\n",
    "encoder = OrdinalBinaryEncoder(dict_values=dict_values)\n",
    "transformed_data_frame = encoder.fit_transform(df)\n",
    "transformed_data_frame.sample(5)\n"
   ],
   "metadata": {
    "collapsed": false,
    "ExecuteTime": {
     "end_time": "2023-10-11T13:53:51.517363988Z",
     "start_time": "2023-10-11T13:53:51.481579810Z"
    }
   },
   "id": "3ad6909afc095d6b"
  },
  {
   "cell_type": "markdown",
   "source": [],
   "metadata": {
    "collapsed": false
   },
   "id": "c750f7f4201a8940"
  },
  {
   "cell_type": "markdown",
   "source": [
    "#Pipelines are used for transforming some specific single COLUMN or the whole dataframe , else specified by the column transformer for some specific columns to be transformed.The df.dropna() removes rows  that have NAN values in the specified columns."
   ],
   "metadata": {
    "collapsed": false
   },
   "id": "11614b3c4231b39f"
  },
  {
   "cell_type": "code",
   "execution_count": 124,
   "outputs": [
    {
     "name": "stdout",
     "output_type": "stream",
     "text": [
      "<class 'pandas.core.series.Series'>\n",
      "[1 1 1]\n",
      "Accuracy: 0.3333333333333333\n"
     ]
    }
   ],
   "source": [
    "classes =pd.Series(['Yes', 'No', 'Yes', 'Yes', 'No', 'Yes', 'No', 'Yes', 'No', 'No', 'No', 'Yes']).replace(\n",
    "    generate_yes_no_dict()\n",
    ")\n",
    "print(type(classes))\n",
    "\n",
    "def predict_churn(customer_details, model):\n",
    "    new_instance_df = pd.DataFrame([customer_details])\n",
    "    print(new_instance_df.shape)\n",
    "    print(new_instance_df)\n",
    "    return model.predict(new_instance_df)[0]\n",
    "\n",
    "numerical_min_max_scaler = Pipeline([\n",
    "    ('scaler', MinMaxScaler())\n",
    "])\n",
    "__ordinal_binary_encoder = Pipeline([\n",
    "    ('encoder', OrdinalBinaryEncoder(dict_values= dict_values))\n",
    "])\n",
    "\n",
    "cols = ['Alternate', 'Bar', 'Friday', 'Hungry', 'Patron', 'Price', 'Raining', 'Reservation', 'Type', 'Estimated_Time']\n",
    "\n",
    "__one_hot_encoder = Pipeline([\n",
    "    ('onehot', OneHotEncoder(handle_unknown='ignore'))\n",
    "])\n",
    "\n",
    "column_transformer = ColumnTransformer(\n",
    "    transformers=[        \n",
    "        ('generalEncoder', __ordinal_binary_encoder,[]),\n",
    "        ('numScaler', numerical_min_max_scaler, ['Price']),\n",
    "        # ('categoricalTransformer', __one_hot_encoder, [ 'Patron','Type', 'Estimated_Time'])\n",
    "    ]\n",
    ")\n",
    "\n",
    "lr_pipeline = Pipeline(steps=[('preprocessor', column_transformer),\n",
    "                        ('classifier', LogisticRegression())])\n",
    "\n",
    "\n",
    "X_train, X_test, Y_train, Y_test = train_test_split(\n",
    "    transformed_data_frame, \n",
    "    classes, \n",
    "    test_size=0.2,\n",
    "    shuffle=True\n",
    ")\n",
    "lr_pipeline.fit(X_train, Y_train)\n",
    "y_pred = lr_pipeline.predict(X_test)\n",
    "print(y_pred)\n",
    "\n",
    "accuracy = accuracy_score(Y_test, y_pred)\n",
    "\n",
    "print('Accuracy:', accuracy)\n",
    "    "
   ],
   "metadata": {
    "collapsed": false,
    "ExecuteTime": {
     "end_time": "2023-10-11T13:53:55.156507990Z",
     "start_time": "2023-10-11T13:53:55.143493980Z"
    }
   },
   "id": "46a0304c4f9f6b25"
  },
  {
   "cell_type": "code",
   "execution_count": null,
   "outputs": [],
   "source": [
    "#prediction_for_one_customer = predict_churn(instance, lr_pipeline)\n",
    "# lr_pipeline.named_steps[\"logistic_regression\"].predict(instance)\n",
    "# print(\"sth very cool here :: \", lr_pipeline.named_steps[\"logistic_regression\"].predict(instance))\n",
    "# print(\"Prediction for one Customer: {}\".format(prediction_for_one_customer))\n"
   ],
   "metadata": {
    "collapsed": false
   },
   "id": "749a17b3e3c25758"
  }
 ],
 "metadata": {
  "kernelspec": {
   "display_name": "Python 3",
   "language": "python",
   "name": "python3"
  },
  "language_info": {
   "codemirror_mode": {
    "name": "ipython",
    "version": 2
   },
   "file_extension": ".py",
   "mimetype": "text/x-python",
   "name": "python",
   "nbconvert_exporter": "python",
   "pygments_lexer": "ipython2",
   "version": "2.7.6"
  }
 },
 "nbformat": 4,
 "nbformat_minor": 5
}
