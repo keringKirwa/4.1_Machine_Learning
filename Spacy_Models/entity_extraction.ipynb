{
 "cells": [
  {
   "cell_type": "code",
   "execution_count": 162,
   "id": "initial_id",
   "metadata": {
    "collapsed": true,
    "ExecuteTime": {
     "end_time": "2023-10-16T19:31:24.765389098Z",
     "start_time": "2023-10-16T19:31:24.720869271Z"
    }
   },
   "outputs": [],
   "source": [
    "import spacy\n",
    "from spacy import displacy\n",
    "\n",
    "from tqdm import tqdm\n",
    "from textblob import  TextBlob\n",
    "nlp_processor = spacy.load(\"en_core_web_sm\")\n",
    "\n"
   ]
  },
  {
   "cell_type": "code",
   "execution_count": 165,
   "outputs": [],
   "source": [
    "nlp_processor = spacy.load(\"en_core_web_sm\")\n",
    "    \n",
    "class TextPreProcessor:         \n",
    "    def extract_intent(self, text):        \n",
    "        doc = nlp_processor(text)\n",
    "        displacy.render(doc,style=\"ent\",jupyter=True)\n",
    "        \n",
    "        for ne_recognized in doc.ents:\n",
    "            print(ne_recognized.text, ne_recognized.label_)\n",
    "        for token in tqdm(doc):\n",
    "            print(\"this is  the token dep : \", token.dep_)\n",
    "            if token.dep_ == \"aux\" and token.head.pos_ == \"VERB\":\n",
    "                return token.text\n",
    "            return None\n",
    "     \n",
    "    def correct_spelling(self, text_to_process):\n",
    "        out = TextBlob(text_to_process).correct()\n",
    "        return out\n",
    "    \n",
    "        \n",
    "preprocessor = TextPreProcessor()\n"
   ],
   "metadata": {
    "collapsed": false,
    "ExecuteTime": {
     "end_time": "2023-10-16T19:32:05.803077462Z",
     "start_time": "2023-10-16T19:32:04.939895170Z"
    }
   },
   "id": "bb3dac58086e1755"
  },
  {
   "cell_type": "code",
   "execution_count": 167,
   "outputs": [
    {
     "ename": "ValueError",
     "evalue": "[E1041] Expected a string, Doc, or bytes as input, but got: <class 'textblob.blob.TextBlob'>",
     "output_type": "error",
     "traceback": [
      "\u001B[0;31m---------------------------------------------------------------------------\u001B[0m",
      "\u001B[0;31mValueError\u001B[0m                                Traceback (most recent call last)",
      "Cell \u001B[0;32mIn[167], line 41\u001B[0m\n\u001B[1;32m     37\u001B[0m     \u001B[38;5;28mprint\u001B[39m(\u001B[38;5;124m\"\u001B[39m\u001B[38;5;124mthe ent iob is: \u001B[39m\u001B[38;5;124m\"\u001B[39m,token3\u001B[38;5;241m.\u001B[39ment_iob_)\n\u001B[1;32m     39\u001B[0m text \u001B[38;5;241m=\u001B[39m preprocessor\u001B[38;5;241m.\u001B[39mcorrect_spelling(\u001B[38;5;124m\"\u001B[39m\u001B[38;5;124mThe United States of America (USA), commonly known as the United States (U.S.) or simply America, is a country primarily located in North America and consisting of 50 states, a federal district, five major unincorporated territories, and nine Minor Outlying Islands. It includes 326 Indian reservations.\u001B[39m\u001B[38;5;124m\"\u001B[39m)\n\u001B[0;32m---> 41\u001B[0m my_doc \u001B[38;5;241m=\u001B[39m \u001B[43mnlp_processor\u001B[49m\u001B[43m(\u001B[49m\u001B[43mtext\u001B[49m\u001B[43m)\u001B[49m\n\u001B[1;32m     43\u001B[0m sentence1\u001B[38;5;241m=\u001B[39m \u001B[38;5;28mlist\u001B[39m(my_doc\u001B[38;5;241m.\u001B[39msents)[\u001B[38;5;241m0\u001B[39m]\n\u001B[1;32m     45\u001B[0m print_token_in_sentence(sentence1)\n",
      "File \u001B[0;32m~/Desktop/MachineLearningProjects/KnowledgeBasedSystemsML/KnowledgeBasedSystemsVenv/lib/python3.10/site-packages/spacy/language.py:1037\u001B[0m, in \u001B[0;36mLanguage.__call__\u001B[0;34m(self, text, disable, component_cfg)\u001B[0m\n\u001B[1;32m   1016\u001B[0m \u001B[38;5;28;01mdef\u001B[39;00m \u001B[38;5;21m__call__\u001B[39m(\n\u001B[1;32m   1017\u001B[0m     \u001B[38;5;28mself\u001B[39m,\n\u001B[1;32m   1018\u001B[0m     text: Union[\u001B[38;5;28mstr\u001B[39m, Doc],\n\u001B[0;32m   (...)\u001B[0m\n\u001B[1;32m   1021\u001B[0m     component_cfg: Optional[Dict[\u001B[38;5;28mstr\u001B[39m, Dict[\u001B[38;5;28mstr\u001B[39m, Any]]] \u001B[38;5;241m=\u001B[39m \u001B[38;5;28;01mNone\u001B[39;00m,\n\u001B[1;32m   1022\u001B[0m ) \u001B[38;5;241m-\u001B[39m\u001B[38;5;241m>\u001B[39m Doc:\n\u001B[1;32m   1023\u001B[0m \u001B[38;5;250m    \u001B[39m\u001B[38;5;124;03m\"\"\"Apply the pipeline to some text. The text can span multiple sentences,\u001B[39;00m\n\u001B[1;32m   1024\u001B[0m \u001B[38;5;124;03m    and can contain arbitrary whitespace. Alignment into the original string\u001B[39;00m\n\u001B[1;32m   1025\u001B[0m \u001B[38;5;124;03m    is preserved.\u001B[39;00m\n\u001B[0;32m   (...)\u001B[0m\n\u001B[1;32m   1035\u001B[0m \u001B[38;5;124;03m    DOCS: https://spacy.io/api/language#call\u001B[39;00m\n\u001B[1;32m   1036\u001B[0m \u001B[38;5;124;03m    \"\"\"\u001B[39;00m\n\u001B[0;32m-> 1037\u001B[0m     doc \u001B[38;5;241m=\u001B[39m \u001B[38;5;28;43mself\u001B[39;49m\u001B[38;5;241;43m.\u001B[39;49m\u001B[43m_ensure_doc\u001B[49m\u001B[43m(\u001B[49m\u001B[43mtext\u001B[49m\u001B[43m)\u001B[49m\n\u001B[1;32m   1038\u001B[0m     \u001B[38;5;28;01mif\u001B[39;00m component_cfg \u001B[38;5;129;01mis\u001B[39;00m \u001B[38;5;28;01mNone\u001B[39;00m:\n\u001B[1;32m   1039\u001B[0m         component_cfg \u001B[38;5;241m=\u001B[39m {}\n",
      "File \u001B[0;32m~/Desktop/MachineLearningProjects/KnowledgeBasedSystemsML/KnowledgeBasedSystemsVenv/lib/python3.10/site-packages/spacy/language.py:1131\u001B[0m, in \u001B[0;36mLanguage._ensure_doc\u001B[0;34m(self, doc_like)\u001B[0m\n\u001B[1;32m   1129\u001B[0m \u001B[38;5;28;01mif\u001B[39;00m \u001B[38;5;28misinstance\u001B[39m(doc_like, \u001B[38;5;28mbytes\u001B[39m):\n\u001B[1;32m   1130\u001B[0m     \u001B[38;5;28;01mreturn\u001B[39;00m Doc(\u001B[38;5;28mself\u001B[39m\u001B[38;5;241m.\u001B[39mvocab)\u001B[38;5;241m.\u001B[39mfrom_bytes(doc_like)\n\u001B[0;32m-> 1131\u001B[0m \u001B[38;5;28;01mraise\u001B[39;00m \u001B[38;5;167;01mValueError\u001B[39;00m(Errors\u001B[38;5;241m.\u001B[39mE1041\u001B[38;5;241m.\u001B[39mformat(\u001B[38;5;28mtype\u001B[39m\u001B[38;5;241m=\u001B[39m\u001B[38;5;28mtype\u001B[39m(doc_like)))\n",
      "\u001B[0;31mValueError\u001B[0m: [E1041] Expected a string, Doc, or bytes as input, but got: <class 'textblob.blob.TextBlob'>"
     ]
    }
   ],
   "source": [
    "def dep_parser(text_string= None):\n",
    "    doc = nlp_processor(\n",
    "       text_string\n",
    "    )\n",
    "    #dependency parsing : shows how words in a sentence are connected to other parts of the sentence.\n",
    "    displacy.render(\n",
    "        doc,\n",
    "        style=\"dep\"\n",
    "    )\n",
    "def display_entities(doc):\n",
    "    for _ent in my_doc.ents:\n",
    "        print(\n",
    "            _ent.text, _ent.label_\n",
    "        )\n",
    "        \n",
    "def display_entities(doc):\n",
    "    displacy.render(doc, style=\"ent\")\n",
    "    \n",
    "def display_sentences(doc):\n",
    "    for sentence in doc.sents:\n",
    "        for item in sentence:\n",
    "            print(item)\n",
    "            \n",
    "def print_items(doc):\n",
    "    for token in doc[:10]:\n",
    "        print(token)\n",
    "        \n",
    "def print_token_in_sentence(sent):\n",
    "    token3 = sent[0]\n",
    "    # the stated token fits in the noun junk , that is , THe united states of America.\n",
    "    print(\"the text in the third token is: \",token3.text)\n",
    "    print(\"the left_edge in the third token is: \",token3.left_edge)\n",
    "    print(\"the right edge  in the third token is: \",token3.right_edge)\n",
    "    print(\"the entity type  of the third token is: \",token3.ent_type_)\n",
    "    print(\"the ent iob is: \",token3.ent_iob_)\n",
    "\n",
    "text = preprocessor.correct_spelling(\"The United States of America (USA), commonly known as the United States (U.S.) or simply America, is a country primarily located in North America and consisting of 50 states, a federal district, five major unincorporated territories, and nine Minor Outlying Islands. It includes 326 Indian reservations.\")\n",
    "\n",
    "my_doc = nlp_processor(text)\n",
    "\n",
    "sentence1= list(my_doc.sents)[0]\n",
    "\n",
    "print_token_in_sentence(sentence1)\n",
    "\n",
    "display_entities(my_doc)\n",
    "\n",
    "\n"
   ],
   "metadata": {
    "collapsed": false,
    "ExecuteTime": {
     "end_time": "2023-10-16T19:34:28.974255930Z",
     "start_time": "2023-10-16T19:34:28.117247467Z"
    }
   },
   "id": "ae7bd847480d570f"
  },
  {
   "cell_type": "code",
   "execution_count": null,
   "outputs": [],
   "source": [
    "#WORD VECTORS IN SPACY\n"
   ],
   "metadata": {
    "collapsed": false,
    "ExecuteTime": {
     "start_time": "2023-10-16T19:31:26.285449592Z"
    }
   },
   "id": "63539cdd2026653e"
  }
 ],
 "metadata": {
  "kernelspec": {
   "display_name": "Python 3",
   "language": "python",
   "name": "python3"
  },
  "language_info": {
   "codemirror_mode": {
    "name": "ipython",
    "version": 2
   },
   "file_extension": ".py",
   "mimetype": "text/x-python",
   "name": "python",
   "nbconvert_exporter": "python",
   "pygments_lexer": "ipython2",
   "version": "2.7.6"
  }
 },
 "nbformat": 4,
 "nbformat_minor": 5
}
